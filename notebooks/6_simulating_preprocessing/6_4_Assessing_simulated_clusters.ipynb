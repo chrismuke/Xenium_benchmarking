{
 "cells": [
  {
   "cell_type": "markdown",
   "id": "f1bbcb2d",
   "metadata": {},
   "source": [
    "# Purpose of the notebook"
   ]
  },
  {
   "cell_type": "markdown",
   "id": "33e978c0",
   "metadata": {},
   "source": [
    "In this notebook we explore the results of different preprocessing strategies on simulated data"
   ]
  },
  {
   "cell_type": "markdown",
   "id": "8f134efd",
   "metadata": {},
   "source": [
    "## Loading the packages "
   ]
  },
  {
   "cell_type": "code",
   "execution_count": 10,
   "id": "cb009e63",
   "metadata": {},
   "outputs": [],
   "source": [
    "# import txsim as tx\n",
    "import scanpy as sc\n",
    "import os\n",
    "import pandas as pd\n",
    "from anndata import AnnData\n",
    "import numpy as np\n",
    "import xb.formatting as xf\n",
    "import seaborn as sns\n",
    "import random \n",
    "import matplotlib.pyplot as plt\n",
    "import sklearn.metrics as sk\n",
    "from tqdm import tqdm\n",
    "import scanpy as sc\n",
    "import random\n",
    "from xb.calculating import entropy,compute_vi,compute_fmi\n",
    "from xb.formatting import keep_nuclei_and_quality\n",
    "from xb.simulating import missegmentation_simulation,noise_adder,subset_of_single_cell,main_preprocessing, allcombs_simulated"
   ]
  },
  {
   "cell_type": "markdown",
   "id": "ebd949cb",
   "metadata": {},
   "source": [
    "## Specify path to scRNAseq simulations"
   ]
  },
  {
   "cell_type": "code",
   "execution_count": 11,
   "id": "2f8561c2",
   "metadata": {},
   "outputs": [],
   "source": [
    "mainpath='../../data/scRNAseq_for_simulations/'\n",
    "datasets=os.listdir(mainpath)\n",
    "datasets=[d for d in datasets if d!='.ipynb_checkpoints']\n",
    "rsimpath='../../data/scRNAseq_for_simulations_Xenium_like/'"
   ]
  },
  {
   "cell_type": "markdown",
   "id": "f04e7317",
   "metadata": {},
   "source": [
    "We now extract clustering results from both SEURAT AND SCANPY's preprocessing strategies"
   ]
  },
  {
   "cell_type": "code",
   "execution_count": 12,
   "id": "507aa9a2",
   "metadata": {},
   "outputs": [
    {
     "ename": "FileNotFoundError",
     "evalue": "[Errno 2] No such file or directory: '../../data/scRNAseq_for_simulations_Xenium_like/9968be68-ab65-4a38-9e1a-c9b6abece194/results_clustering.csv'",
     "output_type": "error",
     "traceback": [
      "\u001b[0;31m---------------------------------------------------------------------------\u001b[0m",
      "\u001b[0;31mFileNotFoundError\u001b[0m                         Traceback (most recent call last)",
      "\u001b[0;32m/tmp/ipykernel_1007487/3906308868.py\u001b[0m in \u001b[0;36m<module>\u001b[0;34m\u001b[0m\n\u001b[1;32m      4\u001b[0m \u001b[0;32mfor\u001b[0m \u001b[0md\u001b[0m \u001b[0;32min\u001b[0m \u001b[0mrange\u001b[0m\u001b[0;34m(\u001b[0m\u001b[0;36m0\u001b[0m\u001b[0;34m,\u001b[0m\u001b[0mlen\u001b[0m\u001b[0;34m(\u001b[0m\u001b[0mdatasets\u001b[0m\u001b[0;34m)\u001b[0m\u001b[0;34m)\u001b[0m\u001b[0;34m:\u001b[0m\u001b[0;34m\u001b[0m\u001b[0;34m\u001b[0m\u001b[0m\n\u001b[1;32m      5\u001b[0m     \u001b[0mresul\u001b[0m\u001b[0;34m=\u001b[0m\u001b[0mpd\u001b[0m\u001b[0;34m.\u001b[0m\u001b[0mread_csv\u001b[0m\u001b[0;34m(\u001b[0m\u001b[0mmainpath\u001b[0m\u001b[0;34m+\u001b[0m\u001b[0mdatasets\u001b[0m\u001b[0;34m[\u001b[0m\u001b[0md\u001b[0m\u001b[0;34m]\u001b[0m\u001b[0;34m+\u001b[0m\u001b[0;34m'/final_allresults.csv'\u001b[0m\u001b[0;34m,\u001b[0m\u001b[0mindex_col\u001b[0m\u001b[0;34m=\u001b[0m\u001b[0;36m0\u001b[0m\u001b[0;34m)\u001b[0m\u001b[0;34m\u001b[0m\u001b[0;34m\u001b[0m\u001b[0m\n\u001b[0;32m----> 6\u001b[0;31m     \u001b[0mrres\u001b[0m\u001b[0;34m=\u001b[0m\u001b[0mpd\u001b[0m\u001b[0;34m.\u001b[0m\u001b[0mread_csv\u001b[0m\u001b[0;34m(\u001b[0m\u001b[0mrsimpath\u001b[0m\u001b[0;34m+\u001b[0m\u001b[0mdatasets\u001b[0m\u001b[0;34m[\u001b[0m\u001b[0md\u001b[0m\u001b[0;34m]\u001b[0m\u001b[0;34m+\u001b[0m\u001b[0;34m'/results_clustering.csv'\u001b[0m\u001b[0;34m,\u001b[0m\u001b[0mindex_col\u001b[0m\u001b[0;34m=\u001b[0m\u001b[0;36m0\u001b[0m\u001b[0;34m)\u001b[0m\u001b[0;34m\u001b[0m\u001b[0;34m\u001b[0m\u001b[0m\n\u001b[0m\u001b[1;32m      7\u001b[0m     \u001b[0mresul\u001b[0m\u001b[0;34m.\u001b[0m\u001b[0mcolumns\u001b[0m\u001b[0;34m=\u001b[0m\u001b[0;34m'SCANPY_'\u001b[0m\u001b[0;34m+\u001b[0m\u001b[0mresul\u001b[0m\u001b[0;34m.\u001b[0m\u001b[0mcolumns\u001b[0m\u001b[0;34m\u001b[0m\u001b[0;34m\u001b[0m\u001b[0m\n\u001b[1;32m      8\u001b[0m     \u001b[0mrres\u001b[0m\u001b[0;34m.\u001b[0m\u001b[0mcolumns\u001b[0m\u001b[0;34m=\u001b[0m\u001b[0;34m'SEURAT_'\u001b[0m\u001b[0;34m+\u001b[0m\u001b[0mrres\u001b[0m\u001b[0;34m.\u001b[0m\u001b[0mcolumns\u001b[0m\u001b[0;34m\u001b[0m\u001b[0;34m\u001b[0m\u001b[0m\n",
      "\u001b[0;32m~/miniconda3/envs/xb/lib/python3.7/site-packages/pandas/util/_decorators.py\u001b[0m in \u001b[0;36mwrapper\u001b[0;34m(*args, **kwargs)\u001b[0m\n\u001b[1;32m    309\u001b[0m                     \u001b[0mstacklevel\u001b[0m\u001b[0;34m=\u001b[0m\u001b[0mstacklevel\u001b[0m\u001b[0;34m,\u001b[0m\u001b[0;34m\u001b[0m\u001b[0;34m\u001b[0m\u001b[0m\n\u001b[1;32m    310\u001b[0m                 )\n\u001b[0;32m--> 311\u001b[0;31m             \u001b[0;32mreturn\u001b[0m \u001b[0mfunc\u001b[0m\u001b[0;34m(\u001b[0m\u001b[0;34m*\u001b[0m\u001b[0margs\u001b[0m\u001b[0;34m,\u001b[0m \u001b[0;34m**\u001b[0m\u001b[0mkwargs\u001b[0m\u001b[0;34m)\u001b[0m\u001b[0;34m\u001b[0m\u001b[0;34m\u001b[0m\u001b[0m\n\u001b[0m\u001b[1;32m    312\u001b[0m \u001b[0;34m\u001b[0m\u001b[0m\n\u001b[1;32m    313\u001b[0m         \u001b[0;32mreturn\u001b[0m \u001b[0mwrapper\u001b[0m\u001b[0;34m\u001b[0m\u001b[0;34m\u001b[0m\u001b[0m\n",
      "\u001b[0;32m~/miniconda3/envs/xb/lib/python3.7/site-packages/pandas/io/parsers/readers.py\u001b[0m in \u001b[0;36mread_csv\u001b[0;34m(filepath_or_buffer, sep, delimiter, header, names, index_col, usecols, squeeze, prefix, mangle_dupe_cols, dtype, engine, converters, true_values, false_values, skipinitialspace, skiprows, skipfooter, nrows, na_values, keep_default_na, na_filter, verbose, skip_blank_lines, parse_dates, infer_datetime_format, keep_date_col, date_parser, dayfirst, cache_dates, iterator, chunksize, compression, thousands, decimal, lineterminator, quotechar, quoting, doublequote, escapechar, comment, encoding, encoding_errors, dialect, error_bad_lines, warn_bad_lines, on_bad_lines, delim_whitespace, low_memory, memory_map, float_precision, storage_options)\u001b[0m\n\u001b[1;32m    584\u001b[0m     \u001b[0mkwds\u001b[0m\u001b[0;34m.\u001b[0m\u001b[0mupdate\u001b[0m\u001b[0;34m(\u001b[0m\u001b[0mkwds_defaults\u001b[0m\u001b[0;34m)\u001b[0m\u001b[0;34m\u001b[0m\u001b[0;34m\u001b[0m\u001b[0m\n\u001b[1;32m    585\u001b[0m \u001b[0;34m\u001b[0m\u001b[0m\n\u001b[0;32m--> 586\u001b[0;31m     \u001b[0;32mreturn\u001b[0m \u001b[0m_read\u001b[0m\u001b[0;34m(\u001b[0m\u001b[0mfilepath_or_buffer\u001b[0m\u001b[0;34m,\u001b[0m \u001b[0mkwds\u001b[0m\u001b[0;34m)\u001b[0m\u001b[0;34m\u001b[0m\u001b[0;34m\u001b[0m\u001b[0m\n\u001b[0m\u001b[1;32m    587\u001b[0m \u001b[0;34m\u001b[0m\u001b[0m\n\u001b[1;32m    588\u001b[0m \u001b[0;34m\u001b[0m\u001b[0m\n",
      "\u001b[0;32m~/miniconda3/envs/xb/lib/python3.7/site-packages/pandas/io/parsers/readers.py\u001b[0m in \u001b[0;36m_read\u001b[0;34m(filepath_or_buffer, kwds)\u001b[0m\n\u001b[1;32m    480\u001b[0m \u001b[0;34m\u001b[0m\u001b[0m\n\u001b[1;32m    481\u001b[0m     \u001b[0;31m# Create the parser.\u001b[0m\u001b[0;34m\u001b[0m\u001b[0;34m\u001b[0m\u001b[0;34m\u001b[0m\u001b[0m\n\u001b[0;32m--> 482\u001b[0;31m     \u001b[0mparser\u001b[0m \u001b[0;34m=\u001b[0m \u001b[0mTextFileReader\u001b[0m\u001b[0;34m(\u001b[0m\u001b[0mfilepath_or_buffer\u001b[0m\u001b[0;34m,\u001b[0m \u001b[0;34m**\u001b[0m\u001b[0mkwds\u001b[0m\u001b[0;34m)\u001b[0m\u001b[0;34m\u001b[0m\u001b[0;34m\u001b[0m\u001b[0m\n\u001b[0m\u001b[1;32m    483\u001b[0m \u001b[0;34m\u001b[0m\u001b[0m\n\u001b[1;32m    484\u001b[0m     \u001b[0;32mif\u001b[0m \u001b[0mchunksize\u001b[0m \u001b[0;32mor\u001b[0m \u001b[0miterator\u001b[0m\u001b[0;34m:\u001b[0m\u001b[0;34m\u001b[0m\u001b[0;34m\u001b[0m\u001b[0m\n",
      "\u001b[0;32m~/miniconda3/envs/xb/lib/python3.7/site-packages/pandas/io/parsers/readers.py\u001b[0m in \u001b[0;36m__init__\u001b[0;34m(self, f, engine, **kwds)\u001b[0m\n\u001b[1;32m    809\u001b[0m             \u001b[0mself\u001b[0m\u001b[0;34m.\u001b[0m\u001b[0moptions\u001b[0m\u001b[0;34m[\u001b[0m\u001b[0;34m\"has_index_names\"\u001b[0m\u001b[0;34m]\u001b[0m \u001b[0;34m=\u001b[0m \u001b[0mkwds\u001b[0m\u001b[0;34m[\u001b[0m\u001b[0;34m\"has_index_names\"\u001b[0m\u001b[0;34m]\u001b[0m\u001b[0;34m\u001b[0m\u001b[0;34m\u001b[0m\u001b[0m\n\u001b[1;32m    810\u001b[0m \u001b[0;34m\u001b[0m\u001b[0m\n\u001b[0;32m--> 811\u001b[0;31m         \u001b[0mself\u001b[0m\u001b[0;34m.\u001b[0m\u001b[0m_engine\u001b[0m \u001b[0;34m=\u001b[0m \u001b[0mself\u001b[0m\u001b[0;34m.\u001b[0m\u001b[0m_make_engine\u001b[0m\u001b[0;34m(\u001b[0m\u001b[0mself\u001b[0m\u001b[0;34m.\u001b[0m\u001b[0mengine\u001b[0m\u001b[0;34m)\u001b[0m\u001b[0;34m\u001b[0m\u001b[0;34m\u001b[0m\u001b[0m\n\u001b[0m\u001b[1;32m    812\u001b[0m \u001b[0;34m\u001b[0m\u001b[0m\n\u001b[1;32m    813\u001b[0m     \u001b[0;32mdef\u001b[0m \u001b[0mclose\u001b[0m\u001b[0;34m(\u001b[0m\u001b[0mself\u001b[0m\u001b[0;34m)\u001b[0m\u001b[0;34m:\u001b[0m\u001b[0;34m\u001b[0m\u001b[0;34m\u001b[0m\u001b[0m\n",
      "\u001b[0;32m~/miniconda3/envs/xb/lib/python3.7/site-packages/pandas/io/parsers/readers.py\u001b[0m in \u001b[0;36m_make_engine\u001b[0;34m(self, engine)\u001b[0m\n\u001b[1;32m   1038\u001b[0m             )\n\u001b[1;32m   1039\u001b[0m         \u001b[0;31m# error: Too many arguments for \"ParserBase\"\u001b[0m\u001b[0;34m\u001b[0m\u001b[0;34m\u001b[0m\u001b[0;34m\u001b[0m\u001b[0m\n\u001b[0;32m-> 1040\u001b[0;31m         \u001b[0;32mreturn\u001b[0m \u001b[0mmapping\u001b[0m\u001b[0;34m[\u001b[0m\u001b[0mengine\u001b[0m\u001b[0;34m]\u001b[0m\u001b[0;34m(\u001b[0m\u001b[0mself\u001b[0m\u001b[0;34m.\u001b[0m\u001b[0mf\u001b[0m\u001b[0;34m,\u001b[0m \u001b[0;34m**\u001b[0m\u001b[0mself\u001b[0m\u001b[0;34m.\u001b[0m\u001b[0moptions\u001b[0m\u001b[0;34m)\u001b[0m  \u001b[0;31m# type: ignore[call-arg]\u001b[0m\u001b[0;34m\u001b[0m\u001b[0;34m\u001b[0m\u001b[0m\n\u001b[0m\u001b[1;32m   1041\u001b[0m \u001b[0;34m\u001b[0m\u001b[0m\n\u001b[1;32m   1042\u001b[0m     \u001b[0;32mdef\u001b[0m \u001b[0m_failover_to_python\u001b[0m\u001b[0;34m(\u001b[0m\u001b[0mself\u001b[0m\u001b[0;34m)\u001b[0m\u001b[0;34m:\u001b[0m\u001b[0;34m\u001b[0m\u001b[0;34m\u001b[0m\u001b[0m\n",
      "\u001b[0;32m~/miniconda3/envs/xb/lib/python3.7/site-packages/pandas/io/parsers/c_parser_wrapper.py\u001b[0m in \u001b[0;36m__init__\u001b[0;34m(self, src, **kwds)\u001b[0m\n\u001b[1;32m     49\u001b[0m \u001b[0;34m\u001b[0m\u001b[0m\n\u001b[1;32m     50\u001b[0m         \u001b[0;31m# open handles\u001b[0m\u001b[0;34m\u001b[0m\u001b[0;34m\u001b[0m\u001b[0;34m\u001b[0m\u001b[0m\n\u001b[0;32m---> 51\u001b[0;31m         \u001b[0mself\u001b[0m\u001b[0;34m.\u001b[0m\u001b[0m_open_handles\u001b[0m\u001b[0;34m(\u001b[0m\u001b[0msrc\u001b[0m\u001b[0;34m,\u001b[0m \u001b[0mkwds\u001b[0m\u001b[0;34m)\u001b[0m\u001b[0;34m\u001b[0m\u001b[0;34m\u001b[0m\u001b[0m\n\u001b[0m\u001b[1;32m     52\u001b[0m         \u001b[0;32massert\u001b[0m \u001b[0mself\u001b[0m\u001b[0;34m.\u001b[0m\u001b[0mhandles\u001b[0m \u001b[0;32mis\u001b[0m \u001b[0;32mnot\u001b[0m \u001b[0;32mNone\u001b[0m\u001b[0;34m\u001b[0m\u001b[0;34m\u001b[0m\u001b[0m\n\u001b[1;32m     53\u001b[0m \u001b[0;34m\u001b[0m\u001b[0m\n",
      "\u001b[0;32m~/miniconda3/envs/xb/lib/python3.7/site-packages/pandas/io/parsers/base_parser.py\u001b[0m in \u001b[0;36m_open_handles\u001b[0;34m(self, src, kwds)\u001b[0m\n\u001b[1;32m    227\u001b[0m             \u001b[0mmemory_map\u001b[0m\u001b[0;34m=\u001b[0m\u001b[0mkwds\u001b[0m\u001b[0;34m.\u001b[0m\u001b[0mget\u001b[0m\u001b[0;34m(\u001b[0m\u001b[0;34m\"memory_map\"\u001b[0m\u001b[0;34m,\u001b[0m \u001b[0;32mFalse\u001b[0m\u001b[0;34m)\u001b[0m\u001b[0;34m,\u001b[0m\u001b[0;34m\u001b[0m\u001b[0;34m\u001b[0m\u001b[0m\n\u001b[1;32m    228\u001b[0m             \u001b[0mstorage_options\u001b[0m\u001b[0;34m=\u001b[0m\u001b[0mkwds\u001b[0m\u001b[0;34m.\u001b[0m\u001b[0mget\u001b[0m\u001b[0;34m(\u001b[0m\u001b[0;34m\"storage_options\"\u001b[0m\u001b[0;34m,\u001b[0m \u001b[0;32mNone\u001b[0m\u001b[0;34m)\u001b[0m\u001b[0;34m,\u001b[0m\u001b[0;34m\u001b[0m\u001b[0;34m\u001b[0m\u001b[0m\n\u001b[0;32m--> 229\u001b[0;31m             \u001b[0merrors\u001b[0m\u001b[0;34m=\u001b[0m\u001b[0mkwds\u001b[0m\u001b[0;34m.\u001b[0m\u001b[0mget\u001b[0m\u001b[0;34m(\u001b[0m\u001b[0;34m\"encoding_errors\"\u001b[0m\u001b[0;34m,\u001b[0m \u001b[0;34m\"strict\"\u001b[0m\u001b[0;34m)\u001b[0m\u001b[0;34m,\u001b[0m\u001b[0;34m\u001b[0m\u001b[0;34m\u001b[0m\u001b[0m\n\u001b[0m\u001b[1;32m    230\u001b[0m         )\n\u001b[1;32m    231\u001b[0m \u001b[0;34m\u001b[0m\u001b[0m\n",
      "\u001b[0;32m~/miniconda3/envs/xb/lib/python3.7/site-packages/pandas/io/common.py\u001b[0m in \u001b[0;36mget_handle\u001b[0;34m(path_or_buf, mode, encoding, compression, memory_map, is_text, errors, storage_options)\u001b[0m\n\u001b[1;32m    705\u001b[0m                 \u001b[0mencoding\u001b[0m\u001b[0;34m=\u001b[0m\u001b[0mioargs\u001b[0m\u001b[0;34m.\u001b[0m\u001b[0mencoding\u001b[0m\u001b[0;34m,\u001b[0m\u001b[0;34m\u001b[0m\u001b[0;34m\u001b[0m\u001b[0m\n\u001b[1;32m    706\u001b[0m                 \u001b[0merrors\u001b[0m\u001b[0;34m=\u001b[0m\u001b[0merrors\u001b[0m\u001b[0;34m,\u001b[0m\u001b[0;34m\u001b[0m\u001b[0;34m\u001b[0m\u001b[0m\n\u001b[0;32m--> 707\u001b[0;31m                 \u001b[0mnewline\u001b[0m\u001b[0;34m=\u001b[0m\u001b[0;34m\"\"\u001b[0m\u001b[0;34m,\u001b[0m\u001b[0;34m\u001b[0m\u001b[0;34m\u001b[0m\u001b[0m\n\u001b[0m\u001b[1;32m    708\u001b[0m             )\n\u001b[1;32m    709\u001b[0m         \u001b[0;32melse\u001b[0m\u001b[0;34m:\u001b[0m\u001b[0;34m\u001b[0m\u001b[0;34m\u001b[0m\u001b[0m\n",
      "\u001b[0;31mFileNotFoundError\u001b[0m: [Errno 2] No such file or directory: '../../data/scRNAseq_for_simulations_Xenium_like/9968be68-ab65-4a38-9e1a-c9b6abece194/results_clustering.csv'"
     ]
    }
   ],
   "source": [
    "datasetdic={}\n",
    "dats=[]\n",
    "available_tiss=[]\n",
    "for d in range(0,len(datasets)):\n",
    "    resul=pd.read_csv(mainpath+datasets[d]+'/final_allresults.csv',index_col=0)\n",
    "    rres=pd.read_csv(rsimpath+datasets[d]+'/results_clustering.csv',index_col=0)\n",
    "    resul.columns='SCANPY_'+resul.columns\n",
    "    rres.columns='SEURAT_'+rres.columns\n",
    "    adata=sc.read(mainpath+datasets[d]+'/original_adata.h5ad')\n",
    "    if adata.obs['tissue'][0] not in available_tiss:\n",
    "        datasetdic[datasets[d]]=adata.obs['tissue'][0]\n",
    "        available_tiss.append(adata.obs['tissue'][0])\n",
    "    else:\n",
    "        tot=np.sum([adata.obs['tissue'][0] in n for n in available_tiss])\n",
    "        datasetdic[datasets[d]]=adata.obs['tissue'][0]+'_'+str(tot)\n",
    "        available_tiss.append(adata.obs['tissue'][0]+'_'+str(tot))\n"
   ]
  },
  {
   "cell_type": "markdown",
   "id": "3dea5603",
   "metadata": {},
   "source": [
    "# Extract all simulation conditions"
   ]
  },
  {
   "cell_type": "code",
   "execution_count": 4,
   "id": "9d312058",
   "metadata": {
    "scrolled": true
   },
   "outputs": [],
   "source": [
    "allpos=[]\n",
    "for d in range(0,len(datasets)):\n",
    "    try:\n",
    "        resul=pd.read_csv(mainpath+datasets[d]+'/final_allresults.csv',index_col=0)\n",
    "        rres=pd.read_csv(rsimpath+datasets[d]+'/results_clustering.csv',index_col=0)\n",
    "        resul.columns='SCANPY_'+resul.columns\n",
    "        rres.columns='SEURAT_'+rres.columns\n",
    "        for el in resul.columns:\n",
    "            allpos.append(el)\n",
    "        for el in rres.columns:\n",
    "            allpos.append(el)\n",
    "    except:\n",
    "        E=2"
   ]
  },
  {
   "cell_type": "markdown",
   "id": "4bd557cb",
   "metadata": {},
   "source": [
    "After this, we define dataframes where we will store the ARI, VI and FMI scores for each simulation on each dataset"
   ]
  },
  {
   "cell_type": "code",
   "execution_count": 5,
   "id": "7b498d67",
   "metadata": {},
   "outputs": [],
   "source": [
    "ARI=None\n",
    "VI=None\n",
    "fmi=None\n",
    "if ARI is None:\n",
    "    ARI=pd.DataFrame(index=np.unique(allpos),columns=datasets)\n",
    "if VI is None:\n",
    "    VI=pd.DataFrame(index=np.unique(allpos),columns=datasets)\n",
    "if fmi is None:\n",
    "    fmi=pd.DataFrame(index=np.unique(allpos),columns=datasets)"
   ]
  },
  {
   "cell_type": "markdown",
   "id": "7874a5df",
   "metadata": {},
   "source": [
    "And we compute these scores for the datasets"
   ]
  },
  {
   "cell_type": "code",
   "execution_count": 6,
   "id": "e28db932",
   "metadata": {
    "scrolled": true
   },
   "outputs": [
    {
     "name": "stderr",
     "output_type": "stream",
     "text": [
      "100%|█████████████████████████████████████████████████████████████████████████████████████████████████████████████████| 55/55 [00:00<00:00, 26325.09it/s]\n"
     ]
    }
   ],
   "source": [
    "dats=[]\n",
    "from tqdm import tqdm\n",
    "for d in tqdm(range(0,len(datasets))):\n",
    "    try:\n",
    "        resul=pd.read_csv(mainpath+datasets[d]+'/final_allresults.csv',index_col=0)\n",
    "        rres=pd.read_csv(rsimpath+datasets[d]+'/results_clustering.csv',index_col=0)\n",
    "        resul.columns='SCANPY_'+resul.columns\n",
    "        rres.columns='SEURAT_'+rres.columns\n",
    "        dats.append(datasets[d])\n",
    "        for ind in resul.columns:\n",
    "            ARI.loc[ind,datasets[d]]=sk.adjusted_rand_score(resul.loc[:,ind],resul.loc[:,'SCANPY_RESULTS'])\n",
    "        for ind in rres.columns:\n",
    "            ARI.loc[ind,datasets[d]]=sk.adjusted_rand_score(rres.loc[:,ind],resul.loc[:,'SCANPY_RESULTS'])\n",
    "    except:\n",
    "        ei=2"
   ]
  },
  {
   "cell_type": "markdown",
   "id": "0ea60e0e",
   "metadata": {},
   "source": [
    "# Plotting the results "
   ]
  },
  {
   "cell_type": "markdown",
   "id": "08005e77",
   "metadata": {},
   "source": [
    "We first format and plot the ARI"
   ]
  },
  {
   "cell_type": "code",
   "execution_count": 7,
   "id": "c33c056d",
   "metadata": {},
   "outputs": [],
   "source": [
    "res=[el.split('_')[0] for el in ARI.index]\n",
    "ARISEL=ARI.loc[:,dats].fillna(0)\n",
    "ARISEL=ARISEL.loc[np.sum(ARISEL.fillna(-1)>0,axis=1)>30,:]\n",
    "ARISEL=ARISEL.loc[~ARISEL.index.isin(['SCANPY_RESULTS']),:]\n",
    "ARISEL_mean=pd.DataFrame(np.mean(ARISEL,axis=1)).sort_values(by=0)\n",
    "ARISEL_mean2=pd.DataFrame(np.mean(ARISEL,axis=0)).sort_values(by=0)\n",
    "ARISEL=ARISEL.loc[ARISEL_mean.index,ARISEL_mean2.index]\n",
    "ARISEL=ARISEL.loc[['.' not in c   for c in  ARISEL.index],:]\n",
    "ARISEL.columns=ARISEL.columns.map(datasetdic)"
   ]
  },
  {
   "cell_type": "code",
   "execution_count": 8,
   "id": "d2f1ada4",
   "metadata": {
    "scrolled": true
   },
   "outputs": [
    {
     "ename": "ValueError",
     "evalue": "zero-size array to reduction operation fmin which has no identity",
     "output_type": "error",
     "traceback": [
      "\u001b[0;31m---------------------------------------------------------------------------\u001b[0m",
      "\u001b[0;31mValueError\u001b[0m                                Traceback (most recent call last)",
      "\u001b[0;32m/tmp/ipykernel_1007487/2263169385.py\u001b[0m in \u001b[0;36m<module>\u001b[0;34m\u001b[0m\n\u001b[1;32m      3\u001b[0m \u001b[0mmatplotlib\u001b[0m\u001b[0;34m.\u001b[0m\u001b[0mrcParams\u001b[0m\u001b[0;34m[\u001b[0m\u001b[0;34m'pdf.fonttype'\u001b[0m\u001b[0;34m]\u001b[0m \u001b[0;34m=\u001b[0m \u001b[0;36m42\u001b[0m\u001b[0;34m\u001b[0m\u001b[0;34m\u001b[0m\u001b[0m\n\u001b[1;32m      4\u001b[0m \u001b[0mmatplotlib\u001b[0m\u001b[0;34m.\u001b[0m\u001b[0mrcParams\u001b[0m\u001b[0;34m[\u001b[0m\u001b[0;34m'ps.fonttype'\u001b[0m\u001b[0;34m]\u001b[0m \u001b[0;34m=\u001b[0m \u001b[0;36m42\u001b[0m\u001b[0;34m\u001b[0m\u001b[0;34m\u001b[0m\u001b[0m\n\u001b[0;32m----> 5\u001b[0;31m \u001b[0msns\u001b[0m\u001b[0;34m.\u001b[0m\u001b[0mheatmap\u001b[0m\u001b[0;34m(\u001b[0m\u001b[0mARISEL\u001b[0m\u001b[0;34m,\u001b[0m\u001b[0mcmap\u001b[0m\u001b[0;34m=\u001b[0m\u001b[0;34m'Purples'\u001b[0m\u001b[0;34m)\u001b[0m\u001b[0;34m\u001b[0m\u001b[0;34m\u001b[0m\u001b[0m\n\u001b[0m\u001b[1;32m      6\u001b[0m \u001b[0mplt\u001b[0m\u001b[0;34m.\u001b[0m\u001b[0msavefig\u001b[0m\u001b[0;34m(\u001b[0m\u001b[0;34m'../../figures/7.spatial_architecture/simulations_scores_by_dataset.pdf'\u001b[0m\u001b[0;34m)\u001b[0m\u001b[0;34m\u001b[0m\u001b[0;34m\u001b[0m\u001b[0m\n",
      "\u001b[0;32m~/miniconda3/envs/xb/lib/python3.7/site-packages/seaborn/matrix.py\u001b[0m in \u001b[0;36mheatmap\u001b[0;34m(data, vmin, vmax, cmap, center, robust, annot, fmt, annot_kws, linewidths, linecolor, cbar, cbar_kws, cbar_ax, square, xticklabels, yticklabels, mask, ax, **kwargs)\u001b[0m\n\u001b[1;32m    446\u001b[0m     plotter = _HeatMapper(data, vmin, vmax, cmap, center, robust, annot, fmt,\n\u001b[1;32m    447\u001b[0m                           \u001b[0mannot_kws\u001b[0m\u001b[0;34m,\u001b[0m \u001b[0mcbar\u001b[0m\u001b[0;34m,\u001b[0m \u001b[0mcbar_kws\u001b[0m\u001b[0;34m,\u001b[0m \u001b[0mxticklabels\u001b[0m\u001b[0;34m,\u001b[0m\u001b[0;34m\u001b[0m\u001b[0;34m\u001b[0m\u001b[0m\n\u001b[0;32m--> 448\u001b[0;31m                           yticklabels, mask)\n\u001b[0m\u001b[1;32m    449\u001b[0m \u001b[0;34m\u001b[0m\u001b[0m\n\u001b[1;32m    450\u001b[0m     \u001b[0;31m# Add the pcolormesh kwargs here\u001b[0m\u001b[0;34m\u001b[0m\u001b[0;34m\u001b[0m\u001b[0;34m\u001b[0m\u001b[0m\n",
      "\u001b[0;32m~/miniconda3/envs/xb/lib/python3.7/site-packages/seaborn/matrix.py\u001b[0m in \u001b[0;36m__init__\u001b[0;34m(self, data, vmin, vmax, cmap, center, robust, annot, fmt, annot_kws, cbar, cbar_kws, xticklabels, yticklabels, mask)\u001b[0m\n\u001b[1;32m    162\u001b[0m         \u001b[0;31m# Determine good default values for the colormapping\u001b[0m\u001b[0;34m\u001b[0m\u001b[0;34m\u001b[0m\u001b[0;34m\u001b[0m\u001b[0m\n\u001b[1;32m    163\u001b[0m         self._determine_cmap_params(plot_data, vmin, vmax,\n\u001b[0;32m--> 164\u001b[0;31m                                     cmap, center, robust)\n\u001b[0m\u001b[1;32m    165\u001b[0m \u001b[0;34m\u001b[0m\u001b[0m\n\u001b[1;32m    166\u001b[0m         \u001b[0;31m# Sort out the annotations\u001b[0m\u001b[0;34m\u001b[0m\u001b[0;34m\u001b[0m\u001b[0;34m\u001b[0m\u001b[0m\n",
      "\u001b[0;32m~/miniconda3/envs/xb/lib/python3.7/site-packages/seaborn/matrix.py\u001b[0m in \u001b[0;36m_determine_cmap_params\u001b[0;34m(self, plot_data, vmin, vmax, cmap, center, robust)\u001b[0m\n\u001b[1;32m    200\u001b[0m                 \u001b[0mvmin\u001b[0m \u001b[0;34m=\u001b[0m \u001b[0mnp\u001b[0m\u001b[0;34m.\u001b[0m\u001b[0mnanpercentile\u001b[0m\u001b[0;34m(\u001b[0m\u001b[0mcalc_data\u001b[0m\u001b[0;34m,\u001b[0m \u001b[0;36m2\u001b[0m\u001b[0;34m)\u001b[0m\u001b[0;34m\u001b[0m\u001b[0;34m\u001b[0m\u001b[0m\n\u001b[1;32m    201\u001b[0m             \u001b[0;32melse\u001b[0m\u001b[0;34m:\u001b[0m\u001b[0;34m\u001b[0m\u001b[0;34m\u001b[0m\u001b[0m\n\u001b[0;32m--> 202\u001b[0;31m                 \u001b[0mvmin\u001b[0m \u001b[0;34m=\u001b[0m \u001b[0mnp\u001b[0m\u001b[0;34m.\u001b[0m\u001b[0mnanmin\u001b[0m\u001b[0;34m(\u001b[0m\u001b[0mcalc_data\u001b[0m\u001b[0;34m)\u001b[0m\u001b[0;34m\u001b[0m\u001b[0;34m\u001b[0m\u001b[0m\n\u001b[0m\u001b[1;32m    203\u001b[0m         \u001b[0;32mif\u001b[0m \u001b[0mvmax\u001b[0m \u001b[0;32mis\u001b[0m \u001b[0;32mNone\u001b[0m\u001b[0;34m:\u001b[0m\u001b[0;34m\u001b[0m\u001b[0;34m\u001b[0m\u001b[0m\n\u001b[1;32m    204\u001b[0m             \u001b[0;32mif\u001b[0m \u001b[0mrobust\u001b[0m\u001b[0;34m:\u001b[0m\u001b[0;34m\u001b[0m\u001b[0;34m\u001b[0m\u001b[0m\n",
      "\u001b[0;32m<__array_function__ internals>\u001b[0m in \u001b[0;36mnanmin\u001b[0;34m(*args, **kwargs)\u001b[0m\n",
      "\u001b[0;32m~/miniconda3/envs/xb/lib/python3.7/site-packages/numpy/lib/nanfunctions.py\u001b[0m in \u001b[0;36mnanmin\u001b[0;34m(a, axis, out, keepdims)\u001b[0m\n\u001b[1;32m    317\u001b[0m         \u001b[0;31m# Fast, but not safe for subclasses of ndarray, or object arrays,\u001b[0m\u001b[0;34m\u001b[0m\u001b[0;34m\u001b[0m\u001b[0;34m\u001b[0m\u001b[0m\n\u001b[1;32m    318\u001b[0m         \u001b[0;31m# which do not implement isnan (gh-9009), or fmin correctly (gh-8975)\u001b[0m\u001b[0;34m\u001b[0m\u001b[0;34m\u001b[0m\u001b[0;34m\u001b[0m\u001b[0m\n\u001b[0;32m--> 319\u001b[0;31m         \u001b[0mres\u001b[0m \u001b[0;34m=\u001b[0m \u001b[0mnp\u001b[0m\u001b[0;34m.\u001b[0m\u001b[0mfmin\u001b[0m\u001b[0;34m.\u001b[0m\u001b[0mreduce\u001b[0m\u001b[0;34m(\u001b[0m\u001b[0ma\u001b[0m\u001b[0;34m,\u001b[0m \u001b[0maxis\u001b[0m\u001b[0;34m=\u001b[0m\u001b[0maxis\u001b[0m\u001b[0;34m,\u001b[0m \u001b[0mout\u001b[0m\u001b[0;34m=\u001b[0m\u001b[0mout\u001b[0m\u001b[0;34m,\u001b[0m \u001b[0;34m**\u001b[0m\u001b[0mkwargs\u001b[0m\u001b[0;34m)\u001b[0m\u001b[0;34m\u001b[0m\u001b[0;34m\u001b[0m\u001b[0m\n\u001b[0m\u001b[1;32m    320\u001b[0m         \u001b[0;32mif\u001b[0m \u001b[0mnp\u001b[0m\u001b[0;34m.\u001b[0m\u001b[0misnan\u001b[0m\u001b[0;34m(\u001b[0m\u001b[0mres\u001b[0m\u001b[0;34m)\u001b[0m\u001b[0;34m.\u001b[0m\u001b[0many\u001b[0m\u001b[0;34m(\u001b[0m\u001b[0;34m)\u001b[0m\u001b[0;34m:\u001b[0m\u001b[0;34m\u001b[0m\u001b[0;34m\u001b[0m\u001b[0m\n\u001b[1;32m    321\u001b[0m             warnings.warn(\"All-NaN slice encountered\", RuntimeWarning,\n",
      "\u001b[0;31mValueError\u001b[0m: zero-size array to reduction operation fmin which has no identity"
     ]
    },
    {
     "data": {
      "text/plain": [
       "<Figure size 720x720 with 0 Axes>"
      ]
     },
     "metadata": {},
     "output_type": "display_data"
    }
   ],
   "source": [
    "plt.figure(figsize=(10,10))\n",
    "import matplotlib\n",
    "matplotlib.rcParams['pdf.fonttype'] = 42\n",
    "matplotlib.rcParams['ps.fonttype'] = 42\n",
    "sns.heatmap(ARISEL,cmap='Purples')\n",
    "plt.savefig('../../figures/7.spatial_architecture/simulations_scores_by_dataset.pdf')"
   ]
  },
  {
   "cell_type": "markdown",
   "id": "6c8707d4",
   "metadata": {},
   "source": [
    "### We read and plot sample-specific additional information"
   ]
  },
  {
   "cell_type": "code",
   "execution_count": null,
   "id": "3746ba77",
   "metadata": {},
   "outputs": [],
   "source": [
    "sampleinfo=pd.read_csv('../../figures/7.spatial_architecture/simulated_sample_info.csv',index_col=0)\n",
    "mean_ARI=pd.DataFrame(np.mean(ARI.fillna(0),axis=0),columns=['mean_ARI'])\n",
    "expe=dict(zip(mean_ARI.index,mean_ARI['mean_ARI']))\n",
    "sampleinfo['mean_ARI']=sampleinfo.index.map(expe)\n",
    "sampleinfo=sampleinfo[sampleinfo['mean_ARI']>0]\n",
    "sampleinfo.index=sampleinfo.index.map(datasetdic)\n",
    "sampleinfo=sampleinfo.loc[ARISEL.columns,:]"
   ]
  },
  {
   "cell_type": "code",
   "execution_count": null,
   "id": "c4a8ed9f",
   "metadata": {},
   "outputs": [],
   "source": [
    "correl=[]\n",
    "for col in sampleinfo.columns:\n",
    "    correl.append(np.corrcoef(sampleinfo[col],sampleinfo['mean_ARI'])[0,1])\n",
    "sampleinfosub=sampleinfosub=sampleinfo.loc[:,sampleinfo.columns[0:5]]\n",
    "sampleinfosub=sampleinfosub.div(sampleinfosub.max(axis=0),axis=1)"
   ]
  },
  {
   "cell_type": "code",
   "execution_count": null,
   "id": "450c261a",
   "metadata": {},
   "outputs": [],
   "source": [
    "matplotlib.rcParams['pdf.fonttype'] = 42\n",
    "matplotlib.rcParams['ps.fonttype'] = 42\n",
    "plt.figure(figsize=(2,10))\n",
    "sns.heatmap(sampleinfosub,cmap='Reds')\n",
    "plt.savefig('../../figures/7.spatial_architecture/sampleinfo_all.pdf')"
   ]
  },
  {
   "cell_type": "code",
   "execution_count": null,
   "id": "ea98b23e",
   "metadata": {},
   "outputs": [],
   "source": [
    "import matplotlib.pyplot as plt\n",
    "import numpy as np\n",
    "import random\n",
    "import matplotlib\n",
    "matplotlib.rcParams['pdf.fonttype'] = 42\n",
    "matplotlib.rcParams['ps.fonttype'] = 42\n",
    "for col in sampleinfosub.columns:\n",
    "    plt.figure(figsize=(2,10))\n",
    "    sns.heatmap(sampleinfosub.loc[:,[col]],cmap='Reds')\n",
    "    plt.savefig('../../figures/7.spatial_architecture/sampleinfo_'+str(col)+'.pdf')\n",
    "    "
   ]
  },
  {
   "cell_type": "markdown",
   "id": "44efe29c",
   "metadata": {},
   "source": [
    "# We also plot ARI normalizing by sample"
   ]
  },
  {
   "cell_type": "code",
   "execution_count": null,
   "id": "0af76023",
   "metadata": {},
   "outputs": [],
   "source": [
    "ARISELNORM=ARISEL.div(ARISEL.max(axis=0),axis=1)\n",
    "ARISEL_ranked=ARISEL.rank(axis=0)\n",
    "order=pd.DataFrame(np.median(ARISEL_ranked,axis=1),index=ARISEL_ranked.index).sort_values(by=0)\n",
    "ARISEL_ranked_sorted=ARISEL_ranked.loc[order.index,:]"
   ]
  },
  {
   "cell_type": "code",
   "execution_count": null,
   "id": "83eceb93",
   "metadata": {},
   "outputs": [],
   "source": [
    "plt.figure(figsize=(10,10))\n",
    "matplotlib.rcParams['pdf.fonttype'] = 42\n",
    "matplotlib.rcParams['ps.fonttype'] = 42\n",
    "sns.heatmap(ARISEL_ranked,cmap='Blues',vmin=300)\n",
    "plt.savefig('../../figures/7.spatial_architecture/agreement_in_processing_workflows.pdf')"
   ]
  },
  {
   "cell_type": "markdown",
   "id": "5f254673",
   "metadata": {},
   "source": [
    "# Perturbation experiment, based on best workflow"
   ]
  },
  {
   "cell_type": "markdown",
   "id": "49fc3f81",
   "metadata": {},
   "source": [
    "Similar to what we do with real data in 1_6, we take the top performing workflow as reference and explore the effect of modifying individual parameters on the final outcome"
   ]
  },
  {
   "cell_type": "code",
   "execution_count": null,
   "id": "e854fbd0",
   "metadata": {},
   "outputs": [],
   "source": [
    "dat=[el.split('_') for el in ARISEL.index]\n",
    "metadata=pd.DataFrame(dat)\n",
    "metadata_nam=metadata.copy()\n",
    "best_option=metadata.iloc[-1:,:] #### we select the best or not\n",
    "for col in metadata.columns:\n",
    "    metadata.loc[:,col]=~metadata.loc[:,col].isin(best_option.iloc[:,col])*1\n",
    "ARICLOSE=ARISEL.loc[list(np.sum(metadata,axis=1)==1),:]\n",
    "metadata_close=metadata.loc[list(np.sum(metadata,axis=1)==1),:]\n",
    "metadata_namclose=metadata_nam.loc[list(np.sum(metadata,axis=1)==1),:]\n",
    "newnam=[]\n",
    "for ind in metadata_close.index:\n",
    "    newnam.append(pd.DataFrame(metadata_namclose.loc[ind,list(metadata_close.loc[ind,:]==1)]).iloc[0,0])\n",
    "ARICLOSE=pd.concat([ARICLOSE,ARISEL.iloc[-1:,:]])\n",
    "newnam.append('best')\n",
    "ARICLOSE.index=newnam\n",
    "selected=pd.DataFrame(np.sum(metadata,axis=1)==1)\n",
    "selected.loc[selected.iloc[:,0]==1,:].index\n",
    "import matplotlib\n",
    "matplotlib.rcParams['pdf.fonttype'] = 42\n",
    "matplotlib.rcParams['ps.fonttype'] = 42\n",
    "plt.figure(figsize=(4,5))\n",
    "sns.barplot(y=ARICLOSE.index,x=list(ARICLOSE.mean(axis=1)),palette='YlOrRd')\n",
    "plt.savefig('../../figures/7.spatial_architecture/perturbation_test_simulated_barplot.pdf')"
   ]
  },
  {
   "cell_type": "markdown",
   "id": "e775f5e6",
   "metadata": {},
   "source": [
    "We do the same, but for the 2nd best workflow"
   ]
  },
  {
   "cell_type": "code",
   "execution_count": null,
   "id": "e9500c01",
   "metadata": {
    "scrolled": true
   },
   "outputs": [],
   "source": [
    "dat=[el.split('_') for el in ARISEL.index]\n",
    "metadata=pd.DataFrame(dat)\n",
    "metadata_nam=metadata.copy()\n",
    "best_option=metadata.iloc[-2:-1,:] #### we select the best or not\n",
    "for col in metadata.columns:\n",
    "    metadata.loc[:,col]=~metadata.loc[:,col].isin(best_option.iloc[:,col])*1\n",
    "ARICLOSE=ARISEL.loc[list(np.sum(metadata,axis=1)==1),:]\n",
    "metadata_close=metadata.loc[list(np.sum(metadata,axis=1)==1),:]\n",
    "metadata_namclose=metadata_nam.loc[list(np.sum(metadata,axis=1)==1),:]\n",
    "newnam=[]\n",
    "for ind in metadata_close.index:\n",
    "    newnam.append(pd.DataFrame(metadata_namclose.loc[ind,list(metadata_close.loc[ind,:]==1)]).iloc[0,0])\n",
    "ARICLOSE=pd.concat([ARICLOSE,ARISEL.iloc[-1:,:]])\n",
    "newnam.append('2nd best')\n",
    "ARICLOSE.index=newnam\n",
    "selected=pd.DataFrame(np.sum(metadata,axis=1)==1)\n",
    "selected.loc[selected.iloc[:,0]==1,:].index\n",
    "import matplotlib\n",
    "matplotlib.rcParams['pdf.fonttype'] = 42\n",
    "matplotlib.rcParams['ps.fonttype'] = 42\n",
    "plt.figure(figsize=(4,5))\n",
    "sns.barplot(y=ARICLOSE.index,x=list(ARICLOSE.mean(axis=1)),palette='YlOrRd')\n",
    "plt.savefig('../../figures/7.spatial_architecture/perturbation_test_simulated_barplot_second_best_workflow.pdf')"
   ]
  },
  {
   "cell_type": "markdown",
   "id": "07271767",
   "metadata": {},
   "source": [
    "## Next, we generate the plots regarding the preprocessing options of each method"
   ]
  },
  {
   "cell_type": "code",
   "execution_count": null,
   "id": "8f172344",
   "metadata": {},
   "outputs": [],
   "source": [
    "ALLSCORES=ALLSCORES.sort_values(by='ARI')\n",
    "alld=[n.split('_') for n in ARISEL.index]\n",
    "allso=pd.DataFrame(alld)\n",
    "allso.columns=['Software','normalization', 'log', 'neighbors', 'pcs', 'target_sum','skip', 'svg','scale','skip2', 'clustering_alg', ]\n",
    "allso['ARI_mean']=list(np.mean(ARISEL_ranked.iloc[:,:],axis=1))\n",
    "allso=allso.sort_values(by='ARI_mean')\n",
    "alsel=allso.loc[['.' not in c   for c in  allso['clustering_alg']],:]"
   ]
  },
  {
   "cell_type": "code",
   "execution_count": null,
   "id": "39b152f0",
   "metadata": {},
   "outputs": [],
   "source": [
    "sns.heatmap(alsel.tail(20).loc[:,['ARI_mean']],cmap='autumn')\n",
    "plt.savefig('../../figures/7.spatial_architecture/top20_ranks_heatmap.pdf')"
   ]
  },
  {
   "cell_type": "code",
   "execution_count": null,
   "id": "6aff334f",
   "metadata": {},
   "outputs": [],
   "source": [
    "alsel['ARI_mean']=ARISEL.shape[0]-alsel['ARI_mean']#np.max(alsel['ARI_mean'])"
   ]
  },
  {
   "cell_type": "code",
   "execution_count": null,
   "id": "feb564b7",
   "metadata": {},
   "outputs": [],
   "source": [
    "import matplotlib.patches as mpatches\n",
    "plt.figure(figsize=(20,10))\n",
    "plt.scatter(range(0,alsel.shape[0]),alsel['ARI_mean'],s=2)\n",
    "fig, ax = plt.subplots(figsize=(20,7),nrows=len(alsel.columns[:-1]), ncols=1)\n",
    "nun=0\n",
    "for cols in alsel.columns[:-1]:\n",
    "    import matplotlib.pyplot as plt\n",
    "    import numpy as np\n",
    "    import random\n",
    "    import matplotlib\n",
    "    matplotlib.rcParams['pdf.fonttype'] = 42\n",
    "    matplotlib.rcParams['ps.fonttype'] = 42\n",
    "#    print(cols)\n",
    "    # Generate a list of 50 random hex colors\n",
    "    hex_colors = ['#' + ''.join([random.choice('0123456789ABCDEF') for j in range(6)]) for i in range(50)]\n",
    "\n",
    "    # Convert hex colors to RGB in the range from 0 to 1 and store them in a matrix\n",
    "    rgb_colors = []\n",
    "    for hex_color in hex_colors:\n",
    "        hex_color = hex_color.lstrip('#')\n",
    "        rgb = tuple(int(hex_color[i:i+2], 16) / 255.0 for i in (0, 2, 4))\n",
    "        rgb_colors.append(rgb)\n",
    "    data=list(alsel.tail(25)[cols])\n",
    "\n",
    "    colos=rgb_colors\n",
    "    categories={}\n",
    "    nu=0\n",
    "    for cat in np.unique(data):\n",
    "        categories[cat]=colos[nu]\n",
    "        nu=nu+1\n",
    "\n",
    "    colors = np.array([categories[category] for category in data])\n",
    "\n",
    "    # Create a figure and axis\n",
    "\n",
    "    # Plot the 1D color mesh using imshow\n",
    "    ax[nun].imshow(colors.reshape(1, -1, 3),aspect='auto')\n",
    "    plt.axis('off')\n",
    "    patches =[mpatches.Patch(color=categories[i],label=i) for i in categories.keys()]\n",
    "    plt.legend(handles=patches,loc=9)\n",
    "    # Set the axis limits\n",
    "    ax[nun].set_xlim(0, len(data))\n",
    "    #ax.set_ylim(0, 800)\n",
    "\n",
    "    # Add a colorbar for reference\n",
    "    #cbar = plt.colorbar(plt.cm.ScalarMappable(cmap=None, norm=None), ax=ax, orientation='horizontal')\n",
    "    plt.axis('off')\n",
    "    nun=nun+1\n",
    "    # Show the plot\n",
    "plt.subplots_adjust(wspace=0, hspace=0)\n",
    "plt.savefig('../../figures/7.spatial_architecture/top_processing_workflows.pdf')\n",
    "plt.show()\n"
   ]
  },
  {
   "cell_type": "code",
   "execution_count": null,
   "id": "10ca0a45",
   "metadata": {},
   "outputs": [],
   "source": [
    "alsel2=alsel.loc[:,['Software','normalization','target_sum','log','svg','skip2','pcs','neighbors','clustering_alg']]\n",
    "alsel2.loc[alsel2['normalization']!='normTrue','target_sum']='NaN'\n",
    "alsel2.loc[alsel2['normalization']=='normpearson','log']='NaN'\n",
    "alsel2.loc[alsel2['normalization']=='normSCT','log']='NaN'\n",
    "alsel2.loc[alsel2['normalization']=='normSCT','svg']='NaN'"
   ]
  },
  {
   "cell_type": "code",
   "execution_count": null,
   "id": "5940ea66",
   "metadata": {},
   "outputs": [],
   "source": [
    "import matplotlib.patches as mpatches\n",
    "plt.figure(figsize=(20,10))\n",
    "plt.scatter(range(0,alsel.shape[0]),alsel['ARI_mean'],s=2)\n",
    "fig, ax = plt.subplots(figsize=(20,7),nrows=len(alsel.columns[:-1]), ncols=1)\n",
    "\n",
    "for cols in alsel2.columns[:]:\n",
    "    import matplotlib.pyplot as plt\n",
    "    import numpy as np\n",
    "    import random\n",
    "    import matplotlib\n",
    "    matplotlib.rcParams['pdf.fonttype'] = 42\n",
    "    matplotlib.rcParams['ps.fonttype'] = 42\n",
    "#    print(cols)\n",
    "    # Generate a list of 50 random hex colors\n",
    "    hex_colors = ['#' + ''.join([random.choice('0123456789ABCDEF') for j in range(6)]) for i in range(50)]\n",
    "    fig, ax = plt.subplots(figsize=(20,0.5),nrows=1, ncols=1)\n",
    "    nun=0\n",
    "    # Convert hex colors to RGB in the range from 0 to 1 and store them in a matrix\n",
    "    rgb_colors = []\n",
    "    for hex_color in hex_colors:\n",
    "        hex_color = hex_color.lstrip('#')\n",
    "        rgb = tuple(int(hex_color[i:i+2], 16) / 255.0 for i in (0, 2, 4))\n",
    "        rgb_colors.append(rgb)\n",
    "    data=list(alsel2[cols])\n",
    "\n",
    "    colos=rgb_colors\n",
    "    categories={}\n",
    "    nu=0\n",
    "    for cat in np.unique(data):\n",
    "        if cat=='NaN':\n",
    "            categories[cat]=(0.5,0.5,0.5)\n",
    "        else:\n",
    "            categories[cat]=colos[nu]\n",
    "        nu=nu+1\n",
    "\n",
    "    colors = np.array([categories[category] for category in data])\n",
    "\n",
    "    # Create a figure and axis\n",
    "\n",
    "    # Plot the 1D color mesh using imshow\n",
    "    ax.imshow(colors.reshape(1, -1, 3),aspect='auto')\n",
    "    plt.axis('off')\n",
    "    patches =[mpatches.Patch(color=categories[i],label=i) for i in categories.keys()]\n",
    "    plt.legend(handles=patches,loc=1)\n",
    "    # Set the axis limits\n",
    "    ax.set_xlim(0, len(data))\n",
    "    #ax.set_ylim(0, 800)\n",
    "\n",
    "    # Add a colorbar for reference\n",
    "    #cbar = plt.colorbar(plt.cm.ScalarMappable(cmap=None, norm=None), ax=ax, orientation='horizontal')\n",
    "    plt.axis('off')\n",
    "    nun=nun+1\n",
    "    # Show the plot\n",
    "plt.subplots_adjust(wspace=0, hspace=0)\n",
    "plt.savefig('../../figures/7.spatial_architecture/all_processing_workflows.pdf')\n",
    "plt.show()\n"
   ]
  },
  {
   "cell_type": "code",
   "execution_count": null,
   "id": "83a3ccce",
   "metadata": {
    "tags": []
   },
   "outputs": [],
   "source": [
    "import matplotlib.patches as mpatches\n",
    "plt.figure(figsize=(20,10))\n",
    "plt.scatter(range(0,alsel.shape[0]),alsel['ARI_mean'],s=2)\n",
    "fig, ax = plt.subplots(figsize=(40,12),nrows=len(alsel.columns[:-1]), ncols=1)\n",
    "nun=0\n",
    "for cols in alsel2.columns[:]:\n",
    "    matplotlib.rcParams['pdf.fonttype'] = 42\n",
    "    matplotlib.rcParams['ps.fonttype'] = 42\n",
    "    # Generate a list of 50 random hex colors\n",
    "    hex_colors = ['#' + ''.join([random.choice('0123456789ABCDEF') for j in range(6)]) for i in range(50)]\n",
    "    # Convert hex colors to RGB in the range from 0 to 1 and store them in a matrix\n",
    "    rgb_colors = []\n",
    "    for hex_color in hex_colors:\n",
    "        hex_color = hex_color.lstrip('#')\n",
    "        rgb = tuple(int(hex_color[i:i+2], 16) / 255.0 for i in (0, 2, 4))\n",
    "        rgb_colors.append(rgb)\n",
    "    data=list(alsel2[cols])\n",
    "\n",
    "    colos=rgb_colors\n",
    "    categories={}\n",
    "    nu=0\n",
    "    for cat in np.unique(data):\n",
    "        if cat=='NaN':\n",
    "            categories[cat]=(0.8,0.8,0.8)\n",
    "        else:\n",
    "            categories[cat]=colos[nu]\n",
    "        nu=nu+1\n",
    "    colors = np.array([categories[category] for category in data])\n",
    "    ax[nun].imshow(colors.reshape(1, -1, 3),aspect='auto')\n",
    "    plt.axis('off')\n",
    "    patches =[mpatches.Patch(color=categories[i],label=i) for i in categories.keys()]\n",
    "    plt.legend(handles=patches,loc=9)\n",
    "    # Set the axis limits\n",
    "    ax[nun].set_xlim(0, len(data))\n",
    "    # Add a colorbar for reference\n",
    "    plt.axis('off')\n",
    "    nun=nun+1\n",
    "    # Show the plot\n",
    "plt.subplots_adjust(wspace=0, hspace=0)\n",
    "plt.savefig('../../figures/7.spatial_architecture/all_processing_workflows.pdf')\n",
    "plt.show()\n"
   ]
  }
 ],
 "metadata": {
  "kernelspec": {
   "display_name": "Python 3 (ipykernel)",
   "language": "python",
   "name": "python3"
  },
  "language_info": {
   "codemirror_mode": {
    "name": "ipython",
    "version": 3
   },
   "file_extension": ".py",
   "mimetype": "text/x-python",
   "name": "python",
   "nbconvert_exporter": "python",
   "pygments_lexer": "ipython3",
   "version": "3.7.13"
  }
 },
 "nbformat": 4,
 "nbformat_minor": 5
}
