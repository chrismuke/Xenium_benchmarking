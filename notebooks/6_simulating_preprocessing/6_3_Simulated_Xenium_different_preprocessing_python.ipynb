{
 "cells": [
  {
   "cell_type": "markdown",
   "id": "f025411e",
   "metadata": {},
   "source": [
    "# Purpose of the notebook"
   ]
  },
  {
   "cell_type": "markdown",
   "id": "d7f5fc02",
   "metadata": {},
   "source": [
    "Based on the extracted single cell data, we transform it to look like xenium data and we preprocess it on many different ways. This notebook includes only the scanpy-based pipelines. There is a second workflow for the Seurat preprocessing"
   ]
  },
  {
   "cell_type": "code",
   "execution_count": 1,
   "id": "1ea4c166",
   "metadata": {
    "tags": []
   },
   "outputs": [],
   "source": [
    "# import txsim as tx\n",
    "import scanpy as sc\n",
    "import os\n",
    "import pandas as pd\n",
    "from anndata import AnnData\n",
    "import numpy as np\n",
    "#from scipy.spatial import ConvexHull, convex_hull_plot_2d\n",
    "import xb.formatting as xf\n",
    "import seaborn as sns\n",
    "import random \n",
    "import matplotlib.pyplot as plt\n",
    "import sklearn.metrics as sk\n",
    "from tqdm import tqdm\n",
    "import scanpy as sc\n",
    "import random\n",
    "from xb.calculating import entropy,compute_vi,compute_fmi\n",
    "from xb.formatting import keep_nuclei_and_quality\n",
    "from xb.simulating import missegmentation_simulation,noise_adder,subset_of_single_cell,main_preprocessing, allcombs_simulated"
   ]
  },
  {
   "cell_type": "markdown",
   "id": "7c0d2576",
   "metadata": {},
   "source": [
    "# We  simulate all preprocessing possibilities"
   ]
  },
  {
   "cell_type": "code",
   "execution_count": 2,
   "id": "eea3fe94",
   "metadata": {
    "tags": []
   },
   "outputs": [
    {
     "name": "stdout",
     "output_type": "stream",
     "text": [
      "##################################### Dataset 0\n",
      "../../data/scRNAseq_for_simulations/9968be68-ab65-4a38-9e1a-c9b6abece194\n"
     ]
    },
    {
     "name": "stderr",
     "output_type": "stream",
     "text": [
      "100%|████████████████████████████████████████████████████████████████████████████████████████████████████████████████████| 4/4 [00:00<00:00, 1191.99it/s]\n"
     ]
    },
    {
     "name": "stdout",
     "output_type": "stream",
     "text": [
      "(9313, 212)\n",
      "first run\n",
      "1\n",
      "(9313, 212)\n",
      "2\n"
     ]
    },
    {
     "name": "stderr",
     "output_type": "stream",
     "text": [
      "/home/chrism/miniconda3/envs/xb/lib/python3.7/site-packages/scanpy/preprocessing/_simple.py:352: RuntimeWarning: divide by zero encountered in log1p\n",
      "  np.log1p(X, out=X)\n"
     ]
    },
    {
     "name": "stdout",
     "output_type": "stream",
     "text": [
      "(9313, 212)\n",
      "3\n",
      "TrueFalseFalse[10, 100, 1000, None]\n",
      "4\n",
      "(9313, 51)\n"
     ]
    },
    {
     "name": "stderr",
     "output_type": "stream",
     "text": [
      "/home/chrism/git/Xenium_benchmarking/xb/simulating.py:314: ImplicitModificationWarning: Trying to modify attribute `.X` of view, initializing view as actual.\n",
      "  adata.X[adata.X==-np.inf]=0\n"
     ]
    },
    {
     "name": "stdout",
     "output_type": "stream",
     "text": [
      "5\n",
      "(9313, 84)\n"
     ]
    },
    {
     "name": "stderr",
     "output_type": "stream",
     "text": [
      "/home/chrism/miniconda3/envs/xb/lib/python3.7/site-packages/scanpy/preprocessing/_simple.py:352: RuntimeWarning: divide by zero encountered in log1p\n",
      "  np.log1p(X, out=X)\n",
      "/home/chrism/git/Xenium_benchmarking/xb/simulating.py:314: ImplicitModificationWarning: Trying to modify attribute `.X` of view, initializing view as actual.\n",
      "  adata.X[adata.X==-np.inf]=0\n",
      "/home/chrism/miniconda3/envs/xb/lib/python3.7/contextlib.py:119: FutureWarning: X.dtype being converted to np.float32 from float64. In the next version of anndata (0.9) conversion will not be automatic. Pass dtype explicitly to avoid this warning. Pass `AnnData(X, dtype=X.dtype, ...)` to get the future behavour.\n",
      "  next(self.gen)\n"
     ]
    },
    {
     "name": "stdout",
     "output_type": "stream",
     "text": [
      "6\n",
      "TrueFalseTrue[10, 100, 1000, None]\n",
      "7\n",
      "(9313, 212)\n",
      "8\n",
      "(9313, 212)\n"
     ]
    },
    {
     "name": "stderr",
     "output_type": "stream",
     "text": [
      "/home/chrism/miniconda3/envs/xb/lib/python3.7/site-packages/scanpy/preprocessing/_simple.py:352: RuntimeWarning: divide by zero encountered in log1p\n",
      "  np.log1p(X, out=X)\n",
      "/home/chrism/miniconda3/envs/xb/lib/python3.7/site-packages/scanpy/preprocessing/_utils.py:12: RuntimeWarning: invalid value encountered in subtract\n",
      "  var = mean_sq - mean**2\n",
      "/home/chrism/miniconda3/envs/xb/lib/python3.7/site-packages/scanpy/preprocessing/_simple.py:792: RuntimeWarning: invalid value encountered in subtract\n",
      "  X -= mean\n"
     ]
    },
    {
     "name": "stdout",
     "output_type": "stream",
     "text": [
      "9\n",
      "TrueTrueFalse[10, 100, 1000, None]\n",
      "10\n",
      "(9313, 51)\n"
     ]
    },
    {
     "name": "stderr",
     "output_type": "stream",
     "text": [
      "/home/chrism/miniconda3/envs/xb/lib/python3.7/site-packages/scanpy/preprocessing/_simple.py:843: UserWarning: Received a view of an AnnData. Making a copy.\n",
      "  view_to_actual(adata)\n"
     ]
    },
    {
     "name": "stdout",
     "output_type": "stream",
     "text": [
      "11\n",
      "(9313, 84)\n"
     ]
    },
    {
     "name": "stderr",
     "output_type": "stream",
     "text": [
      "/home/chrism/miniconda3/envs/xb/lib/python3.7/site-packages/scanpy/preprocessing/_simple.py:352: RuntimeWarning: divide by zero encountered in log1p\n",
      "  np.log1p(X, out=X)\n",
      "/home/chrism/miniconda3/envs/xb/lib/python3.7/site-packages/scanpy/preprocessing/_simple.py:843: UserWarning: Received a view of an AnnData. Making a copy.\n",
      "  view_to_actual(adata)\n",
      "/home/chrism/miniconda3/envs/xb/lib/python3.7/site-packages/scanpy/preprocessing/_simple.py:843: FutureWarning: X.dtype being converted to np.float32 from float64. In the next version of anndata (0.9) conversion will not be automatic. Pass dtype explicitly to avoid this warning. Pass `AnnData(X, dtype=X.dtype, ...)` to get the future behavour.\n",
      "  view_to_actual(adata)\n",
      "/home/chrism/miniconda3/envs/xb/lib/python3.7/site-packages/scanpy/preprocessing/_utils.py:12: RuntimeWarning: invalid value encountered in subtract\n",
      "  var = mean_sq - mean**2\n",
      "/home/chrism/miniconda3/envs/xb/lib/python3.7/site-packages/scanpy/preprocessing/_simple.py:792: RuntimeWarning: invalid value encountered in subtract\n",
      "  X -= mean\n"
     ]
    },
    {
     "name": "stdout",
     "output_type": "stream",
     "text": [
      "12\n",
      "TrueTrueTrue[10, 100, 1000, None]\n",
      "13\n",
      "(9313, 212)\n",
      "14\n",
      "(9313, 212)\n"
     ]
    },
    {
     "name": "stderr",
     "output_type": "stream",
     "text": [
      "/home/chrism/miniconda3/envs/xb/lib/python3.7/site-packages/scanpy/preprocessing/_simple.py:352: RuntimeWarning: divide by zero encountered in log1p\n",
      "  np.log1p(X, out=X)\n"
     ]
    },
    {
     "name": "stdout",
     "output_type": "stream",
     "text": [
      "15\n",
      "TrueFalseFalse[10, 100, 1000, None]\n",
      "16\n",
      "(9313, 51)\n"
     ]
    },
    {
     "name": "stderr",
     "output_type": "stream",
     "text": [
      "/home/chrism/git/Xenium_benchmarking/xb/simulating.py:314: ImplicitModificationWarning: Trying to modify attribute `.X` of view, initializing view as actual.\n",
      "  adata.X[adata.X==-np.inf]=0\n"
     ]
    },
    {
     "name": "stdout",
     "output_type": "stream",
     "text": [
      "17\n",
      "(9313, 84)\n"
     ]
    },
    {
     "name": "stderr",
     "output_type": "stream",
     "text": [
      "/home/chrism/miniconda3/envs/xb/lib/python3.7/site-packages/scanpy/preprocessing/_simple.py:352: RuntimeWarning: divide by zero encountered in log1p\n",
      "  np.log1p(X, out=X)\n",
      "/home/chrism/git/Xenium_benchmarking/xb/simulating.py:314: ImplicitModificationWarning: Trying to modify attribute `.X` of view, initializing view as actual.\n",
      "  adata.X[adata.X==-np.inf]=0\n",
      "/home/chrism/miniconda3/envs/xb/lib/python3.7/contextlib.py:119: FutureWarning: X.dtype being converted to np.float32 from float64. In the next version of anndata (0.9) conversion will not be automatic. Pass dtype explicitly to avoid this warning. Pass `AnnData(X, dtype=X.dtype, ...)` to get the future behavour.\n",
      "  next(self.gen)\n"
     ]
    },
    {
     "name": "stdout",
     "output_type": "stream",
     "text": [
      "18\n",
      "TrueFalseTrue[10, 100, 1000, None]\n",
      "19\n",
      "(9313, 212)\n",
      "20\n",
      "(9313, 212)\n"
     ]
    },
    {
     "name": "stderr",
     "output_type": "stream",
     "text": [
      "/home/chrism/miniconda3/envs/xb/lib/python3.7/site-packages/scanpy/preprocessing/_simple.py:352: RuntimeWarning: divide by zero encountered in log1p\n",
      "  np.log1p(X, out=X)\n",
      "/home/chrism/miniconda3/envs/xb/lib/python3.7/site-packages/scanpy/preprocessing/_utils.py:12: RuntimeWarning: invalid value encountered in subtract\n",
      "  var = mean_sq - mean**2\n",
      "/home/chrism/miniconda3/envs/xb/lib/python3.7/site-packages/scanpy/preprocessing/_simple.py:792: RuntimeWarning: invalid value encountered in subtract\n",
      "  X -= mean\n"
     ]
    },
    {
     "name": "stdout",
     "output_type": "stream",
     "text": [
      "21\n",
      "TrueTrueFalse[10, 100, 1000, None]\n",
      "22\n",
      "(9313, 51)\n"
     ]
    },
    {
     "name": "stderr",
     "output_type": "stream",
     "text": [
      "/home/chrism/miniconda3/envs/xb/lib/python3.7/site-packages/scanpy/preprocessing/_simple.py:843: UserWarning: Received a view of an AnnData. Making a copy.\n",
      "  view_to_actual(adata)\n"
     ]
    },
    {
     "name": "stdout",
     "output_type": "stream",
     "text": [
      "23\n",
      "(9313, 84)\n"
     ]
    },
    {
     "name": "stderr",
     "output_type": "stream",
     "text": [
      "/home/chrism/miniconda3/envs/xb/lib/python3.7/site-packages/scanpy/preprocessing/_simple.py:352: RuntimeWarning: divide by zero encountered in log1p\n",
      "  np.log1p(X, out=X)\n",
      "/home/chrism/miniconda3/envs/xb/lib/python3.7/site-packages/scanpy/preprocessing/_simple.py:843: UserWarning: Received a view of an AnnData. Making a copy.\n",
      "  view_to_actual(adata)\n",
      "/home/chrism/miniconda3/envs/xb/lib/python3.7/site-packages/scanpy/preprocessing/_simple.py:843: FutureWarning: X.dtype being converted to np.float32 from float64. In the next version of anndata (0.9) conversion will not be automatic. Pass dtype explicitly to avoid this warning. Pass `AnnData(X, dtype=X.dtype, ...)` to get the future behavour.\n",
      "  view_to_actual(adata)\n",
      "/home/chrism/miniconda3/envs/xb/lib/python3.7/site-packages/scanpy/preprocessing/_utils.py:12: RuntimeWarning: invalid value encountered in subtract\n",
      "  var = mean_sq - mean**2\n",
      "/home/chrism/miniconda3/envs/xb/lib/python3.7/site-packages/scanpy/preprocessing/_simple.py:792: RuntimeWarning: invalid value encountered in subtract\n",
      "  X -= mean\n"
     ]
    },
    {
     "name": "stdout",
     "output_type": "stream",
     "text": [
      "24\n",
      "TrueTrueTrue[10, 100, 1000, None]\n",
      "25\n",
      "(9313, 212)\n",
      "26\n",
      "(9313, 212)\n"
     ]
    },
    {
     "name": "stderr",
     "output_type": "stream",
     "text": [
      "/home/chrism/miniconda3/envs/xb/lib/python3.7/site-packages/scanpy/preprocessing/_simple.py:352: RuntimeWarning: divide by zero encountered in log1p\n",
      "  np.log1p(X, out=X)\n"
     ]
    },
    {
     "name": "stdout",
     "output_type": "stream",
     "text": [
      "27\n",
      "TrueFalseFalse[10, 100, 1000, None]\n",
      "28\n",
      "(9313, 51)\n"
     ]
    },
    {
     "name": "stderr",
     "output_type": "stream",
     "text": [
      "/home/chrism/git/Xenium_benchmarking/xb/simulating.py:314: ImplicitModificationWarning: Trying to modify attribute `.X` of view, initializing view as actual.\n",
      "  adata.X[adata.X==-np.inf]=0\n"
     ]
    },
    {
     "name": "stdout",
     "output_type": "stream",
     "text": [
      "29\n",
      "(9313, 84)\n"
     ]
    },
    {
     "name": "stderr",
     "output_type": "stream",
     "text": [
      "/home/chrism/miniconda3/envs/xb/lib/python3.7/site-packages/scanpy/preprocessing/_simple.py:352: RuntimeWarning: divide by zero encountered in log1p\n",
      "  np.log1p(X, out=X)\n",
      "/home/chrism/git/Xenium_benchmarking/xb/simulating.py:314: ImplicitModificationWarning: Trying to modify attribute `.X` of view, initializing view as actual.\n",
      "  adata.X[adata.X==-np.inf]=0\n",
      "/home/chrism/miniconda3/envs/xb/lib/python3.7/contextlib.py:119: FutureWarning: X.dtype being converted to np.float32 from float64. In the next version of anndata (0.9) conversion will not be automatic. Pass dtype explicitly to avoid this warning. Pass `AnnData(X, dtype=X.dtype, ...)` to get the future behavour.\n",
      "  next(self.gen)\n"
     ]
    },
    {
     "name": "stdout",
     "output_type": "stream",
     "text": [
      "30\n",
      "TrueFalseTrue[10, 100, 1000, None]\n",
      "31\n",
      "(9313, 212)\n",
      "32\n",
      "(9313, 212)\n"
     ]
    },
    {
     "name": "stderr",
     "output_type": "stream",
     "text": [
      "/home/chrism/miniconda3/envs/xb/lib/python3.7/site-packages/scanpy/preprocessing/_simple.py:352: RuntimeWarning: divide by zero encountered in log1p\n",
      "  np.log1p(X, out=X)\n",
      "/home/chrism/miniconda3/envs/xb/lib/python3.7/site-packages/scanpy/preprocessing/_utils.py:12: RuntimeWarning: invalid value encountered in subtract\n",
      "  var = mean_sq - mean**2\n",
      "/home/chrism/miniconda3/envs/xb/lib/python3.7/site-packages/scanpy/preprocessing/_simple.py:792: RuntimeWarning: invalid value encountered in subtract\n",
      "  X -= mean\n"
     ]
    },
    {
     "name": "stdout",
     "output_type": "stream",
     "text": [
      "33\n",
      "TrueTrueFalse[10, 100, 1000, None]\n",
      "34\n",
      "(9313, 51)\n"
     ]
    },
    {
     "name": "stderr",
     "output_type": "stream",
     "text": [
      "/home/chrism/miniconda3/envs/xb/lib/python3.7/site-packages/scanpy/preprocessing/_simple.py:843: UserWarning: Received a view of an AnnData. Making a copy.\n",
      "  view_to_actual(adata)\n"
     ]
    },
    {
     "name": "stdout",
     "output_type": "stream",
     "text": [
      "35\n",
      "(9313, 84)\n"
     ]
    },
    {
     "name": "stderr",
     "output_type": "stream",
     "text": [
      "/home/chrism/miniconda3/envs/xb/lib/python3.7/site-packages/scanpy/preprocessing/_simple.py:352: RuntimeWarning: divide by zero encountered in log1p\n",
      "  np.log1p(X, out=X)\n",
      "/home/chrism/miniconda3/envs/xb/lib/python3.7/site-packages/scanpy/preprocessing/_simple.py:843: UserWarning: Received a view of an AnnData. Making a copy.\n",
      "  view_to_actual(adata)\n",
      "/home/chrism/miniconda3/envs/xb/lib/python3.7/site-packages/scanpy/preprocessing/_simple.py:843: FutureWarning: X.dtype being converted to np.float32 from float64. In the next version of anndata (0.9) conversion will not be automatic. Pass dtype explicitly to avoid this warning. Pass `AnnData(X, dtype=X.dtype, ...)` to get the future behavour.\n",
      "  view_to_actual(adata)\n",
      "/home/chrism/miniconda3/envs/xb/lib/python3.7/site-packages/scanpy/preprocessing/_utils.py:12: RuntimeWarning: invalid value encountered in subtract\n",
      "  var = mean_sq - mean**2\n",
      "/home/chrism/miniconda3/envs/xb/lib/python3.7/site-packages/scanpy/preprocessing/_simple.py:792: RuntimeWarning: invalid value encountered in subtract\n",
      "  X -= mean\n"
     ]
    },
    {
     "name": "stdout",
     "output_type": "stream",
     "text": [
      "36\n",
      "TrueTrueTrue[10, 100, 1000, None]\n",
      "37\n",
      "(9313, 212)\n",
      "38\n",
      "(9313, 212)\n"
     ]
    },
    {
     "name": "stderr",
     "output_type": "stream",
     "text": [
      "/home/chrism/miniconda3/envs/xb/lib/python3.7/site-packages/scanpy/preprocessing/_simple.py:352: RuntimeWarning: divide by zero encountered in log1p\n",
      "  np.log1p(X, out=X)\n"
     ]
    },
    {
     "name": "stdout",
     "output_type": "stream",
     "text": [
      "39\n",
      "TrueFalseFalse[10, 100, 1000, None]\n",
      "40\n",
      "(9313, 51)\n"
     ]
    },
    {
     "name": "stderr",
     "output_type": "stream",
     "text": [
      "/home/chrism/git/Xenium_benchmarking/xb/simulating.py:314: ImplicitModificationWarning: Trying to modify attribute `.X` of view, initializing view as actual.\n",
      "  adata.X[adata.X==-np.inf]=0\n"
     ]
    },
    {
     "name": "stdout",
     "output_type": "stream",
     "text": [
      "41\n",
      "(9313, 84)\n"
     ]
    },
    {
     "name": "stderr",
     "output_type": "stream",
     "text": [
      "/home/chrism/miniconda3/envs/xb/lib/python3.7/site-packages/scanpy/preprocessing/_simple.py:352: RuntimeWarning: divide by zero encountered in log1p\n",
      "  np.log1p(X, out=X)\n",
      "/home/chrism/git/Xenium_benchmarking/xb/simulating.py:314: ImplicitModificationWarning: Trying to modify attribute `.X` of view, initializing view as actual.\n",
      "  adata.X[adata.X==-np.inf]=0\n",
      "/home/chrism/miniconda3/envs/xb/lib/python3.7/contextlib.py:119: FutureWarning: X.dtype being converted to np.float32 from float64. In the next version of anndata (0.9) conversion will not be automatic. Pass dtype explicitly to avoid this warning. Pass `AnnData(X, dtype=X.dtype, ...)` to get the future behavour.\n",
      "  next(self.gen)\n"
     ]
    },
    {
     "name": "stdout",
     "output_type": "stream",
     "text": [
      "42\n",
      "TrueFalseTrue[10, 100, 1000, None]\n",
      "43\n",
      "(9313, 212)\n",
      "44\n",
      "(9313, 212)\n"
     ]
    },
    {
     "name": "stderr",
     "output_type": "stream",
     "text": [
      "/home/chrism/miniconda3/envs/xb/lib/python3.7/site-packages/scanpy/preprocessing/_simple.py:352: RuntimeWarning: divide by zero encountered in log1p\n",
      "  np.log1p(X, out=X)\n",
      "/home/chrism/miniconda3/envs/xb/lib/python3.7/site-packages/scanpy/preprocessing/_utils.py:12: RuntimeWarning: invalid value encountered in subtract\n",
      "  var = mean_sq - mean**2\n",
      "/home/chrism/miniconda3/envs/xb/lib/python3.7/site-packages/scanpy/preprocessing/_simple.py:792: RuntimeWarning: invalid value encountered in subtract\n",
      "  X -= mean\n"
     ]
    },
    {
     "name": "stdout",
     "output_type": "stream",
     "text": [
      "45\n",
      "TrueTrueFalse[10, 100, 1000, None]\n",
      "46\n",
      "(9313, 51)\n"
     ]
    },
    {
     "name": "stderr",
     "output_type": "stream",
     "text": [
      "/home/chrism/miniconda3/envs/xb/lib/python3.7/site-packages/scanpy/preprocessing/_simple.py:843: UserWarning: Received a view of an AnnData. Making a copy.\n",
      "  view_to_actual(adata)\n"
     ]
    },
    {
     "name": "stdout",
     "output_type": "stream",
     "text": [
      "47\n",
      "(9313, 84)\n"
     ]
    },
    {
     "name": "stderr",
     "output_type": "stream",
     "text": [
      "/home/chrism/miniconda3/envs/xb/lib/python3.7/site-packages/scanpy/preprocessing/_simple.py:352: RuntimeWarning: divide by zero encountered in log1p\n",
      "  np.log1p(X, out=X)\n",
      "/home/chrism/miniconda3/envs/xb/lib/python3.7/site-packages/scanpy/preprocessing/_simple.py:843: UserWarning: Received a view of an AnnData. Making a copy.\n",
      "  view_to_actual(adata)\n",
      "/home/chrism/miniconda3/envs/xb/lib/python3.7/site-packages/scanpy/preprocessing/_simple.py:843: FutureWarning: X.dtype being converted to np.float32 from float64. In the next version of anndata (0.9) conversion will not be automatic. Pass dtype explicitly to avoid this warning. Pass `AnnData(X, dtype=X.dtype, ...)` to get the future behavour.\n",
      "  view_to_actual(adata)\n",
      "/home/chrism/miniconda3/envs/xb/lib/python3.7/site-packages/scanpy/preprocessing/_utils.py:12: RuntimeWarning: invalid value encountered in subtract\n",
      "  var = mean_sq - mean**2\n",
      "/home/chrism/miniconda3/envs/xb/lib/python3.7/site-packages/scanpy/preprocessing/_simple.py:792: RuntimeWarning: invalid value encountered in subtract\n",
      "  X -= mean\n"
     ]
    },
    {
     "name": "stdout",
     "output_type": "stream",
     "text": [
      "48\n",
      "TrueTrueTrue[10, 100, 1000, None]\n",
      "49\n",
      "(9313, 212)\n",
      "50\n",
      "(9313, 212)\n"
     ]
    },
    {
     "name": "stderr",
     "output_type": "stream",
     "text": [
      "/home/chrism/miniconda3/envs/xb/lib/python3.7/site-packages/scanpy/preprocessing/_simple.py:352: RuntimeWarning: divide by zero encountered in log1p\n",
      "  np.log1p(X, out=X)\n"
     ]
    },
    {
     "name": "stdout",
     "output_type": "stream",
     "text": [
      "51\n",
      "TrueFalseFalse[10, 100, 1000, None]\n",
      "52\n",
      "(9313, 51)\n"
     ]
    },
    {
     "name": "stderr",
     "output_type": "stream",
     "text": [
      "/home/chrism/git/Xenium_benchmarking/xb/simulating.py:314: ImplicitModificationWarning: Trying to modify attribute `.X` of view, initializing view as actual.\n",
      "  adata.X[adata.X==-np.inf]=0\n"
     ]
    },
    {
     "name": "stdout",
     "output_type": "stream",
     "text": [
      "53\n",
      "(9313, 84)\n"
     ]
    },
    {
     "name": "stderr",
     "output_type": "stream",
     "text": [
      "/home/chrism/miniconda3/envs/xb/lib/python3.7/site-packages/scanpy/preprocessing/_simple.py:352: RuntimeWarning: divide by zero encountered in log1p\n",
      "  np.log1p(X, out=X)\n",
      "/home/chrism/git/Xenium_benchmarking/xb/simulating.py:314: ImplicitModificationWarning: Trying to modify attribute `.X` of view, initializing view as actual.\n",
      "  adata.X[adata.X==-np.inf]=0\n",
      "/home/chrism/miniconda3/envs/xb/lib/python3.7/contextlib.py:119: FutureWarning: X.dtype being converted to np.float32 from float64. In the next version of anndata (0.9) conversion will not be automatic. Pass dtype explicitly to avoid this warning. Pass `AnnData(X, dtype=X.dtype, ...)` to get the future behavour.\n",
      "  next(self.gen)\n"
     ]
    },
    {
     "name": "stdout",
     "output_type": "stream",
     "text": [
      "54\n",
      "TrueFalseTrue[10, 100, 1000, None]\n",
      "55\n",
      "(9313, 212)\n",
      "56\n",
      "(9313, 212)\n"
     ]
    },
    {
     "name": "stderr",
     "output_type": "stream",
     "text": [
      "/home/chrism/miniconda3/envs/xb/lib/python3.7/site-packages/scanpy/preprocessing/_simple.py:352: RuntimeWarning: divide by zero encountered in log1p\n",
      "  np.log1p(X, out=X)\n",
      "/home/chrism/miniconda3/envs/xb/lib/python3.7/site-packages/scanpy/preprocessing/_utils.py:12: RuntimeWarning: invalid value encountered in subtract\n",
      "  var = mean_sq - mean**2\n",
      "/home/chrism/miniconda3/envs/xb/lib/python3.7/site-packages/scanpy/preprocessing/_simple.py:792: RuntimeWarning: invalid value encountered in subtract\n",
      "  X -= mean\n"
     ]
    },
    {
     "name": "stdout",
     "output_type": "stream",
     "text": [
      "57\n",
      "TrueTrueFalse[10, 100, 1000, None]\n",
      "58\n",
      "(9313, 51)\n"
     ]
    },
    {
     "name": "stderr",
     "output_type": "stream",
     "text": [
      "/home/chrism/miniconda3/envs/xb/lib/python3.7/site-packages/scanpy/preprocessing/_simple.py:843: UserWarning: Received a view of an AnnData. Making a copy.\n",
      "  view_to_actual(adata)\n"
     ]
    },
    {
     "name": "stdout",
     "output_type": "stream",
     "text": [
      "59\n",
      "(9313, 84)\n"
     ]
    },
    {
     "name": "stderr",
     "output_type": "stream",
     "text": [
      "/home/chrism/miniconda3/envs/xb/lib/python3.7/site-packages/scanpy/preprocessing/_simple.py:352: RuntimeWarning: divide by zero encountered in log1p\n",
      "  np.log1p(X, out=X)\n",
      "/home/chrism/miniconda3/envs/xb/lib/python3.7/site-packages/scanpy/preprocessing/_simple.py:843: UserWarning: Received a view of an AnnData. Making a copy.\n",
      "  view_to_actual(adata)\n",
      "/home/chrism/miniconda3/envs/xb/lib/python3.7/site-packages/scanpy/preprocessing/_simple.py:843: FutureWarning: X.dtype being converted to np.float32 from float64. In the next version of anndata (0.9) conversion will not be automatic. Pass dtype explicitly to avoid this warning. Pass `AnnData(X, dtype=X.dtype, ...)` to get the future behavour.\n",
      "  view_to_actual(adata)\n",
      "/home/chrism/miniconda3/envs/xb/lib/python3.7/site-packages/scanpy/preprocessing/_utils.py:12: RuntimeWarning: invalid value encountered in subtract\n",
      "  var = mean_sq - mean**2\n",
      "/home/chrism/miniconda3/envs/xb/lib/python3.7/site-packages/scanpy/preprocessing/_simple.py:792: RuntimeWarning: invalid value encountered in subtract\n",
      "  X -= mean\n"
     ]
    },
    {
     "name": "stdout",
     "output_type": "stream",
     "text": [
      "60\n",
      "TrueTrueTrue[10, 100, 1000, None]\n",
      "61\n",
      "(9313, 212)\n",
      "62\n",
      "(9313, 212)\n"
     ]
    },
    {
     "name": "stderr",
     "output_type": "stream",
     "text": [
      "/home/chrism/miniconda3/envs/xb/lib/python3.7/site-packages/scanpy/preprocessing/_simple.py:352: RuntimeWarning: divide by zero encountered in log1p\n",
      "  np.log1p(X, out=X)\n"
     ]
    },
    {
     "name": "stdout",
     "output_type": "stream",
     "text": [
      "63\n",
      "TrueFalseFalse[10, 100, 1000, None]\n",
      "64\n",
      "(9313, 51)\n"
     ]
    },
    {
     "name": "stderr",
     "output_type": "stream",
     "text": [
      "/home/chrism/git/Xenium_benchmarking/xb/simulating.py:314: ImplicitModificationWarning: Trying to modify attribute `.X` of view, initializing view as actual.\n",
      "  adata.X[adata.X==-np.inf]=0\n"
     ]
    },
    {
     "name": "stdout",
     "output_type": "stream",
     "text": [
      "65\n",
      "(9313, 84)\n"
     ]
    },
    {
     "name": "stderr",
     "output_type": "stream",
     "text": [
      "/home/chrism/miniconda3/envs/xb/lib/python3.7/site-packages/scanpy/preprocessing/_simple.py:352: RuntimeWarning: divide by zero encountered in log1p\n",
      "  np.log1p(X, out=X)\n",
      "/home/chrism/git/Xenium_benchmarking/xb/simulating.py:314: ImplicitModificationWarning: Trying to modify attribute `.X` of view, initializing view as actual.\n",
      "  adata.X[adata.X==-np.inf]=0\n",
      "/home/chrism/miniconda3/envs/xb/lib/python3.7/contextlib.py:119: FutureWarning: X.dtype being converted to np.float32 from float64. In the next version of anndata (0.9) conversion will not be automatic. Pass dtype explicitly to avoid this warning. Pass `AnnData(X, dtype=X.dtype, ...)` to get the future behavour.\n",
      "  next(self.gen)\n"
     ]
    },
    {
     "name": "stdout",
     "output_type": "stream",
     "text": [
      "66\n",
      "TrueFalseTrue[10, 100, 1000, None]\n",
      "67\n",
      "(9313, 212)\n",
      "68\n",
      "(9313, 212)\n"
     ]
    },
    {
     "name": "stderr",
     "output_type": "stream",
     "text": [
      "/home/chrism/miniconda3/envs/xb/lib/python3.7/site-packages/scanpy/preprocessing/_simple.py:352: RuntimeWarning: divide by zero encountered in log1p\n",
      "  np.log1p(X, out=X)\n",
      "/home/chrism/miniconda3/envs/xb/lib/python3.7/site-packages/scanpy/preprocessing/_utils.py:12: RuntimeWarning: invalid value encountered in subtract\n",
      "  var = mean_sq - mean**2\n",
      "/home/chrism/miniconda3/envs/xb/lib/python3.7/site-packages/scanpy/preprocessing/_simple.py:792: RuntimeWarning: invalid value encountered in subtract\n",
      "  X -= mean\n"
     ]
    },
    {
     "name": "stdout",
     "output_type": "stream",
     "text": [
      "69\n",
      "TrueTrueFalse[10, 100, 1000, None]\n",
      "70\n",
      "(9313, 51)\n"
     ]
    },
    {
     "name": "stderr",
     "output_type": "stream",
     "text": [
      "/home/chrism/miniconda3/envs/xb/lib/python3.7/site-packages/scanpy/preprocessing/_simple.py:843: UserWarning: Received a view of an AnnData. Making a copy.\n",
      "  view_to_actual(adata)\n"
     ]
    },
    {
     "name": "stdout",
     "output_type": "stream",
     "text": [
      "71\n",
      "(9313, 84)\n"
     ]
    },
    {
     "name": "stderr",
     "output_type": "stream",
     "text": [
      "/home/chrism/miniconda3/envs/xb/lib/python3.7/site-packages/scanpy/preprocessing/_simple.py:352: RuntimeWarning: divide by zero encountered in log1p\n",
      "  np.log1p(X, out=X)\n",
      "/home/chrism/miniconda3/envs/xb/lib/python3.7/site-packages/scanpy/preprocessing/_simple.py:843: UserWarning: Received a view of an AnnData. Making a copy.\n",
      "  view_to_actual(adata)\n",
      "/home/chrism/miniconda3/envs/xb/lib/python3.7/site-packages/scanpy/preprocessing/_simple.py:843: FutureWarning: X.dtype being converted to np.float32 from float64. In the next version of anndata (0.9) conversion will not be automatic. Pass dtype explicitly to avoid this warning. Pass `AnnData(X, dtype=X.dtype, ...)` to get the future behavour.\n",
      "  view_to_actual(adata)\n",
      "/home/chrism/miniconda3/envs/xb/lib/python3.7/site-packages/scanpy/preprocessing/_utils.py:12: RuntimeWarning: invalid value encountered in subtract\n",
      "  var = mean_sq - mean**2\n",
      "/home/chrism/miniconda3/envs/xb/lib/python3.7/site-packages/scanpy/preprocessing/_simple.py:792: RuntimeWarning: invalid value encountered in subtract\n",
      "  X -= mean\n"
     ]
    },
    {
     "name": "stdout",
     "output_type": "stream",
     "text": [
      "72\n",
      "TrueTrueTrue[10, 100, 1000, None]\n",
      "73\n",
      "(9313, 212)\n",
      "74\n",
      "(9313, 212)\n"
     ]
    },
    {
     "name": "stderr",
     "output_type": "stream",
     "text": [
      "/home/chrism/miniconda3/envs/xb/lib/python3.7/site-packages/scanpy/preprocessing/_simple.py:352: RuntimeWarning: divide by zero encountered in log1p\n",
      "  np.log1p(X, out=X)\n"
     ]
    },
    {
     "name": "stdout",
     "output_type": "stream",
     "text": [
      "75\n",
      "TrueFalseFalse[10, 100, 1000, None]\n",
      "76\n",
      "(9313, 74)\n"
     ]
    },
    {
     "name": "stderr",
     "output_type": "stream",
     "text": [
      "/home/chrism/git/Xenium_benchmarking/xb/simulating.py:314: ImplicitModificationWarning: Trying to modify attribute `.X` of view, initializing view as actual.\n",
      "  adata.X[adata.X==-np.inf]=0\n"
     ]
    },
    {
     "name": "stdout",
     "output_type": "stream",
     "text": [
      "77\n",
      "(9313, 84)\n"
     ]
    },
    {
     "name": "stderr",
     "output_type": "stream",
     "text": [
      "/home/chrism/miniconda3/envs/xb/lib/python3.7/site-packages/scanpy/preprocessing/_simple.py:352: RuntimeWarning: divide by zero encountered in log1p\n",
      "  np.log1p(X, out=X)\n",
      "/home/chrism/git/Xenium_benchmarking/xb/simulating.py:314: ImplicitModificationWarning: Trying to modify attribute `.X` of view, initializing view as actual.\n",
      "  adata.X[adata.X==-np.inf]=0\n",
      "/home/chrism/miniconda3/envs/xb/lib/python3.7/contextlib.py:119: FutureWarning: X.dtype being converted to np.float32 from float64. In the next version of anndata (0.9) conversion will not be automatic. Pass dtype explicitly to avoid this warning. Pass `AnnData(X, dtype=X.dtype, ...)` to get the future behavour.\n",
      "  next(self.gen)\n"
     ]
    },
    {
     "name": "stdout",
     "output_type": "stream",
     "text": [
      "78\n",
      "TrueFalseTrue[10, 100, 1000, None]\n",
      "79\n",
      "(9313, 212)\n",
      "80\n",
      "(9313, 212)\n"
     ]
    },
    {
     "name": "stderr",
     "output_type": "stream",
     "text": [
      "/home/chrism/miniconda3/envs/xb/lib/python3.7/site-packages/scanpy/preprocessing/_simple.py:352: RuntimeWarning: divide by zero encountered in log1p\n",
      "  np.log1p(X, out=X)\n",
      "/home/chrism/miniconda3/envs/xb/lib/python3.7/site-packages/scanpy/preprocessing/_utils.py:12: RuntimeWarning: invalid value encountered in subtract\n",
      "  var = mean_sq - mean**2\n",
      "/home/chrism/miniconda3/envs/xb/lib/python3.7/site-packages/scanpy/preprocessing/_simple.py:792: RuntimeWarning: invalid value encountered in subtract\n",
      "  X -= mean\n"
     ]
    },
    {
     "name": "stdout",
     "output_type": "stream",
     "text": [
      "81\n",
      "TrueTrueFalse[10, 100, 1000, None]\n",
      "82\n",
      "(9313, 74)\n"
     ]
    },
    {
     "name": "stderr",
     "output_type": "stream",
     "text": [
      "/home/chrism/miniconda3/envs/xb/lib/python3.7/site-packages/scanpy/preprocessing/_simple.py:843: UserWarning: Received a view of an AnnData. Making a copy.\n",
      "  view_to_actual(adata)\n"
     ]
    },
    {
     "name": "stdout",
     "output_type": "stream",
     "text": [
      "83\n",
      "(9313, 84)\n"
     ]
    },
    {
     "name": "stderr",
     "output_type": "stream",
     "text": [
      "/home/chrism/miniconda3/envs/xb/lib/python3.7/site-packages/scanpy/preprocessing/_simple.py:352: RuntimeWarning: divide by zero encountered in log1p\n",
      "  np.log1p(X, out=X)\n",
      "/home/chrism/miniconda3/envs/xb/lib/python3.7/site-packages/scanpy/preprocessing/_simple.py:843: UserWarning: Received a view of an AnnData. Making a copy.\n",
      "  view_to_actual(adata)\n",
      "/home/chrism/miniconda3/envs/xb/lib/python3.7/site-packages/scanpy/preprocessing/_simple.py:843: FutureWarning: X.dtype being converted to np.float32 from float64. In the next version of anndata (0.9) conversion will not be automatic. Pass dtype explicitly to avoid this warning. Pass `AnnData(X, dtype=X.dtype, ...)` to get the future behavour.\n",
      "  view_to_actual(adata)\n",
      "/home/chrism/miniconda3/envs/xb/lib/python3.7/site-packages/scanpy/preprocessing/_utils.py:12: RuntimeWarning: invalid value encountered in subtract\n",
      "  var = mean_sq - mean**2\n",
      "/home/chrism/miniconda3/envs/xb/lib/python3.7/site-packages/scanpy/preprocessing/_simple.py:792: RuntimeWarning: invalid value encountered in subtract\n",
      "  X -= mean\n"
     ]
    },
    {
     "name": "stdout",
     "output_type": "stream",
     "text": [
      "84\n",
      "TrueTrueTrue[10, 100, 1000, None]\n",
      "85\n",
      "(9313, 212)\n",
      "86\n",
      "(9313, 212)\n"
     ]
    },
    {
     "name": "stderr",
     "output_type": "stream",
     "text": [
      "/home/chrism/miniconda3/envs/xb/lib/python3.7/site-packages/scanpy/preprocessing/_simple.py:352: RuntimeWarning: divide by zero encountered in log1p\n",
      "  np.log1p(X, out=X)\n"
     ]
    },
    {
     "name": "stdout",
     "output_type": "stream",
     "text": [
      "87\n",
      "TrueFalseFalse[10, 100, 1000, None]\n",
      "88\n",
      "(9313, 74)\n"
     ]
    },
    {
     "name": "stderr",
     "output_type": "stream",
     "text": [
      "/home/chrism/git/Xenium_benchmarking/xb/simulating.py:314: ImplicitModificationWarning: Trying to modify attribute `.X` of view, initializing view as actual.\n",
      "  adata.X[adata.X==-np.inf]=0\n"
     ]
    },
    {
     "name": "stdout",
     "output_type": "stream",
     "text": [
      "89\n",
      "(9313, 84)\n"
     ]
    },
    {
     "name": "stderr",
     "output_type": "stream",
     "text": [
      "/home/chrism/miniconda3/envs/xb/lib/python3.7/site-packages/scanpy/preprocessing/_simple.py:352: RuntimeWarning: divide by zero encountered in log1p\n",
      "  np.log1p(X, out=X)\n",
      "/home/chrism/git/Xenium_benchmarking/xb/simulating.py:314: ImplicitModificationWarning: Trying to modify attribute `.X` of view, initializing view as actual.\n",
      "  adata.X[adata.X==-np.inf]=0\n",
      "/home/chrism/miniconda3/envs/xb/lib/python3.7/contextlib.py:119: FutureWarning: X.dtype being converted to np.float32 from float64. In the next version of anndata (0.9) conversion will not be automatic. Pass dtype explicitly to avoid this warning. Pass `AnnData(X, dtype=X.dtype, ...)` to get the future behavour.\n",
      "  next(self.gen)\n"
     ]
    },
    {
     "name": "stdout",
     "output_type": "stream",
     "text": [
      "90\n",
      "TrueFalseTrue[10, 100, 1000, None]\n",
      "91\n",
      "(9313, 212)\n",
      "92\n",
      "(9313, 212)\n"
     ]
    },
    {
     "name": "stderr",
     "output_type": "stream",
     "text": [
      "/home/chrism/miniconda3/envs/xb/lib/python3.7/site-packages/scanpy/preprocessing/_simple.py:352: RuntimeWarning: divide by zero encountered in log1p\n",
      "  np.log1p(X, out=X)\n",
      "/home/chrism/miniconda3/envs/xb/lib/python3.7/site-packages/scanpy/preprocessing/_utils.py:12: RuntimeWarning: invalid value encountered in subtract\n",
      "  var = mean_sq - mean**2\n",
      "/home/chrism/miniconda3/envs/xb/lib/python3.7/site-packages/scanpy/preprocessing/_simple.py:792: RuntimeWarning: invalid value encountered in subtract\n",
      "  X -= mean\n"
     ]
    },
    {
     "name": "stdout",
     "output_type": "stream",
     "text": [
      "93\n",
      "TrueTrueFalse[10, 100, 1000, None]\n",
      "94\n",
      "(9313, 74)\n"
     ]
    },
    {
     "name": "stderr",
     "output_type": "stream",
     "text": [
      "/home/chrism/miniconda3/envs/xb/lib/python3.7/site-packages/scanpy/preprocessing/_simple.py:843: UserWarning: Received a view of an AnnData. Making a copy.\n",
      "  view_to_actual(adata)\n"
     ]
    },
    {
     "name": "stdout",
     "output_type": "stream",
     "text": [
      "95\n",
      "(9313, 84)\n"
     ]
    },
    {
     "name": "stderr",
     "output_type": "stream",
     "text": [
      "/home/chrism/miniconda3/envs/xb/lib/python3.7/site-packages/scanpy/preprocessing/_simple.py:352: RuntimeWarning: divide by zero encountered in log1p\n",
      "  np.log1p(X, out=X)\n",
      "/home/chrism/miniconda3/envs/xb/lib/python3.7/site-packages/scanpy/preprocessing/_simple.py:843: UserWarning: Received a view of an AnnData. Making a copy.\n",
      "  view_to_actual(adata)\n",
      "/home/chrism/miniconda3/envs/xb/lib/python3.7/site-packages/scanpy/preprocessing/_simple.py:843: FutureWarning: X.dtype being converted to np.float32 from float64. In the next version of anndata (0.9) conversion will not be automatic. Pass dtype explicitly to avoid this warning. Pass `AnnData(X, dtype=X.dtype, ...)` to get the future behavour.\n",
      "  view_to_actual(adata)\n",
      "/home/chrism/miniconda3/envs/xb/lib/python3.7/site-packages/scanpy/preprocessing/_utils.py:12: RuntimeWarning: invalid value encountered in subtract\n",
      "  var = mean_sq - mean**2\n",
      "/home/chrism/miniconda3/envs/xb/lib/python3.7/site-packages/scanpy/preprocessing/_simple.py:792: RuntimeWarning: invalid value encountered in subtract\n",
      "  X -= mean\n"
     ]
    },
    {
     "name": "stdout",
     "output_type": "stream",
     "text": [
      "96\n",
      "TrueTrueTrue[10, 100, 1000, None]\n",
      "97\n",
      "(9313, 212)\n",
      "98\n",
      "(9313, 212)\n"
     ]
    },
    {
     "name": "stderr",
     "output_type": "stream",
     "text": [
      "/home/chrism/miniconda3/envs/xb/lib/python3.7/site-packages/scanpy/preprocessing/_simple.py:352: RuntimeWarning: divide by zero encountered in log1p\n",
      "  np.log1p(X, out=X)\n"
     ]
    },
    {
     "name": "stdout",
     "output_type": "stream",
     "text": [
      "99\n",
      "TrueFalseFalse[10, 100, 1000, None]\n",
      "100\n",
      "(9313, 74)\n"
     ]
    },
    {
     "name": "stderr",
     "output_type": "stream",
     "text": [
      "/home/chrism/git/Xenium_benchmarking/xb/simulating.py:314: ImplicitModificationWarning: Trying to modify attribute `.X` of view, initializing view as actual.\n",
      "  adata.X[adata.X==-np.inf]=0\n"
     ]
    },
    {
     "name": "stdout",
     "output_type": "stream",
     "text": [
      "101\n",
      "(9313, 84)\n"
     ]
    },
    {
     "name": "stderr",
     "output_type": "stream",
     "text": [
      "/home/chrism/miniconda3/envs/xb/lib/python3.7/site-packages/scanpy/preprocessing/_simple.py:352: RuntimeWarning: divide by zero encountered in log1p\n",
      "  np.log1p(X, out=X)\n",
      "/home/chrism/git/Xenium_benchmarking/xb/simulating.py:314: ImplicitModificationWarning: Trying to modify attribute `.X` of view, initializing view as actual.\n",
      "  adata.X[adata.X==-np.inf]=0\n",
      "/home/chrism/miniconda3/envs/xb/lib/python3.7/contextlib.py:119: FutureWarning: X.dtype being converted to np.float32 from float64. In the next version of anndata (0.9) conversion will not be automatic. Pass dtype explicitly to avoid this warning. Pass `AnnData(X, dtype=X.dtype, ...)` to get the future behavour.\n",
      "  next(self.gen)\n"
     ]
    },
    {
     "name": "stdout",
     "output_type": "stream",
     "text": [
      "102\n",
      "TrueFalseTrue[10, 100, 1000, None]\n",
      "103\n",
      "(9313, 212)\n",
      "104\n",
      "(9313, 212)\n"
     ]
    },
    {
     "name": "stderr",
     "output_type": "stream",
     "text": [
      "/home/chrism/miniconda3/envs/xb/lib/python3.7/site-packages/scanpy/preprocessing/_simple.py:352: RuntimeWarning: divide by zero encountered in log1p\n",
      "  np.log1p(X, out=X)\n",
      "/home/chrism/miniconda3/envs/xb/lib/python3.7/site-packages/scanpy/preprocessing/_utils.py:12: RuntimeWarning: invalid value encountered in subtract\n",
      "  var = mean_sq - mean**2\n",
      "/home/chrism/miniconda3/envs/xb/lib/python3.7/site-packages/scanpy/preprocessing/_simple.py:792: RuntimeWarning: invalid value encountered in subtract\n",
      "  X -= mean\n"
     ]
    },
    {
     "name": "stdout",
     "output_type": "stream",
     "text": [
      "105\n",
      "TrueTrueFalse[10, 100, 1000, None]\n",
      "106\n",
      "(9313, 74)\n"
     ]
    },
    {
     "name": "stderr",
     "output_type": "stream",
     "text": [
      "/home/chrism/miniconda3/envs/xb/lib/python3.7/site-packages/scanpy/preprocessing/_simple.py:843: UserWarning: Received a view of an AnnData. Making a copy.\n",
      "  view_to_actual(adata)\n"
     ]
    },
    {
     "name": "stdout",
     "output_type": "stream",
     "text": [
      "107\n",
      "(9313, 84)\n"
     ]
    },
    {
     "name": "stderr",
     "output_type": "stream",
     "text": [
      "/home/chrism/miniconda3/envs/xb/lib/python3.7/site-packages/scanpy/preprocessing/_simple.py:352: RuntimeWarning: divide by zero encountered in log1p\n",
      "  np.log1p(X, out=X)\n",
      "/home/chrism/miniconda3/envs/xb/lib/python3.7/site-packages/scanpy/preprocessing/_simple.py:843: UserWarning: Received a view of an AnnData. Making a copy.\n",
      "  view_to_actual(adata)\n",
      "/home/chrism/miniconda3/envs/xb/lib/python3.7/site-packages/scanpy/preprocessing/_simple.py:843: FutureWarning: X.dtype being converted to np.float32 from float64. In the next version of anndata (0.9) conversion will not be automatic. Pass dtype explicitly to avoid this warning. Pass `AnnData(X, dtype=X.dtype, ...)` to get the future behavour.\n",
      "  view_to_actual(adata)\n",
      "/home/chrism/miniconda3/envs/xb/lib/python3.7/site-packages/scanpy/preprocessing/_utils.py:12: RuntimeWarning: invalid value encountered in subtract\n",
      "  var = mean_sq - mean**2\n",
      "/home/chrism/miniconda3/envs/xb/lib/python3.7/site-packages/scanpy/preprocessing/_simple.py:792: RuntimeWarning: invalid value encountered in subtract\n",
      "  X -= mean\n"
     ]
    },
    {
     "name": "stdout",
     "output_type": "stream",
     "text": [
      "108\n",
      "TrueTrueTrue[10, 100, 1000, None]\n",
      "109\n",
      "(9313, 212)\n",
      "110\n",
      "(9313, 212)\n"
     ]
    },
    {
     "name": "stderr",
     "output_type": "stream",
     "text": [
      "/home/chrism/miniconda3/envs/xb/lib/python3.7/site-packages/scanpy/preprocessing/_simple.py:352: RuntimeWarning: divide by zero encountered in log1p\n",
      "  np.log1p(X, out=X)\n"
     ]
    },
    {
     "name": "stdout",
     "output_type": "stream",
     "text": [
      "111\n",
      "TrueFalseFalse[10, 100, 1000, None]\n",
      "112\n",
      "(9313, 74)\n"
     ]
    },
    {
     "name": "stderr",
     "output_type": "stream",
     "text": [
      "/home/chrism/git/Xenium_benchmarking/xb/simulating.py:314: ImplicitModificationWarning: Trying to modify attribute `.X` of view, initializing view as actual.\n",
      "  adata.X[adata.X==-np.inf]=0\n"
     ]
    },
    {
     "name": "stdout",
     "output_type": "stream",
     "text": [
      "113\n",
      "(9313, 84)\n"
     ]
    },
    {
     "name": "stderr",
     "output_type": "stream",
     "text": [
      "/home/chrism/miniconda3/envs/xb/lib/python3.7/site-packages/scanpy/preprocessing/_simple.py:352: RuntimeWarning: divide by zero encountered in log1p\n",
      "  np.log1p(X, out=X)\n",
      "/home/chrism/git/Xenium_benchmarking/xb/simulating.py:314: ImplicitModificationWarning: Trying to modify attribute `.X` of view, initializing view as actual.\n",
      "  adata.X[adata.X==-np.inf]=0\n",
      "/home/chrism/miniconda3/envs/xb/lib/python3.7/contextlib.py:119: FutureWarning: X.dtype being converted to np.float32 from float64. In the next version of anndata (0.9) conversion will not be automatic. Pass dtype explicitly to avoid this warning. Pass `AnnData(X, dtype=X.dtype, ...)` to get the future behavour.\n",
      "  next(self.gen)\n"
     ]
    },
    {
     "name": "stdout",
     "output_type": "stream",
     "text": [
      "114\n",
      "TrueFalseTrue[10, 100, 1000, None]\n",
      "115\n",
      "(9313, 212)\n",
      "116\n",
      "(9313, 212)\n"
     ]
    },
    {
     "name": "stderr",
     "output_type": "stream",
     "text": [
      "/home/chrism/miniconda3/envs/xb/lib/python3.7/site-packages/scanpy/preprocessing/_simple.py:352: RuntimeWarning: divide by zero encountered in log1p\n",
      "  np.log1p(X, out=X)\n",
      "/home/chrism/miniconda3/envs/xb/lib/python3.7/site-packages/scanpy/preprocessing/_utils.py:12: RuntimeWarning: invalid value encountered in subtract\n",
      "  var = mean_sq - mean**2\n",
      "/home/chrism/miniconda3/envs/xb/lib/python3.7/site-packages/scanpy/preprocessing/_simple.py:792: RuntimeWarning: invalid value encountered in subtract\n",
      "  X -= mean\n"
     ]
    },
    {
     "name": "stdout",
     "output_type": "stream",
     "text": [
      "117\n",
      "TrueTrueFalse[10, 100, 1000, None]\n",
      "118\n",
      "(9313, 74)\n"
     ]
    },
    {
     "name": "stderr",
     "output_type": "stream",
     "text": [
      "/home/chrism/miniconda3/envs/xb/lib/python3.7/site-packages/scanpy/preprocessing/_simple.py:843: UserWarning: Received a view of an AnnData. Making a copy.\n",
      "  view_to_actual(adata)\n"
     ]
    },
    {
     "name": "stdout",
     "output_type": "stream",
     "text": [
      "119\n",
      "(9313, 84)\n"
     ]
    },
    {
     "name": "stderr",
     "output_type": "stream",
     "text": [
      "/home/chrism/miniconda3/envs/xb/lib/python3.7/site-packages/scanpy/preprocessing/_simple.py:352: RuntimeWarning: divide by zero encountered in log1p\n",
      "  np.log1p(X, out=X)\n",
      "/home/chrism/miniconda3/envs/xb/lib/python3.7/site-packages/scanpy/preprocessing/_simple.py:843: UserWarning: Received a view of an AnnData. Making a copy.\n",
      "  view_to_actual(adata)\n",
      "/home/chrism/miniconda3/envs/xb/lib/python3.7/site-packages/scanpy/preprocessing/_simple.py:843: FutureWarning: X.dtype being converted to np.float32 from float64. In the next version of anndata (0.9) conversion will not be automatic. Pass dtype explicitly to avoid this warning. Pass `AnnData(X, dtype=X.dtype, ...)` to get the future behavour.\n",
      "  view_to_actual(adata)\n",
      "/home/chrism/miniconda3/envs/xb/lib/python3.7/site-packages/scanpy/preprocessing/_utils.py:12: RuntimeWarning: invalid value encountered in subtract\n",
      "  var = mean_sq - mean**2\n",
      "/home/chrism/miniconda3/envs/xb/lib/python3.7/site-packages/scanpy/preprocessing/_simple.py:792: RuntimeWarning: invalid value encountered in subtract\n",
      "  X -= mean\n"
     ]
    },
    {
     "name": "stdout",
     "output_type": "stream",
     "text": [
      "120\n",
      "TrueTrueTrue[10, 100, 1000, None]\n",
      "121\n",
      "(9313, 212)\n",
      "122\n",
      "(9313, 212)\n"
     ]
    },
    {
     "name": "stderr",
     "output_type": "stream",
     "text": [
      "/home/chrism/miniconda3/envs/xb/lib/python3.7/site-packages/scanpy/preprocessing/_simple.py:352: RuntimeWarning: divide by zero encountered in log1p\n",
      "  np.log1p(X, out=X)\n"
     ]
    },
    {
     "name": "stdout",
     "output_type": "stream",
     "text": [
      "123\n",
      "TrueFalseFalse[10, 100, 1000, None]\n",
      "124\n",
      "(9313, 74)\n"
     ]
    },
    {
     "name": "stderr",
     "output_type": "stream",
     "text": [
      "/home/chrism/git/Xenium_benchmarking/xb/simulating.py:314: ImplicitModificationWarning: Trying to modify attribute `.X` of view, initializing view as actual.\n",
      "  adata.X[adata.X==-np.inf]=0\n"
     ]
    },
    {
     "name": "stdout",
     "output_type": "stream",
     "text": [
      "125\n",
      "(9313, 84)\n"
     ]
    },
    {
     "name": "stderr",
     "output_type": "stream",
     "text": [
      "/home/chrism/miniconda3/envs/xb/lib/python3.7/site-packages/scanpy/preprocessing/_simple.py:352: RuntimeWarning: divide by zero encountered in log1p\n",
      "  np.log1p(X, out=X)\n",
      "/home/chrism/git/Xenium_benchmarking/xb/simulating.py:314: ImplicitModificationWarning: Trying to modify attribute `.X` of view, initializing view as actual.\n",
      "  adata.X[adata.X==-np.inf]=0\n",
      "/home/chrism/miniconda3/envs/xb/lib/python3.7/contextlib.py:119: FutureWarning: X.dtype being converted to np.float32 from float64. In the next version of anndata (0.9) conversion will not be automatic. Pass dtype explicitly to avoid this warning. Pass `AnnData(X, dtype=X.dtype, ...)` to get the future behavour.\n",
      "  next(self.gen)\n"
     ]
    },
    {
     "name": "stdout",
     "output_type": "stream",
     "text": [
      "126\n",
      "TrueFalseTrue[10, 100, 1000, None]\n",
      "127\n",
      "(9313, 212)\n",
      "128\n",
      "(9313, 212)\n"
     ]
    },
    {
     "name": "stderr",
     "output_type": "stream",
     "text": [
      "/home/chrism/miniconda3/envs/xb/lib/python3.7/site-packages/scanpy/preprocessing/_simple.py:352: RuntimeWarning: divide by zero encountered in log1p\n",
      "  np.log1p(X, out=X)\n",
      "/home/chrism/miniconda3/envs/xb/lib/python3.7/site-packages/scanpy/preprocessing/_utils.py:12: RuntimeWarning: invalid value encountered in subtract\n",
      "  var = mean_sq - mean**2\n",
      "/home/chrism/miniconda3/envs/xb/lib/python3.7/site-packages/scanpy/preprocessing/_simple.py:792: RuntimeWarning: invalid value encountered in subtract\n",
      "  X -= mean\n"
     ]
    },
    {
     "name": "stdout",
     "output_type": "stream",
     "text": [
      "129\n",
      "TrueTrueFalse[10, 100, 1000, None]\n",
      "130\n",
      "(9313, 74)\n"
     ]
    },
    {
     "name": "stderr",
     "output_type": "stream",
     "text": [
      "/home/chrism/miniconda3/envs/xb/lib/python3.7/site-packages/scanpy/preprocessing/_simple.py:843: UserWarning: Received a view of an AnnData. Making a copy.\n",
      "  view_to_actual(adata)\n"
     ]
    },
    {
     "name": "stdout",
     "output_type": "stream",
     "text": [
      "131\n",
      "(9313, 84)\n"
     ]
    },
    {
     "name": "stderr",
     "output_type": "stream",
     "text": [
      "/home/chrism/miniconda3/envs/xb/lib/python3.7/site-packages/scanpy/preprocessing/_simple.py:352: RuntimeWarning: divide by zero encountered in log1p\n",
      "  np.log1p(X, out=X)\n",
      "/home/chrism/miniconda3/envs/xb/lib/python3.7/site-packages/scanpy/preprocessing/_simple.py:843: UserWarning: Received a view of an AnnData. Making a copy.\n",
      "  view_to_actual(adata)\n",
      "/home/chrism/miniconda3/envs/xb/lib/python3.7/site-packages/scanpy/preprocessing/_simple.py:843: FutureWarning: X.dtype being converted to np.float32 from float64. In the next version of anndata (0.9) conversion will not be automatic. Pass dtype explicitly to avoid this warning. Pass `AnnData(X, dtype=X.dtype, ...)` to get the future behavour.\n",
      "  view_to_actual(adata)\n",
      "/home/chrism/miniconda3/envs/xb/lib/python3.7/site-packages/scanpy/preprocessing/_utils.py:12: RuntimeWarning: invalid value encountered in subtract\n",
      "  var = mean_sq - mean**2\n",
      "/home/chrism/miniconda3/envs/xb/lib/python3.7/site-packages/scanpy/preprocessing/_simple.py:792: RuntimeWarning: invalid value encountered in subtract\n",
      "  X -= mean\n"
     ]
    },
    {
     "name": "stdout",
     "output_type": "stream",
     "text": [
      "132\n",
      "TrueTrueTrue[10, 100, 1000, None]\n",
      "133\n",
      "(9313, 212)\n",
      "134\n",
      "(9313, 212)\n"
     ]
    },
    {
     "name": "stderr",
     "output_type": "stream",
     "text": [
      "/home/chrism/miniconda3/envs/xb/lib/python3.7/site-packages/scanpy/preprocessing/_simple.py:352: RuntimeWarning: divide by zero encountered in log1p\n",
      "  np.log1p(X, out=X)\n"
     ]
    },
    {
     "name": "stdout",
     "output_type": "stream",
     "text": [
      "135\n",
      "TrueFalseFalse[10, 100, 1000, None]\n",
      "136\n",
      "(9313, 74)\n"
     ]
    },
    {
     "name": "stderr",
     "output_type": "stream",
     "text": [
      "/home/chrism/git/Xenium_benchmarking/xb/simulating.py:314: ImplicitModificationWarning: Trying to modify attribute `.X` of view, initializing view as actual.\n",
      "  adata.X[adata.X==-np.inf]=0\n"
     ]
    },
    {
     "name": "stdout",
     "output_type": "stream",
     "text": [
      "137\n",
      "(9313, 84)\n"
     ]
    },
    {
     "name": "stderr",
     "output_type": "stream",
     "text": [
      "/home/chrism/miniconda3/envs/xb/lib/python3.7/site-packages/scanpy/preprocessing/_simple.py:352: RuntimeWarning: divide by zero encountered in log1p\n",
      "  np.log1p(X, out=X)\n",
      "/home/chrism/git/Xenium_benchmarking/xb/simulating.py:314: ImplicitModificationWarning: Trying to modify attribute `.X` of view, initializing view as actual.\n",
      "  adata.X[adata.X==-np.inf]=0\n",
      "/home/chrism/miniconda3/envs/xb/lib/python3.7/contextlib.py:119: FutureWarning: X.dtype being converted to np.float32 from float64. In the next version of anndata (0.9) conversion will not be automatic. Pass dtype explicitly to avoid this warning. Pass `AnnData(X, dtype=X.dtype, ...)` to get the future behavour.\n",
      "  next(self.gen)\n"
     ]
    },
    {
     "name": "stdout",
     "output_type": "stream",
     "text": [
      "138\n",
      "TrueFalseTrue[10, 100, 1000, None]\n",
      "139\n",
      "(9313, 212)\n",
      "140\n",
      "(9313, 212)\n"
     ]
    },
    {
     "name": "stderr",
     "output_type": "stream",
     "text": [
      "/home/chrism/miniconda3/envs/xb/lib/python3.7/site-packages/scanpy/preprocessing/_simple.py:352: RuntimeWarning: divide by zero encountered in log1p\n",
      "  np.log1p(X, out=X)\n",
      "/home/chrism/miniconda3/envs/xb/lib/python3.7/site-packages/scanpy/preprocessing/_utils.py:12: RuntimeWarning: invalid value encountered in subtract\n",
      "  var = mean_sq - mean**2\n",
      "/home/chrism/miniconda3/envs/xb/lib/python3.7/site-packages/scanpy/preprocessing/_simple.py:792: RuntimeWarning: invalid value encountered in subtract\n",
      "  X -= mean\n"
     ]
    },
    {
     "name": "stdout",
     "output_type": "stream",
     "text": [
      "141\n",
      "TrueTrueFalse[10, 100, 1000, None]\n",
      "142\n",
      "(9313, 74)\n"
     ]
    },
    {
     "name": "stderr",
     "output_type": "stream",
     "text": [
      "/home/chrism/miniconda3/envs/xb/lib/python3.7/site-packages/scanpy/preprocessing/_simple.py:843: UserWarning: Received a view of an AnnData. Making a copy.\n",
      "  view_to_actual(adata)\n"
     ]
    },
    {
     "name": "stdout",
     "output_type": "stream",
     "text": [
      "143\n",
      "(9313, 84)\n"
     ]
    },
    {
     "name": "stderr",
     "output_type": "stream",
     "text": [
      "/home/chrism/miniconda3/envs/xb/lib/python3.7/site-packages/scanpy/preprocessing/_simple.py:352: RuntimeWarning: divide by zero encountered in log1p\n",
      "  np.log1p(X, out=X)\n",
      "/home/chrism/miniconda3/envs/xb/lib/python3.7/site-packages/scanpy/preprocessing/_simple.py:843: UserWarning: Received a view of an AnnData. Making a copy.\n",
      "  view_to_actual(adata)\n",
      "/home/chrism/miniconda3/envs/xb/lib/python3.7/site-packages/scanpy/preprocessing/_simple.py:843: FutureWarning: X.dtype being converted to np.float32 from float64. In the next version of anndata (0.9) conversion will not be automatic. Pass dtype explicitly to avoid this warning. Pass `AnnData(X, dtype=X.dtype, ...)` to get the future behavour.\n",
      "  view_to_actual(adata)\n",
      "/home/chrism/miniconda3/envs/xb/lib/python3.7/site-packages/scanpy/preprocessing/_utils.py:12: RuntimeWarning: invalid value encountered in subtract\n",
      "  var = mean_sq - mean**2\n",
      "/home/chrism/miniconda3/envs/xb/lib/python3.7/site-packages/scanpy/preprocessing/_simple.py:792: RuntimeWarning: invalid value encountered in subtract\n",
      "  X -= mean\n"
     ]
    },
    {
     "name": "stdout",
     "output_type": "stream",
     "text": [
      "144\n",
      "TrueTrueTrue[10, 100, 1000, None]\n",
      "145\n",
      "(9313, 212)\n"
     ]
    },
    {
     "name": "stderr",
     "output_type": "stream",
     "text": [
      "/home/chrism/miniconda3/envs/xb/lib/python3.7/site-packages/scanpy/preprocessing/_simple.py:352: RuntimeWarning: invalid value encountered in log1p\n",
      "  np.log1p(X, out=X)\n"
     ]
    },
    {
     "name": "stdout",
     "output_type": "stream",
     "text": [
      "146\n",
      "(9313, 212)\n"
     ]
    },
    {
     "name": "stderr",
     "output_type": "stream",
     "text": [
      "/home/chrism/miniconda3/envs/xb/lib/python3.7/site-packages/scanpy/preprocessing/_simple.py:352: RuntimeWarning: divide by zero encountered in log1p\n",
      "  np.log1p(X, out=X)\n"
     ]
    },
    {
     "name": "stdout",
     "output_type": "stream",
     "text": [
      "147\n",
      "TrueFalseFalse[10, 100, 1000, None]\n",
      "148\n",
      "normTrue_lgTrue_ng12_pc0_ts1000_hvg_True_scale_False_leid lgTrue_ng12_pc0_ts1000_hvg_True_scale_False\n",
      "149\n",
      "(9313, 84)\n"
     ]
    },
    {
     "name": "stderr",
     "output_type": "stream",
     "text": [
      "/home/chrism/miniconda3/envs/xb/lib/python3.7/site-packages/scanpy/preprocessing/_simple.py:352: RuntimeWarning: invalid value encountered in log1p\n",
      "  np.log1p(X, out=X)\n",
      "/home/chrism/miniconda3/envs/xb/lib/python3.7/site-packages/scanpy/preprocessing/_simple.py:352: RuntimeWarning: divide by zero encountered in log1p\n",
      "  np.log1p(X, out=X)\n",
      "/home/chrism/git/Xenium_benchmarking/xb/simulating.py:314: ImplicitModificationWarning: Trying to modify attribute `.X` of view, initializing view as actual.\n",
      "  adata.X[adata.X==-np.inf]=0\n",
      "/home/chrism/miniconda3/envs/xb/lib/python3.7/contextlib.py:119: FutureWarning: X.dtype being converted to np.float32 from float64. In the next version of anndata (0.9) conversion will not be automatic. Pass dtype explicitly to avoid this warning. Pass `AnnData(X, dtype=X.dtype, ...)` to get the future behavour.\n",
      "  next(self.gen)\n"
     ]
    },
    {
     "name": "stdout",
     "output_type": "stream",
     "text": [
      "150\n",
      "TrueFalseTrue[10, 100, 1000, None]\n",
      "151\n",
      "(9313, 212)\n"
     ]
    },
    {
     "name": "stderr",
     "output_type": "stream",
     "text": [
      "/home/chrism/miniconda3/envs/xb/lib/python3.7/site-packages/scanpy/preprocessing/_simple.py:352: RuntimeWarning: invalid value encountered in log1p\n",
      "  np.log1p(X, out=X)\n"
     ]
    },
    {
     "name": "stdout",
     "output_type": "stream",
     "text": [
      "152\n",
      "(9313, 212)\n"
     ]
    },
    {
     "name": "stderr",
     "output_type": "stream",
     "text": [
      "/home/chrism/miniconda3/envs/xb/lib/python3.7/site-packages/scanpy/preprocessing/_simple.py:352: RuntimeWarning: divide by zero encountered in log1p\n",
      "  np.log1p(X, out=X)\n",
      "/home/chrism/miniconda3/envs/xb/lib/python3.7/site-packages/scanpy/preprocessing/_utils.py:12: RuntimeWarning: invalid value encountered in subtract\n",
      "  var = mean_sq - mean**2\n",
      "/home/chrism/miniconda3/envs/xb/lib/python3.7/site-packages/scanpy/preprocessing/_simple.py:792: RuntimeWarning: invalid value encountered in subtract\n",
      "  X -= mean\n"
     ]
    },
    {
     "name": "stdout",
     "output_type": "stream",
     "text": [
      "153\n",
      "TrueTrueFalse[10, 100, 1000, None]\n",
      "154\n",
      "normTrue_lgTrue_ng12_pc0_ts1000_hvg_True_scale_True_leid lgTrue_ng12_pc0_ts1000_hvg_True_scale_True\n",
      "155\n"
     ]
    },
    {
     "name": "stderr",
     "output_type": "stream",
     "text": [
      "/home/chrism/miniconda3/envs/xb/lib/python3.7/site-packages/scanpy/preprocessing/_simple.py:352: RuntimeWarning: invalid value encountered in log1p\n",
      "  np.log1p(X, out=X)\n",
      "/home/chrism/miniconda3/envs/xb/lib/python3.7/site-packages/scanpy/preprocessing/_simple.py:352: RuntimeWarning: divide by zero encountered in log1p\n",
      "  np.log1p(X, out=X)\n",
      "/home/chrism/miniconda3/envs/xb/lib/python3.7/site-packages/scanpy/preprocessing/_simple.py:843: UserWarning: Received a view of an AnnData. Making a copy.\n",
      "  view_to_actual(adata)\n",
      "/home/chrism/miniconda3/envs/xb/lib/python3.7/site-packages/scanpy/preprocessing/_simple.py:843: FutureWarning: X.dtype being converted to np.float32 from float64. In the next version of anndata (0.9) conversion will not be automatic. Pass dtype explicitly to avoid this warning. Pass `AnnData(X, dtype=X.dtype, ...)` to get the future behavour.\n",
      "  view_to_actual(adata)\n",
      "/home/chrism/miniconda3/envs/xb/lib/python3.7/site-packages/scanpy/preprocessing/_utils.py:12: RuntimeWarning: invalid value encountered in subtract\n",
      "  var = mean_sq - mean**2\n",
      "/home/chrism/miniconda3/envs/xb/lib/python3.7/site-packages/scanpy/preprocessing/_simple.py:792: RuntimeWarning: invalid value encountered in subtract\n",
      "  X -= mean\n"
     ]
    },
    {
     "name": "stdout",
     "output_type": "stream",
     "text": [
      "(9313, 84)\n",
      "156\n",
      "TrueTrueTrue[10, 100, 1000, None]\n",
      "157\n",
      "(9313, 212)\n"
     ]
    },
    {
     "name": "stderr",
     "output_type": "stream",
     "text": [
      "/home/chrism/miniconda3/envs/xb/lib/python3.7/site-packages/scanpy/preprocessing/_simple.py:352: RuntimeWarning: invalid value encountered in log1p\n",
      "  np.log1p(X, out=X)\n"
     ]
    },
    {
     "name": "stdout",
     "output_type": "stream",
     "text": [
      "158\n",
      "(9313, 212)\n"
     ]
    },
    {
     "name": "stderr",
     "output_type": "stream",
     "text": [
      "/home/chrism/miniconda3/envs/xb/lib/python3.7/site-packages/scanpy/preprocessing/_simple.py:352: RuntimeWarning: divide by zero encountered in log1p\n",
      "  np.log1p(X, out=X)\n"
     ]
    },
    {
     "name": "stdout",
     "output_type": "stream",
     "text": [
      "159\n",
      "TrueFalseFalse[10, 100, 1000, None]\n",
      "160\n",
      "normTrue_lgTrue_ng12_pc20_ts1000_hvg_True_scale_False_leid lgTrue_ng12_pc20_ts1000_hvg_True_scale_False\n",
      "161\n",
      "(9313, 84)\n"
     ]
    },
    {
     "name": "stderr",
     "output_type": "stream",
     "text": [
      "/home/chrism/miniconda3/envs/xb/lib/python3.7/site-packages/scanpy/preprocessing/_simple.py:352: RuntimeWarning: invalid value encountered in log1p\n",
      "  np.log1p(X, out=X)\n",
      "/home/chrism/miniconda3/envs/xb/lib/python3.7/site-packages/scanpy/preprocessing/_simple.py:352: RuntimeWarning: divide by zero encountered in log1p\n",
      "  np.log1p(X, out=X)\n",
      "/home/chrism/git/Xenium_benchmarking/xb/simulating.py:314: ImplicitModificationWarning: Trying to modify attribute `.X` of view, initializing view as actual.\n",
      "  adata.X[adata.X==-np.inf]=0\n",
      "/home/chrism/miniconda3/envs/xb/lib/python3.7/contextlib.py:119: FutureWarning: X.dtype being converted to np.float32 from float64. In the next version of anndata (0.9) conversion will not be automatic. Pass dtype explicitly to avoid this warning. Pass `AnnData(X, dtype=X.dtype, ...)` to get the future behavour.\n",
      "  next(self.gen)\n"
     ]
    },
    {
     "name": "stdout",
     "output_type": "stream",
     "text": [
      "162\n",
      "TrueFalseTrue[10, 100, 1000, None]\n",
      "163\n",
      "(9313, 212)\n"
     ]
    },
    {
     "name": "stderr",
     "output_type": "stream",
     "text": [
      "/home/chrism/miniconda3/envs/xb/lib/python3.7/site-packages/scanpy/preprocessing/_simple.py:352: RuntimeWarning: invalid value encountered in log1p\n",
      "  np.log1p(X, out=X)\n"
     ]
    },
    {
     "name": "stdout",
     "output_type": "stream",
     "text": [
      "164\n",
      "(9313, 212)\n"
     ]
    },
    {
     "name": "stderr",
     "output_type": "stream",
     "text": [
      "/home/chrism/miniconda3/envs/xb/lib/python3.7/site-packages/scanpy/preprocessing/_simple.py:352: RuntimeWarning: divide by zero encountered in log1p\n",
      "  np.log1p(X, out=X)\n",
      "/home/chrism/miniconda3/envs/xb/lib/python3.7/site-packages/scanpy/preprocessing/_utils.py:12: RuntimeWarning: invalid value encountered in subtract\n",
      "  var = mean_sq - mean**2\n",
      "/home/chrism/miniconda3/envs/xb/lib/python3.7/site-packages/scanpy/preprocessing/_simple.py:792: RuntimeWarning: invalid value encountered in subtract\n",
      "  X -= mean\n"
     ]
    },
    {
     "name": "stdout",
     "output_type": "stream",
     "text": [
      "165\n",
      "TrueTrueFalse[10, 100, 1000, None]\n",
      "166\n",
      "normTrue_lgTrue_ng12_pc20_ts1000_hvg_True_scale_True_leid lgTrue_ng12_pc20_ts1000_hvg_True_scale_True\n",
      "167\n"
     ]
    },
    {
     "name": "stderr",
     "output_type": "stream",
     "text": [
      "/home/chrism/miniconda3/envs/xb/lib/python3.7/site-packages/scanpy/preprocessing/_simple.py:352: RuntimeWarning: invalid value encountered in log1p\n",
      "  np.log1p(X, out=X)\n",
      "/home/chrism/miniconda3/envs/xb/lib/python3.7/site-packages/scanpy/preprocessing/_simple.py:352: RuntimeWarning: divide by zero encountered in log1p\n",
      "  np.log1p(X, out=X)\n",
      "/home/chrism/miniconda3/envs/xb/lib/python3.7/site-packages/scanpy/preprocessing/_simple.py:843: UserWarning: Received a view of an AnnData. Making a copy.\n",
      "  view_to_actual(adata)\n",
      "/home/chrism/miniconda3/envs/xb/lib/python3.7/site-packages/scanpy/preprocessing/_simple.py:843: FutureWarning: X.dtype being converted to np.float32 from float64. In the next version of anndata (0.9) conversion will not be automatic. Pass dtype explicitly to avoid this warning. Pass `AnnData(X, dtype=X.dtype, ...)` to get the future behavour.\n",
      "  view_to_actual(adata)\n",
      "/home/chrism/miniconda3/envs/xb/lib/python3.7/site-packages/scanpy/preprocessing/_utils.py:12: RuntimeWarning: invalid value encountered in subtract\n",
      "  var = mean_sq - mean**2\n",
      "/home/chrism/miniconda3/envs/xb/lib/python3.7/site-packages/scanpy/preprocessing/_simple.py:792: RuntimeWarning: invalid value encountered in subtract\n",
      "  X -= mean\n"
     ]
    },
    {
     "name": "stdout",
     "output_type": "stream",
     "text": [
      "(9313, 84)\n",
      "168\n",
      "TrueTrueTrue[10, 100, 1000, None]\n",
      "169\n"
     ]
    },
    {
     "name": "stderr",
     "output_type": "stream",
     "text": [
      "/home/chrism/miniconda3/envs/xb/lib/python3.7/site-packages/scanpy/preprocessing/_simple.py:352: RuntimeWarning: invalid value encountered in log1p\n",
      "  np.log1p(X, out=X)\n"
     ]
    },
    {
     "name": "stdout",
     "output_type": "stream",
     "text": [
      "(9313, 212)\n",
      "170\n",
      "(9313, 212)\n"
     ]
    },
    {
     "name": "stderr",
     "output_type": "stream",
     "text": [
      "/home/chrism/miniconda3/envs/xb/lib/python3.7/site-packages/scanpy/preprocessing/_simple.py:352: RuntimeWarning: divide by zero encountered in log1p\n",
      "  np.log1p(X, out=X)\n"
     ]
    },
    {
     "name": "stdout",
     "output_type": "stream",
     "text": [
      "171\n",
      "TrueFalseFalse[10, 100, 1000, None]\n",
      "172\n",
      "normTrue_lgTrue_ng12_pc40_ts1000_hvg_True_scale_False_leid lgTrue_ng12_pc40_ts1000_hvg_True_scale_False\n",
      "173\n",
      "(9313, 84)\n"
     ]
    },
    {
     "name": "stderr",
     "output_type": "stream",
     "text": [
      "/home/chrism/miniconda3/envs/xb/lib/python3.7/site-packages/scanpy/preprocessing/_simple.py:352: RuntimeWarning: invalid value encountered in log1p\n",
      "  np.log1p(X, out=X)\n",
      "/home/chrism/miniconda3/envs/xb/lib/python3.7/site-packages/scanpy/preprocessing/_simple.py:352: RuntimeWarning: divide by zero encountered in log1p\n",
      "  np.log1p(X, out=X)\n",
      "/home/chrism/git/Xenium_benchmarking/xb/simulating.py:314: ImplicitModificationWarning: Trying to modify attribute `.X` of view, initializing view as actual.\n",
      "  adata.X[adata.X==-np.inf]=0\n",
      "/home/chrism/miniconda3/envs/xb/lib/python3.7/contextlib.py:119: FutureWarning: X.dtype being converted to np.float32 from float64. In the next version of anndata (0.9) conversion will not be automatic. Pass dtype explicitly to avoid this warning. Pass `AnnData(X, dtype=X.dtype, ...)` to get the future behavour.\n",
      "  next(self.gen)\n"
     ]
    },
    {
     "name": "stdout",
     "output_type": "stream",
     "text": [
      "174\n",
      "TrueFalseTrue[10, 100, 1000, None]\n",
      "175\n",
      "(9313, 212)\n"
     ]
    },
    {
     "name": "stderr",
     "output_type": "stream",
     "text": [
      "/home/chrism/miniconda3/envs/xb/lib/python3.7/site-packages/scanpy/preprocessing/_simple.py:352: RuntimeWarning: invalid value encountered in log1p\n",
      "  np.log1p(X, out=X)\n"
     ]
    },
    {
     "name": "stdout",
     "output_type": "stream",
     "text": [
      "176\n",
      "(9313, 212)\n"
     ]
    },
    {
     "name": "stderr",
     "output_type": "stream",
     "text": [
      "/home/chrism/miniconda3/envs/xb/lib/python3.7/site-packages/scanpy/preprocessing/_simple.py:352: RuntimeWarning: divide by zero encountered in log1p\n",
      "  np.log1p(X, out=X)\n",
      "/home/chrism/miniconda3/envs/xb/lib/python3.7/site-packages/scanpy/preprocessing/_utils.py:12: RuntimeWarning: invalid value encountered in subtract\n",
      "  var = mean_sq - mean**2\n",
      "/home/chrism/miniconda3/envs/xb/lib/python3.7/site-packages/scanpy/preprocessing/_simple.py:792: RuntimeWarning: invalid value encountered in subtract\n",
      "  X -= mean\n"
     ]
    },
    {
     "name": "stdout",
     "output_type": "stream",
     "text": [
      "177\n",
      "TrueTrueFalse[10, 100, 1000, None]\n",
      "178\n",
      "normTrue_lgTrue_ng12_pc40_ts1000_hvg_True_scale_True_leid lgTrue_ng12_pc40_ts1000_hvg_True_scale_True\n",
      "179\n"
     ]
    },
    {
     "name": "stderr",
     "output_type": "stream",
     "text": [
      "/home/chrism/miniconda3/envs/xb/lib/python3.7/site-packages/scanpy/preprocessing/_simple.py:352: RuntimeWarning: invalid value encountered in log1p\n",
      "  np.log1p(X, out=X)\n",
      "/home/chrism/miniconda3/envs/xb/lib/python3.7/site-packages/scanpy/preprocessing/_simple.py:352: RuntimeWarning: divide by zero encountered in log1p\n",
      "  np.log1p(X, out=X)\n",
      "/home/chrism/miniconda3/envs/xb/lib/python3.7/site-packages/scanpy/preprocessing/_simple.py:843: UserWarning: Received a view of an AnnData. Making a copy.\n",
      "  view_to_actual(adata)\n",
      "/home/chrism/miniconda3/envs/xb/lib/python3.7/site-packages/scanpy/preprocessing/_simple.py:843: FutureWarning: X.dtype being converted to np.float32 from float64. In the next version of anndata (0.9) conversion will not be automatic. Pass dtype explicitly to avoid this warning. Pass `AnnData(X, dtype=X.dtype, ...)` to get the future behavour.\n",
      "  view_to_actual(adata)\n",
      "/home/chrism/miniconda3/envs/xb/lib/python3.7/site-packages/scanpy/preprocessing/_utils.py:12: RuntimeWarning: invalid value encountered in subtract\n",
      "  var = mean_sq - mean**2\n",
      "/home/chrism/miniconda3/envs/xb/lib/python3.7/site-packages/scanpy/preprocessing/_simple.py:792: RuntimeWarning: invalid value encountered in subtract\n",
      "  X -= mean\n"
     ]
    },
    {
     "name": "stdout",
     "output_type": "stream",
     "text": [
      "(9313, 84)\n",
      "180\n",
      "TrueTrueTrue[10, 100, 1000, None]\n",
      "181\n",
      "(9313, 212)\n"
     ]
    },
    {
     "name": "stderr",
     "output_type": "stream",
     "text": [
      "/home/chrism/miniconda3/envs/xb/lib/python3.7/site-packages/scanpy/preprocessing/_simple.py:352: RuntimeWarning: invalid value encountered in log1p\n",
      "  np.log1p(X, out=X)\n"
     ]
    },
    {
     "name": "stdout",
     "output_type": "stream",
     "text": [
      "182\n",
      "(9313, 212)\n"
     ]
    },
    {
     "name": "stderr",
     "output_type": "stream",
     "text": [
      "/home/chrism/miniconda3/envs/xb/lib/python3.7/site-packages/scanpy/preprocessing/_simple.py:352: RuntimeWarning: divide by zero encountered in log1p\n",
      "  np.log1p(X, out=X)\n"
     ]
    },
    {
     "name": "stdout",
     "output_type": "stream",
     "text": [
      "183\n",
      "TrueFalseFalse[10, 100, 1000, None]\n",
      "184\n",
      "normTrue_lgTrue_ng16_pc0_ts1000_hvg_True_scale_False_leid lgTrue_ng16_pc0_ts1000_hvg_True_scale_False\n",
      "185\n",
      "(9313, 84)\n"
     ]
    },
    {
     "name": "stderr",
     "output_type": "stream",
     "text": [
      "/home/chrism/miniconda3/envs/xb/lib/python3.7/site-packages/scanpy/preprocessing/_simple.py:352: RuntimeWarning: invalid value encountered in log1p\n",
      "  np.log1p(X, out=X)\n",
      "/home/chrism/miniconda3/envs/xb/lib/python3.7/site-packages/scanpy/preprocessing/_simple.py:352: RuntimeWarning: divide by zero encountered in log1p\n",
      "  np.log1p(X, out=X)\n",
      "/home/chrism/git/Xenium_benchmarking/xb/simulating.py:314: ImplicitModificationWarning: Trying to modify attribute `.X` of view, initializing view as actual.\n",
      "  adata.X[adata.X==-np.inf]=0\n",
      "/home/chrism/miniconda3/envs/xb/lib/python3.7/contextlib.py:119: FutureWarning: X.dtype being converted to np.float32 from float64. In the next version of anndata (0.9) conversion will not be automatic. Pass dtype explicitly to avoid this warning. Pass `AnnData(X, dtype=X.dtype, ...)` to get the future behavour.\n",
      "  next(self.gen)\n"
     ]
    },
    {
     "name": "stdout",
     "output_type": "stream",
     "text": [
      "186\n",
      "TrueFalseTrue[10, 100, 1000, None]\n",
      "187\n",
      "(9313, 212)\n"
     ]
    },
    {
     "name": "stderr",
     "output_type": "stream",
     "text": [
      "/home/chrism/miniconda3/envs/xb/lib/python3.7/site-packages/scanpy/preprocessing/_simple.py:352: RuntimeWarning: invalid value encountered in log1p\n",
      "  np.log1p(X, out=X)\n"
     ]
    },
    {
     "name": "stdout",
     "output_type": "stream",
     "text": [
      "188\n",
      "(9313, 212)\n"
     ]
    },
    {
     "name": "stderr",
     "output_type": "stream",
     "text": [
      "/home/chrism/miniconda3/envs/xb/lib/python3.7/site-packages/scanpy/preprocessing/_simple.py:352: RuntimeWarning: divide by zero encountered in log1p\n",
      "  np.log1p(X, out=X)\n",
      "/home/chrism/miniconda3/envs/xb/lib/python3.7/site-packages/scanpy/preprocessing/_utils.py:12: RuntimeWarning: invalid value encountered in subtract\n",
      "  var = mean_sq - mean**2\n",
      "/home/chrism/miniconda3/envs/xb/lib/python3.7/site-packages/scanpy/preprocessing/_simple.py:792: RuntimeWarning: invalid value encountered in subtract\n",
      "  X -= mean\n"
     ]
    },
    {
     "name": "stdout",
     "output_type": "stream",
     "text": [
      "189\n",
      "TrueTrueFalse[10, 100, 1000, None]\n",
      "190\n",
      "normTrue_lgTrue_ng16_pc0_ts1000_hvg_True_scale_True_leid lgTrue_ng16_pc0_ts1000_hvg_True_scale_True\n",
      "191\n"
     ]
    },
    {
     "name": "stderr",
     "output_type": "stream",
     "text": [
      "/home/chrism/miniconda3/envs/xb/lib/python3.7/site-packages/scanpy/preprocessing/_simple.py:352: RuntimeWarning: invalid value encountered in log1p\n",
      "  np.log1p(X, out=X)\n",
      "/home/chrism/miniconda3/envs/xb/lib/python3.7/site-packages/scanpy/preprocessing/_simple.py:352: RuntimeWarning: divide by zero encountered in log1p\n",
      "  np.log1p(X, out=X)\n",
      "/home/chrism/miniconda3/envs/xb/lib/python3.7/site-packages/scanpy/preprocessing/_simple.py:843: UserWarning: Received a view of an AnnData. Making a copy.\n",
      "  view_to_actual(adata)\n",
      "/home/chrism/miniconda3/envs/xb/lib/python3.7/site-packages/scanpy/preprocessing/_simple.py:843: FutureWarning: X.dtype being converted to np.float32 from float64. In the next version of anndata (0.9) conversion will not be automatic. Pass dtype explicitly to avoid this warning. Pass `AnnData(X, dtype=X.dtype, ...)` to get the future behavour.\n",
      "  view_to_actual(adata)\n",
      "/home/chrism/miniconda3/envs/xb/lib/python3.7/site-packages/scanpy/preprocessing/_utils.py:12: RuntimeWarning: invalid value encountered in subtract\n",
      "  var = mean_sq - mean**2\n",
      "/home/chrism/miniconda3/envs/xb/lib/python3.7/site-packages/scanpy/preprocessing/_simple.py:792: RuntimeWarning: invalid value encountered in subtract\n",
      "  X -= mean\n"
     ]
    },
    {
     "name": "stdout",
     "output_type": "stream",
     "text": [
      "(9313, 84)\n",
      "192\n",
      "TrueTrueTrue[10, 100, 1000, None]\n",
      "193\n",
      "(9313, 212)\n"
     ]
    },
    {
     "name": "stderr",
     "output_type": "stream",
     "text": [
      "/home/chrism/miniconda3/envs/xb/lib/python3.7/site-packages/scanpy/preprocessing/_simple.py:352: RuntimeWarning: invalid value encountered in log1p\n",
      "  np.log1p(X, out=X)\n"
     ]
    },
    {
     "name": "stdout",
     "output_type": "stream",
     "text": [
      "194\n",
      "(9313, 212)\n"
     ]
    },
    {
     "name": "stderr",
     "output_type": "stream",
     "text": [
      "/home/chrism/miniconda3/envs/xb/lib/python3.7/site-packages/scanpy/preprocessing/_simple.py:352: RuntimeWarning: divide by zero encountered in log1p\n",
      "  np.log1p(X, out=X)\n"
     ]
    },
    {
     "name": "stdout",
     "output_type": "stream",
     "text": [
      "195\n",
      "TrueFalseFalse[10, 100, 1000, None]\n",
      "196\n",
      "normTrue_lgTrue_ng16_pc20_ts1000_hvg_True_scale_False_leid lgTrue_ng16_pc20_ts1000_hvg_True_scale_False\n",
      "197\n",
      "(9313, 84)\n"
     ]
    },
    {
     "name": "stderr",
     "output_type": "stream",
     "text": [
      "/home/chrism/miniconda3/envs/xb/lib/python3.7/site-packages/scanpy/preprocessing/_simple.py:352: RuntimeWarning: invalid value encountered in log1p\n",
      "  np.log1p(X, out=X)\n",
      "/home/chrism/miniconda3/envs/xb/lib/python3.7/site-packages/scanpy/preprocessing/_simple.py:352: RuntimeWarning: divide by zero encountered in log1p\n",
      "  np.log1p(X, out=X)\n",
      "/home/chrism/git/Xenium_benchmarking/xb/simulating.py:314: ImplicitModificationWarning: Trying to modify attribute `.X` of view, initializing view as actual.\n",
      "  adata.X[adata.X==-np.inf]=0\n",
      "/home/chrism/miniconda3/envs/xb/lib/python3.7/contextlib.py:119: FutureWarning: X.dtype being converted to np.float32 from float64. In the next version of anndata (0.9) conversion will not be automatic. Pass dtype explicitly to avoid this warning. Pass `AnnData(X, dtype=X.dtype, ...)` to get the future behavour.\n",
      "  next(self.gen)\n"
     ]
    },
    {
     "name": "stdout",
     "output_type": "stream",
     "text": [
      "198\n",
      "TrueFalseTrue[10, 100, 1000, None]\n",
      "199\n",
      "(9313, 212)\n"
     ]
    },
    {
     "name": "stderr",
     "output_type": "stream",
     "text": [
      "/home/chrism/miniconda3/envs/xb/lib/python3.7/site-packages/scanpy/preprocessing/_simple.py:352: RuntimeWarning: invalid value encountered in log1p\n",
      "  np.log1p(X, out=X)\n"
     ]
    },
    {
     "name": "stdout",
     "output_type": "stream",
     "text": [
      "200\n",
      "(9313, 212)\n"
     ]
    },
    {
     "name": "stderr",
     "output_type": "stream",
     "text": [
      "/home/chrism/miniconda3/envs/xb/lib/python3.7/site-packages/scanpy/preprocessing/_simple.py:352: RuntimeWarning: divide by zero encountered in log1p\n",
      "  np.log1p(X, out=X)\n",
      "/home/chrism/miniconda3/envs/xb/lib/python3.7/site-packages/scanpy/preprocessing/_utils.py:12: RuntimeWarning: invalid value encountered in subtract\n",
      "  var = mean_sq - mean**2\n",
      "/home/chrism/miniconda3/envs/xb/lib/python3.7/site-packages/scanpy/preprocessing/_simple.py:792: RuntimeWarning: invalid value encountered in subtract\n",
      "  X -= mean\n"
     ]
    },
    {
     "name": "stdout",
     "output_type": "stream",
     "text": [
      "201\n",
      "TrueTrueFalse[10, 100, 1000, None]\n",
      "202\n",
      "normTrue_lgTrue_ng16_pc20_ts1000_hvg_True_scale_True_leid lgTrue_ng16_pc20_ts1000_hvg_True_scale_True\n",
      "203\n"
     ]
    },
    {
     "name": "stderr",
     "output_type": "stream",
     "text": [
      "/home/chrism/miniconda3/envs/xb/lib/python3.7/site-packages/scanpy/preprocessing/_simple.py:352: RuntimeWarning: invalid value encountered in log1p\n",
      "  np.log1p(X, out=X)\n",
      "/home/chrism/miniconda3/envs/xb/lib/python3.7/site-packages/scanpy/preprocessing/_simple.py:352: RuntimeWarning: divide by zero encountered in log1p\n",
      "  np.log1p(X, out=X)\n",
      "/home/chrism/miniconda3/envs/xb/lib/python3.7/site-packages/scanpy/preprocessing/_simple.py:843: UserWarning: Received a view of an AnnData. Making a copy.\n",
      "  view_to_actual(adata)\n",
      "/home/chrism/miniconda3/envs/xb/lib/python3.7/site-packages/scanpy/preprocessing/_simple.py:843: FutureWarning: X.dtype being converted to np.float32 from float64. In the next version of anndata (0.9) conversion will not be automatic. Pass dtype explicitly to avoid this warning. Pass `AnnData(X, dtype=X.dtype, ...)` to get the future behavour.\n",
      "  view_to_actual(adata)\n",
      "/home/chrism/miniconda3/envs/xb/lib/python3.7/site-packages/scanpy/preprocessing/_utils.py:12: RuntimeWarning: invalid value encountered in subtract\n",
      "  var = mean_sq - mean**2\n",
      "/home/chrism/miniconda3/envs/xb/lib/python3.7/site-packages/scanpy/preprocessing/_simple.py:792: RuntimeWarning: invalid value encountered in subtract\n",
      "  X -= mean\n"
     ]
    },
    {
     "name": "stdout",
     "output_type": "stream",
     "text": [
      "(9313, 84)\n",
      "204\n",
      "TrueTrueTrue[10, 100, 1000, None]\n",
      "205\n",
      "(9313, 212)\n"
     ]
    },
    {
     "name": "stderr",
     "output_type": "stream",
     "text": [
      "/home/chrism/miniconda3/envs/xb/lib/python3.7/site-packages/scanpy/preprocessing/_simple.py:352: RuntimeWarning: invalid value encountered in log1p\n",
      "  np.log1p(X, out=X)\n"
     ]
    },
    {
     "name": "stdout",
     "output_type": "stream",
     "text": [
      "206\n",
      "(9313, 212)\n"
     ]
    },
    {
     "name": "stderr",
     "output_type": "stream",
     "text": [
      "/home/chrism/miniconda3/envs/xb/lib/python3.7/site-packages/scanpy/preprocessing/_simple.py:352: RuntimeWarning: divide by zero encountered in log1p\n",
      "  np.log1p(X, out=X)\n"
     ]
    },
    {
     "name": "stdout",
     "output_type": "stream",
     "text": [
      "207\n",
      "TrueFalseFalse[10, 100, 1000, None]\n",
      "208\n",
      "normTrue_lgTrue_ng16_pc40_ts1000_hvg_True_scale_False_leid lgTrue_ng16_pc40_ts1000_hvg_True_scale_False\n",
      "209\n",
      "(9313, 84)\n"
     ]
    },
    {
     "name": "stderr",
     "output_type": "stream",
     "text": [
      "/home/chrism/miniconda3/envs/xb/lib/python3.7/site-packages/scanpy/preprocessing/_simple.py:352: RuntimeWarning: invalid value encountered in log1p\n",
      "  np.log1p(X, out=X)\n",
      "/home/chrism/miniconda3/envs/xb/lib/python3.7/site-packages/scanpy/preprocessing/_simple.py:352: RuntimeWarning: divide by zero encountered in log1p\n",
      "  np.log1p(X, out=X)\n",
      "/home/chrism/git/Xenium_benchmarking/xb/simulating.py:314: ImplicitModificationWarning: Trying to modify attribute `.X` of view, initializing view as actual.\n",
      "  adata.X[adata.X==-np.inf]=0\n",
      "/home/chrism/miniconda3/envs/xb/lib/python3.7/contextlib.py:119: FutureWarning: X.dtype being converted to np.float32 from float64. In the next version of anndata (0.9) conversion will not be automatic. Pass dtype explicitly to avoid this warning. Pass `AnnData(X, dtype=X.dtype, ...)` to get the future behavour.\n",
      "  next(self.gen)\n"
     ]
    },
    {
     "name": "stdout",
     "output_type": "stream",
     "text": [
      "210\n",
      "TrueFalseTrue[10, 100, 1000, None]\n",
      "211\n",
      "(9313, 212)\n"
     ]
    },
    {
     "name": "stderr",
     "output_type": "stream",
     "text": [
      "/home/chrism/miniconda3/envs/xb/lib/python3.7/site-packages/scanpy/preprocessing/_simple.py:352: RuntimeWarning: invalid value encountered in log1p\n",
      "  np.log1p(X, out=X)\n"
     ]
    },
    {
     "name": "stdout",
     "output_type": "stream",
     "text": [
      "212\n",
      "(9313, 212)\n"
     ]
    },
    {
     "name": "stderr",
     "output_type": "stream",
     "text": [
      "/home/chrism/miniconda3/envs/xb/lib/python3.7/site-packages/scanpy/preprocessing/_simple.py:352: RuntimeWarning: divide by zero encountered in log1p\n",
      "  np.log1p(X, out=X)\n",
      "/home/chrism/miniconda3/envs/xb/lib/python3.7/site-packages/scanpy/preprocessing/_utils.py:12: RuntimeWarning: invalid value encountered in subtract\n",
      "  var = mean_sq - mean**2\n",
      "/home/chrism/miniconda3/envs/xb/lib/python3.7/site-packages/scanpy/preprocessing/_simple.py:792: RuntimeWarning: invalid value encountered in subtract\n",
      "  X -= mean\n"
     ]
    },
    {
     "name": "stdout",
     "output_type": "stream",
     "text": [
      "213\n",
      "TrueTrueFalse[10, 100, 1000, None]\n",
      "214\n",
      "normTrue_lgTrue_ng16_pc40_ts1000_hvg_True_scale_True_leid lgTrue_ng16_pc40_ts1000_hvg_True_scale_True\n",
      "215\n"
     ]
    },
    {
     "name": "stderr",
     "output_type": "stream",
     "text": [
      "/home/chrism/miniconda3/envs/xb/lib/python3.7/site-packages/scanpy/preprocessing/_simple.py:352: RuntimeWarning: invalid value encountered in log1p\n",
      "  np.log1p(X, out=X)\n",
      "/home/chrism/miniconda3/envs/xb/lib/python3.7/site-packages/scanpy/preprocessing/_simple.py:352: RuntimeWarning: divide by zero encountered in log1p\n",
      "  np.log1p(X, out=X)\n",
      "/home/chrism/miniconda3/envs/xb/lib/python3.7/site-packages/scanpy/preprocessing/_simple.py:843: UserWarning: Received a view of an AnnData. Making a copy.\n",
      "  view_to_actual(adata)\n",
      "/home/chrism/miniconda3/envs/xb/lib/python3.7/site-packages/scanpy/preprocessing/_simple.py:843: FutureWarning: X.dtype being converted to np.float32 from float64. In the next version of anndata (0.9) conversion will not be automatic. Pass dtype explicitly to avoid this warning. Pass `AnnData(X, dtype=X.dtype, ...)` to get the future behavour.\n",
      "  view_to_actual(adata)\n",
      "/home/chrism/miniconda3/envs/xb/lib/python3.7/site-packages/scanpy/preprocessing/_utils.py:12: RuntimeWarning: invalid value encountered in subtract\n",
      "  var = mean_sq - mean**2\n",
      "/home/chrism/miniconda3/envs/xb/lib/python3.7/site-packages/scanpy/preprocessing/_simple.py:792: RuntimeWarning: invalid value encountered in subtract\n",
      "  X -= mean\n"
     ]
    },
    {
     "name": "stdout",
     "output_type": "stream",
     "text": [
      "(9313, 84)\n",
      "216\n",
      "TrueTrueTrue[10, 100, 1000, None]\n",
      "217\n",
      "(9313, 212)\n"
     ]
    },
    {
     "name": "stderr",
     "output_type": "stream",
     "text": [
      "/home/chrism/miniconda3/envs/xb/lib/python3.7/site-packages/scanpy/preprocessing/_simple.py:352: RuntimeWarning: invalid value encountered in log1p\n",
      "  np.log1p(X, out=X)\n"
     ]
    },
    {
     "name": "stdout",
     "output_type": "stream",
     "text": [
      "218\n",
      "(9313, 212)\n"
     ]
    },
    {
     "name": "stderr",
     "output_type": "stream",
     "text": [
      "/home/chrism/miniconda3/envs/xb/lib/python3.7/site-packages/scanpy/preprocessing/_simple.py:352: RuntimeWarning: divide by zero encountered in log1p\n",
      "  np.log1p(X, out=X)\n"
     ]
    },
    {
     "name": "stdout",
     "output_type": "stream",
     "text": [
      "219\n",
      "TrueFalseFalse[10, 100, 1000, None]\n",
      "220\n",
      "normTrue_lgTrue_ng12_pc0_tsNone_hvg_True_scale_False_leid lgTrue_ng12_pc0_tsNone_hvg_True_scale_False\n",
      "221\n",
      "(9313, 84)\n"
     ]
    },
    {
     "name": "stderr",
     "output_type": "stream",
     "text": [
      "/home/chrism/miniconda3/envs/xb/lib/python3.7/site-packages/scanpy/preprocessing/_simple.py:352: RuntimeWarning: invalid value encountered in log1p\n",
      "  np.log1p(X, out=X)\n",
      "/home/chrism/miniconda3/envs/xb/lib/python3.7/site-packages/scanpy/preprocessing/_simple.py:352: RuntimeWarning: divide by zero encountered in log1p\n",
      "  np.log1p(X, out=X)\n",
      "/home/chrism/git/Xenium_benchmarking/xb/simulating.py:314: ImplicitModificationWarning: Trying to modify attribute `.X` of view, initializing view as actual.\n",
      "  adata.X[adata.X==-np.inf]=0\n",
      "/home/chrism/miniconda3/envs/xb/lib/python3.7/contextlib.py:119: FutureWarning: X.dtype being converted to np.float32 from float64. In the next version of anndata (0.9) conversion will not be automatic. Pass dtype explicitly to avoid this warning. Pass `AnnData(X, dtype=X.dtype, ...)` to get the future behavour.\n",
      "  next(self.gen)\n"
     ]
    },
    {
     "name": "stdout",
     "output_type": "stream",
     "text": [
      "222\n",
      "TrueFalseTrue[10, 100, 1000, None]\n",
      "223\n",
      "(9313, 212)\n"
     ]
    },
    {
     "name": "stderr",
     "output_type": "stream",
     "text": [
      "/home/chrism/miniconda3/envs/xb/lib/python3.7/site-packages/scanpy/preprocessing/_simple.py:352: RuntimeWarning: invalid value encountered in log1p\n",
      "  np.log1p(X, out=X)\n"
     ]
    },
    {
     "name": "stdout",
     "output_type": "stream",
     "text": [
      "224\n",
      "(9313, 212)\n"
     ]
    },
    {
     "name": "stderr",
     "output_type": "stream",
     "text": [
      "/home/chrism/miniconda3/envs/xb/lib/python3.7/site-packages/scanpy/preprocessing/_simple.py:352: RuntimeWarning: divide by zero encountered in log1p\n",
      "  np.log1p(X, out=X)\n",
      "/home/chrism/miniconda3/envs/xb/lib/python3.7/site-packages/scanpy/preprocessing/_utils.py:12: RuntimeWarning: invalid value encountered in subtract\n",
      "  var = mean_sq - mean**2\n",
      "/home/chrism/miniconda3/envs/xb/lib/python3.7/site-packages/scanpy/preprocessing/_simple.py:792: RuntimeWarning: invalid value encountered in subtract\n",
      "  X -= mean\n"
     ]
    },
    {
     "name": "stdout",
     "output_type": "stream",
     "text": [
      "225\n",
      "TrueTrueFalse[10, 100, 1000, None]\n",
      "226\n",
      "normTrue_lgTrue_ng12_pc0_tsNone_hvg_True_scale_True_leid lgTrue_ng12_pc0_tsNone_hvg_True_scale_True\n",
      "227\n"
     ]
    },
    {
     "name": "stderr",
     "output_type": "stream",
     "text": [
      "/home/chrism/miniconda3/envs/xb/lib/python3.7/site-packages/scanpy/preprocessing/_simple.py:352: RuntimeWarning: invalid value encountered in log1p\n",
      "  np.log1p(X, out=X)\n",
      "/home/chrism/miniconda3/envs/xb/lib/python3.7/site-packages/scanpy/preprocessing/_simple.py:352: RuntimeWarning: divide by zero encountered in log1p\n",
      "  np.log1p(X, out=X)\n",
      "/home/chrism/miniconda3/envs/xb/lib/python3.7/site-packages/scanpy/preprocessing/_simple.py:843: UserWarning: Received a view of an AnnData. Making a copy.\n",
      "  view_to_actual(adata)\n",
      "/home/chrism/miniconda3/envs/xb/lib/python3.7/site-packages/scanpy/preprocessing/_simple.py:843: FutureWarning: X.dtype being converted to np.float32 from float64. In the next version of anndata (0.9) conversion will not be automatic. Pass dtype explicitly to avoid this warning. Pass `AnnData(X, dtype=X.dtype, ...)` to get the future behavour.\n",
      "  view_to_actual(adata)\n",
      "/home/chrism/miniconda3/envs/xb/lib/python3.7/site-packages/scanpy/preprocessing/_utils.py:12: RuntimeWarning: invalid value encountered in subtract\n",
      "  var = mean_sq - mean**2\n",
      "/home/chrism/miniconda3/envs/xb/lib/python3.7/site-packages/scanpy/preprocessing/_simple.py:792: RuntimeWarning: invalid value encountered in subtract\n",
      "  X -= mean\n"
     ]
    },
    {
     "name": "stdout",
     "output_type": "stream",
     "text": [
      "(9313, 84)\n",
      "228\n",
      "TrueTrueTrue[10, 100, 1000, None]\n",
      "(9313, 212)\n"
     ]
    },
    {
     "name": "stderr",
     "output_type": "stream",
     "text": [
      "/home/chrism/miniconda3/envs/xb/lib/python3.7/site-packages/scanpy/experimental/pp/_normalization.py:45: UserWarning: `normalize_pearson_residuals()` expects raw count data, but non-integers were found.\n",
      "  UserWarning,\n"
     ]
    },
    {
     "name": "stdout",
     "output_type": "stream",
     "text": [
      "229\n",
      "(9313, 212)\n"
     ]
    },
    {
     "name": "stderr",
     "output_type": "stream",
     "text": [
      "/home/chrism/miniconda3/envs/xb/lib/python3.7/site-packages/scanpy/preprocessing/_simple.py:352: RuntimeWarning: invalid value encountered in log1p\n",
      "  np.log1p(X, out=X)\n"
     ]
    },
    {
     "name": "stdout",
     "output_type": "stream",
     "text": [
      "230\n",
      "(9313, 212)\n"
     ]
    },
    {
     "name": "stderr",
     "output_type": "stream",
     "text": [
      "/home/chrism/miniconda3/envs/xb/lib/python3.7/site-packages/scanpy/preprocessing/_simple.py:352: RuntimeWarning: divide by zero encountered in log1p\n",
      "  np.log1p(X, out=X)\n"
     ]
    },
    {
     "name": "stdout",
     "output_type": "stream",
     "text": [
      "231\n",
      "TrueFalseFalse[10, 100, 1000, None]\n",
      "232\n",
      "normTrue_lgTrue_ng12_pc20_tsNone_hvg_True_scale_False_leid lgTrue_ng12_pc20_tsNone_hvg_True_scale_False\n",
      "233\n",
      "(9313, 84)\n"
     ]
    },
    {
     "name": "stderr",
     "output_type": "stream",
     "text": [
      "/home/chrism/miniconda3/envs/xb/lib/python3.7/site-packages/scanpy/preprocessing/_simple.py:352: RuntimeWarning: invalid value encountered in log1p\n",
      "  np.log1p(X, out=X)\n",
      "/home/chrism/miniconda3/envs/xb/lib/python3.7/site-packages/scanpy/preprocessing/_simple.py:352: RuntimeWarning: divide by zero encountered in log1p\n",
      "  np.log1p(X, out=X)\n",
      "/home/chrism/git/Xenium_benchmarking/xb/simulating.py:314: ImplicitModificationWarning: Trying to modify attribute `.X` of view, initializing view as actual.\n",
      "  adata.X[adata.X==-np.inf]=0\n",
      "/home/chrism/miniconda3/envs/xb/lib/python3.7/contextlib.py:119: FutureWarning: X.dtype being converted to np.float32 from float64. In the next version of anndata (0.9) conversion will not be automatic. Pass dtype explicitly to avoid this warning. Pass `AnnData(X, dtype=X.dtype, ...)` to get the future behavour.\n",
      "  next(self.gen)\n"
     ]
    },
    {
     "name": "stdout",
     "output_type": "stream",
     "text": [
      "234\n",
      "TrueFalseTrue[10, 100, 1000, None]\n",
      "235\n",
      "(9313, 212)\n"
     ]
    },
    {
     "name": "stderr",
     "output_type": "stream",
     "text": [
      "/home/chrism/miniconda3/envs/xb/lib/python3.7/site-packages/scanpy/preprocessing/_simple.py:352: RuntimeWarning: invalid value encountered in log1p\n",
      "  np.log1p(X, out=X)\n"
     ]
    },
    {
     "name": "stdout",
     "output_type": "stream",
     "text": [
      "236\n",
      "(9313, 212)\n"
     ]
    },
    {
     "name": "stderr",
     "output_type": "stream",
     "text": [
      "/home/chrism/miniconda3/envs/xb/lib/python3.7/site-packages/scanpy/preprocessing/_simple.py:352: RuntimeWarning: divide by zero encountered in log1p\n",
      "  np.log1p(X, out=X)\n",
      "/home/chrism/miniconda3/envs/xb/lib/python3.7/site-packages/scanpy/preprocessing/_utils.py:12: RuntimeWarning: invalid value encountered in subtract\n",
      "  var = mean_sq - mean**2\n",
      "/home/chrism/miniconda3/envs/xb/lib/python3.7/site-packages/scanpy/preprocessing/_simple.py:792: RuntimeWarning: invalid value encountered in subtract\n",
      "  X -= mean\n"
     ]
    },
    {
     "name": "stdout",
     "output_type": "stream",
     "text": [
      "237\n",
      "TrueTrueFalse[10, 100, 1000, None]\n",
      "238\n",
      "normTrue_lgTrue_ng12_pc20_tsNone_hvg_True_scale_True_leid lgTrue_ng12_pc20_tsNone_hvg_True_scale_True\n",
      "239\n"
     ]
    },
    {
     "name": "stderr",
     "output_type": "stream",
     "text": [
      "/home/chrism/miniconda3/envs/xb/lib/python3.7/site-packages/scanpy/preprocessing/_simple.py:352: RuntimeWarning: invalid value encountered in log1p\n",
      "  np.log1p(X, out=X)\n",
      "/home/chrism/miniconda3/envs/xb/lib/python3.7/site-packages/scanpy/preprocessing/_simple.py:352: RuntimeWarning: divide by zero encountered in log1p\n",
      "  np.log1p(X, out=X)\n",
      "/home/chrism/miniconda3/envs/xb/lib/python3.7/site-packages/scanpy/preprocessing/_simple.py:843: UserWarning: Received a view of an AnnData. Making a copy.\n",
      "  view_to_actual(adata)\n",
      "/home/chrism/miniconda3/envs/xb/lib/python3.7/site-packages/scanpy/preprocessing/_simple.py:843: FutureWarning: X.dtype being converted to np.float32 from float64. In the next version of anndata (0.9) conversion will not be automatic. Pass dtype explicitly to avoid this warning. Pass `AnnData(X, dtype=X.dtype, ...)` to get the future behavour.\n",
      "  view_to_actual(adata)\n",
      "/home/chrism/miniconda3/envs/xb/lib/python3.7/site-packages/scanpy/preprocessing/_utils.py:12: RuntimeWarning: invalid value encountered in subtract\n",
      "  var = mean_sq - mean**2\n",
      "/home/chrism/miniconda3/envs/xb/lib/python3.7/site-packages/scanpy/preprocessing/_simple.py:792: RuntimeWarning: invalid value encountered in subtract\n",
      "  X -= mean\n"
     ]
    },
    {
     "name": "stdout",
     "output_type": "stream",
     "text": [
      "(9313, 84)\n",
      "240\n",
      "TrueTrueTrue[10, 100, 1000, None]\n",
      "(9313, 212)\n"
     ]
    },
    {
     "name": "stderr",
     "output_type": "stream",
     "text": [
      "/home/chrism/miniconda3/envs/xb/lib/python3.7/site-packages/scanpy/experimental/pp/_normalization.py:45: UserWarning: `normalize_pearson_residuals()` expects raw count data, but non-integers were found.\n",
      "  UserWarning,\n"
     ]
    },
    {
     "name": "stdout",
     "output_type": "stream",
     "text": [
      "241\n",
      "(9313, 212)\n"
     ]
    },
    {
     "name": "stderr",
     "output_type": "stream",
     "text": [
      "/home/chrism/miniconda3/envs/xb/lib/python3.7/site-packages/scanpy/preprocessing/_simple.py:352: RuntimeWarning: invalid value encountered in log1p\n",
      "  np.log1p(X, out=X)\n"
     ]
    },
    {
     "name": "stdout",
     "output_type": "stream",
     "text": [
      "242\n",
      "(9313, 212)\n"
     ]
    },
    {
     "name": "stderr",
     "output_type": "stream",
     "text": [
      "/home/chrism/miniconda3/envs/xb/lib/python3.7/site-packages/scanpy/preprocessing/_simple.py:352: RuntimeWarning: divide by zero encountered in log1p\n",
      "  np.log1p(X, out=X)\n"
     ]
    },
    {
     "name": "stdout",
     "output_type": "stream",
     "text": [
      "243\n",
      "TrueFalseFalse[10, 100, 1000, None]\n",
      "244\n",
      "normTrue_lgTrue_ng12_pc40_tsNone_hvg_True_scale_False_leid lgTrue_ng12_pc40_tsNone_hvg_True_scale_False\n",
      "245\n",
      "(9313, 84)\n"
     ]
    },
    {
     "name": "stderr",
     "output_type": "stream",
     "text": [
      "/home/chrism/miniconda3/envs/xb/lib/python3.7/site-packages/scanpy/preprocessing/_simple.py:352: RuntimeWarning: invalid value encountered in log1p\n",
      "  np.log1p(X, out=X)\n",
      "/home/chrism/miniconda3/envs/xb/lib/python3.7/site-packages/scanpy/preprocessing/_simple.py:352: RuntimeWarning: divide by zero encountered in log1p\n",
      "  np.log1p(X, out=X)\n",
      "/home/chrism/git/Xenium_benchmarking/xb/simulating.py:314: ImplicitModificationWarning: Trying to modify attribute `.X` of view, initializing view as actual.\n",
      "  adata.X[adata.X==-np.inf]=0\n",
      "/home/chrism/miniconda3/envs/xb/lib/python3.7/contextlib.py:119: FutureWarning: X.dtype being converted to np.float32 from float64. In the next version of anndata (0.9) conversion will not be automatic. Pass dtype explicitly to avoid this warning. Pass `AnnData(X, dtype=X.dtype, ...)` to get the future behavour.\n",
      "  next(self.gen)\n"
     ]
    },
    {
     "name": "stdout",
     "output_type": "stream",
     "text": [
      "246\n",
      "TrueFalseTrue[10, 100, 1000, None]\n",
      "247\n",
      "(9313, 212)\n"
     ]
    },
    {
     "name": "stderr",
     "output_type": "stream",
     "text": [
      "/home/chrism/miniconda3/envs/xb/lib/python3.7/site-packages/scanpy/preprocessing/_simple.py:352: RuntimeWarning: invalid value encountered in log1p\n",
      "  np.log1p(X, out=X)\n"
     ]
    },
    {
     "name": "stdout",
     "output_type": "stream",
     "text": [
      "248\n",
      "(9313, 212)\n"
     ]
    },
    {
     "name": "stderr",
     "output_type": "stream",
     "text": [
      "/home/chrism/miniconda3/envs/xb/lib/python3.7/site-packages/scanpy/preprocessing/_simple.py:352: RuntimeWarning: divide by zero encountered in log1p\n",
      "  np.log1p(X, out=X)\n",
      "/home/chrism/miniconda3/envs/xb/lib/python3.7/site-packages/scanpy/preprocessing/_utils.py:12: RuntimeWarning: invalid value encountered in subtract\n",
      "  var = mean_sq - mean**2\n",
      "/home/chrism/miniconda3/envs/xb/lib/python3.7/site-packages/scanpy/preprocessing/_simple.py:792: RuntimeWarning: invalid value encountered in subtract\n",
      "  X -= mean\n"
     ]
    },
    {
     "name": "stdout",
     "output_type": "stream",
     "text": [
      "249\n",
      "TrueTrueFalse[10, 100, 1000, None]\n",
      "250\n",
      "normTrue_lgTrue_ng12_pc40_tsNone_hvg_True_scale_True_leid lgTrue_ng12_pc40_tsNone_hvg_True_scale_True\n",
      "251\n"
     ]
    },
    {
     "name": "stderr",
     "output_type": "stream",
     "text": [
      "/home/chrism/miniconda3/envs/xb/lib/python3.7/site-packages/scanpy/preprocessing/_simple.py:352: RuntimeWarning: invalid value encountered in log1p\n",
      "  np.log1p(X, out=X)\n",
      "/home/chrism/miniconda3/envs/xb/lib/python3.7/site-packages/scanpy/preprocessing/_simple.py:352: RuntimeWarning: divide by zero encountered in log1p\n",
      "  np.log1p(X, out=X)\n",
      "/home/chrism/miniconda3/envs/xb/lib/python3.7/site-packages/scanpy/preprocessing/_simple.py:843: UserWarning: Received a view of an AnnData. Making a copy.\n",
      "  view_to_actual(adata)\n",
      "/home/chrism/miniconda3/envs/xb/lib/python3.7/site-packages/scanpy/preprocessing/_simple.py:843: FutureWarning: X.dtype being converted to np.float32 from float64. In the next version of anndata (0.9) conversion will not be automatic. Pass dtype explicitly to avoid this warning. Pass `AnnData(X, dtype=X.dtype, ...)` to get the future behavour.\n",
      "  view_to_actual(adata)\n",
      "/home/chrism/miniconda3/envs/xb/lib/python3.7/site-packages/scanpy/preprocessing/_utils.py:12: RuntimeWarning: invalid value encountered in subtract\n",
      "  var = mean_sq - mean**2\n",
      "/home/chrism/miniconda3/envs/xb/lib/python3.7/site-packages/scanpy/preprocessing/_simple.py:792: RuntimeWarning: invalid value encountered in subtract\n",
      "  X -= mean\n"
     ]
    },
    {
     "name": "stdout",
     "output_type": "stream",
     "text": [
      "(9313, 84)\n",
      "252\n",
      "TrueTrueTrue[10, 100, 1000, None]\n",
      "(9313, 212)\n"
     ]
    },
    {
     "name": "stderr",
     "output_type": "stream",
     "text": [
      "/home/chrism/miniconda3/envs/xb/lib/python3.7/site-packages/scanpy/experimental/pp/_normalization.py:45: UserWarning: `normalize_pearson_residuals()` expects raw count data, but non-integers were found.\n",
      "  UserWarning,\n"
     ]
    },
    {
     "name": "stdout",
     "output_type": "stream",
     "text": [
      "253\n",
      "(9313, 212)\n"
     ]
    },
    {
     "name": "stderr",
     "output_type": "stream",
     "text": [
      "/home/chrism/miniconda3/envs/xb/lib/python3.7/site-packages/scanpy/preprocessing/_simple.py:352: RuntimeWarning: invalid value encountered in log1p\n",
      "  np.log1p(X, out=X)\n"
     ]
    },
    {
     "name": "stdout",
     "output_type": "stream",
     "text": [
      "254\n",
      "(9313, 212)\n"
     ]
    },
    {
     "name": "stderr",
     "output_type": "stream",
     "text": [
      "/home/chrism/miniconda3/envs/xb/lib/python3.7/site-packages/scanpy/preprocessing/_simple.py:352: RuntimeWarning: divide by zero encountered in log1p\n",
      "  np.log1p(X, out=X)\n"
     ]
    },
    {
     "name": "stdout",
     "output_type": "stream",
     "text": [
      "255\n",
      "TrueFalseFalse[10, 100, 1000, None]\n",
      "256\n",
      "normTrue_lgTrue_ng16_pc0_tsNone_hvg_True_scale_False_leid lgTrue_ng16_pc0_tsNone_hvg_True_scale_False\n",
      "257\n",
      "(9313, 84)\n"
     ]
    },
    {
     "name": "stderr",
     "output_type": "stream",
     "text": [
      "/home/chrism/miniconda3/envs/xb/lib/python3.7/site-packages/scanpy/preprocessing/_simple.py:352: RuntimeWarning: invalid value encountered in log1p\n",
      "  np.log1p(X, out=X)\n",
      "/home/chrism/miniconda3/envs/xb/lib/python3.7/site-packages/scanpy/preprocessing/_simple.py:352: RuntimeWarning: divide by zero encountered in log1p\n",
      "  np.log1p(X, out=X)\n",
      "/home/chrism/git/Xenium_benchmarking/xb/simulating.py:314: ImplicitModificationWarning: Trying to modify attribute `.X` of view, initializing view as actual.\n",
      "  adata.X[adata.X==-np.inf]=0\n",
      "/home/chrism/miniconda3/envs/xb/lib/python3.7/contextlib.py:119: FutureWarning: X.dtype being converted to np.float32 from float64. In the next version of anndata (0.9) conversion will not be automatic. Pass dtype explicitly to avoid this warning. Pass `AnnData(X, dtype=X.dtype, ...)` to get the future behavour.\n",
      "  next(self.gen)\n"
     ]
    },
    {
     "name": "stdout",
     "output_type": "stream",
     "text": [
      "258\n",
      "TrueFalseTrue[10, 100, 1000, None]\n",
      "259\n",
      "(9313, 212)\n"
     ]
    },
    {
     "name": "stderr",
     "output_type": "stream",
     "text": [
      "/home/chrism/miniconda3/envs/xb/lib/python3.7/site-packages/scanpy/preprocessing/_simple.py:352: RuntimeWarning: invalid value encountered in log1p\n",
      "  np.log1p(X, out=X)\n"
     ]
    },
    {
     "name": "stdout",
     "output_type": "stream",
     "text": [
      "260\n",
      "(9313, 212)\n"
     ]
    },
    {
     "name": "stderr",
     "output_type": "stream",
     "text": [
      "/home/chrism/miniconda3/envs/xb/lib/python3.7/site-packages/scanpy/preprocessing/_simple.py:352: RuntimeWarning: divide by zero encountered in log1p\n",
      "  np.log1p(X, out=X)\n",
      "/home/chrism/miniconda3/envs/xb/lib/python3.7/site-packages/scanpy/preprocessing/_utils.py:12: RuntimeWarning: invalid value encountered in subtract\n",
      "  var = mean_sq - mean**2\n",
      "/home/chrism/miniconda3/envs/xb/lib/python3.7/site-packages/scanpy/preprocessing/_simple.py:792: RuntimeWarning: invalid value encountered in subtract\n",
      "  X -= mean\n"
     ]
    },
    {
     "name": "stdout",
     "output_type": "stream",
     "text": [
      "261\n",
      "TrueTrueFalse[10, 100, 1000, None]\n",
      "262\n",
      "normTrue_lgTrue_ng16_pc0_tsNone_hvg_True_scale_True_leid lgTrue_ng16_pc0_tsNone_hvg_True_scale_True\n",
      "263\n"
     ]
    },
    {
     "name": "stderr",
     "output_type": "stream",
     "text": [
      "/home/chrism/miniconda3/envs/xb/lib/python3.7/site-packages/scanpy/preprocessing/_simple.py:352: RuntimeWarning: invalid value encountered in log1p\n",
      "  np.log1p(X, out=X)\n",
      "/home/chrism/miniconda3/envs/xb/lib/python3.7/site-packages/scanpy/preprocessing/_simple.py:352: RuntimeWarning: divide by zero encountered in log1p\n",
      "  np.log1p(X, out=X)\n",
      "/home/chrism/miniconda3/envs/xb/lib/python3.7/site-packages/scanpy/preprocessing/_simple.py:843: UserWarning: Received a view of an AnnData. Making a copy.\n",
      "  view_to_actual(adata)\n",
      "/home/chrism/miniconda3/envs/xb/lib/python3.7/site-packages/scanpy/preprocessing/_simple.py:843: FutureWarning: X.dtype being converted to np.float32 from float64. In the next version of anndata (0.9) conversion will not be automatic. Pass dtype explicitly to avoid this warning. Pass `AnnData(X, dtype=X.dtype, ...)` to get the future behavour.\n",
      "  view_to_actual(adata)\n",
      "/home/chrism/miniconda3/envs/xb/lib/python3.7/site-packages/scanpy/preprocessing/_utils.py:12: RuntimeWarning: invalid value encountered in subtract\n",
      "  var = mean_sq - mean**2\n",
      "/home/chrism/miniconda3/envs/xb/lib/python3.7/site-packages/scanpy/preprocessing/_simple.py:792: RuntimeWarning: invalid value encountered in subtract\n",
      "  X -= mean\n"
     ]
    },
    {
     "name": "stdout",
     "output_type": "stream",
     "text": [
      "(9313, 84)\n",
      "264\n",
      "TrueTrueTrue[10, 100, 1000, None]\n",
      "(9313, 212)\n"
     ]
    },
    {
     "name": "stderr",
     "output_type": "stream",
     "text": [
      "/home/chrism/miniconda3/envs/xb/lib/python3.7/site-packages/scanpy/experimental/pp/_normalization.py:45: UserWarning: `normalize_pearson_residuals()` expects raw count data, but non-integers were found.\n",
      "  UserWarning,\n"
     ]
    },
    {
     "name": "stdout",
     "output_type": "stream",
     "text": [
      "265\n",
      "(9313, 212)\n"
     ]
    },
    {
     "name": "stderr",
     "output_type": "stream",
     "text": [
      "/home/chrism/miniconda3/envs/xb/lib/python3.7/site-packages/scanpy/preprocessing/_simple.py:352: RuntimeWarning: invalid value encountered in log1p\n",
      "  np.log1p(X, out=X)\n"
     ]
    },
    {
     "name": "stdout",
     "output_type": "stream",
     "text": [
      "266\n",
      "(9313, 212)\n"
     ]
    },
    {
     "name": "stderr",
     "output_type": "stream",
     "text": [
      "/home/chrism/miniconda3/envs/xb/lib/python3.7/site-packages/scanpy/preprocessing/_simple.py:352: RuntimeWarning: divide by zero encountered in log1p\n",
      "  np.log1p(X, out=X)\n"
     ]
    },
    {
     "name": "stdout",
     "output_type": "stream",
     "text": [
      "267\n",
      "TrueFalseFalse[10, 100, 1000, None]\n",
      "268\n",
      "normTrue_lgTrue_ng16_pc20_tsNone_hvg_True_scale_False_leid lgTrue_ng16_pc20_tsNone_hvg_True_scale_False\n",
      "269\n",
      "(9313, 84)\n"
     ]
    },
    {
     "name": "stderr",
     "output_type": "stream",
     "text": [
      "/home/chrism/miniconda3/envs/xb/lib/python3.7/site-packages/scanpy/preprocessing/_simple.py:352: RuntimeWarning: invalid value encountered in log1p\n",
      "  np.log1p(X, out=X)\n",
      "/home/chrism/miniconda3/envs/xb/lib/python3.7/site-packages/scanpy/preprocessing/_simple.py:352: RuntimeWarning: divide by zero encountered in log1p\n",
      "  np.log1p(X, out=X)\n",
      "/home/chrism/git/Xenium_benchmarking/xb/simulating.py:314: ImplicitModificationWarning: Trying to modify attribute `.X` of view, initializing view as actual.\n",
      "  adata.X[adata.X==-np.inf]=0\n",
      "/home/chrism/miniconda3/envs/xb/lib/python3.7/contextlib.py:119: FutureWarning: X.dtype being converted to np.float32 from float64. In the next version of anndata (0.9) conversion will not be automatic. Pass dtype explicitly to avoid this warning. Pass `AnnData(X, dtype=X.dtype, ...)` to get the future behavour.\n",
      "  next(self.gen)\n"
     ]
    },
    {
     "name": "stdout",
     "output_type": "stream",
     "text": [
      "270\n",
      "TrueFalseTrue[10, 100, 1000, None]\n",
      "271\n",
      "(9313, 212)\n"
     ]
    },
    {
     "name": "stderr",
     "output_type": "stream",
     "text": [
      "/home/chrism/miniconda3/envs/xb/lib/python3.7/site-packages/scanpy/preprocessing/_simple.py:352: RuntimeWarning: invalid value encountered in log1p\n",
      "  np.log1p(X, out=X)\n"
     ]
    },
    {
     "name": "stdout",
     "output_type": "stream",
     "text": [
      "272\n",
      "(9313, 212)\n"
     ]
    },
    {
     "name": "stderr",
     "output_type": "stream",
     "text": [
      "/home/chrism/miniconda3/envs/xb/lib/python3.7/site-packages/scanpy/preprocessing/_simple.py:352: RuntimeWarning: divide by zero encountered in log1p\n",
      "  np.log1p(X, out=X)\n",
      "/home/chrism/miniconda3/envs/xb/lib/python3.7/site-packages/scanpy/preprocessing/_utils.py:12: RuntimeWarning: invalid value encountered in subtract\n",
      "  var = mean_sq - mean**2\n",
      "/home/chrism/miniconda3/envs/xb/lib/python3.7/site-packages/scanpy/preprocessing/_simple.py:792: RuntimeWarning: invalid value encountered in subtract\n",
      "  X -= mean\n"
     ]
    },
    {
     "name": "stdout",
     "output_type": "stream",
     "text": [
      "273\n",
      "TrueTrueFalse[10, 100, 1000, None]\n",
      "274\n",
      "normTrue_lgTrue_ng16_pc20_tsNone_hvg_True_scale_True_leid lgTrue_ng16_pc20_tsNone_hvg_True_scale_True\n",
      "275\n"
     ]
    },
    {
     "name": "stderr",
     "output_type": "stream",
     "text": [
      "/home/chrism/miniconda3/envs/xb/lib/python3.7/site-packages/scanpy/preprocessing/_simple.py:352: RuntimeWarning: invalid value encountered in log1p\n",
      "  np.log1p(X, out=X)\n",
      "/home/chrism/miniconda3/envs/xb/lib/python3.7/site-packages/scanpy/preprocessing/_simple.py:352: RuntimeWarning: divide by zero encountered in log1p\n",
      "  np.log1p(X, out=X)\n",
      "/home/chrism/miniconda3/envs/xb/lib/python3.7/site-packages/scanpy/preprocessing/_simple.py:843: UserWarning: Received a view of an AnnData. Making a copy.\n",
      "  view_to_actual(adata)\n",
      "/home/chrism/miniconda3/envs/xb/lib/python3.7/site-packages/scanpy/preprocessing/_simple.py:843: FutureWarning: X.dtype being converted to np.float32 from float64. In the next version of anndata (0.9) conversion will not be automatic. Pass dtype explicitly to avoid this warning. Pass `AnnData(X, dtype=X.dtype, ...)` to get the future behavour.\n",
      "  view_to_actual(adata)\n",
      "/home/chrism/miniconda3/envs/xb/lib/python3.7/site-packages/scanpy/preprocessing/_utils.py:12: RuntimeWarning: invalid value encountered in subtract\n",
      "  var = mean_sq - mean**2\n",
      "/home/chrism/miniconda3/envs/xb/lib/python3.7/site-packages/scanpy/preprocessing/_simple.py:792: RuntimeWarning: invalid value encountered in subtract\n",
      "  X -= mean\n"
     ]
    },
    {
     "name": "stdout",
     "output_type": "stream",
     "text": [
      "(9313, 84)\n",
      "276\n",
      "TrueTrueTrue[10, 100, 1000, None]\n",
      "(9313, 212)\n"
     ]
    },
    {
     "name": "stderr",
     "output_type": "stream",
     "text": [
      "/home/chrism/miniconda3/envs/xb/lib/python3.7/site-packages/scanpy/experimental/pp/_normalization.py:45: UserWarning: `normalize_pearson_residuals()` expects raw count data, but non-integers were found.\n",
      "  UserWarning,\n"
     ]
    },
    {
     "name": "stdout",
     "output_type": "stream",
     "text": [
      "277\n",
      "(9313, 212)\n"
     ]
    },
    {
     "name": "stderr",
     "output_type": "stream",
     "text": [
      "/home/chrism/miniconda3/envs/xb/lib/python3.7/site-packages/scanpy/preprocessing/_simple.py:352: RuntimeWarning: invalid value encountered in log1p\n",
      "  np.log1p(X, out=X)\n"
     ]
    },
    {
     "name": "stdout",
     "output_type": "stream",
     "text": [
      "278\n",
      "(9313, 212)\n"
     ]
    },
    {
     "name": "stderr",
     "output_type": "stream",
     "text": [
      "/home/chrism/miniconda3/envs/xb/lib/python3.7/site-packages/scanpy/preprocessing/_simple.py:352: RuntimeWarning: divide by zero encountered in log1p\n",
      "  np.log1p(X, out=X)\n"
     ]
    },
    {
     "name": "stdout",
     "output_type": "stream",
     "text": [
      "279\n",
      "TrueFalseFalse[10, 100, 1000, None]\n",
      "280\n",
      "normTrue_lgTrue_ng16_pc40_tsNone_hvg_True_scale_False_leid lgTrue_ng16_pc40_tsNone_hvg_True_scale_False\n",
      "281\n",
      "(9313, 84)\n"
     ]
    },
    {
     "name": "stderr",
     "output_type": "stream",
     "text": [
      "/home/chrism/miniconda3/envs/xb/lib/python3.7/site-packages/scanpy/preprocessing/_simple.py:352: RuntimeWarning: invalid value encountered in log1p\n",
      "  np.log1p(X, out=X)\n",
      "/home/chrism/miniconda3/envs/xb/lib/python3.7/site-packages/scanpy/preprocessing/_simple.py:352: RuntimeWarning: divide by zero encountered in log1p\n",
      "  np.log1p(X, out=X)\n",
      "/home/chrism/git/Xenium_benchmarking/xb/simulating.py:314: ImplicitModificationWarning: Trying to modify attribute `.X` of view, initializing view as actual.\n",
      "  adata.X[adata.X==-np.inf]=0\n",
      "/home/chrism/miniconda3/envs/xb/lib/python3.7/contextlib.py:119: FutureWarning: X.dtype being converted to np.float32 from float64. In the next version of anndata (0.9) conversion will not be automatic. Pass dtype explicitly to avoid this warning. Pass `AnnData(X, dtype=X.dtype, ...)` to get the future behavour.\n",
      "  next(self.gen)\n"
     ]
    },
    {
     "name": "stdout",
     "output_type": "stream",
     "text": [
      "282\n",
      "TrueFalseTrue[10, 100, 1000, None]\n",
      "283\n",
      "(9313, 212)\n"
     ]
    },
    {
     "name": "stderr",
     "output_type": "stream",
     "text": [
      "/home/chrism/miniconda3/envs/xb/lib/python3.7/site-packages/scanpy/preprocessing/_simple.py:352: RuntimeWarning: invalid value encountered in log1p\n",
      "  np.log1p(X, out=X)\n"
     ]
    },
    {
     "name": "stdout",
     "output_type": "stream",
     "text": [
      "284\n",
      "(9313, 212)\n"
     ]
    },
    {
     "name": "stderr",
     "output_type": "stream",
     "text": [
      "/home/chrism/miniconda3/envs/xb/lib/python3.7/site-packages/scanpy/preprocessing/_simple.py:352: RuntimeWarning: divide by zero encountered in log1p\n",
      "  np.log1p(X, out=X)\n",
      "/home/chrism/miniconda3/envs/xb/lib/python3.7/site-packages/scanpy/preprocessing/_utils.py:12: RuntimeWarning: invalid value encountered in subtract\n",
      "  var = mean_sq - mean**2\n",
      "/home/chrism/miniconda3/envs/xb/lib/python3.7/site-packages/scanpy/preprocessing/_simple.py:792: RuntimeWarning: invalid value encountered in subtract\n",
      "  X -= mean\n"
     ]
    },
    {
     "name": "stdout",
     "output_type": "stream",
     "text": [
      "285\n",
      "TrueTrueFalse[10, 100, 1000, None]\n",
      "286\n",
      "normTrue_lgTrue_ng16_pc40_tsNone_hvg_True_scale_True_leid lgTrue_ng16_pc40_tsNone_hvg_True_scale_True\n",
      "287\n"
     ]
    },
    {
     "name": "stderr",
     "output_type": "stream",
     "text": [
      "/home/chrism/miniconda3/envs/xb/lib/python3.7/site-packages/scanpy/preprocessing/_simple.py:352: RuntimeWarning: invalid value encountered in log1p\n",
      "  np.log1p(X, out=X)\n",
      "/home/chrism/miniconda3/envs/xb/lib/python3.7/site-packages/scanpy/preprocessing/_simple.py:352: RuntimeWarning: divide by zero encountered in log1p\n",
      "  np.log1p(X, out=X)\n",
      "/home/chrism/miniconda3/envs/xb/lib/python3.7/site-packages/scanpy/preprocessing/_simple.py:843: UserWarning: Received a view of an AnnData. Making a copy.\n",
      "  view_to_actual(adata)\n",
      "/home/chrism/miniconda3/envs/xb/lib/python3.7/site-packages/scanpy/preprocessing/_simple.py:843: FutureWarning: X.dtype being converted to np.float32 from float64. In the next version of anndata (0.9) conversion will not be automatic. Pass dtype explicitly to avoid this warning. Pass `AnnData(X, dtype=X.dtype, ...)` to get the future behavour.\n",
      "  view_to_actual(adata)\n",
      "/home/chrism/miniconda3/envs/xb/lib/python3.7/site-packages/scanpy/preprocessing/_utils.py:12: RuntimeWarning: invalid value encountered in subtract\n",
      "  var = mean_sq - mean**2\n",
      "/home/chrism/miniconda3/envs/xb/lib/python3.7/site-packages/scanpy/preprocessing/_simple.py:792: RuntimeWarning: invalid value encountered in subtract\n",
      "  X -= mean\n"
     ]
    },
    {
     "name": "stdout",
     "output_type": "stream",
     "text": [
      "(9313, 84)\n",
      "288\n",
      "TrueTrueTrue[10, 100, 1000, None]\n",
      "(9313, 212)\n"
     ]
    },
    {
     "name": "stderr",
     "output_type": "stream",
     "text": [
      "/home/chrism/miniconda3/envs/xb/lib/python3.7/site-packages/scanpy/experimental/pp/_normalization.py:45: UserWarning: `normalize_pearson_residuals()` expects raw count data, but non-integers were found.\n",
      "  UserWarning,\n"
     ]
    },
    {
     "name": "stdout",
     "output_type": "stream",
     "text": [
      "289\n",
      "(9313, 212)\n",
      "290\n",
      "(9313, 212)\n",
      "291\n",
      "FalseFalseFalse[10, 100, 1000, None]\n",
      "292\n",
      "(9313, 46)\n"
     ]
    },
    {
     "name": "stderr",
     "output_type": "stream",
     "text": [
      "/home/chrism/git/Xenium_benchmarking/xb/simulating.py:314: ImplicitModificationWarning: Trying to modify attribute `.X` of view, initializing view as actual.\n",
      "  adata.X[adata.X==-np.inf]=0\n"
     ]
    },
    {
     "name": "stdout",
     "output_type": "stream",
     "text": [
      "293\n",
      "normFalse_lgFalse_ng12_pc0_ts10_hvg_True_scale_False_leid lgFalse_ng12_pc0_ts10_hvg_True_scale_False\n",
      "294\n",
      "FalseFalseTrue[10, 100, 1000, None]\n",
      "295\n"
     ]
    },
    {
     "name": "stderr",
     "output_type": "stream",
     "text": [
      "/home/chrism/miniconda3/envs/xb/lib/python3.7/site-packages/scanpy/preprocessing/_highly_variable_genes.py:200: RuntimeWarning: overflow encountered in expm1\n",
      "  X = np.expm1(X)\n",
      "/home/chrism/miniconda3/envs/xb/lib/python3.7/site-packages/scanpy/preprocessing/_utils.py:11: RuntimeWarning: overflow encountered in multiply\n",
      "  mean_sq = np.multiply(X, X).mean(axis=axis, dtype=np.float64)\n",
      "/home/chrism/miniconda3/envs/xb/lib/python3.7/site-packages/scanpy/preprocessing/_utils.py:12: RuntimeWarning: overflow encountered in square\n",
      "  var = mean_sq - mean**2\n",
      "/home/chrism/miniconda3/envs/xb/lib/python3.7/site-packages/scanpy/preprocessing/_utils.py:12: RuntimeWarning: invalid value encountered in subtract\n",
      "  var = mean_sq - mean**2\n"
     ]
    },
    {
     "name": "stdout",
     "output_type": "stream",
     "text": [
      "(9313, 212)\n",
      "296\n",
      "(9313, 212)\n",
      "297\n",
      "FalseTrueFalse[10, 100, 1000, None]\n",
      "298\n",
      "(9313, 46)\n"
     ]
    },
    {
     "name": "stderr",
     "output_type": "stream",
     "text": [
      "/home/chrism/miniconda3/envs/xb/lib/python3.7/site-packages/scanpy/preprocessing/_simple.py:843: UserWarning: Received a view of an AnnData. Making a copy.\n",
      "  view_to_actual(adata)\n"
     ]
    },
    {
     "name": "stdout",
     "output_type": "stream",
     "text": [
      "299\n",
      "normFalse_lgFalse_ng12_pc0_ts10_hvg_True_scale_True_leid lgFalse_ng12_pc0_ts10_hvg_True_scale_True\n",
      "300\n",
      "FalseTrueTrue[10, 100, 1000, None]\n",
      "301\n",
      "(9313, 212)\n"
     ]
    },
    {
     "name": "stderr",
     "output_type": "stream",
     "text": [
      "/home/chrism/miniconda3/envs/xb/lib/python3.7/site-packages/scanpy/preprocessing/_highly_variable_genes.py:200: RuntimeWarning: overflow encountered in expm1\n",
      "  X = np.expm1(X)\n",
      "/home/chrism/miniconda3/envs/xb/lib/python3.7/site-packages/scanpy/preprocessing/_utils.py:11: RuntimeWarning: overflow encountered in multiply\n",
      "  mean_sq = np.multiply(X, X).mean(axis=axis, dtype=np.float64)\n",
      "/home/chrism/miniconda3/envs/xb/lib/python3.7/site-packages/scanpy/preprocessing/_utils.py:12: RuntimeWarning: overflow encountered in square\n",
      "  var = mean_sq - mean**2\n",
      "/home/chrism/miniconda3/envs/xb/lib/python3.7/site-packages/scanpy/preprocessing/_utils.py:12: RuntimeWarning: invalid value encountered in subtract\n",
      "  var = mean_sq - mean**2\n"
     ]
    },
    {
     "name": "stdout",
     "output_type": "stream",
     "text": [
      "302\n",
      "(9313, 212)\n",
      "303\n",
      "FalseFalseFalse[10, 100, 1000, None]\n",
      "304\n",
      "(9313, 46)\n"
     ]
    },
    {
     "name": "stderr",
     "output_type": "stream",
     "text": [
      "/home/chrism/git/Xenium_benchmarking/xb/simulating.py:314: ImplicitModificationWarning: Trying to modify attribute `.X` of view, initializing view as actual.\n",
      "  adata.X[adata.X==-np.inf]=0\n"
     ]
    },
    {
     "name": "stdout",
     "output_type": "stream",
     "text": [
      "305\n",
      "normFalse_lgFalse_ng12_pc20_ts10_hvg_True_scale_False_leid lgFalse_ng12_pc20_ts10_hvg_True_scale_False\n",
      "306\n",
      "FalseFalseTrue[10, 100, 1000, None]\n",
      "307\n",
      "(9313, 212)\n"
     ]
    },
    {
     "name": "stderr",
     "output_type": "stream",
     "text": [
      "/home/chrism/miniconda3/envs/xb/lib/python3.7/site-packages/scanpy/preprocessing/_highly_variable_genes.py:200: RuntimeWarning: overflow encountered in expm1\n",
      "  X = np.expm1(X)\n",
      "/home/chrism/miniconda3/envs/xb/lib/python3.7/site-packages/scanpy/preprocessing/_utils.py:11: RuntimeWarning: overflow encountered in multiply\n",
      "  mean_sq = np.multiply(X, X).mean(axis=axis, dtype=np.float64)\n",
      "/home/chrism/miniconda3/envs/xb/lib/python3.7/site-packages/scanpy/preprocessing/_utils.py:12: RuntimeWarning: overflow encountered in square\n",
      "  var = mean_sq - mean**2\n",
      "/home/chrism/miniconda3/envs/xb/lib/python3.7/site-packages/scanpy/preprocessing/_utils.py:12: RuntimeWarning: invalid value encountered in subtract\n",
      "  var = mean_sq - mean**2\n"
     ]
    },
    {
     "name": "stdout",
     "output_type": "stream",
     "text": [
      "308\n",
      "(9313, 212)\n",
      "309\n",
      "FalseTrueFalse[10, 100, 1000, None]\n",
      "310\n",
      "(9313, 46)\n"
     ]
    },
    {
     "name": "stderr",
     "output_type": "stream",
     "text": [
      "/home/chrism/miniconda3/envs/xb/lib/python3.7/site-packages/scanpy/preprocessing/_simple.py:843: UserWarning: Received a view of an AnnData. Making a copy.\n",
      "  view_to_actual(adata)\n"
     ]
    },
    {
     "name": "stdout",
     "output_type": "stream",
     "text": [
      "311\n",
      "normFalse_lgFalse_ng12_pc20_ts10_hvg_True_scale_True_leid lgFalse_ng12_pc20_ts10_hvg_True_scale_True\n",
      "312\n",
      "FalseTrueTrue[10, 100, 1000, None]\n",
      "313\n",
      "(9313, 212)\n"
     ]
    },
    {
     "name": "stderr",
     "output_type": "stream",
     "text": [
      "/home/chrism/miniconda3/envs/xb/lib/python3.7/site-packages/scanpy/preprocessing/_highly_variable_genes.py:200: RuntimeWarning: overflow encountered in expm1\n",
      "  X = np.expm1(X)\n",
      "/home/chrism/miniconda3/envs/xb/lib/python3.7/site-packages/scanpy/preprocessing/_utils.py:11: RuntimeWarning: overflow encountered in multiply\n",
      "  mean_sq = np.multiply(X, X).mean(axis=axis, dtype=np.float64)\n",
      "/home/chrism/miniconda3/envs/xb/lib/python3.7/site-packages/scanpy/preprocessing/_utils.py:12: RuntimeWarning: overflow encountered in square\n",
      "  var = mean_sq - mean**2\n",
      "/home/chrism/miniconda3/envs/xb/lib/python3.7/site-packages/scanpy/preprocessing/_utils.py:12: RuntimeWarning: invalid value encountered in subtract\n",
      "  var = mean_sq - mean**2\n"
     ]
    },
    {
     "name": "stdout",
     "output_type": "stream",
     "text": [
      "314\n",
      "(9313, 212)\n",
      "315\n",
      "FalseFalseFalse[10, 100, 1000, None]\n",
      "316\n",
      "(9313, 46)\n"
     ]
    },
    {
     "name": "stderr",
     "output_type": "stream",
     "text": [
      "/home/chrism/git/Xenium_benchmarking/xb/simulating.py:314: ImplicitModificationWarning: Trying to modify attribute `.X` of view, initializing view as actual.\n",
      "  adata.X[adata.X==-np.inf]=0\n"
     ]
    },
    {
     "name": "stdout",
     "output_type": "stream",
     "text": [
      "317\n",
      "normFalse_lgFalse_ng12_pc40_ts10_hvg_True_scale_False_leid lgFalse_ng12_pc40_ts10_hvg_True_scale_False\n",
      "318\n",
      "FalseFalseTrue[10, 100, 1000, None]\n",
      "319\n",
      "(9313, 212)\n"
     ]
    },
    {
     "name": "stderr",
     "output_type": "stream",
     "text": [
      "/home/chrism/miniconda3/envs/xb/lib/python3.7/site-packages/scanpy/preprocessing/_highly_variable_genes.py:200: RuntimeWarning: overflow encountered in expm1\n",
      "  X = np.expm1(X)\n",
      "/home/chrism/miniconda3/envs/xb/lib/python3.7/site-packages/scanpy/preprocessing/_utils.py:11: RuntimeWarning: overflow encountered in multiply\n",
      "  mean_sq = np.multiply(X, X).mean(axis=axis, dtype=np.float64)\n",
      "/home/chrism/miniconda3/envs/xb/lib/python3.7/site-packages/scanpy/preprocessing/_utils.py:12: RuntimeWarning: overflow encountered in square\n",
      "  var = mean_sq - mean**2\n",
      "/home/chrism/miniconda3/envs/xb/lib/python3.7/site-packages/scanpy/preprocessing/_utils.py:12: RuntimeWarning: invalid value encountered in subtract\n",
      "  var = mean_sq - mean**2\n"
     ]
    },
    {
     "name": "stdout",
     "output_type": "stream",
     "text": [
      "320\n",
      "(9313, 212)\n",
      "321\n",
      "FalseTrueFalse[10, 100, 1000, None]\n",
      "322\n",
      "(9313, 46)\n"
     ]
    },
    {
     "name": "stderr",
     "output_type": "stream",
     "text": [
      "/home/chrism/miniconda3/envs/xb/lib/python3.7/site-packages/scanpy/preprocessing/_simple.py:843: UserWarning: Received a view of an AnnData. Making a copy.\n",
      "  view_to_actual(adata)\n"
     ]
    },
    {
     "name": "stdout",
     "output_type": "stream",
     "text": [
      "323\n",
      "normFalse_lgFalse_ng12_pc40_ts10_hvg_True_scale_True_leid lgFalse_ng12_pc40_ts10_hvg_True_scale_True\n",
      "324\n",
      "FalseTrueTrue[10, 100, 1000, None]\n",
      "325\n",
      "(9313, 212)\n"
     ]
    },
    {
     "name": "stderr",
     "output_type": "stream",
     "text": [
      "/home/chrism/miniconda3/envs/xb/lib/python3.7/site-packages/scanpy/preprocessing/_highly_variable_genes.py:200: RuntimeWarning: overflow encountered in expm1\n",
      "  X = np.expm1(X)\n",
      "/home/chrism/miniconda3/envs/xb/lib/python3.7/site-packages/scanpy/preprocessing/_utils.py:11: RuntimeWarning: overflow encountered in multiply\n",
      "  mean_sq = np.multiply(X, X).mean(axis=axis, dtype=np.float64)\n",
      "/home/chrism/miniconda3/envs/xb/lib/python3.7/site-packages/scanpy/preprocessing/_utils.py:12: RuntimeWarning: overflow encountered in square\n",
      "  var = mean_sq - mean**2\n",
      "/home/chrism/miniconda3/envs/xb/lib/python3.7/site-packages/scanpy/preprocessing/_utils.py:12: RuntimeWarning: invalid value encountered in subtract\n",
      "  var = mean_sq - mean**2\n"
     ]
    },
    {
     "name": "stdout",
     "output_type": "stream",
     "text": [
      "326\n",
      "(9313, 212)\n",
      "327\n",
      "FalseFalseFalse[10, 100, 1000, None]\n",
      "328\n",
      "(9313, 46)\n"
     ]
    },
    {
     "name": "stderr",
     "output_type": "stream",
     "text": [
      "/home/chrism/git/Xenium_benchmarking/xb/simulating.py:314: ImplicitModificationWarning: Trying to modify attribute `.X` of view, initializing view as actual.\n",
      "  adata.X[adata.X==-np.inf]=0\n"
     ]
    },
    {
     "name": "stdout",
     "output_type": "stream",
     "text": [
      "329\n",
      "normFalse_lgFalse_ng16_pc0_ts10_hvg_True_scale_False_leid lgFalse_ng16_pc0_ts10_hvg_True_scale_False\n",
      "330\n",
      "FalseFalseTrue[10, 100, 1000, None]\n",
      "331\n",
      "(9313, 212)\n"
     ]
    },
    {
     "name": "stderr",
     "output_type": "stream",
     "text": [
      "/home/chrism/miniconda3/envs/xb/lib/python3.7/site-packages/scanpy/preprocessing/_highly_variable_genes.py:200: RuntimeWarning: overflow encountered in expm1\n",
      "  X = np.expm1(X)\n",
      "/home/chrism/miniconda3/envs/xb/lib/python3.7/site-packages/scanpy/preprocessing/_utils.py:11: RuntimeWarning: overflow encountered in multiply\n",
      "  mean_sq = np.multiply(X, X).mean(axis=axis, dtype=np.float64)\n",
      "/home/chrism/miniconda3/envs/xb/lib/python3.7/site-packages/scanpy/preprocessing/_utils.py:12: RuntimeWarning: overflow encountered in square\n",
      "  var = mean_sq - mean**2\n",
      "/home/chrism/miniconda3/envs/xb/lib/python3.7/site-packages/scanpy/preprocessing/_utils.py:12: RuntimeWarning: invalid value encountered in subtract\n",
      "  var = mean_sq - mean**2\n"
     ]
    },
    {
     "name": "stdout",
     "output_type": "stream",
     "text": [
      "332\n",
      "(9313, 212)\n",
      "333\n",
      "FalseTrueFalse[10, 100, 1000, None]\n",
      "334\n",
      "(9313, 46)\n"
     ]
    },
    {
     "name": "stderr",
     "output_type": "stream",
     "text": [
      "/home/chrism/miniconda3/envs/xb/lib/python3.7/site-packages/scanpy/preprocessing/_simple.py:843: UserWarning: Received a view of an AnnData. Making a copy.\n",
      "  view_to_actual(adata)\n"
     ]
    },
    {
     "name": "stdout",
     "output_type": "stream",
     "text": [
      "335\n",
      "normFalse_lgFalse_ng16_pc0_ts10_hvg_True_scale_True_leid lgFalse_ng16_pc0_ts10_hvg_True_scale_True\n",
      "336\n",
      "FalseTrueTrue[10, 100, 1000, None]\n",
      "337\n",
      "(9313, 212)\n"
     ]
    },
    {
     "name": "stderr",
     "output_type": "stream",
     "text": [
      "/home/chrism/miniconda3/envs/xb/lib/python3.7/site-packages/scanpy/preprocessing/_highly_variable_genes.py:200: RuntimeWarning: overflow encountered in expm1\n",
      "  X = np.expm1(X)\n",
      "/home/chrism/miniconda3/envs/xb/lib/python3.7/site-packages/scanpy/preprocessing/_utils.py:11: RuntimeWarning: overflow encountered in multiply\n",
      "  mean_sq = np.multiply(X, X).mean(axis=axis, dtype=np.float64)\n",
      "/home/chrism/miniconda3/envs/xb/lib/python3.7/site-packages/scanpy/preprocessing/_utils.py:12: RuntimeWarning: overflow encountered in square\n",
      "  var = mean_sq - mean**2\n",
      "/home/chrism/miniconda3/envs/xb/lib/python3.7/site-packages/scanpy/preprocessing/_utils.py:12: RuntimeWarning: invalid value encountered in subtract\n",
      "  var = mean_sq - mean**2\n"
     ]
    },
    {
     "name": "stdout",
     "output_type": "stream",
     "text": [
      "338\n",
      "(9313, 212)\n",
      "339\n",
      "FalseFalseFalse[10, 100, 1000, None]\n",
      "340\n",
      "(9313, 46)\n"
     ]
    },
    {
     "name": "stderr",
     "output_type": "stream",
     "text": [
      "/home/chrism/git/Xenium_benchmarking/xb/simulating.py:314: ImplicitModificationWarning: Trying to modify attribute `.X` of view, initializing view as actual.\n",
      "  adata.X[adata.X==-np.inf]=0\n"
     ]
    },
    {
     "name": "stdout",
     "output_type": "stream",
     "text": [
      "341\n",
      "normFalse_lgFalse_ng16_pc20_ts10_hvg_True_scale_False_leid lgFalse_ng16_pc20_ts10_hvg_True_scale_False\n",
      "342\n",
      "FalseFalseTrue[10, 100, 1000, None]\n",
      "343\n",
      "(9313, 212)\n"
     ]
    },
    {
     "name": "stderr",
     "output_type": "stream",
     "text": [
      "/home/chrism/miniconda3/envs/xb/lib/python3.7/site-packages/scanpy/preprocessing/_highly_variable_genes.py:200: RuntimeWarning: overflow encountered in expm1\n",
      "  X = np.expm1(X)\n",
      "/home/chrism/miniconda3/envs/xb/lib/python3.7/site-packages/scanpy/preprocessing/_utils.py:11: RuntimeWarning: overflow encountered in multiply\n",
      "  mean_sq = np.multiply(X, X).mean(axis=axis, dtype=np.float64)\n",
      "/home/chrism/miniconda3/envs/xb/lib/python3.7/site-packages/scanpy/preprocessing/_utils.py:12: RuntimeWarning: overflow encountered in square\n",
      "  var = mean_sq - mean**2\n",
      "/home/chrism/miniconda3/envs/xb/lib/python3.7/site-packages/scanpy/preprocessing/_utils.py:12: RuntimeWarning: invalid value encountered in subtract\n",
      "  var = mean_sq - mean**2\n"
     ]
    },
    {
     "name": "stdout",
     "output_type": "stream",
     "text": [
      "344\n",
      "(9313, 212)\n",
      "345\n",
      "FalseTrueFalse[10, 100, 1000, None]\n",
      "346\n",
      "(9313, 46)\n"
     ]
    },
    {
     "name": "stderr",
     "output_type": "stream",
     "text": [
      "/home/chrism/miniconda3/envs/xb/lib/python3.7/site-packages/scanpy/preprocessing/_simple.py:843: UserWarning: Received a view of an AnnData. Making a copy.\n",
      "  view_to_actual(adata)\n"
     ]
    },
    {
     "name": "stdout",
     "output_type": "stream",
     "text": [
      "347\n",
      "normFalse_lgFalse_ng16_pc20_ts10_hvg_True_scale_True_leid lgFalse_ng16_pc20_ts10_hvg_True_scale_True\n",
      "348\n",
      "FalseTrueTrue[10, 100, 1000, None]\n",
      "349\n",
      "(9313, 212)\n"
     ]
    },
    {
     "name": "stderr",
     "output_type": "stream",
     "text": [
      "/home/chrism/miniconda3/envs/xb/lib/python3.7/site-packages/scanpy/preprocessing/_highly_variable_genes.py:200: RuntimeWarning: overflow encountered in expm1\n",
      "  X = np.expm1(X)\n",
      "/home/chrism/miniconda3/envs/xb/lib/python3.7/site-packages/scanpy/preprocessing/_utils.py:11: RuntimeWarning: overflow encountered in multiply\n",
      "  mean_sq = np.multiply(X, X).mean(axis=axis, dtype=np.float64)\n",
      "/home/chrism/miniconda3/envs/xb/lib/python3.7/site-packages/scanpy/preprocessing/_utils.py:12: RuntimeWarning: overflow encountered in square\n",
      "  var = mean_sq - mean**2\n",
      "/home/chrism/miniconda3/envs/xb/lib/python3.7/site-packages/scanpy/preprocessing/_utils.py:12: RuntimeWarning: invalid value encountered in subtract\n",
      "  var = mean_sq - mean**2\n"
     ]
    },
    {
     "name": "stdout",
     "output_type": "stream",
     "text": [
      "350\n",
      "(9313, 212)\n",
      "351\n",
      "FalseFalseFalse[10, 100, 1000, None]\n",
      "352\n",
      "(9313, 46)\n"
     ]
    },
    {
     "name": "stderr",
     "output_type": "stream",
     "text": [
      "/home/chrism/git/Xenium_benchmarking/xb/simulating.py:314: ImplicitModificationWarning: Trying to modify attribute `.X` of view, initializing view as actual.\n",
      "  adata.X[adata.X==-np.inf]=0\n"
     ]
    },
    {
     "name": "stdout",
     "output_type": "stream",
     "text": [
      "353\n",
      "normFalse_lgFalse_ng16_pc40_ts10_hvg_True_scale_False_leid lgFalse_ng16_pc40_ts10_hvg_True_scale_False\n",
      "354\n",
      "FalseFalseTrue[10, 100, 1000, None]\n",
      "355\n",
      "(9313, 212)\n"
     ]
    },
    {
     "name": "stderr",
     "output_type": "stream",
     "text": [
      "/home/chrism/miniconda3/envs/xb/lib/python3.7/site-packages/scanpy/preprocessing/_highly_variable_genes.py:200: RuntimeWarning: overflow encountered in expm1\n",
      "  X = np.expm1(X)\n",
      "/home/chrism/miniconda3/envs/xb/lib/python3.7/site-packages/scanpy/preprocessing/_utils.py:11: RuntimeWarning: overflow encountered in multiply\n",
      "  mean_sq = np.multiply(X, X).mean(axis=axis, dtype=np.float64)\n",
      "/home/chrism/miniconda3/envs/xb/lib/python3.7/site-packages/scanpy/preprocessing/_utils.py:12: RuntimeWarning: overflow encountered in square\n",
      "  var = mean_sq - mean**2\n",
      "/home/chrism/miniconda3/envs/xb/lib/python3.7/site-packages/scanpy/preprocessing/_utils.py:12: RuntimeWarning: invalid value encountered in subtract\n",
      "  var = mean_sq - mean**2\n"
     ]
    },
    {
     "name": "stdout",
     "output_type": "stream",
     "text": [
      "356\n",
      "(9313, 212)\n",
      "357\n",
      "FalseTrueFalse[10, 100, 1000, None]\n",
      "358\n",
      "(9313, 46)\n"
     ]
    },
    {
     "name": "stderr",
     "output_type": "stream",
     "text": [
      "/home/chrism/miniconda3/envs/xb/lib/python3.7/site-packages/scanpy/preprocessing/_simple.py:843: UserWarning: Received a view of an AnnData. Making a copy.\n",
      "  view_to_actual(adata)\n"
     ]
    },
    {
     "name": "stdout",
     "output_type": "stream",
     "text": [
      "359\n",
      "normFalse_lgFalse_ng16_pc40_ts10_hvg_True_scale_True_leid lgFalse_ng16_pc40_ts10_hvg_True_scale_True\n",
      "360\n",
      "FalseTrueTrue[10, 100, 1000, None]\n",
      "361\n",
      "(9313, 212)\n"
     ]
    },
    {
     "name": "stderr",
     "output_type": "stream",
     "text": [
      "/home/chrism/miniconda3/envs/xb/lib/python3.7/site-packages/scanpy/preprocessing/_highly_variable_genes.py:200: RuntimeWarning: overflow encountered in expm1\n",
      "  X = np.expm1(X)\n",
      "/home/chrism/miniconda3/envs/xb/lib/python3.7/site-packages/scanpy/preprocessing/_utils.py:11: RuntimeWarning: overflow encountered in multiply\n",
      "  mean_sq = np.multiply(X, X).mean(axis=axis, dtype=np.float64)\n",
      "/home/chrism/miniconda3/envs/xb/lib/python3.7/site-packages/scanpy/preprocessing/_utils.py:12: RuntimeWarning: overflow encountered in square\n",
      "  var = mean_sq - mean**2\n",
      "/home/chrism/miniconda3/envs/xb/lib/python3.7/site-packages/scanpy/preprocessing/_utils.py:12: RuntimeWarning: invalid value encountered in subtract\n",
      "  var = mean_sq - mean**2\n"
     ]
    },
    {
     "name": "stdout",
     "output_type": "stream",
     "text": [
      "362\n",
      "(9313, 212)\n",
      "363\n",
      "FalseFalseFalse[10, 100, 1000, None]\n",
      "364\n",
      "(9313, 69)\n"
     ]
    },
    {
     "name": "stderr",
     "output_type": "stream",
     "text": [
      "/home/chrism/miniconda3/envs/xb/lib/python3.7/site-packages/scanpy/preprocessing/_utils.py:11: RuntimeWarning: overflow encountered in multiply\n",
      "  mean_sq = np.multiply(X, X).mean(axis=axis, dtype=np.float64)\n",
      "/home/chrism/miniconda3/envs/xb/lib/python3.7/site-packages/scanpy/preprocessing/_highly_variable_genes.py:240: RuntimeWarning: invalid value encountered in true_divide\n",
      "  ) / disp_std_bin[df['mean_bin'].values].values\n",
      "/home/chrism/git/Xenium_benchmarking/xb/simulating.py:314: ImplicitModificationWarning: Trying to modify attribute `.X` of view, initializing view as actual.\n",
      "  adata.X[adata.X==-np.inf]=0\n"
     ]
    },
    {
     "name": "stdout",
     "output_type": "stream",
     "text": [
      "365\n",
      "normFalse_lgFalse_ng12_pc0_ts100_hvg_True_scale_False_leid lgFalse_ng12_pc0_ts100_hvg_True_scale_False\n",
      "366\n",
      "FalseFalseTrue[10, 100, 1000, None]\n",
      "367\n",
      "(9313, 212)\n"
     ]
    },
    {
     "name": "stderr",
     "output_type": "stream",
     "text": [
      "/home/chrism/miniconda3/envs/xb/lib/python3.7/site-packages/scanpy/preprocessing/_highly_variable_genes.py:200: RuntimeWarning: overflow encountered in expm1\n",
      "  X = np.expm1(X)\n",
      "/home/chrism/miniconda3/envs/xb/lib/python3.7/site-packages/scanpy/preprocessing/_utils.py:11: RuntimeWarning: overflow encountered in multiply\n",
      "  mean_sq = np.multiply(X, X).mean(axis=axis, dtype=np.float64)\n",
      "/home/chrism/miniconda3/envs/xb/lib/python3.7/site-packages/scanpy/preprocessing/_utils.py:12: RuntimeWarning: overflow encountered in square\n",
      "  var = mean_sq - mean**2\n",
      "/home/chrism/miniconda3/envs/xb/lib/python3.7/site-packages/scanpy/preprocessing/_utils.py:12: RuntimeWarning: invalid value encountered in subtract\n",
      "  var = mean_sq - mean**2\n"
     ]
    },
    {
     "name": "stdout",
     "output_type": "stream",
     "text": [
      "368\n",
      "(9313, 212)\n",
      "369\n",
      "FalseTrueFalse[10, 100, 1000, None]\n",
      "370\n",
      "(9313, 69)\n"
     ]
    },
    {
     "name": "stderr",
     "output_type": "stream",
     "text": [
      "/home/chrism/miniconda3/envs/xb/lib/python3.7/site-packages/scanpy/preprocessing/_utils.py:11: RuntimeWarning: overflow encountered in multiply\n",
      "  mean_sq = np.multiply(X, X).mean(axis=axis, dtype=np.float64)\n",
      "/home/chrism/miniconda3/envs/xb/lib/python3.7/site-packages/scanpy/preprocessing/_highly_variable_genes.py:240: RuntimeWarning: invalid value encountered in true_divide\n",
      "  ) / disp_std_bin[df['mean_bin'].values].values\n",
      "/home/chrism/miniconda3/envs/xb/lib/python3.7/site-packages/scanpy/preprocessing/_simple.py:843: UserWarning: Received a view of an AnnData. Making a copy.\n",
      "  view_to_actual(adata)\n"
     ]
    },
    {
     "name": "stdout",
     "output_type": "stream",
     "text": [
      "371\n",
      "normFalse_lgFalse_ng12_pc0_ts100_hvg_True_scale_True_leid lgFalse_ng12_pc0_ts100_hvg_True_scale_True\n",
      "372\n",
      "FalseTrueTrue[10, 100, 1000, None]\n",
      "373\n",
      "(9313, 212)\n"
     ]
    },
    {
     "name": "stderr",
     "output_type": "stream",
     "text": [
      "/home/chrism/miniconda3/envs/xb/lib/python3.7/site-packages/scanpy/preprocessing/_highly_variable_genes.py:200: RuntimeWarning: overflow encountered in expm1\n",
      "  X = np.expm1(X)\n",
      "/home/chrism/miniconda3/envs/xb/lib/python3.7/site-packages/scanpy/preprocessing/_utils.py:11: RuntimeWarning: overflow encountered in multiply\n",
      "  mean_sq = np.multiply(X, X).mean(axis=axis, dtype=np.float64)\n",
      "/home/chrism/miniconda3/envs/xb/lib/python3.7/site-packages/scanpy/preprocessing/_utils.py:12: RuntimeWarning: overflow encountered in square\n",
      "  var = mean_sq - mean**2\n",
      "/home/chrism/miniconda3/envs/xb/lib/python3.7/site-packages/scanpy/preprocessing/_utils.py:12: RuntimeWarning: invalid value encountered in subtract\n",
      "  var = mean_sq - mean**2\n"
     ]
    },
    {
     "name": "stdout",
     "output_type": "stream",
     "text": [
      "374\n",
      "(9313, 212)\n",
      "375\n",
      "FalseFalseFalse[10, 100, 1000, None]\n",
      "376\n",
      "(9313, 69)\n"
     ]
    },
    {
     "name": "stderr",
     "output_type": "stream",
     "text": [
      "/home/chrism/miniconda3/envs/xb/lib/python3.7/site-packages/scanpy/preprocessing/_utils.py:11: RuntimeWarning: overflow encountered in multiply\n",
      "  mean_sq = np.multiply(X, X).mean(axis=axis, dtype=np.float64)\n",
      "/home/chrism/miniconda3/envs/xb/lib/python3.7/site-packages/scanpy/preprocessing/_highly_variable_genes.py:240: RuntimeWarning: invalid value encountered in true_divide\n",
      "  ) / disp_std_bin[df['mean_bin'].values].values\n",
      "/home/chrism/git/Xenium_benchmarking/xb/simulating.py:314: ImplicitModificationWarning: Trying to modify attribute `.X` of view, initializing view as actual.\n",
      "  adata.X[adata.X==-np.inf]=0\n"
     ]
    },
    {
     "name": "stdout",
     "output_type": "stream",
     "text": [
      "377\n",
      "normFalse_lgFalse_ng12_pc20_ts100_hvg_True_scale_False_leid lgFalse_ng12_pc20_ts100_hvg_True_scale_False\n",
      "378\n",
      "FalseFalseTrue[10, 100, 1000, None]\n",
      "379\n",
      "(9313, 212)\n"
     ]
    },
    {
     "name": "stderr",
     "output_type": "stream",
     "text": [
      "/home/chrism/miniconda3/envs/xb/lib/python3.7/site-packages/scanpy/preprocessing/_highly_variable_genes.py:200: RuntimeWarning: overflow encountered in expm1\n",
      "  X = np.expm1(X)\n",
      "/home/chrism/miniconda3/envs/xb/lib/python3.7/site-packages/scanpy/preprocessing/_utils.py:11: RuntimeWarning: overflow encountered in multiply\n",
      "  mean_sq = np.multiply(X, X).mean(axis=axis, dtype=np.float64)\n",
      "/home/chrism/miniconda3/envs/xb/lib/python3.7/site-packages/scanpy/preprocessing/_utils.py:12: RuntimeWarning: overflow encountered in square\n",
      "  var = mean_sq - mean**2\n",
      "/home/chrism/miniconda3/envs/xb/lib/python3.7/site-packages/scanpy/preprocessing/_utils.py:12: RuntimeWarning: invalid value encountered in subtract\n",
      "  var = mean_sq - mean**2\n"
     ]
    },
    {
     "name": "stdout",
     "output_type": "stream",
     "text": [
      "380\n",
      "(9313, 212)\n",
      "381\n",
      "FalseTrueFalse[10, 100, 1000, None]\n",
      "382\n",
      "(9313, 69)\n"
     ]
    },
    {
     "name": "stderr",
     "output_type": "stream",
     "text": [
      "/home/chrism/miniconda3/envs/xb/lib/python3.7/site-packages/scanpy/preprocessing/_utils.py:11: RuntimeWarning: overflow encountered in multiply\n",
      "  mean_sq = np.multiply(X, X).mean(axis=axis, dtype=np.float64)\n",
      "/home/chrism/miniconda3/envs/xb/lib/python3.7/site-packages/scanpy/preprocessing/_highly_variable_genes.py:240: RuntimeWarning: invalid value encountered in true_divide\n",
      "  ) / disp_std_bin[df['mean_bin'].values].values\n",
      "/home/chrism/miniconda3/envs/xb/lib/python3.7/site-packages/scanpy/preprocessing/_simple.py:843: UserWarning: Received a view of an AnnData. Making a copy.\n",
      "  view_to_actual(adata)\n"
     ]
    },
    {
     "name": "stdout",
     "output_type": "stream",
     "text": [
      "383\n",
      "normFalse_lgFalse_ng12_pc20_ts100_hvg_True_scale_True_leid lgFalse_ng12_pc20_ts100_hvg_True_scale_True\n",
      "384\n",
      "FalseTrueTrue[10, 100, 1000, None]\n",
      "385\n",
      "(9313, 212)\n"
     ]
    },
    {
     "name": "stderr",
     "output_type": "stream",
     "text": [
      "/home/chrism/miniconda3/envs/xb/lib/python3.7/site-packages/scanpy/preprocessing/_highly_variable_genes.py:200: RuntimeWarning: overflow encountered in expm1\n",
      "  X = np.expm1(X)\n",
      "/home/chrism/miniconda3/envs/xb/lib/python3.7/site-packages/scanpy/preprocessing/_utils.py:11: RuntimeWarning: overflow encountered in multiply\n",
      "  mean_sq = np.multiply(X, X).mean(axis=axis, dtype=np.float64)\n",
      "/home/chrism/miniconda3/envs/xb/lib/python3.7/site-packages/scanpy/preprocessing/_utils.py:12: RuntimeWarning: overflow encountered in square\n",
      "  var = mean_sq - mean**2\n",
      "/home/chrism/miniconda3/envs/xb/lib/python3.7/site-packages/scanpy/preprocessing/_utils.py:12: RuntimeWarning: invalid value encountered in subtract\n",
      "  var = mean_sq - mean**2\n"
     ]
    },
    {
     "name": "stdout",
     "output_type": "stream",
     "text": [
      "386\n",
      "(9313, 212)\n",
      "387\n",
      "FalseFalseFalse[10, 100, 1000, None]\n",
      "388\n",
      "(9313, 69)\n"
     ]
    },
    {
     "name": "stderr",
     "output_type": "stream",
     "text": [
      "/home/chrism/miniconda3/envs/xb/lib/python3.7/site-packages/scanpy/preprocessing/_utils.py:11: RuntimeWarning: overflow encountered in multiply\n",
      "  mean_sq = np.multiply(X, X).mean(axis=axis, dtype=np.float64)\n",
      "/home/chrism/miniconda3/envs/xb/lib/python3.7/site-packages/scanpy/preprocessing/_highly_variable_genes.py:240: RuntimeWarning: invalid value encountered in true_divide\n",
      "  ) / disp_std_bin[df['mean_bin'].values].values\n",
      "/home/chrism/git/Xenium_benchmarking/xb/simulating.py:314: ImplicitModificationWarning: Trying to modify attribute `.X` of view, initializing view as actual.\n",
      "  adata.X[adata.X==-np.inf]=0\n"
     ]
    },
    {
     "name": "stdout",
     "output_type": "stream",
     "text": [
      "389\n",
      "normFalse_lgFalse_ng12_pc40_ts100_hvg_True_scale_False_leid lgFalse_ng12_pc40_ts100_hvg_True_scale_False\n",
      "390\n",
      "FalseFalseTrue[10, 100, 1000, None]\n",
      "391\n",
      "(9313, 212)\n"
     ]
    },
    {
     "name": "stderr",
     "output_type": "stream",
     "text": [
      "/home/chrism/miniconda3/envs/xb/lib/python3.7/site-packages/scanpy/preprocessing/_highly_variable_genes.py:200: RuntimeWarning: overflow encountered in expm1\n",
      "  X = np.expm1(X)\n",
      "/home/chrism/miniconda3/envs/xb/lib/python3.7/site-packages/scanpy/preprocessing/_utils.py:11: RuntimeWarning: overflow encountered in multiply\n",
      "  mean_sq = np.multiply(X, X).mean(axis=axis, dtype=np.float64)\n",
      "/home/chrism/miniconda3/envs/xb/lib/python3.7/site-packages/scanpy/preprocessing/_utils.py:12: RuntimeWarning: overflow encountered in square\n",
      "  var = mean_sq - mean**2\n",
      "/home/chrism/miniconda3/envs/xb/lib/python3.7/site-packages/scanpy/preprocessing/_utils.py:12: RuntimeWarning: invalid value encountered in subtract\n",
      "  var = mean_sq - mean**2\n"
     ]
    },
    {
     "name": "stdout",
     "output_type": "stream",
     "text": [
      "392\n",
      "(9313, 212)\n",
      "393\n",
      "FalseTrueFalse[10, 100, 1000, None]\n",
      "394\n",
      "(9313, 69)\n"
     ]
    },
    {
     "name": "stderr",
     "output_type": "stream",
     "text": [
      "/home/chrism/miniconda3/envs/xb/lib/python3.7/site-packages/scanpy/preprocessing/_utils.py:11: RuntimeWarning: overflow encountered in multiply\n",
      "  mean_sq = np.multiply(X, X).mean(axis=axis, dtype=np.float64)\n",
      "/home/chrism/miniconda3/envs/xb/lib/python3.7/site-packages/scanpy/preprocessing/_highly_variable_genes.py:240: RuntimeWarning: invalid value encountered in true_divide\n",
      "  ) / disp_std_bin[df['mean_bin'].values].values\n",
      "/home/chrism/miniconda3/envs/xb/lib/python3.7/site-packages/scanpy/preprocessing/_simple.py:843: UserWarning: Received a view of an AnnData. Making a copy.\n",
      "  view_to_actual(adata)\n"
     ]
    },
    {
     "name": "stdout",
     "output_type": "stream",
     "text": [
      "395\n",
      "normFalse_lgFalse_ng12_pc40_ts100_hvg_True_scale_True_leid lgFalse_ng12_pc40_ts100_hvg_True_scale_True\n",
      "396\n",
      "FalseTrueTrue[10, 100, 1000, None]\n",
      "397\n",
      "(9313, 212)\n"
     ]
    },
    {
     "name": "stderr",
     "output_type": "stream",
     "text": [
      "/home/chrism/miniconda3/envs/xb/lib/python3.7/site-packages/scanpy/preprocessing/_highly_variable_genes.py:200: RuntimeWarning: overflow encountered in expm1\n",
      "  X = np.expm1(X)\n",
      "/home/chrism/miniconda3/envs/xb/lib/python3.7/site-packages/scanpy/preprocessing/_utils.py:11: RuntimeWarning: overflow encountered in multiply\n",
      "  mean_sq = np.multiply(X, X).mean(axis=axis, dtype=np.float64)\n",
      "/home/chrism/miniconda3/envs/xb/lib/python3.7/site-packages/scanpy/preprocessing/_utils.py:12: RuntimeWarning: overflow encountered in square\n",
      "  var = mean_sq - mean**2\n",
      "/home/chrism/miniconda3/envs/xb/lib/python3.7/site-packages/scanpy/preprocessing/_utils.py:12: RuntimeWarning: invalid value encountered in subtract\n",
      "  var = mean_sq - mean**2\n"
     ]
    },
    {
     "name": "stdout",
     "output_type": "stream",
     "text": [
      "398\n",
      "(9313, 212)\n",
      "399\n",
      "FalseFalseFalse[10, 100, 1000, None]\n",
      "400\n",
      "(9313, 69)\n"
     ]
    },
    {
     "name": "stderr",
     "output_type": "stream",
     "text": [
      "/home/chrism/miniconda3/envs/xb/lib/python3.7/site-packages/scanpy/preprocessing/_utils.py:11: RuntimeWarning: overflow encountered in multiply\n",
      "  mean_sq = np.multiply(X, X).mean(axis=axis, dtype=np.float64)\n",
      "/home/chrism/miniconda3/envs/xb/lib/python3.7/site-packages/scanpy/preprocessing/_highly_variable_genes.py:240: RuntimeWarning: invalid value encountered in true_divide\n",
      "  ) / disp_std_bin[df['mean_bin'].values].values\n",
      "/home/chrism/git/Xenium_benchmarking/xb/simulating.py:314: ImplicitModificationWarning: Trying to modify attribute `.X` of view, initializing view as actual.\n",
      "  adata.X[adata.X==-np.inf]=0\n"
     ]
    },
    {
     "name": "stdout",
     "output_type": "stream",
     "text": [
      "401\n",
      "normFalse_lgFalse_ng16_pc0_ts100_hvg_True_scale_False_leid lgFalse_ng16_pc0_ts100_hvg_True_scale_False\n",
      "402\n",
      "FalseFalseTrue[10, 100, 1000, None]\n",
      "403\n",
      "(9313, 212)\n"
     ]
    },
    {
     "name": "stderr",
     "output_type": "stream",
     "text": [
      "/home/chrism/miniconda3/envs/xb/lib/python3.7/site-packages/scanpy/preprocessing/_highly_variable_genes.py:200: RuntimeWarning: overflow encountered in expm1\n",
      "  X = np.expm1(X)\n",
      "/home/chrism/miniconda3/envs/xb/lib/python3.7/site-packages/scanpy/preprocessing/_utils.py:11: RuntimeWarning: overflow encountered in multiply\n",
      "  mean_sq = np.multiply(X, X).mean(axis=axis, dtype=np.float64)\n",
      "/home/chrism/miniconda3/envs/xb/lib/python3.7/site-packages/scanpy/preprocessing/_utils.py:12: RuntimeWarning: overflow encountered in square\n",
      "  var = mean_sq - mean**2\n",
      "/home/chrism/miniconda3/envs/xb/lib/python3.7/site-packages/scanpy/preprocessing/_utils.py:12: RuntimeWarning: invalid value encountered in subtract\n",
      "  var = mean_sq - mean**2\n"
     ]
    },
    {
     "name": "stdout",
     "output_type": "stream",
     "text": [
      "404\n",
      "(9313, 212)\n",
      "405\n",
      "FalseTrueFalse[10, 100, 1000, None]\n",
      "406\n",
      "(9313, 69)\n"
     ]
    },
    {
     "name": "stderr",
     "output_type": "stream",
     "text": [
      "/home/chrism/miniconda3/envs/xb/lib/python3.7/site-packages/scanpy/preprocessing/_utils.py:11: RuntimeWarning: overflow encountered in multiply\n",
      "  mean_sq = np.multiply(X, X).mean(axis=axis, dtype=np.float64)\n",
      "/home/chrism/miniconda3/envs/xb/lib/python3.7/site-packages/scanpy/preprocessing/_highly_variable_genes.py:240: RuntimeWarning: invalid value encountered in true_divide\n",
      "  ) / disp_std_bin[df['mean_bin'].values].values\n",
      "/home/chrism/miniconda3/envs/xb/lib/python3.7/site-packages/scanpy/preprocessing/_simple.py:843: UserWarning: Received a view of an AnnData. Making a copy.\n",
      "  view_to_actual(adata)\n"
     ]
    },
    {
     "name": "stdout",
     "output_type": "stream",
     "text": [
      "407\n",
      "normFalse_lgFalse_ng16_pc0_ts100_hvg_True_scale_True_leid lgFalse_ng16_pc0_ts100_hvg_True_scale_True\n",
      "408\n",
      "FalseTrueTrue[10, 100, 1000, None]\n",
      "409\n",
      "(9313, 212)\n"
     ]
    },
    {
     "name": "stderr",
     "output_type": "stream",
     "text": [
      "/home/chrism/miniconda3/envs/xb/lib/python3.7/site-packages/scanpy/preprocessing/_highly_variable_genes.py:200: RuntimeWarning: overflow encountered in expm1\n",
      "  X = np.expm1(X)\n",
      "/home/chrism/miniconda3/envs/xb/lib/python3.7/site-packages/scanpy/preprocessing/_utils.py:11: RuntimeWarning: overflow encountered in multiply\n",
      "  mean_sq = np.multiply(X, X).mean(axis=axis, dtype=np.float64)\n",
      "/home/chrism/miniconda3/envs/xb/lib/python3.7/site-packages/scanpy/preprocessing/_utils.py:12: RuntimeWarning: overflow encountered in square\n",
      "  var = mean_sq - mean**2\n",
      "/home/chrism/miniconda3/envs/xb/lib/python3.7/site-packages/scanpy/preprocessing/_utils.py:12: RuntimeWarning: invalid value encountered in subtract\n",
      "  var = mean_sq - mean**2\n"
     ]
    },
    {
     "name": "stdout",
     "output_type": "stream",
     "text": [
      "410\n",
      "(9313, 212)\n",
      "411\n",
      "FalseFalseFalse[10, 100, 1000, None]\n",
      "412\n",
      "(9313, 69)\n"
     ]
    },
    {
     "name": "stderr",
     "output_type": "stream",
     "text": [
      "/home/chrism/miniconda3/envs/xb/lib/python3.7/site-packages/scanpy/preprocessing/_utils.py:11: RuntimeWarning: overflow encountered in multiply\n",
      "  mean_sq = np.multiply(X, X).mean(axis=axis, dtype=np.float64)\n",
      "/home/chrism/miniconda3/envs/xb/lib/python3.7/site-packages/scanpy/preprocessing/_highly_variable_genes.py:240: RuntimeWarning: invalid value encountered in true_divide\n",
      "  ) / disp_std_bin[df['mean_bin'].values].values\n",
      "/home/chrism/git/Xenium_benchmarking/xb/simulating.py:314: ImplicitModificationWarning: Trying to modify attribute `.X` of view, initializing view as actual.\n",
      "  adata.X[adata.X==-np.inf]=0\n"
     ]
    },
    {
     "name": "stdout",
     "output_type": "stream",
     "text": [
      "413\n",
      "normFalse_lgFalse_ng16_pc20_ts100_hvg_True_scale_False_leid lgFalse_ng16_pc20_ts100_hvg_True_scale_False\n",
      "414\n",
      "FalseFalseTrue[10, 100, 1000, None]\n",
      "415\n",
      "(9313, 212)\n"
     ]
    },
    {
     "name": "stderr",
     "output_type": "stream",
     "text": [
      "/home/chrism/miniconda3/envs/xb/lib/python3.7/site-packages/scanpy/preprocessing/_highly_variable_genes.py:200: RuntimeWarning: overflow encountered in expm1\n",
      "  X = np.expm1(X)\n",
      "/home/chrism/miniconda3/envs/xb/lib/python3.7/site-packages/scanpy/preprocessing/_utils.py:11: RuntimeWarning: overflow encountered in multiply\n",
      "  mean_sq = np.multiply(X, X).mean(axis=axis, dtype=np.float64)\n",
      "/home/chrism/miniconda3/envs/xb/lib/python3.7/site-packages/scanpy/preprocessing/_utils.py:12: RuntimeWarning: overflow encountered in square\n",
      "  var = mean_sq - mean**2\n",
      "/home/chrism/miniconda3/envs/xb/lib/python3.7/site-packages/scanpy/preprocessing/_utils.py:12: RuntimeWarning: invalid value encountered in subtract\n",
      "  var = mean_sq - mean**2\n"
     ]
    },
    {
     "name": "stdout",
     "output_type": "stream",
     "text": [
      "416\n",
      "(9313, 212)\n",
      "417\n",
      "FalseTrueFalse[10, 100, 1000, None]\n",
      "418\n",
      "(9313, 69)\n"
     ]
    },
    {
     "name": "stderr",
     "output_type": "stream",
     "text": [
      "/home/chrism/miniconda3/envs/xb/lib/python3.7/site-packages/scanpy/preprocessing/_utils.py:11: RuntimeWarning: overflow encountered in multiply\n",
      "  mean_sq = np.multiply(X, X).mean(axis=axis, dtype=np.float64)\n",
      "/home/chrism/miniconda3/envs/xb/lib/python3.7/site-packages/scanpy/preprocessing/_highly_variable_genes.py:240: RuntimeWarning: invalid value encountered in true_divide\n",
      "  ) / disp_std_bin[df['mean_bin'].values].values\n",
      "/home/chrism/miniconda3/envs/xb/lib/python3.7/site-packages/scanpy/preprocessing/_simple.py:843: UserWarning: Received a view of an AnnData. Making a copy.\n",
      "  view_to_actual(adata)\n"
     ]
    },
    {
     "name": "stdout",
     "output_type": "stream",
     "text": [
      "419\n",
      "normFalse_lgFalse_ng16_pc20_ts100_hvg_True_scale_True_leid lgFalse_ng16_pc20_ts100_hvg_True_scale_True\n",
      "420\n",
      "FalseTrueTrue[10, 100, 1000, None]\n",
      "421\n",
      "(9313, 212)\n"
     ]
    },
    {
     "name": "stderr",
     "output_type": "stream",
     "text": [
      "/home/chrism/miniconda3/envs/xb/lib/python3.7/site-packages/scanpy/preprocessing/_highly_variable_genes.py:200: RuntimeWarning: overflow encountered in expm1\n",
      "  X = np.expm1(X)\n",
      "/home/chrism/miniconda3/envs/xb/lib/python3.7/site-packages/scanpy/preprocessing/_utils.py:11: RuntimeWarning: overflow encountered in multiply\n",
      "  mean_sq = np.multiply(X, X).mean(axis=axis, dtype=np.float64)\n",
      "/home/chrism/miniconda3/envs/xb/lib/python3.7/site-packages/scanpy/preprocessing/_utils.py:12: RuntimeWarning: overflow encountered in square\n",
      "  var = mean_sq - mean**2\n",
      "/home/chrism/miniconda3/envs/xb/lib/python3.7/site-packages/scanpy/preprocessing/_utils.py:12: RuntimeWarning: invalid value encountered in subtract\n",
      "  var = mean_sq - mean**2\n"
     ]
    },
    {
     "name": "stdout",
     "output_type": "stream",
     "text": [
      "422\n",
      "(9313, 212)\n",
      "423\n",
      "FalseFalseFalse[10, 100, 1000, None]\n",
      "424\n",
      "(9313, 69)\n"
     ]
    },
    {
     "name": "stderr",
     "output_type": "stream",
     "text": [
      "/home/chrism/miniconda3/envs/xb/lib/python3.7/site-packages/scanpy/preprocessing/_utils.py:11: RuntimeWarning: overflow encountered in multiply\n",
      "  mean_sq = np.multiply(X, X).mean(axis=axis, dtype=np.float64)\n",
      "/home/chrism/miniconda3/envs/xb/lib/python3.7/site-packages/scanpy/preprocessing/_highly_variable_genes.py:240: RuntimeWarning: invalid value encountered in true_divide\n",
      "  ) / disp_std_bin[df['mean_bin'].values].values\n",
      "/home/chrism/git/Xenium_benchmarking/xb/simulating.py:314: ImplicitModificationWarning: Trying to modify attribute `.X` of view, initializing view as actual.\n",
      "  adata.X[adata.X==-np.inf]=0\n"
     ]
    },
    {
     "name": "stdout",
     "output_type": "stream",
     "text": [
      "425\n",
      "normFalse_lgFalse_ng16_pc40_ts100_hvg_True_scale_False_leid lgFalse_ng16_pc40_ts100_hvg_True_scale_False\n",
      "426\n",
      "FalseFalseTrue[10, 100, 1000, None]\n",
      "427\n",
      "(9313, 212)\n"
     ]
    },
    {
     "name": "stderr",
     "output_type": "stream",
     "text": [
      "/home/chrism/miniconda3/envs/xb/lib/python3.7/site-packages/scanpy/preprocessing/_highly_variable_genes.py:200: RuntimeWarning: overflow encountered in expm1\n",
      "  X = np.expm1(X)\n",
      "/home/chrism/miniconda3/envs/xb/lib/python3.7/site-packages/scanpy/preprocessing/_utils.py:11: RuntimeWarning: overflow encountered in multiply\n",
      "  mean_sq = np.multiply(X, X).mean(axis=axis, dtype=np.float64)\n",
      "/home/chrism/miniconda3/envs/xb/lib/python3.7/site-packages/scanpy/preprocessing/_utils.py:12: RuntimeWarning: overflow encountered in square\n",
      "  var = mean_sq - mean**2\n",
      "/home/chrism/miniconda3/envs/xb/lib/python3.7/site-packages/scanpy/preprocessing/_utils.py:12: RuntimeWarning: invalid value encountered in subtract\n",
      "  var = mean_sq - mean**2\n"
     ]
    },
    {
     "name": "stdout",
     "output_type": "stream",
     "text": [
      "428\n",
      "(9313, 212)\n",
      "429\n",
      "FalseTrueFalse[10, 100, 1000, None]\n",
      "430\n",
      "(9313, 69)\n"
     ]
    },
    {
     "name": "stderr",
     "output_type": "stream",
     "text": [
      "/home/chrism/miniconda3/envs/xb/lib/python3.7/site-packages/scanpy/preprocessing/_utils.py:11: RuntimeWarning: overflow encountered in multiply\n",
      "  mean_sq = np.multiply(X, X).mean(axis=axis, dtype=np.float64)\n",
      "/home/chrism/miniconda3/envs/xb/lib/python3.7/site-packages/scanpy/preprocessing/_highly_variable_genes.py:240: RuntimeWarning: invalid value encountered in true_divide\n",
      "  ) / disp_std_bin[df['mean_bin'].values].values\n",
      "/home/chrism/miniconda3/envs/xb/lib/python3.7/site-packages/scanpy/preprocessing/_simple.py:843: UserWarning: Received a view of an AnnData. Making a copy.\n",
      "  view_to_actual(adata)\n"
     ]
    },
    {
     "name": "stdout",
     "output_type": "stream",
     "text": [
      "431\n",
      "normFalse_lgFalse_ng16_pc40_ts100_hvg_True_scale_True_leid lgFalse_ng16_pc40_ts100_hvg_True_scale_True\n",
      "432\n",
      "FalseTrueTrue[10, 100, 1000, None]\n",
      "433\n",
      "(9313, 212)\n"
     ]
    },
    {
     "name": "stderr",
     "output_type": "stream",
     "text": [
      "/home/chrism/miniconda3/envs/xb/lib/python3.7/site-packages/scanpy/preprocessing/_highly_variable_genes.py:200: RuntimeWarning: overflow encountered in expm1\n",
      "  X = np.expm1(X)\n",
      "/home/chrism/miniconda3/envs/xb/lib/python3.7/site-packages/scanpy/preprocessing/_utils.py:11: RuntimeWarning: overflow encountered in multiply\n",
      "  mean_sq = np.multiply(X, X).mean(axis=axis, dtype=np.float64)\n",
      "/home/chrism/miniconda3/envs/xb/lib/python3.7/site-packages/scanpy/preprocessing/_utils.py:12: RuntimeWarning: overflow encountered in square\n",
      "  var = mean_sq - mean**2\n",
      "/home/chrism/miniconda3/envs/xb/lib/python3.7/site-packages/scanpy/preprocessing/_utils.py:12: RuntimeWarning: invalid value encountered in subtract\n",
      "  var = mean_sq - mean**2\n"
     ]
    },
    {
     "name": "stdout",
     "output_type": "stream",
     "text": [
      "434\n",
      "(9313, 212)\n",
      "435\n",
      "FalseFalseFalse[10, 100, 1000, None]\n",
      "436\n",
      "normTrue_lgFalse_ng12_pc0_ts1000_hvg_True_scale_False_leid lgFalse_ng12_pc0_ts1000_hvg_True_scale_False\n",
      "437\n",
      "normFalse_lgFalse_ng12_pc0_ts1000_hvg_True_scale_False_leid lgFalse_ng12_pc0_ts1000_hvg_True_scale_False\n",
      "438\n",
      "FalseFalseTrue[10, 100, 1000, None]\n",
      "439\n",
      "(9313, 212)\n"
     ]
    },
    {
     "name": "stderr",
     "output_type": "stream",
     "text": [
      "/home/chrism/miniconda3/envs/xb/lib/python3.7/site-packages/scanpy/preprocessing/_highly_variable_genes.py:200: RuntimeWarning: overflow encountered in expm1\n",
      "  X = np.expm1(X)\n",
      "/home/chrism/miniconda3/envs/xb/lib/python3.7/site-packages/scanpy/preprocessing/_utils.py:11: RuntimeWarning: overflow encountered in multiply\n",
      "  mean_sq = np.multiply(X, X).mean(axis=axis, dtype=np.float64)\n",
      "/home/chrism/miniconda3/envs/xb/lib/python3.7/site-packages/scanpy/preprocessing/_utils.py:12: RuntimeWarning: invalid value encountered in subtract\n",
      "  var = mean_sq - mean**2\n",
      "/home/chrism/miniconda3/envs/xb/lib/python3.7/site-packages/scanpy/preprocessing/_utils.py:12: RuntimeWarning: overflow encountered in square\n",
      "  var = mean_sq - mean**2\n"
     ]
    },
    {
     "name": "stdout",
     "output_type": "stream",
     "text": [
      "440\n",
      "(9313, 212)\n",
      "441\n",
      "FalseTrueFalse[10, 100, 1000, None]\n",
      "442\n",
      "normTrue_lgFalse_ng12_pc0_ts1000_hvg_True_scale_True_leid lgFalse_ng12_pc0_ts1000_hvg_True_scale_True\n",
      "443\n",
      "normFalse_lgFalse_ng12_pc0_ts1000_hvg_True_scale_True_leid lgFalse_ng12_pc0_ts1000_hvg_True_scale_True\n",
      "444\n",
      "FalseTrueTrue[10, 100, 1000, None]\n",
      "445\n",
      "(9313, 212)\n"
     ]
    },
    {
     "name": "stderr",
     "output_type": "stream",
     "text": [
      "/home/chrism/miniconda3/envs/xb/lib/python3.7/site-packages/scanpy/preprocessing/_highly_variable_genes.py:200: RuntimeWarning: overflow encountered in expm1\n",
      "  X = np.expm1(X)\n",
      "/home/chrism/miniconda3/envs/xb/lib/python3.7/site-packages/scanpy/preprocessing/_utils.py:11: RuntimeWarning: overflow encountered in multiply\n",
      "  mean_sq = np.multiply(X, X).mean(axis=axis, dtype=np.float64)\n",
      "/home/chrism/miniconda3/envs/xb/lib/python3.7/site-packages/scanpy/preprocessing/_utils.py:12: RuntimeWarning: invalid value encountered in subtract\n",
      "  var = mean_sq - mean**2\n",
      "/home/chrism/miniconda3/envs/xb/lib/python3.7/site-packages/scanpy/preprocessing/_utils.py:12: RuntimeWarning: overflow encountered in square\n",
      "  var = mean_sq - mean**2\n"
     ]
    },
    {
     "name": "stdout",
     "output_type": "stream",
     "text": [
      "446\n",
      "(9313, 212)\n",
      "447\n",
      "FalseFalseFalse[10, 100, 1000, None]\n",
      "448\n",
      "normTrue_lgFalse_ng12_pc20_ts1000_hvg_True_scale_False_leid lgFalse_ng12_pc20_ts1000_hvg_True_scale_False\n",
      "449\n",
      "normFalse_lgFalse_ng12_pc20_ts1000_hvg_True_scale_False_leid lgFalse_ng12_pc20_ts1000_hvg_True_scale_False\n",
      "450\n",
      "FalseFalseTrue[10, 100, 1000, None]\n",
      "451\n",
      "(9313, 212)\n"
     ]
    },
    {
     "name": "stderr",
     "output_type": "stream",
     "text": [
      "/home/chrism/miniconda3/envs/xb/lib/python3.7/site-packages/scanpy/preprocessing/_highly_variable_genes.py:200: RuntimeWarning: overflow encountered in expm1\n",
      "  X = np.expm1(X)\n",
      "/home/chrism/miniconda3/envs/xb/lib/python3.7/site-packages/scanpy/preprocessing/_utils.py:11: RuntimeWarning: overflow encountered in multiply\n",
      "  mean_sq = np.multiply(X, X).mean(axis=axis, dtype=np.float64)\n",
      "/home/chrism/miniconda3/envs/xb/lib/python3.7/site-packages/scanpy/preprocessing/_utils.py:12: RuntimeWarning: invalid value encountered in subtract\n",
      "  var = mean_sq - mean**2\n",
      "/home/chrism/miniconda3/envs/xb/lib/python3.7/site-packages/scanpy/preprocessing/_utils.py:12: RuntimeWarning: overflow encountered in square\n",
      "  var = mean_sq - mean**2\n"
     ]
    },
    {
     "name": "stdout",
     "output_type": "stream",
     "text": [
      "452\n",
      "(9313, 212)\n",
      "453\n",
      "FalseTrueFalse[10, 100, 1000, None]\n",
      "454\n",
      "normTrue_lgFalse_ng12_pc20_ts1000_hvg_True_scale_True_leid lgFalse_ng12_pc20_ts1000_hvg_True_scale_True\n",
      "455\n",
      "normFalse_lgFalse_ng12_pc20_ts1000_hvg_True_scale_True_leid lgFalse_ng12_pc20_ts1000_hvg_True_scale_True\n",
      "456\n",
      "FalseTrueTrue[10, 100, 1000, None]\n",
      "457\n",
      "(9313, 212)\n"
     ]
    },
    {
     "name": "stderr",
     "output_type": "stream",
     "text": [
      "/home/chrism/miniconda3/envs/xb/lib/python3.7/site-packages/scanpy/preprocessing/_highly_variable_genes.py:200: RuntimeWarning: overflow encountered in expm1\n",
      "  X = np.expm1(X)\n",
      "/home/chrism/miniconda3/envs/xb/lib/python3.7/site-packages/scanpy/preprocessing/_utils.py:11: RuntimeWarning: overflow encountered in multiply\n",
      "  mean_sq = np.multiply(X, X).mean(axis=axis, dtype=np.float64)\n",
      "/home/chrism/miniconda3/envs/xb/lib/python3.7/site-packages/scanpy/preprocessing/_utils.py:12: RuntimeWarning: invalid value encountered in subtract\n",
      "  var = mean_sq - mean**2\n",
      "/home/chrism/miniconda3/envs/xb/lib/python3.7/site-packages/scanpy/preprocessing/_utils.py:12: RuntimeWarning: overflow encountered in square\n",
      "  var = mean_sq - mean**2\n"
     ]
    },
    {
     "name": "stdout",
     "output_type": "stream",
     "text": [
      "458\n",
      "(9313, 212)\n",
      "459\n",
      "FalseFalseFalse[10, 100, 1000, None]\n",
      "460\n",
      "normTrue_lgFalse_ng12_pc40_ts1000_hvg_True_scale_False_leid lgFalse_ng12_pc40_ts1000_hvg_True_scale_False\n",
      "461\n",
      "normFalse_lgFalse_ng12_pc40_ts1000_hvg_True_scale_False_leid lgFalse_ng12_pc40_ts1000_hvg_True_scale_False\n",
      "462\n",
      "FalseFalseTrue[10, 100, 1000, None]\n",
      "463\n",
      "(9313, 212)\n"
     ]
    },
    {
     "name": "stderr",
     "output_type": "stream",
     "text": [
      "/home/chrism/miniconda3/envs/xb/lib/python3.7/site-packages/scanpy/preprocessing/_highly_variable_genes.py:200: RuntimeWarning: overflow encountered in expm1\n",
      "  X = np.expm1(X)\n",
      "/home/chrism/miniconda3/envs/xb/lib/python3.7/site-packages/scanpy/preprocessing/_utils.py:11: RuntimeWarning: overflow encountered in multiply\n",
      "  mean_sq = np.multiply(X, X).mean(axis=axis, dtype=np.float64)\n",
      "/home/chrism/miniconda3/envs/xb/lib/python3.7/site-packages/scanpy/preprocessing/_utils.py:12: RuntimeWarning: invalid value encountered in subtract\n",
      "  var = mean_sq - mean**2\n",
      "/home/chrism/miniconda3/envs/xb/lib/python3.7/site-packages/scanpy/preprocessing/_utils.py:12: RuntimeWarning: overflow encountered in square\n",
      "  var = mean_sq - mean**2\n"
     ]
    },
    {
     "name": "stdout",
     "output_type": "stream",
     "text": [
      "464\n",
      "(9313, 212)\n",
      "465\n",
      "FalseTrueFalse[10, 100, 1000, None]\n",
      "466\n",
      "normTrue_lgFalse_ng12_pc40_ts1000_hvg_True_scale_True_leid lgFalse_ng12_pc40_ts1000_hvg_True_scale_True\n",
      "467\n",
      "normFalse_lgFalse_ng12_pc40_ts1000_hvg_True_scale_True_leid lgFalse_ng12_pc40_ts1000_hvg_True_scale_True\n",
      "468\n",
      "FalseTrueTrue[10, 100, 1000, None]\n",
      "469\n",
      "(9313, 212)\n"
     ]
    },
    {
     "name": "stderr",
     "output_type": "stream",
     "text": [
      "/home/chrism/miniconda3/envs/xb/lib/python3.7/site-packages/scanpy/preprocessing/_highly_variable_genes.py:200: RuntimeWarning: overflow encountered in expm1\n",
      "  X = np.expm1(X)\n",
      "/home/chrism/miniconda3/envs/xb/lib/python3.7/site-packages/scanpy/preprocessing/_utils.py:11: RuntimeWarning: overflow encountered in multiply\n",
      "  mean_sq = np.multiply(X, X).mean(axis=axis, dtype=np.float64)\n",
      "/home/chrism/miniconda3/envs/xb/lib/python3.7/site-packages/scanpy/preprocessing/_utils.py:12: RuntimeWarning: invalid value encountered in subtract\n",
      "  var = mean_sq - mean**2\n",
      "/home/chrism/miniconda3/envs/xb/lib/python3.7/site-packages/scanpy/preprocessing/_utils.py:12: RuntimeWarning: overflow encountered in square\n",
      "  var = mean_sq - mean**2\n"
     ]
    },
    {
     "name": "stdout",
     "output_type": "stream",
     "text": [
      "470\n",
      "(9313, 212)\n",
      "471\n",
      "FalseFalseFalse[10, 100, 1000, None]\n",
      "472\n",
      "normTrue_lgFalse_ng16_pc0_ts1000_hvg_True_scale_False_leid lgFalse_ng16_pc0_ts1000_hvg_True_scale_False\n",
      "473\n",
      "normFalse_lgFalse_ng16_pc0_ts1000_hvg_True_scale_False_leid lgFalse_ng16_pc0_ts1000_hvg_True_scale_False\n",
      "474\n",
      "FalseFalseTrue[10, 100, 1000, None]\n",
      "475\n",
      "(9313, 212)\n"
     ]
    },
    {
     "name": "stderr",
     "output_type": "stream",
     "text": [
      "/home/chrism/miniconda3/envs/xb/lib/python3.7/site-packages/scanpy/preprocessing/_highly_variable_genes.py:200: RuntimeWarning: overflow encountered in expm1\n",
      "  X = np.expm1(X)\n",
      "/home/chrism/miniconda3/envs/xb/lib/python3.7/site-packages/scanpy/preprocessing/_utils.py:11: RuntimeWarning: overflow encountered in multiply\n",
      "  mean_sq = np.multiply(X, X).mean(axis=axis, dtype=np.float64)\n",
      "/home/chrism/miniconda3/envs/xb/lib/python3.7/site-packages/scanpy/preprocessing/_utils.py:12: RuntimeWarning: invalid value encountered in subtract\n",
      "  var = mean_sq - mean**2\n",
      "/home/chrism/miniconda3/envs/xb/lib/python3.7/site-packages/scanpy/preprocessing/_utils.py:12: RuntimeWarning: overflow encountered in square\n",
      "  var = mean_sq - mean**2\n"
     ]
    },
    {
     "name": "stdout",
     "output_type": "stream",
     "text": [
      "476\n",
      "(9313, 212)\n",
      "477\n",
      "FalseTrueFalse[10, 100, 1000, None]\n",
      "478\n",
      "normTrue_lgFalse_ng16_pc0_ts1000_hvg_True_scale_True_leid lgFalse_ng16_pc0_ts1000_hvg_True_scale_True\n",
      "479\n",
      "normFalse_lgFalse_ng16_pc0_ts1000_hvg_True_scale_True_leid lgFalse_ng16_pc0_ts1000_hvg_True_scale_True\n",
      "480\n",
      "FalseTrueTrue[10, 100, 1000, None]\n",
      "481\n",
      "(9313, 212)\n"
     ]
    },
    {
     "name": "stderr",
     "output_type": "stream",
     "text": [
      "/home/chrism/miniconda3/envs/xb/lib/python3.7/site-packages/scanpy/preprocessing/_highly_variable_genes.py:200: RuntimeWarning: overflow encountered in expm1\n",
      "  X = np.expm1(X)\n",
      "/home/chrism/miniconda3/envs/xb/lib/python3.7/site-packages/scanpy/preprocessing/_utils.py:11: RuntimeWarning: overflow encountered in multiply\n",
      "  mean_sq = np.multiply(X, X).mean(axis=axis, dtype=np.float64)\n",
      "/home/chrism/miniconda3/envs/xb/lib/python3.7/site-packages/scanpy/preprocessing/_utils.py:12: RuntimeWarning: invalid value encountered in subtract\n",
      "  var = mean_sq - mean**2\n",
      "/home/chrism/miniconda3/envs/xb/lib/python3.7/site-packages/scanpy/preprocessing/_utils.py:12: RuntimeWarning: overflow encountered in square\n",
      "  var = mean_sq - mean**2\n"
     ]
    },
    {
     "name": "stdout",
     "output_type": "stream",
     "text": [
      "482\n",
      "(9313, 212)\n",
      "483\n",
      "FalseFalseFalse[10, 100, 1000, None]\n",
      "484\n",
      "normTrue_lgFalse_ng16_pc20_ts1000_hvg_True_scale_False_leid lgFalse_ng16_pc20_ts1000_hvg_True_scale_False\n",
      "485\n",
      "normFalse_lgFalse_ng16_pc20_ts1000_hvg_True_scale_False_leid lgFalse_ng16_pc20_ts1000_hvg_True_scale_False\n",
      "486\n",
      "FalseFalseTrue[10, 100, 1000, None]\n",
      "487\n",
      "(9313, 212)\n"
     ]
    },
    {
     "name": "stderr",
     "output_type": "stream",
     "text": [
      "/home/chrism/miniconda3/envs/xb/lib/python3.7/site-packages/scanpy/preprocessing/_highly_variable_genes.py:200: RuntimeWarning: overflow encountered in expm1\n",
      "  X = np.expm1(X)\n",
      "/home/chrism/miniconda3/envs/xb/lib/python3.7/site-packages/scanpy/preprocessing/_utils.py:11: RuntimeWarning: overflow encountered in multiply\n",
      "  mean_sq = np.multiply(X, X).mean(axis=axis, dtype=np.float64)\n",
      "/home/chrism/miniconda3/envs/xb/lib/python3.7/site-packages/scanpy/preprocessing/_utils.py:12: RuntimeWarning: invalid value encountered in subtract\n",
      "  var = mean_sq - mean**2\n",
      "/home/chrism/miniconda3/envs/xb/lib/python3.7/site-packages/scanpy/preprocessing/_utils.py:12: RuntimeWarning: overflow encountered in square\n",
      "  var = mean_sq - mean**2\n"
     ]
    },
    {
     "name": "stdout",
     "output_type": "stream",
     "text": [
      "488\n",
      "(9313, 212)\n",
      "489\n",
      "FalseTrueFalse[10, 100, 1000, None]\n",
      "490\n",
      "normTrue_lgFalse_ng16_pc20_ts1000_hvg_True_scale_True_leid lgFalse_ng16_pc20_ts1000_hvg_True_scale_True\n",
      "491\n",
      "normFalse_lgFalse_ng16_pc20_ts1000_hvg_True_scale_True_leid lgFalse_ng16_pc20_ts1000_hvg_True_scale_True\n",
      "492\n",
      "FalseTrueTrue[10, 100, 1000, None]\n",
      "493\n",
      "(9313, 212)\n"
     ]
    },
    {
     "name": "stderr",
     "output_type": "stream",
     "text": [
      "/home/chrism/miniconda3/envs/xb/lib/python3.7/site-packages/scanpy/preprocessing/_highly_variable_genes.py:200: RuntimeWarning: overflow encountered in expm1\n",
      "  X = np.expm1(X)\n",
      "/home/chrism/miniconda3/envs/xb/lib/python3.7/site-packages/scanpy/preprocessing/_utils.py:11: RuntimeWarning: overflow encountered in multiply\n",
      "  mean_sq = np.multiply(X, X).mean(axis=axis, dtype=np.float64)\n",
      "/home/chrism/miniconda3/envs/xb/lib/python3.7/site-packages/scanpy/preprocessing/_utils.py:12: RuntimeWarning: invalid value encountered in subtract\n",
      "  var = mean_sq - mean**2\n",
      "/home/chrism/miniconda3/envs/xb/lib/python3.7/site-packages/scanpy/preprocessing/_utils.py:12: RuntimeWarning: overflow encountered in square\n",
      "  var = mean_sq - mean**2\n"
     ]
    },
    {
     "name": "stdout",
     "output_type": "stream",
     "text": [
      "494\n",
      "(9313, 212)\n",
      "495\n",
      "FalseFalseFalse[10, 100, 1000, None]\n",
      "496\n",
      "normTrue_lgFalse_ng16_pc40_ts1000_hvg_True_scale_False_leid lgFalse_ng16_pc40_ts1000_hvg_True_scale_False\n",
      "497\n",
      "normFalse_lgFalse_ng16_pc40_ts1000_hvg_True_scale_False_leid lgFalse_ng16_pc40_ts1000_hvg_True_scale_False\n",
      "498\n",
      "FalseFalseTrue[10, 100, 1000, None]\n",
      "499\n",
      "(9313, 212)\n"
     ]
    },
    {
     "name": "stderr",
     "output_type": "stream",
     "text": [
      "/home/chrism/miniconda3/envs/xb/lib/python3.7/site-packages/scanpy/preprocessing/_highly_variable_genes.py:200: RuntimeWarning: overflow encountered in expm1\n",
      "  X = np.expm1(X)\n",
      "/home/chrism/miniconda3/envs/xb/lib/python3.7/site-packages/scanpy/preprocessing/_utils.py:11: RuntimeWarning: overflow encountered in multiply\n",
      "  mean_sq = np.multiply(X, X).mean(axis=axis, dtype=np.float64)\n",
      "/home/chrism/miniconda3/envs/xb/lib/python3.7/site-packages/scanpy/preprocessing/_utils.py:12: RuntimeWarning: invalid value encountered in subtract\n",
      "  var = mean_sq - mean**2\n",
      "/home/chrism/miniconda3/envs/xb/lib/python3.7/site-packages/scanpy/preprocessing/_utils.py:12: RuntimeWarning: overflow encountered in square\n",
      "  var = mean_sq - mean**2\n"
     ]
    },
    {
     "name": "stdout",
     "output_type": "stream",
     "text": [
      "500\n",
      "(9313, 212)\n",
      "501\n",
      "FalseTrueFalse[10, 100, 1000, None]\n",
      "502\n",
      "normTrue_lgFalse_ng16_pc40_ts1000_hvg_True_scale_True_leid lgFalse_ng16_pc40_ts1000_hvg_True_scale_True\n",
      "503\n",
      "normFalse_lgFalse_ng16_pc40_ts1000_hvg_True_scale_True_leid lgFalse_ng16_pc40_ts1000_hvg_True_scale_True\n",
      "504\n",
      "FalseTrueTrue[10, 100, 1000, None]\n",
      "505\n",
      "(9313, 212)\n"
     ]
    },
    {
     "name": "stderr",
     "output_type": "stream",
     "text": [
      "/home/chrism/miniconda3/envs/xb/lib/python3.7/site-packages/scanpy/preprocessing/_highly_variable_genes.py:200: RuntimeWarning: overflow encountered in expm1\n",
      "  X = np.expm1(X)\n",
      "/home/chrism/miniconda3/envs/xb/lib/python3.7/site-packages/scanpy/preprocessing/_utils.py:11: RuntimeWarning: overflow encountered in multiply\n",
      "  mean_sq = np.multiply(X, X).mean(axis=axis, dtype=np.float64)\n",
      "/home/chrism/miniconda3/envs/xb/lib/python3.7/site-packages/scanpy/preprocessing/_utils.py:12: RuntimeWarning: invalid value encountered in subtract\n",
      "  var = mean_sq - mean**2\n",
      "/home/chrism/miniconda3/envs/xb/lib/python3.7/site-packages/scanpy/preprocessing/_utils.py:12: RuntimeWarning: overflow encountered in square\n",
      "  var = mean_sq - mean**2\n"
     ]
    },
    {
     "name": "stdout",
     "output_type": "stream",
     "text": [
      "506\n",
      "(9313, 212)\n",
      "507\n",
      "FalseFalseFalse[10, 100, 1000, None]\n",
      "508\n",
      "normTrue_lgFalse_ng12_pc0_tsNone_hvg_True_scale_False_leid lgFalse_ng12_pc0_tsNone_hvg_True_scale_False\n",
      "509\n",
      "normFalse_lgFalse_ng12_pc0_tsNone_hvg_True_scale_False_leid lgFalse_ng12_pc0_tsNone_hvg_True_scale_False\n",
      "510\n",
      "FalseFalseTrue[10, 100, 1000, None]\n",
      "511\n",
      "(9313, 212)\n"
     ]
    },
    {
     "name": "stderr",
     "output_type": "stream",
     "text": [
      "/home/chrism/miniconda3/envs/xb/lib/python3.7/site-packages/scanpy/preprocessing/_highly_variable_genes.py:200: RuntimeWarning: overflow encountered in expm1\n",
      "  X = np.expm1(X)\n",
      "/home/chrism/miniconda3/envs/xb/lib/python3.7/site-packages/scanpy/preprocessing/_utils.py:11: RuntimeWarning: overflow encountered in multiply\n",
      "  mean_sq = np.multiply(X, X).mean(axis=axis, dtype=np.float64)\n",
      "/home/chrism/miniconda3/envs/xb/lib/python3.7/site-packages/scanpy/preprocessing/_utils.py:12: RuntimeWarning: invalid value encountered in subtract\n",
      "  var = mean_sq - mean**2\n",
      "/home/chrism/miniconda3/envs/xb/lib/python3.7/site-packages/scanpy/preprocessing/_utils.py:12: RuntimeWarning: overflow encountered in square\n",
      "  var = mean_sq - mean**2\n"
     ]
    },
    {
     "name": "stdout",
     "output_type": "stream",
     "text": [
      "512\n",
      "(9313, 212)\n",
      "513\n",
      "FalseTrueFalse[10, 100, 1000, None]\n",
      "514\n",
      "normTrue_lgFalse_ng12_pc0_tsNone_hvg_True_scale_True_leid lgFalse_ng12_pc0_tsNone_hvg_True_scale_True\n",
      "515\n",
      "normFalse_lgFalse_ng12_pc0_tsNone_hvg_True_scale_True_leid lgFalse_ng12_pc0_tsNone_hvg_True_scale_True\n",
      "516\n",
      "FalseTrueTrue[10, 100, 1000, None]\n",
      "517\n",
      "(9313, 212)\n"
     ]
    },
    {
     "name": "stderr",
     "output_type": "stream",
     "text": [
      "/home/chrism/miniconda3/envs/xb/lib/python3.7/site-packages/scanpy/preprocessing/_highly_variable_genes.py:200: RuntimeWarning: overflow encountered in expm1\n",
      "  X = np.expm1(X)\n",
      "/home/chrism/miniconda3/envs/xb/lib/python3.7/site-packages/scanpy/preprocessing/_utils.py:11: RuntimeWarning: overflow encountered in multiply\n",
      "  mean_sq = np.multiply(X, X).mean(axis=axis, dtype=np.float64)\n",
      "/home/chrism/miniconda3/envs/xb/lib/python3.7/site-packages/scanpy/preprocessing/_utils.py:12: RuntimeWarning: invalid value encountered in subtract\n",
      "  var = mean_sq - mean**2\n",
      "/home/chrism/miniconda3/envs/xb/lib/python3.7/site-packages/scanpy/preprocessing/_utils.py:12: RuntimeWarning: overflow encountered in square\n",
      "  var = mean_sq - mean**2\n"
     ]
    },
    {
     "name": "stdout",
     "output_type": "stream",
     "text": [
      "518\n",
      "(9313, 212)\n",
      "519\n",
      "FalseFalseFalse[10, 100, 1000, None]\n",
      "520\n",
      "normTrue_lgFalse_ng12_pc20_tsNone_hvg_True_scale_False_leid lgFalse_ng12_pc20_tsNone_hvg_True_scale_False\n",
      "521\n",
      "normFalse_lgFalse_ng12_pc20_tsNone_hvg_True_scale_False_leid lgFalse_ng12_pc20_tsNone_hvg_True_scale_False\n",
      "522\n",
      "FalseFalseTrue[10, 100, 1000, None]\n",
      "523\n",
      "(9313, 212)\n"
     ]
    },
    {
     "name": "stderr",
     "output_type": "stream",
     "text": [
      "/home/chrism/miniconda3/envs/xb/lib/python3.7/site-packages/scanpy/preprocessing/_highly_variable_genes.py:200: RuntimeWarning: overflow encountered in expm1\n",
      "  X = np.expm1(X)\n",
      "/home/chrism/miniconda3/envs/xb/lib/python3.7/site-packages/scanpy/preprocessing/_utils.py:11: RuntimeWarning: overflow encountered in multiply\n",
      "  mean_sq = np.multiply(X, X).mean(axis=axis, dtype=np.float64)\n",
      "/home/chrism/miniconda3/envs/xb/lib/python3.7/site-packages/scanpy/preprocessing/_utils.py:12: RuntimeWarning: invalid value encountered in subtract\n",
      "  var = mean_sq - mean**2\n",
      "/home/chrism/miniconda3/envs/xb/lib/python3.7/site-packages/scanpy/preprocessing/_utils.py:12: RuntimeWarning: overflow encountered in square\n",
      "  var = mean_sq - mean**2\n"
     ]
    },
    {
     "name": "stdout",
     "output_type": "stream",
     "text": [
      "524\n",
      "(9313, 212)\n",
      "525\n",
      "FalseTrueFalse[10, 100, 1000, None]\n",
      "526\n",
      "normTrue_lgFalse_ng12_pc20_tsNone_hvg_True_scale_True_leid lgFalse_ng12_pc20_tsNone_hvg_True_scale_True\n",
      "527\n",
      "normFalse_lgFalse_ng12_pc20_tsNone_hvg_True_scale_True_leid lgFalse_ng12_pc20_tsNone_hvg_True_scale_True\n",
      "528\n",
      "FalseTrueTrue[10, 100, 1000, None]\n",
      "529\n",
      "(9313, 212)\n"
     ]
    },
    {
     "name": "stderr",
     "output_type": "stream",
     "text": [
      "/home/chrism/miniconda3/envs/xb/lib/python3.7/site-packages/scanpy/preprocessing/_highly_variable_genes.py:200: RuntimeWarning: overflow encountered in expm1\n",
      "  X = np.expm1(X)\n",
      "/home/chrism/miniconda3/envs/xb/lib/python3.7/site-packages/scanpy/preprocessing/_utils.py:11: RuntimeWarning: overflow encountered in multiply\n",
      "  mean_sq = np.multiply(X, X).mean(axis=axis, dtype=np.float64)\n",
      "/home/chrism/miniconda3/envs/xb/lib/python3.7/site-packages/scanpy/preprocessing/_utils.py:12: RuntimeWarning: invalid value encountered in subtract\n",
      "  var = mean_sq - mean**2\n",
      "/home/chrism/miniconda3/envs/xb/lib/python3.7/site-packages/scanpy/preprocessing/_utils.py:12: RuntimeWarning: overflow encountered in square\n",
      "  var = mean_sq - mean**2\n"
     ]
    },
    {
     "name": "stdout",
     "output_type": "stream",
     "text": [
      "530\n",
      "(9313, 212)\n",
      "531\n",
      "FalseFalseFalse[10, 100, 1000, None]\n",
      "532\n",
      "normTrue_lgFalse_ng12_pc40_tsNone_hvg_True_scale_False_leid lgFalse_ng12_pc40_tsNone_hvg_True_scale_False\n",
      "533\n",
      "normFalse_lgFalse_ng12_pc40_tsNone_hvg_True_scale_False_leid lgFalse_ng12_pc40_tsNone_hvg_True_scale_False\n",
      "534\n",
      "FalseFalseTrue[10, 100, 1000, None]\n",
      "535\n",
      "(9313, 212)\n"
     ]
    },
    {
     "name": "stderr",
     "output_type": "stream",
     "text": [
      "/home/chrism/miniconda3/envs/xb/lib/python3.7/site-packages/scanpy/preprocessing/_highly_variable_genes.py:200: RuntimeWarning: overflow encountered in expm1\n",
      "  X = np.expm1(X)\n",
      "/home/chrism/miniconda3/envs/xb/lib/python3.7/site-packages/scanpy/preprocessing/_utils.py:11: RuntimeWarning: overflow encountered in multiply\n",
      "  mean_sq = np.multiply(X, X).mean(axis=axis, dtype=np.float64)\n",
      "/home/chrism/miniconda3/envs/xb/lib/python3.7/site-packages/scanpy/preprocessing/_utils.py:12: RuntimeWarning: invalid value encountered in subtract\n",
      "  var = mean_sq - mean**2\n",
      "/home/chrism/miniconda3/envs/xb/lib/python3.7/site-packages/scanpy/preprocessing/_utils.py:12: RuntimeWarning: overflow encountered in square\n",
      "  var = mean_sq - mean**2\n"
     ]
    },
    {
     "name": "stdout",
     "output_type": "stream",
     "text": [
      "536\n",
      "(9313, 212)\n",
      "537\n",
      "FalseTrueFalse[10, 100, 1000, None]\n",
      "538\n",
      "normTrue_lgFalse_ng12_pc40_tsNone_hvg_True_scale_True_leid lgFalse_ng12_pc40_tsNone_hvg_True_scale_True\n",
      "539\n",
      "normFalse_lgFalse_ng12_pc40_tsNone_hvg_True_scale_True_leid lgFalse_ng12_pc40_tsNone_hvg_True_scale_True\n",
      "540\n",
      "FalseTrueTrue[10, 100, 1000, None]\n",
      "541\n",
      "(9313, 212)\n"
     ]
    },
    {
     "name": "stderr",
     "output_type": "stream",
     "text": [
      "/home/chrism/miniconda3/envs/xb/lib/python3.7/site-packages/scanpy/preprocessing/_highly_variable_genes.py:200: RuntimeWarning: overflow encountered in expm1\n",
      "  X = np.expm1(X)\n",
      "/home/chrism/miniconda3/envs/xb/lib/python3.7/site-packages/scanpy/preprocessing/_utils.py:11: RuntimeWarning: overflow encountered in multiply\n",
      "  mean_sq = np.multiply(X, X).mean(axis=axis, dtype=np.float64)\n",
      "/home/chrism/miniconda3/envs/xb/lib/python3.7/site-packages/scanpy/preprocessing/_utils.py:12: RuntimeWarning: invalid value encountered in subtract\n",
      "  var = mean_sq - mean**2\n",
      "/home/chrism/miniconda3/envs/xb/lib/python3.7/site-packages/scanpy/preprocessing/_utils.py:12: RuntimeWarning: overflow encountered in square\n",
      "  var = mean_sq - mean**2\n"
     ]
    },
    {
     "name": "stdout",
     "output_type": "stream",
     "text": [
      "542\n",
      "(9313, 212)\n",
      "543\n",
      "FalseFalseFalse[10, 100, 1000, None]\n",
      "544\n",
      "normTrue_lgFalse_ng16_pc0_tsNone_hvg_True_scale_False_leid lgFalse_ng16_pc0_tsNone_hvg_True_scale_False\n",
      "545\n",
      "normFalse_lgFalse_ng16_pc0_tsNone_hvg_True_scale_False_leid lgFalse_ng16_pc0_tsNone_hvg_True_scale_False\n",
      "546\n",
      "FalseFalseTrue[10, 100, 1000, None]\n",
      "547\n",
      "(9313, 212)\n"
     ]
    },
    {
     "name": "stderr",
     "output_type": "stream",
     "text": [
      "/home/chrism/miniconda3/envs/xb/lib/python3.7/site-packages/scanpy/preprocessing/_highly_variable_genes.py:200: RuntimeWarning: overflow encountered in expm1\n",
      "  X = np.expm1(X)\n",
      "/home/chrism/miniconda3/envs/xb/lib/python3.7/site-packages/scanpy/preprocessing/_utils.py:11: RuntimeWarning: overflow encountered in multiply\n",
      "  mean_sq = np.multiply(X, X).mean(axis=axis, dtype=np.float64)\n",
      "/home/chrism/miniconda3/envs/xb/lib/python3.7/site-packages/scanpy/preprocessing/_utils.py:12: RuntimeWarning: invalid value encountered in subtract\n",
      "  var = mean_sq - mean**2\n",
      "/home/chrism/miniconda3/envs/xb/lib/python3.7/site-packages/scanpy/preprocessing/_utils.py:12: RuntimeWarning: overflow encountered in square\n",
      "  var = mean_sq - mean**2\n"
     ]
    },
    {
     "name": "stdout",
     "output_type": "stream",
     "text": [
      "548\n",
      "(9313, 212)\n",
      "549\n",
      "FalseTrueFalse[10, 100, 1000, None]\n",
      "550\n",
      "normTrue_lgFalse_ng16_pc0_tsNone_hvg_True_scale_True_leid lgFalse_ng16_pc0_tsNone_hvg_True_scale_True\n",
      "551\n",
      "normFalse_lgFalse_ng16_pc0_tsNone_hvg_True_scale_True_leid lgFalse_ng16_pc0_tsNone_hvg_True_scale_True\n",
      "552\n",
      "FalseTrueTrue[10, 100, 1000, None]\n",
      "553\n",
      "(9313, 212)\n"
     ]
    },
    {
     "name": "stderr",
     "output_type": "stream",
     "text": [
      "/home/chrism/miniconda3/envs/xb/lib/python3.7/site-packages/scanpy/preprocessing/_highly_variable_genes.py:200: RuntimeWarning: overflow encountered in expm1\n",
      "  X = np.expm1(X)\n",
      "/home/chrism/miniconda3/envs/xb/lib/python3.7/site-packages/scanpy/preprocessing/_utils.py:11: RuntimeWarning: overflow encountered in multiply\n",
      "  mean_sq = np.multiply(X, X).mean(axis=axis, dtype=np.float64)\n",
      "/home/chrism/miniconda3/envs/xb/lib/python3.7/site-packages/scanpy/preprocessing/_utils.py:12: RuntimeWarning: invalid value encountered in subtract\n",
      "  var = mean_sq - mean**2\n",
      "/home/chrism/miniconda3/envs/xb/lib/python3.7/site-packages/scanpy/preprocessing/_utils.py:12: RuntimeWarning: overflow encountered in square\n",
      "  var = mean_sq - mean**2\n"
     ]
    },
    {
     "name": "stdout",
     "output_type": "stream",
     "text": [
      "554\n",
      "(9313, 212)\n",
      "555\n",
      "FalseFalseFalse[10, 100, 1000, None]\n",
      "556\n",
      "normTrue_lgFalse_ng16_pc20_tsNone_hvg_True_scale_False_leid lgFalse_ng16_pc20_tsNone_hvg_True_scale_False\n",
      "557\n",
      "normFalse_lgFalse_ng16_pc20_tsNone_hvg_True_scale_False_leid lgFalse_ng16_pc20_tsNone_hvg_True_scale_False\n",
      "558\n",
      "FalseFalseTrue[10, 100, 1000, None]\n",
      "559\n",
      "(9313, 212)\n"
     ]
    },
    {
     "name": "stderr",
     "output_type": "stream",
     "text": [
      "/home/chrism/miniconda3/envs/xb/lib/python3.7/site-packages/scanpy/preprocessing/_highly_variable_genes.py:200: RuntimeWarning: overflow encountered in expm1\n",
      "  X = np.expm1(X)\n",
      "/home/chrism/miniconda3/envs/xb/lib/python3.7/site-packages/scanpy/preprocessing/_utils.py:11: RuntimeWarning: overflow encountered in multiply\n",
      "  mean_sq = np.multiply(X, X).mean(axis=axis, dtype=np.float64)\n",
      "/home/chrism/miniconda3/envs/xb/lib/python3.7/site-packages/scanpy/preprocessing/_utils.py:12: RuntimeWarning: invalid value encountered in subtract\n",
      "  var = mean_sq - mean**2\n",
      "/home/chrism/miniconda3/envs/xb/lib/python3.7/site-packages/scanpy/preprocessing/_utils.py:12: RuntimeWarning: overflow encountered in square\n",
      "  var = mean_sq - mean**2\n"
     ]
    },
    {
     "name": "stdout",
     "output_type": "stream",
     "text": [
      "560\n",
      "(9313, 212)\n",
      "561\n",
      "FalseTrueFalse[10, 100, 1000, None]\n",
      "562\n",
      "normTrue_lgFalse_ng16_pc20_tsNone_hvg_True_scale_True_leid lgFalse_ng16_pc20_tsNone_hvg_True_scale_True\n",
      "563\n",
      "normFalse_lgFalse_ng16_pc20_tsNone_hvg_True_scale_True_leid lgFalse_ng16_pc20_tsNone_hvg_True_scale_True\n",
      "564\n",
      "FalseTrueTrue[10, 100, 1000, None]\n",
      "565\n",
      "(9313, 212)\n"
     ]
    },
    {
     "name": "stderr",
     "output_type": "stream",
     "text": [
      "/home/chrism/miniconda3/envs/xb/lib/python3.7/site-packages/scanpy/preprocessing/_highly_variable_genes.py:200: RuntimeWarning: overflow encountered in expm1\n",
      "  X = np.expm1(X)\n",
      "/home/chrism/miniconda3/envs/xb/lib/python3.7/site-packages/scanpy/preprocessing/_utils.py:11: RuntimeWarning: overflow encountered in multiply\n",
      "  mean_sq = np.multiply(X, X).mean(axis=axis, dtype=np.float64)\n",
      "/home/chrism/miniconda3/envs/xb/lib/python3.7/site-packages/scanpy/preprocessing/_utils.py:12: RuntimeWarning: invalid value encountered in subtract\n",
      "  var = mean_sq - mean**2\n",
      "/home/chrism/miniconda3/envs/xb/lib/python3.7/site-packages/scanpy/preprocessing/_utils.py:12: RuntimeWarning: overflow encountered in square\n",
      "  var = mean_sq - mean**2\n"
     ]
    },
    {
     "name": "stdout",
     "output_type": "stream",
     "text": [
      "566\n",
      "(9313, 212)\n",
      "567\n",
      "FalseFalseFalse[10, 100, 1000, None]\n",
      "568\n",
      "normTrue_lgFalse_ng16_pc40_tsNone_hvg_True_scale_False_leid lgFalse_ng16_pc40_tsNone_hvg_True_scale_False\n",
      "569\n",
      "normFalse_lgFalse_ng16_pc40_tsNone_hvg_True_scale_False_leid lgFalse_ng16_pc40_tsNone_hvg_True_scale_False\n",
      "570\n",
      "FalseFalseTrue[10, 100, 1000, None]\n",
      "571\n",
      "(9313, 212)\n"
     ]
    },
    {
     "name": "stderr",
     "output_type": "stream",
     "text": [
      "/home/chrism/miniconda3/envs/xb/lib/python3.7/site-packages/scanpy/preprocessing/_highly_variable_genes.py:200: RuntimeWarning: overflow encountered in expm1\n",
      "  X = np.expm1(X)\n",
      "/home/chrism/miniconda3/envs/xb/lib/python3.7/site-packages/scanpy/preprocessing/_utils.py:11: RuntimeWarning: overflow encountered in multiply\n",
      "  mean_sq = np.multiply(X, X).mean(axis=axis, dtype=np.float64)\n",
      "/home/chrism/miniconda3/envs/xb/lib/python3.7/site-packages/scanpy/preprocessing/_utils.py:12: RuntimeWarning: invalid value encountered in subtract\n",
      "  var = mean_sq - mean**2\n",
      "/home/chrism/miniconda3/envs/xb/lib/python3.7/site-packages/scanpy/preprocessing/_utils.py:12: RuntimeWarning: overflow encountered in square\n",
      "  var = mean_sq - mean**2\n"
     ]
    },
    {
     "name": "stdout",
     "output_type": "stream",
     "text": [
      "572\n",
      "(9313, 212)\n",
      "573\n",
      "FalseTrueFalse[10, 100, 1000, None]\n",
      "574\n",
      "normTrue_lgFalse_ng16_pc40_tsNone_hvg_True_scale_True_leid lgFalse_ng16_pc40_tsNone_hvg_True_scale_True\n",
      "575\n",
      "normFalse_lgFalse_ng16_pc40_tsNone_hvg_True_scale_True_leid lgFalse_ng16_pc40_tsNone_hvg_True_scale_True\n",
      "576\n",
      "FalseTrueTrue[10, 100, 1000, None]\n"
     ]
    },
    {
     "name": "stderr",
     "output_type": "stream",
     "text": [
      "/home/chrism/miniconda3/envs/xb/lib/python3.7/site-packages/scanpy/preprocessing/_highly_variable_genes.py:200: RuntimeWarning: overflow encountered in expm1\n",
      "  X = np.expm1(X)\n",
      "/home/chrism/miniconda3/envs/xb/lib/python3.7/site-packages/scanpy/preprocessing/_utils.py:11: RuntimeWarning: overflow encountered in multiply\n",
      "  mean_sq = np.multiply(X, X).mean(axis=axis, dtype=np.float64)\n",
      "/home/chrism/miniconda3/envs/xb/lib/python3.7/site-packages/scanpy/preprocessing/_utils.py:12: RuntimeWarning: invalid value encountered in subtract\n",
      "  var = mean_sq - mean**2\n",
      "/home/chrism/miniconda3/envs/xb/lib/python3.7/site-packages/scanpy/preprocessing/_utils.py:12: RuntimeWarning: overflow encountered in square\n",
      "  var = mean_sq - mean**2\n",
      "/home/chrism/git/Xenium_benchmarking/xb/simulating.py:430: PerformanceWarning: DataFrame is highly fragmented.  This is usually the result of calling `frame.insert` many times, which has poor performance.  Consider joining all columns at once using pd.concat(axis=1) instead.  To get a de-fragmented frame, use `newframe = frame.copy()`\n",
      "  allres['RESULTS']=adata.obs[default_key]\n"
     ]
    },
    {
     "name": "stdout",
     "output_type": "stream",
     "text": [
      "##################################### Dataset 1\n",
      "../../data/scRNAseq_for_simulations/574e9f9e-f8b4-41ef-bf19-89a9964fd9c7\n"
     ]
    },
    {
     "name": "stderr",
     "output_type": "stream",
     "text": [
      "100%|█████████████████████████████████████████████████████████████████████████████████████████████████████████████████████| 4/4 [00:00<00:00, 991.91it/s]\n"
     ]
    },
    {
     "name": "stdout",
     "output_type": "stream",
     "text": [
      "(9634, 166)\n",
      "first run\n",
      "1\n",
      "(9634, 166)\n",
      "2\n",
      "(9634, 166)\n"
     ]
    },
    {
     "name": "stderr",
     "output_type": "stream",
     "text": [
      "/home/chrism/miniconda3/envs/xb/lib/python3.7/site-packages/scanpy/preprocessing/_simple.py:352: RuntimeWarning: divide by zero encountered in log1p\n",
      "  np.log1p(X, out=X)\n"
     ]
    },
    {
     "name": "stdout",
     "output_type": "stream",
     "text": [
      "3\n",
      "TrueFalseFalse[10, 100, 1000, None]\n",
      "4\n",
      "(9634, 42)\n"
     ]
    },
    {
     "name": "stderr",
     "output_type": "stream",
     "text": [
      "/home/chrism/git/Xenium_benchmarking/xb/simulating.py:314: ImplicitModificationWarning: Trying to modify attribute `.X` of view, initializing view as actual.\n",
      "  adata.X[adata.X==-np.inf]=0\n"
     ]
    },
    {
     "name": "stdout",
     "output_type": "stream",
     "text": [
      "5\n",
      "(9634, 59)\n"
     ]
    },
    {
     "name": "stderr",
     "output_type": "stream",
     "text": [
      "/home/chrism/miniconda3/envs/xb/lib/python3.7/site-packages/scanpy/preprocessing/_simple.py:352: RuntimeWarning: divide by zero encountered in log1p\n",
      "  np.log1p(X, out=X)\n",
      "/home/chrism/git/Xenium_benchmarking/xb/simulating.py:314: ImplicitModificationWarning: Trying to modify attribute `.X` of view, initializing view as actual.\n",
      "  adata.X[adata.X==-np.inf]=0\n",
      "/home/chrism/miniconda3/envs/xb/lib/python3.7/contextlib.py:119: FutureWarning: X.dtype being converted to np.float32 from float64. In the next version of anndata (0.9) conversion will not be automatic. Pass dtype explicitly to avoid this warning. Pass `AnnData(X, dtype=X.dtype, ...)` to get the future behavour.\n",
      "  next(self.gen)\n"
     ]
    },
    {
     "name": "stdout",
     "output_type": "stream",
     "text": [
      "6\n",
      "TrueFalseTrue[10, 100, 1000, None]\n",
      "7\n",
      "(9634, 166)\n",
      "8\n",
      "(9634, 166)\n"
     ]
    },
    {
     "name": "stderr",
     "output_type": "stream",
     "text": [
      "/home/chrism/miniconda3/envs/xb/lib/python3.7/site-packages/scanpy/preprocessing/_simple.py:352: RuntimeWarning: divide by zero encountered in log1p\n",
      "  np.log1p(X, out=X)\n",
      "/home/chrism/miniconda3/envs/xb/lib/python3.7/site-packages/scanpy/preprocessing/_utils.py:12: RuntimeWarning: invalid value encountered in subtract\n",
      "  var = mean_sq - mean**2\n",
      "/home/chrism/miniconda3/envs/xb/lib/python3.7/site-packages/scanpy/preprocessing/_simple.py:792: RuntimeWarning: invalid value encountered in subtract\n",
      "  X -= mean\n"
     ]
    },
    {
     "name": "stdout",
     "output_type": "stream",
     "text": [
      "9\n",
      "TrueTrueFalse[10, 100, 1000, None]\n",
      "10\n",
      "(9634, 42)\n"
     ]
    },
    {
     "name": "stderr",
     "output_type": "stream",
     "text": [
      "/home/chrism/miniconda3/envs/xb/lib/python3.7/site-packages/scanpy/preprocessing/_simple.py:843: UserWarning: Received a view of an AnnData. Making a copy.\n",
      "  view_to_actual(adata)\n"
     ]
    },
    {
     "name": "stdout",
     "output_type": "stream",
     "text": [
      "11\n",
      "(9634, 59)\n"
     ]
    },
    {
     "name": "stderr",
     "output_type": "stream",
     "text": [
      "/home/chrism/miniconda3/envs/xb/lib/python3.7/site-packages/scanpy/preprocessing/_simple.py:352: RuntimeWarning: divide by zero encountered in log1p\n",
      "  np.log1p(X, out=X)\n",
      "/home/chrism/miniconda3/envs/xb/lib/python3.7/site-packages/scanpy/preprocessing/_simple.py:843: UserWarning: Received a view of an AnnData. Making a copy.\n",
      "  view_to_actual(adata)\n",
      "/home/chrism/miniconda3/envs/xb/lib/python3.7/site-packages/scanpy/preprocessing/_simple.py:843: FutureWarning: X.dtype being converted to np.float32 from float64. In the next version of anndata (0.9) conversion will not be automatic. Pass dtype explicitly to avoid this warning. Pass `AnnData(X, dtype=X.dtype, ...)` to get the future behavour.\n",
      "  view_to_actual(adata)\n",
      "/home/chrism/miniconda3/envs/xb/lib/python3.7/site-packages/scanpy/preprocessing/_utils.py:12: RuntimeWarning: invalid value encountered in subtract\n",
      "  var = mean_sq - mean**2\n",
      "/home/chrism/miniconda3/envs/xb/lib/python3.7/site-packages/scanpy/preprocessing/_simple.py:792: RuntimeWarning: invalid value encountered in subtract\n",
      "  X -= mean\n"
     ]
    },
    {
     "name": "stdout",
     "output_type": "stream",
     "text": [
      "12\n",
      "TrueTrueTrue[10, 100, 1000, None]\n",
      "13\n",
      "(9634, 166)\n",
      "14\n",
      "(9634, 166)\n"
     ]
    },
    {
     "name": "stderr",
     "output_type": "stream",
     "text": [
      "/home/chrism/miniconda3/envs/xb/lib/python3.7/site-packages/scanpy/preprocessing/_simple.py:352: RuntimeWarning: divide by zero encountered in log1p\n",
      "  np.log1p(X, out=X)\n"
     ]
    },
    {
     "name": "stdout",
     "output_type": "stream",
     "text": [
      "15\n",
      "TrueFalseFalse[10, 100, 1000, None]\n",
      "16\n",
      "(9634, 42)\n"
     ]
    },
    {
     "name": "stderr",
     "output_type": "stream",
     "text": [
      "/home/chrism/git/Xenium_benchmarking/xb/simulating.py:314: ImplicitModificationWarning: Trying to modify attribute `.X` of view, initializing view as actual.\n",
      "  adata.X[adata.X==-np.inf]=0\n"
     ]
    },
    {
     "name": "stdout",
     "output_type": "stream",
     "text": [
      "17\n",
      "(9634, 59)\n"
     ]
    },
    {
     "name": "stderr",
     "output_type": "stream",
     "text": [
      "/home/chrism/miniconda3/envs/xb/lib/python3.7/site-packages/scanpy/preprocessing/_simple.py:352: RuntimeWarning: divide by zero encountered in log1p\n",
      "  np.log1p(X, out=X)\n",
      "/home/chrism/git/Xenium_benchmarking/xb/simulating.py:314: ImplicitModificationWarning: Trying to modify attribute `.X` of view, initializing view as actual.\n",
      "  adata.X[adata.X==-np.inf]=0\n",
      "/home/chrism/miniconda3/envs/xb/lib/python3.7/contextlib.py:119: FutureWarning: X.dtype being converted to np.float32 from float64. In the next version of anndata (0.9) conversion will not be automatic. Pass dtype explicitly to avoid this warning. Pass `AnnData(X, dtype=X.dtype, ...)` to get the future behavour.\n",
      "  next(self.gen)\n"
     ]
    },
    {
     "name": "stdout",
     "output_type": "stream",
     "text": [
      "18\n",
      "TrueFalseTrue[10, 100, 1000, None]\n",
      "19\n",
      "(9634, 166)\n",
      "20\n",
      "(9634, 166)\n"
     ]
    },
    {
     "name": "stderr",
     "output_type": "stream",
     "text": [
      "/home/chrism/miniconda3/envs/xb/lib/python3.7/site-packages/scanpy/preprocessing/_simple.py:352: RuntimeWarning: divide by zero encountered in log1p\n",
      "  np.log1p(X, out=X)\n",
      "/home/chrism/miniconda3/envs/xb/lib/python3.7/site-packages/scanpy/preprocessing/_utils.py:12: RuntimeWarning: invalid value encountered in subtract\n",
      "  var = mean_sq - mean**2\n",
      "/home/chrism/miniconda3/envs/xb/lib/python3.7/site-packages/scanpy/preprocessing/_simple.py:792: RuntimeWarning: invalid value encountered in subtract\n",
      "  X -= mean\n"
     ]
    },
    {
     "name": "stdout",
     "output_type": "stream",
     "text": [
      "21\n",
      "TrueTrueFalse[10, 100, 1000, None]\n",
      "22\n",
      "(9634, 42)\n"
     ]
    },
    {
     "name": "stderr",
     "output_type": "stream",
     "text": [
      "/home/chrism/miniconda3/envs/xb/lib/python3.7/site-packages/scanpy/preprocessing/_simple.py:843: UserWarning: Received a view of an AnnData. Making a copy.\n",
      "  view_to_actual(adata)\n"
     ]
    },
    {
     "name": "stdout",
     "output_type": "stream",
     "text": [
      "23\n",
      "(9634, 59)\n"
     ]
    },
    {
     "name": "stderr",
     "output_type": "stream",
     "text": [
      "/home/chrism/miniconda3/envs/xb/lib/python3.7/site-packages/scanpy/preprocessing/_simple.py:352: RuntimeWarning: divide by zero encountered in log1p\n",
      "  np.log1p(X, out=X)\n",
      "/home/chrism/miniconda3/envs/xb/lib/python3.7/site-packages/scanpy/preprocessing/_simple.py:843: UserWarning: Received a view of an AnnData. Making a copy.\n",
      "  view_to_actual(adata)\n",
      "/home/chrism/miniconda3/envs/xb/lib/python3.7/site-packages/scanpy/preprocessing/_simple.py:843: FutureWarning: X.dtype being converted to np.float32 from float64. In the next version of anndata (0.9) conversion will not be automatic. Pass dtype explicitly to avoid this warning. Pass `AnnData(X, dtype=X.dtype, ...)` to get the future behavour.\n",
      "  view_to_actual(adata)\n",
      "/home/chrism/miniconda3/envs/xb/lib/python3.7/site-packages/scanpy/preprocessing/_utils.py:12: RuntimeWarning: invalid value encountered in subtract\n",
      "  var = mean_sq - mean**2\n",
      "/home/chrism/miniconda3/envs/xb/lib/python3.7/site-packages/scanpy/preprocessing/_simple.py:792: RuntimeWarning: invalid value encountered in subtract\n",
      "  X -= mean\n"
     ]
    },
    {
     "name": "stdout",
     "output_type": "stream",
     "text": [
      "24\n",
      "TrueTrueTrue[10, 100, 1000, None]\n",
      "25\n",
      "(9634, 166)\n",
      "26\n",
      "(9634, 166)\n"
     ]
    },
    {
     "name": "stderr",
     "output_type": "stream",
     "text": [
      "/home/chrism/miniconda3/envs/xb/lib/python3.7/site-packages/scanpy/preprocessing/_simple.py:352: RuntimeWarning: divide by zero encountered in log1p\n",
      "  np.log1p(X, out=X)\n"
     ]
    },
    {
     "name": "stdout",
     "output_type": "stream",
     "text": [
      "27\n",
      "TrueFalseFalse[10, 100, 1000, None]\n",
      "28\n",
      "(9634, 42)\n"
     ]
    },
    {
     "name": "stderr",
     "output_type": "stream",
     "text": [
      "/home/chrism/git/Xenium_benchmarking/xb/simulating.py:314: ImplicitModificationWarning: Trying to modify attribute `.X` of view, initializing view as actual.\n",
      "  adata.X[adata.X==-np.inf]=0\n"
     ]
    },
    {
     "name": "stdout",
     "output_type": "stream",
     "text": [
      "29\n",
      "(9634, 59)\n"
     ]
    },
    {
     "name": "stderr",
     "output_type": "stream",
     "text": [
      "/home/chrism/miniconda3/envs/xb/lib/python3.7/site-packages/scanpy/preprocessing/_simple.py:352: RuntimeWarning: divide by zero encountered in log1p\n",
      "  np.log1p(X, out=X)\n",
      "/home/chrism/git/Xenium_benchmarking/xb/simulating.py:314: ImplicitModificationWarning: Trying to modify attribute `.X` of view, initializing view as actual.\n",
      "  adata.X[adata.X==-np.inf]=0\n",
      "/home/chrism/miniconda3/envs/xb/lib/python3.7/contextlib.py:119: FutureWarning: X.dtype being converted to np.float32 from float64. In the next version of anndata (0.9) conversion will not be automatic. Pass dtype explicitly to avoid this warning. Pass `AnnData(X, dtype=X.dtype, ...)` to get the future behavour.\n",
      "  next(self.gen)\n"
     ]
    },
    {
     "name": "stdout",
     "output_type": "stream",
     "text": [
      "30\n",
      "TrueFalseTrue[10, 100, 1000, None]\n",
      "31\n",
      "(9634, 166)\n",
      "32\n",
      "(9634, 166)\n"
     ]
    },
    {
     "name": "stderr",
     "output_type": "stream",
     "text": [
      "/home/chrism/miniconda3/envs/xb/lib/python3.7/site-packages/scanpy/preprocessing/_simple.py:352: RuntimeWarning: divide by zero encountered in log1p\n",
      "  np.log1p(X, out=X)\n",
      "/home/chrism/miniconda3/envs/xb/lib/python3.7/site-packages/scanpy/preprocessing/_utils.py:12: RuntimeWarning: invalid value encountered in subtract\n",
      "  var = mean_sq - mean**2\n",
      "/home/chrism/miniconda3/envs/xb/lib/python3.7/site-packages/scanpy/preprocessing/_simple.py:792: RuntimeWarning: invalid value encountered in subtract\n",
      "  X -= mean\n"
     ]
    },
    {
     "name": "stdout",
     "output_type": "stream",
     "text": [
      "33\n",
      "TrueTrueFalse[10, 100, 1000, None]\n",
      "34\n",
      "(9634, 42)\n"
     ]
    },
    {
     "name": "stderr",
     "output_type": "stream",
     "text": [
      "/home/chrism/miniconda3/envs/xb/lib/python3.7/site-packages/scanpy/preprocessing/_simple.py:843: UserWarning: Received a view of an AnnData. Making a copy.\n",
      "  view_to_actual(adata)\n"
     ]
    },
    {
     "name": "stdout",
     "output_type": "stream",
     "text": [
      "35\n",
      "(9634, 59)\n"
     ]
    },
    {
     "name": "stderr",
     "output_type": "stream",
     "text": [
      "/home/chrism/miniconda3/envs/xb/lib/python3.7/site-packages/scanpy/preprocessing/_simple.py:352: RuntimeWarning: divide by zero encountered in log1p\n",
      "  np.log1p(X, out=X)\n",
      "/home/chrism/miniconda3/envs/xb/lib/python3.7/site-packages/scanpy/preprocessing/_simple.py:843: UserWarning: Received a view of an AnnData. Making a copy.\n",
      "  view_to_actual(adata)\n",
      "/home/chrism/miniconda3/envs/xb/lib/python3.7/site-packages/scanpy/preprocessing/_simple.py:843: FutureWarning: X.dtype being converted to np.float32 from float64. In the next version of anndata (0.9) conversion will not be automatic. Pass dtype explicitly to avoid this warning. Pass `AnnData(X, dtype=X.dtype, ...)` to get the future behavour.\n",
      "  view_to_actual(adata)\n",
      "/home/chrism/miniconda3/envs/xb/lib/python3.7/site-packages/scanpy/preprocessing/_utils.py:12: RuntimeWarning: invalid value encountered in subtract\n",
      "  var = mean_sq - mean**2\n",
      "/home/chrism/miniconda3/envs/xb/lib/python3.7/site-packages/scanpy/preprocessing/_simple.py:792: RuntimeWarning: invalid value encountered in subtract\n",
      "  X -= mean\n"
     ]
    },
    {
     "name": "stdout",
     "output_type": "stream",
     "text": [
      "36\n",
      "TrueTrueTrue[10, 100, 1000, None]\n",
      "37\n",
      "(9634, 166)\n",
      "38\n",
      "(9634, 166)\n"
     ]
    },
    {
     "name": "stderr",
     "output_type": "stream",
     "text": [
      "/home/chrism/miniconda3/envs/xb/lib/python3.7/site-packages/scanpy/preprocessing/_simple.py:352: RuntimeWarning: divide by zero encountered in log1p\n",
      "  np.log1p(X, out=X)\n"
     ]
    },
    {
     "name": "stdout",
     "output_type": "stream",
     "text": [
      "39\n",
      "TrueFalseFalse[10, 100, 1000, None]\n",
      "40\n",
      "(9634, 42)\n"
     ]
    },
    {
     "name": "stderr",
     "output_type": "stream",
     "text": [
      "/home/chrism/git/Xenium_benchmarking/xb/simulating.py:314: ImplicitModificationWarning: Trying to modify attribute `.X` of view, initializing view as actual.\n",
      "  adata.X[adata.X==-np.inf]=0\n"
     ]
    },
    {
     "name": "stdout",
     "output_type": "stream",
     "text": [
      "41\n",
      "(9634, 59)\n"
     ]
    },
    {
     "name": "stderr",
     "output_type": "stream",
     "text": [
      "/home/chrism/miniconda3/envs/xb/lib/python3.7/site-packages/scanpy/preprocessing/_simple.py:352: RuntimeWarning: divide by zero encountered in log1p\n",
      "  np.log1p(X, out=X)\n",
      "/home/chrism/git/Xenium_benchmarking/xb/simulating.py:314: ImplicitModificationWarning: Trying to modify attribute `.X` of view, initializing view as actual.\n",
      "  adata.X[adata.X==-np.inf]=0\n",
      "/home/chrism/miniconda3/envs/xb/lib/python3.7/contextlib.py:119: FutureWarning: X.dtype being converted to np.float32 from float64. In the next version of anndata (0.9) conversion will not be automatic. Pass dtype explicitly to avoid this warning. Pass `AnnData(X, dtype=X.dtype, ...)` to get the future behavour.\n",
      "  next(self.gen)\n"
     ]
    },
    {
     "name": "stdout",
     "output_type": "stream",
     "text": [
      "42\n",
      "TrueFalseTrue[10, 100, 1000, None]\n",
      "43\n",
      "(9634, 166)\n",
      "44\n",
      "(9634, 166)\n"
     ]
    },
    {
     "name": "stderr",
     "output_type": "stream",
     "text": [
      "/home/chrism/miniconda3/envs/xb/lib/python3.7/site-packages/scanpy/preprocessing/_simple.py:352: RuntimeWarning: divide by zero encountered in log1p\n",
      "  np.log1p(X, out=X)\n",
      "/home/chrism/miniconda3/envs/xb/lib/python3.7/site-packages/scanpy/preprocessing/_utils.py:12: RuntimeWarning: invalid value encountered in subtract\n",
      "  var = mean_sq - mean**2\n",
      "/home/chrism/miniconda3/envs/xb/lib/python3.7/site-packages/scanpy/preprocessing/_simple.py:792: RuntimeWarning: invalid value encountered in subtract\n",
      "  X -= mean\n"
     ]
    },
    {
     "name": "stdout",
     "output_type": "stream",
     "text": [
      "45\n",
      "TrueTrueFalse[10, 100, 1000, None]\n",
      "46\n",
      "(9634, 42)\n"
     ]
    },
    {
     "name": "stderr",
     "output_type": "stream",
     "text": [
      "/home/chrism/miniconda3/envs/xb/lib/python3.7/site-packages/scanpy/preprocessing/_simple.py:843: UserWarning: Received a view of an AnnData. Making a copy.\n",
      "  view_to_actual(adata)\n"
     ]
    },
    {
     "name": "stdout",
     "output_type": "stream",
     "text": [
      "47\n",
      "(9634, 59)\n"
     ]
    },
    {
     "name": "stderr",
     "output_type": "stream",
     "text": [
      "/home/chrism/miniconda3/envs/xb/lib/python3.7/site-packages/scanpy/preprocessing/_simple.py:352: RuntimeWarning: divide by zero encountered in log1p\n",
      "  np.log1p(X, out=X)\n",
      "/home/chrism/miniconda3/envs/xb/lib/python3.7/site-packages/scanpy/preprocessing/_simple.py:843: UserWarning: Received a view of an AnnData. Making a copy.\n",
      "  view_to_actual(adata)\n",
      "/home/chrism/miniconda3/envs/xb/lib/python3.7/site-packages/scanpy/preprocessing/_simple.py:843: FutureWarning: X.dtype being converted to np.float32 from float64. In the next version of anndata (0.9) conversion will not be automatic. Pass dtype explicitly to avoid this warning. Pass `AnnData(X, dtype=X.dtype, ...)` to get the future behavour.\n",
      "  view_to_actual(adata)\n",
      "/home/chrism/miniconda3/envs/xb/lib/python3.7/site-packages/scanpy/preprocessing/_utils.py:12: RuntimeWarning: invalid value encountered in subtract\n",
      "  var = mean_sq - mean**2\n",
      "/home/chrism/miniconda3/envs/xb/lib/python3.7/site-packages/scanpy/preprocessing/_simple.py:792: RuntimeWarning: invalid value encountered in subtract\n",
      "  X -= mean\n"
     ]
    },
    {
     "name": "stdout",
     "output_type": "stream",
     "text": [
      "48\n",
      "TrueTrueTrue[10, 100, 1000, None]\n",
      "49\n",
      "(9634, 166)\n",
      "50\n",
      "(9634, 166)\n"
     ]
    },
    {
     "name": "stderr",
     "output_type": "stream",
     "text": [
      "/home/chrism/miniconda3/envs/xb/lib/python3.7/site-packages/scanpy/preprocessing/_simple.py:352: RuntimeWarning: divide by zero encountered in log1p\n",
      "  np.log1p(X, out=X)\n"
     ]
    },
    {
     "name": "stdout",
     "output_type": "stream",
     "text": [
      "51\n",
      "TrueFalseFalse[10, 100, 1000, None]\n",
      "52\n",
      "(9634, 42)\n"
     ]
    },
    {
     "name": "stderr",
     "output_type": "stream",
     "text": [
      "/home/chrism/git/Xenium_benchmarking/xb/simulating.py:314: ImplicitModificationWarning: Trying to modify attribute `.X` of view, initializing view as actual.\n",
      "  adata.X[adata.X==-np.inf]=0\n"
     ]
    },
    {
     "name": "stdout",
     "output_type": "stream",
     "text": [
      "53\n",
      "(9634, 59)\n"
     ]
    },
    {
     "name": "stderr",
     "output_type": "stream",
     "text": [
      "/home/chrism/miniconda3/envs/xb/lib/python3.7/site-packages/scanpy/preprocessing/_simple.py:352: RuntimeWarning: divide by zero encountered in log1p\n",
      "  np.log1p(X, out=X)\n",
      "/home/chrism/git/Xenium_benchmarking/xb/simulating.py:314: ImplicitModificationWarning: Trying to modify attribute `.X` of view, initializing view as actual.\n",
      "  adata.X[adata.X==-np.inf]=0\n",
      "/home/chrism/miniconda3/envs/xb/lib/python3.7/contextlib.py:119: FutureWarning: X.dtype being converted to np.float32 from float64. In the next version of anndata (0.9) conversion will not be automatic. Pass dtype explicitly to avoid this warning. Pass `AnnData(X, dtype=X.dtype, ...)` to get the future behavour.\n",
      "  next(self.gen)\n"
     ]
    },
    {
     "name": "stdout",
     "output_type": "stream",
     "text": [
      "54\n",
      "TrueFalseTrue[10, 100, 1000, None]\n",
      "55\n",
      "(9634, 166)\n",
      "56\n",
      "(9634, 166)\n"
     ]
    },
    {
     "name": "stderr",
     "output_type": "stream",
     "text": [
      "/home/chrism/miniconda3/envs/xb/lib/python3.7/site-packages/scanpy/preprocessing/_simple.py:352: RuntimeWarning: divide by zero encountered in log1p\n",
      "  np.log1p(X, out=X)\n",
      "/home/chrism/miniconda3/envs/xb/lib/python3.7/site-packages/scanpy/preprocessing/_utils.py:12: RuntimeWarning: invalid value encountered in subtract\n",
      "  var = mean_sq - mean**2\n",
      "/home/chrism/miniconda3/envs/xb/lib/python3.7/site-packages/scanpy/preprocessing/_simple.py:792: RuntimeWarning: invalid value encountered in subtract\n",
      "  X -= mean\n"
     ]
    },
    {
     "name": "stdout",
     "output_type": "stream",
     "text": [
      "57\n",
      "TrueTrueFalse[10, 100, 1000, None]\n",
      "58\n",
      "(9634, 42)\n"
     ]
    },
    {
     "name": "stderr",
     "output_type": "stream",
     "text": [
      "/home/chrism/miniconda3/envs/xb/lib/python3.7/site-packages/scanpy/preprocessing/_simple.py:843: UserWarning: Received a view of an AnnData. Making a copy.\n",
      "  view_to_actual(adata)\n"
     ]
    },
    {
     "name": "stdout",
     "output_type": "stream",
     "text": [
      "59\n",
      "(9634, 59)\n"
     ]
    },
    {
     "name": "stderr",
     "output_type": "stream",
     "text": [
      "/home/chrism/miniconda3/envs/xb/lib/python3.7/site-packages/scanpy/preprocessing/_simple.py:352: RuntimeWarning: divide by zero encountered in log1p\n",
      "  np.log1p(X, out=X)\n",
      "/home/chrism/miniconda3/envs/xb/lib/python3.7/site-packages/scanpy/preprocessing/_simple.py:843: UserWarning: Received a view of an AnnData. Making a copy.\n",
      "  view_to_actual(adata)\n",
      "/home/chrism/miniconda3/envs/xb/lib/python3.7/site-packages/scanpy/preprocessing/_simple.py:843: FutureWarning: X.dtype being converted to np.float32 from float64. In the next version of anndata (0.9) conversion will not be automatic. Pass dtype explicitly to avoid this warning. Pass `AnnData(X, dtype=X.dtype, ...)` to get the future behavour.\n",
      "  view_to_actual(adata)\n",
      "/home/chrism/miniconda3/envs/xb/lib/python3.7/site-packages/scanpy/preprocessing/_utils.py:12: RuntimeWarning: invalid value encountered in subtract\n",
      "  var = mean_sq - mean**2\n",
      "/home/chrism/miniconda3/envs/xb/lib/python3.7/site-packages/scanpy/preprocessing/_simple.py:792: RuntimeWarning: invalid value encountered in subtract\n",
      "  X -= mean\n"
     ]
    },
    {
     "name": "stdout",
     "output_type": "stream",
     "text": [
      "60\n",
      "TrueTrueTrue[10, 100, 1000, None]\n",
      "61\n",
      "(9634, 166)\n",
      "62\n",
      "(9634, 166)\n"
     ]
    },
    {
     "name": "stderr",
     "output_type": "stream",
     "text": [
      "/home/chrism/miniconda3/envs/xb/lib/python3.7/site-packages/scanpy/preprocessing/_simple.py:352: RuntimeWarning: divide by zero encountered in log1p\n",
      "  np.log1p(X, out=X)\n"
     ]
    },
    {
     "name": "stdout",
     "output_type": "stream",
     "text": [
      "63\n",
      "TrueFalseFalse[10, 100, 1000, None]\n",
      "64\n",
      "(9634, 42)\n"
     ]
    },
    {
     "name": "stderr",
     "output_type": "stream",
     "text": [
      "/home/chrism/git/Xenium_benchmarking/xb/simulating.py:314: ImplicitModificationWarning: Trying to modify attribute `.X` of view, initializing view as actual.\n",
      "  adata.X[adata.X==-np.inf]=0\n"
     ]
    },
    {
     "name": "stdout",
     "output_type": "stream",
     "text": [
      "65\n",
      "(9634, 59)\n"
     ]
    },
    {
     "name": "stderr",
     "output_type": "stream",
     "text": [
      "/home/chrism/miniconda3/envs/xb/lib/python3.7/site-packages/scanpy/preprocessing/_simple.py:352: RuntimeWarning: divide by zero encountered in log1p\n",
      "  np.log1p(X, out=X)\n",
      "/home/chrism/git/Xenium_benchmarking/xb/simulating.py:314: ImplicitModificationWarning: Trying to modify attribute `.X` of view, initializing view as actual.\n",
      "  adata.X[adata.X==-np.inf]=0\n",
      "/home/chrism/miniconda3/envs/xb/lib/python3.7/contextlib.py:119: FutureWarning: X.dtype being converted to np.float32 from float64. In the next version of anndata (0.9) conversion will not be automatic. Pass dtype explicitly to avoid this warning. Pass `AnnData(X, dtype=X.dtype, ...)` to get the future behavour.\n",
      "  next(self.gen)\n"
     ]
    },
    {
     "name": "stdout",
     "output_type": "stream",
     "text": [
      "66\n",
      "TrueFalseTrue[10, 100, 1000, None]\n",
      "67\n",
      "(9634, 166)\n",
      "68\n",
      "(9634, 166)\n"
     ]
    },
    {
     "name": "stderr",
     "output_type": "stream",
     "text": [
      "/home/chrism/miniconda3/envs/xb/lib/python3.7/site-packages/scanpy/preprocessing/_simple.py:352: RuntimeWarning: divide by zero encountered in log1p\n",
      "  np.log1p(X, out=X)\n",
      "/home/chrism/miniconda3/envs/xb/lib/python3.7/site-packages/scanpy/preprocessing/_utils.py:12: RuntimeWarning: invalid value encountered in subtract\n",
      "  var = mean_sq - mean**2\n",
      "/home/chrism/miniconda3/envs/xb/lib/python3.7/site-packages/scanpy/preprocessing/_simple.py:792: RuntimeWarning: invalid value encountered in subtract\n",
      "  X -= mean\n"
     ]
    },
    {
     "name": "stdout",
     "output_type": "stream",
     "text": [
      "69\n",
      "TrueTrueFalse[10, 100, 1000, None]\n",
      "70\n",
      "(9634, 42)\n"
     ]
    },
    {
     "name": "stderr",
     "output_type": "stream",
     "text": [
      "/home/chrism/miniconda3/envs/xb/lib/python3.7/site-packages/scanpy/preprocessing/_simple.py:843: UserWarning: Received a view of an AnnData. Making a copy.\n",
      "  view_to_actual(adata)\n"
     ]
    },
    {
     "name": "stdout",
     "output_type": "stream",
     "text": [
      "71\n",
      "(9634, 59)\n"
     ]
    },
    {
     "name": "stderr",
     "output_type": "stream",
     "text": [
      "/home/chrism/miniconda3/envs/xb/lib/python3.7/site-packages/scanpy/preprocessing/_simple.py:352: RuntimeWarning: divide by zero encountered in log1p\n",
      "  np.log1p(X, out=X)\n",
      "/home/chrism/miniconda3/envs/xb/lib/python3.7/site-packages/scanpy/preprocessing/_simple.py:843: UserWarning: Received a view of an AnnData. Making a copy.\n",
      "  view_to_actual(adata)\n",
      "/home/chrism/miniconda3/envs/xb/lib/python3.7/site-packages/scanpy/preprocessing/_simple.py:843: FutureWarning: X.dtype being converted to np.float32 from float64. In the next version of anndata (0.9) conversion will not be automatic. Pass dtype explicitly to avoid this warning. Pass `AnnData(X, dtype=X.dtype, ...)` to get the future behavour.\n",
      "  view_to_actual(adata)\n",
      "/home/chrism/miniconda3/envs/xb/lib/python3.7/site-packages/scanpy/preprocessing/_utils.py:12: RuntimeWarning: invalid value encountered in subtract\n",
      "  var = mean_sq - mean**2\n",
      "/home/chrism/miniconda3/envs/xb/lib/python3.7/site-packages/scanpy/preprocessing/_simple.py:792: RuntimeWarning: invalid value encountered in subtract\n",
      "  X -= mean\n"
     ]
    },
    {
     "name": "stdout",
     "output_type": "stream",
     "text": [
      "72\n",
      "TrueTrueTrue[10, 100, 1000, None]\n",
      "73\n",
      "(9634, 166)\n",
      "74\n",
      "(9634, 166)\n"
     ]
    },
    {
     "name": "stderr",
     "output_type": "stream",
     "text": [
      "/home/chrism/miniconda3/envs/xb/lib/python3.7/site-packages/scanpy/preprocessing/_simple.py:352: RuntimeWarning: divide by zero encountered in log1p\n",
      "  np.log1p(X, out=X)\n"
     ]
    },
    {
     "name": "stdout",
     "output_type": "stream",
     "text": [
      "75\n",
      "TrueFalseFalse[10, 100, 1000, None]\n",
      "76\n",
      "(9634, 63)\n"
     ]
    },
    {
     "name": "stderr",
     "output_type": "stream",
     "text": [
      "/home/chrism/git/Xenium_benchmarking/xb/simulating.py:314: ImplicitModificationWarning: Trying to modify attribute `.X` of view, initializing view as actual.\n",
      "  adata.X[adata.X==-np.inf]=0\n"
     ]
    },
    {
     "name": "stdout",
     "output_type": "stream",
     "text": [
      "77\n",
      "(9634, 59)\n"
     ]
    },
    {
     "name": "stderr",
     "output_type": "stream",
     "text": [
      "/home/chrism/miniconda3/envs/xb/lib/python3.7/site-packages/scanpy/preprocessing/_simple.py:352: RuntimeWarning: divide by zero encountered in log1p\n",
      "  np.log1p(X, out=X)\n",
      "/home/chrism/git/Xenium_benchmarking/xb/simulating.py:314: ImplicitModificationWarning: Trying to modify attribute `.X` of view, initializing view as actual.\n",
      "  adata.X[adata.X==-np.inf]=0\n",
      "/home/chrism/miniconda3/envs/xb/lib/python3.7/contextlib.py:119: FutureWarning: X.dtype being converted to np.float32 from float64. In the next version of anndata (0.9) conversion will not be automatic. Pass dtype explicitly to avoid this warning. Pass `AnnData(X, dtype=X.dtype, ...)` to get the future behavour.\n",
      "  next(self.gen)\n"
     ]
    },
    {
     "name": "stdout",
     "output_type": "stream",
     "text": [
      "78\n",
      "TrueFalseTrue[10, 100, 1000, None]\n",
      "79\n",
      "(9634, 166)\n",
      "80\n",
      "(9634, 166)\n"
     ]
    },
    {
     "name": "stderr",
     "output_type": "stream",
     "text": [
      "/home/chrism/miniconda3/envs/xb/lib/python3.7/site-packages/scanpy/preprocessing/_simple.py:352: RuntimeWarning: divide by zero encountered in log1p\n",
      "  np.log1p(X, out=X)\n",
      "/home/chrism/miniconda3/envs/xb/lib/python3.7/site-packages/scanpy/preprocessing/_utils.py:12: RuntimeWarning: invalid value encountered in subtract\n",
      "  var = mean_sq - mean**2\n",
      "/home/chrism/miniconda3/envs/xb/lib/python3.7/site-packages/scanpy/preprocessing/_simple.py:792: RuntimeWarning: invalid value encountered in subtract\n",
      "  X -= mean\n"
     ]
    },
    {
     "name": "stdout",
     "output_type": "stream",
     "text": [
      "81\n",
      "TrueTrueFalse[10, 100, 1000, None]\n",
      "82\n",
      "(9634, 63)\n"
     ]
    },
    {
     "name": "stderr",
     "output_type": "stream",
     "text": [
      "/home/chrism/miniconda3/envs/xb/lib/python3.7/site-packages/scanpy/preprocessing/_simple.py:843: UserWarning: Received a view of an AnnData. Making a copy.\n",
      "  view_to_actual(adata)\n"
     ]
    },
    {
     "name": "stdout",
     "output_type": "stream",
     "text": [
      "83\n",
      "(9634, 59)\n"
     ]
    },
    {
     "name": "stderr",
     "output_type": "stream",
     "text": [
      "/home/chrism/miniconda3/envs/xb/lib/python3.7/site-packages/scanpy/preprocessing/_simple.py:352: RuntimeWarning: divide by zero encountered in log1p\n",
      "  np.log1p(X, out=X)\n",
      "/home/chrism/miniconda3/envs/xb/lib/python3.7/site-packages/scanpy/preprocessing/_simple.py:843: UserWarning: Received a view of an AnnData. Making a copy.\n",
      "  view_to_actual(adata)\n",
      "/home/chrism/miniconda3/envs/xb/lib/python3.7/site-packages/scanpy/preprocessing/_simple.py:843: FutureWarning: X.dtype being converted to np.float32 from float64. In the next version of anndata (0.9) conversion will not be automatic. Pass dtype explicitly to avoid this warning. Pass `AnnData(X, dtype=X.dtype, ...)` to get the future behavour.\n",
      "  view_to_actual(adata)\n",
      "/home/chrism/miniconda3/envs/xb/lib/python3.7/site-packages/scanpy/preprocessing/_utils.py:12: RuntimeWarning: invalid value encountered in subtract\n",
      "  var = mean_sq - mean**2\n",
      "/home/chrism/miniconda3/envs/xb/lib/python3.7/site-packages/scanpy/preprocessing/_simple.py:792: RuntimeWarning: invalid value encountered in subtract\n",
      "  X -= mean\n"
     ]
    },
    {
     "name": "stdout",
     "output_type": "stream",
     "text": [
      "84\n",
      "TrueTrueTrue[10, 100, 1000, None]\n",
      "85\n",
      "(9634, 166)\n",
      "86\n",
      "(9634, 166)\n"
     ]
    },
    {
     "name": "stderr",
     "output_type": "stream",
     "text": [
      "/home/chrism/miniconda3/envs/xb/lib/python3.7/site-packages/scanpy/preprocessing/_simple.py:352: RuntimeWarning: divide by zero encountered in log1p\n",
      "  np.log1p(X, out=X)\n"
     ]
    },
    {
     "name": "stdout",
     "output_type": "stream",
     "text": [
      "87\n",
      "TrueFalseFalse[10, 100, 1000, None]\n",
      "88\n",
      "(9634, 63)\n"
     ]
    },
    {
     "name": "stderr",
     "output_type": "stream",
     "text": [
      "/home/chrism/git/Xenium_benchmarking/xb/simulating.py:314: ImplicitModificationWarning: Trying to modify attribute `.X` of view, initializing view as actual.\n",
      "  adata.X[adata.X==-np.inf]=0\n"
     ]
    },
    {
     "name": "stdout",
     "output_type": "stream",
     "text": [
      "89\n",
      "(9634, 59)\n"
     ]
    },
    {
     "name": "stderr",
     "output_type": "stream",
     "text": [
      "/home/chrism/miniconda3/envs/xb/lib/python3.7/site-packages/scanpy/preprocessing/_simple.py:352: RuntimeWarning: divide by zero encountered in log1p\n",
      "  np.log1p(X, out=X)\n",
      "/home/chrism/git/Xenium_benchmarking/xb/simulating.py:314: ImplicitModificationWarning: Trying to modify attribute `.X` of view, initializing view as actual.\n",
      "  adata.X[adata.X==-np.inf]=0\n",
      "/home/chrism/miniconda3/envs/xb/lib/python3.7/contextlib.py:119: FutureWarning: X.dtype being converted to np.float32 from float64. In the next version of anndata (0.9) conversion will not be automatic. Pass dtype explicitly to avoid this warning. Pass `AnnData(X, dtype=X.dtype, ...)` to get the future behavour.\n",
      "  next(self.gen)\n"
     ]
    },
    {
     "name": "stdout",
     "output_type": "stream",
     "text": [
      "90\n",
      "TrueFalseTrue[10, 100, 1000, None]\n",
      "91\n",
      "(9634, 166)\n",
      "92\n",
      "(9634, 166)\n"
     ]
    },
    {
     "name": "stderr",
     "output_type": "stream",
     "text": [
      "/home/chrism/miniconda3/envs/xb/lib/python3.7/site-packages/scanpy/preprocessing/_simple.py:352: RuntimeWarning: divide by zero encountered in log1p\n",
      "  np.log1p(X, out=X)\n",
      "/home/chrism/miniconda3/envs/xb/lib/python3.7/site-packages/scanpy/preprocessing/_utils.py:12: RuntimeWarning: invalid value encountered in subtract\n",
      "  var = mean_sq - mean**2\n",
      "/home/chrism/miniconda3/envs/xb/lib/python3.7/site-packages/scanpy/preprocessing/_simple.py:792: RuntimeWarning: invalid value encountered in subtract\n",
      "  X -= mean\n"
     ]
    },
    {
     "name": "stdout",
     "output_type": "stream",
     "text": [
      "93\n",
      "TrueTrueFalse[10, 100, 1000, None]\n",
      "94\n",
      "(9634, 63)\n"
     ]
    },
    {
     "name": "stderr",
     "output_type": "stream",
     "text": [
      "/home/chrism/miniconda3/envs/xb/lib/python3.7/site-packages/scanpy/preprocessing/_simple.py:843: UserWarning: Received a view of an AnnData. Making a copy.\n",
      "  view_to_actual(adata)\n"
     ]
    },
    {
     "name": "stdout",
     "output_type": "stream",
     "text": [
      "95\n",
      "(9634, 59)\n"
     ]
    },
    {
     "name": "stderr",
     "output_type": "stream",
     "text": [
      "/home/chrism/miniconda3/envs/xb/lib/python3.7/site-packages/scanpy/preprocessing/_simple.py:352: RuntimeWarning: divide by zero encountered in log1p\n",
      "  np.log1p(X, out=X)\n",
      "/home/chrism/miniconda3/envs/xb/lib/python3.7/site-packages/scanpy/preprocessing/_simple.py:843: UserWarning: Received a view of an AnnData. Making a copy.\n",
      "  view_to_actual(adata)\n",
      "/home/chrism/miniconda3/envs/xb/lib/python3.7/site-packages/scanpy/preprocessing/_simple.py:843: FutureWarning: X.dtype being converted to np.float32 from float64. In the next version of anndata (0.9) conversion will not be automatic. Pass dtype explicitly to avoid this warning. Pass `AnnData(X, dtype=X.dtype, ...)` to get the future behavour.\n",
      "  view_to_actual(adata)\n",
      "/home/chrism/miniconda3/envs/xb/lib/python3.7/site-packages/scanpy/preprocessing/_utils.py:12: RuntimeWarning: invalid value encountered in subtract\n",
      "  var = mean_sq - mean**2\n",
      "/home/chrism/miniconda3/envs/xb/lib/python3.7/site-packages/scanpy/preprocessing/_simple.py:792: RuntimeWarning: invalid value encountered in subtract\n",
      "  X -= mean\n"
     ]
    },
    {
     "name": "stdout",
     "output_type": "stream",
     "text": [
      "96\n",
      "TrueTrueTrue[10, 100, 1000, None]\n",
      "97\n",
      "(9634, 166)\n",
      "98\n",
      "(9634, 166)\n"
     ]
    },
    {
     "name": "stderr",
     "output_type": "stream",
     "text": [
      "/home/chrism/miniconda3/envs/xb/lib/python3.7/site-packages/scanpy/preprocessing/_simple.py:352: RuntimeWarning: divide by zero encountered in log1p\n",
      "  np.log1p(X, out=X)\n"
     ]
    },
    {
     "name": "stdout",
     "output_type": "stream",
     "text": [
      "99\n",
      "TrueFalseFalse[10, 100, 1000, None]\n",
      "100\n",
      "(9634, 63)\n"
     ]
    },
    {
     "name": "stderr",
     "output_type": "stream",
     "text": [
      "/home/chrism/git/Xenium_benchmarking/xb/simulating.py:314: ImplicitModificationWarning: Trying to modify attribute `.X` of view, initializing view as actual.\n",
      "  adata.X[adata.X==-np.inf]=0\n"
     ]
    },
    {
     "name": "stdout",
     "output_type": "stream",
     "text": [
      "101\n",
      "(9634, 59)\n"
     ]
    },
    {
     "name": "stderr",
     "output_type": "stream",
     "text": [
      "/home/chrism/miniconda3/envs/xb/lib/python3.7/site-packages/scanpy/preprocessing/_simple.py:352: RuntimeWarning: divide by zero encountered in log1p\n",
      "  np.log1p(X, out=X)\n",
      "/home/chrism/git/Xenium_benchmarking/xb/simulating.py:314: ImplicitModificationWarning: Trying to modify attribute `.X` of view, initializing view as actual.\n",
      "  adata.X[adata.X==-np.inf]=0\n",
      "/home/chrism/miniconda3/envs/xb/lib/python3.7/contextlib.py:119: FutureWarning: X.dtype being converted to np.float32 from float64. In the next version of anndata (0.9) conversion will not be automatic. Pass dtype explicitly to avoid this warning. Pass `AnnData(X, dtype=X.dtype, ...)` to get the future behavour.\n",
      "  next(self.gen)\n"
     ]
    },
    {
     "name": "stdout",
     "output_type": "stream",
     "text": [
      "102\n",
      "TrueFalseTrue[10, 100, 1000, None]\n",
      "103\n",
      "(9634, 166)\n",
      "104\n",
      "(9634, 166)\n"
     ]
    },
    {
     "name": "stderr",
     "output_type": "stream",
     "text": [
      "/home/chrism/miniconda3/envs/xb/lib/python3.7/site-packages/scanpy/preprocessing/_simple.py:352: RuntimeWarning: divide by zero encountered in log1p\n",
      "  np.log1p(X, out=X)\n",
      "/home/chrism/miniconda3/envs/xb/lib/python3.7/site-packages/scanpy/preprocessing/_utils.py:12: RuntimeWarning: invalid value encountered in subtract\n",
      "  var = mean_sq - mean**2\n",
      "/home/chrism/miniconda3/envs/xb/lib/python3.7/site-packages/scanpy/preprocessing/_simple.py:792: RuntimeWarning: invalid value encountered in subtract\n",
      "  X -= mean\n"
     ]
    },
    {
     "name": "stdout",
     "output_type": "stream",
     "text": [
      "105\n",
      "TrueTrueFalse[10, 100, 1000, None]\n",
      "106\n",
      "(9634, 63)\n"
     ]
    },
    {
     "name": "stderr",
     "output_type": "stream",
     "text": [
      "/home/chrism/miniconda3/envs/xb/lib/python3.7/site-packages/scanpy/preprocessing/_simple.py:843: UserWarning: Received a view of an AnnData. Making a copy.\n",
      "  view_to_actual(adata)\n"
     ]
    },
    {
     "name": "stdout",
     "output_type": "stream",
     "text": [
      "107\n",
      "(9634, 59)\n"
     ]
    },
    {
     "name": "stderr",
     "output_type": "stream",
     "text": [
      "/home/chrism/miniconda3/envs/xb/lib/python3.7/site-packages/scanpy/preprocessing/_simple.py:352: RuntimeWarning: divide by zero encountered in log1p\n",
      "  np.log1p(X, out=X)\n",
      "/home/chrism/miniconda3/envs/xb/lib/python3.7/site-packages/scanpy/preprocessing/_simple.py:843: UserWarning: Received a view of an AnnData. Making a copy.\n",
      "  view_to_actual(adata)\n",
      "/home/chrism/miniconda3/envs/xb/lib/python3.7/site-packages/scanpy/preprocessing/_simple.py:843: FutureWarning: X.dtype being converted to np.float32 from float64. In the next version of anndata (0.9) conversion will not be automatic. Pass dtype explicitly to avoid this warning. Pass `AnnData(X, dtype=X.dtype, ...)` to get the future behavour.\n",
      "  view_to_actual(adata)\n",
      "/home/chrism/miniconda3/envs/xb/lib/python3.7/site-packages/scanpy/preprocessing/_utils.py:12: RuntimeWarning: invalid value encountered in subtract\n",
      "  var = mean_sq - mean**2\n",
      "/home/chrism/miniconda3/envs/xb/lib/python3.7/site-packages/scanpy/preprocessing/_simple.py:792: RuntimeWarning: invalid value encountered in subtract\n",
      "  X -= mean\n"
     ]
    },
    {
     "name": "stdout",
     "output_type": "stream",
     "text": [
      "108\n",
      "TrueTrueTrue[10, 100, 1000, None]\n",
      "109\n",
      "(9634, 166)\n",
      "110\n",
      "(9634, 166)\n"
     ]
    },
    {
     "name": "stderr",
     "output_type": "stream",
     "text": [
      "/home/chrism/miniconda3/envs/xb/lib/python3.7/site-packages/scanpy/preprocessing/_simple.py:352: RuntimeWarning: divide by zero encountered in log1p\n",
      "  np.log1p(X, out=X)\n"
     ]
    },
    {
     "name": "stdout",
     "output_type": "stream",
     "text": [
      "111\n",
      "TrueFalseFalse[10, 100, 1000, None]\n",
      "112\n",
      "(9634, 63)\n"
     ]
    },
    {
     "name": "stderr",
     "output_type": "stream",
     "text": [
      "/home/chrism/git/Xenium_benchmarking/xb/simulating.py:314: ImplicitModificationWarning: Trying to modify attribute `.X` of view, initializing view as actual.\n",
      "  adata.X[adata.X==-np.inf]=0\n"
     ]
    },
    {
     "name": "stdout",
     "output_type": "stream",
     "text": [
      "113\n",
      "(9634, 59)\n"
     ]
    },
    {
     "name": "stderr",
     "output_type": "stream",
     "text": [
      "/home/chrism/miniconda3/envs/xb/lib/python3.7/site-packages/scanpy/preprocessing/_simple.py:352: RuntimeWarning: divide by zero encountered in log1p\n",
      "  np.log1p(X, out=X)\n",
      "/home/chrism/git/Xenium_benchmarking/xb/simulating.py:314: ImplicitModificationWarning: Trying to modify attribute `.X` of view, initializing view as actual.\n",
      "  adata.X[adata.X==-np.inf]=0\n",
      "/home/chrism/miniconda3/envs/xb/lib/python3.7/contextlib.py:119: FutureWarning: X.dtype being converted to np.float32 from float64. In the next version of anndata (0.9) conversion will not be automatic. Pass dtype explicitly to avoid this warning. Pass `AnnData(X, dtype=X.dtype, ...)` to get the future behavour.\n",
      "  next(self.gen)\n"
     ]
    },
    {
     "name": "stdout",
     "output_type": "stream",
     "text": [
      "114\n",
      "TrueFalseTrue[10, 100, 1000, None]\n",
      "115\n",
      "(9634, 166)\n",
      "116\n"
     ]
    },
    {
     "name": "stderr",
     "output_type": "stream",
     "text": [
      "/home/chrism/miniconda3/envs/xb/lib/python3.7/site-packages/scanpy/preprocessing/_simple.py:352: RuntimeWarning: divide by zero encountered in log1p\n",
      "  np.log1p(X, out=X)\n",
      "/home/chrism/miniconda3/envs/xb/lib/python3.7/site-packages/scanpy/preprocessing/_utils.py:12: RuntimeWarning: invalid value encountered in subtract\n",
      "  var = mean_sq - mean**2\n",
      "/home/chrism/miniconda3/envs/xb/lib/python3.7/site-packages/scanpy/preprocessing/_simple.py:792: RuntimeWarning: invalid value encountered in subtract\n",
      "  X -= mean\n"
     ]
    },
    {
     "name": "stdout",
     "output_type": "stream",
     "text": [
      "(9634, 166)\n",
      "117\n",
      "TrueTrueFalse[10, 100, 1000, None]\n",
      "118\n",
      "(9634, 63)\n"
     ]
    },
    {
     "name": "stderr",
     "output_type": "stream",
     "text": [
      "/home/chrism/miniconda3/envs/xb/lib/python3.7/site-packages/scanpy/preprocessing/_simple.py:843: UserWarning: Received a view of an AnnData. Making a copy.\n",
      "  view_to_actual(adata)\n"
     ]
    },
    {
     "name": "stdout",
     "output_type": "stream",
     "text": [
      "119\n",
      "(9634, 59)\n"
     ]
    },
    {
     "name": "stderr",
     "output_type": "stream",
     "text": [
      "/home/chrism/miniconda3/envs/xb/lib/python3.7/site-packages/scanpy/preprocessing/_simple.py:352: RuntimeWarning: divide by zero encountered in log1p\n",
      "  np.log1p(X, out=X)\n",
      "/home/chrism/miniconda3/envs/xb/lib/python3.7/site-packages/scanpy/preprocessing/_simple.py:843: UserWarning: Received a view of an AnnData. Making a copy.\n",
      "  view_to_actual(adata)\n",
      "/home/chrism/miniconda3/envs/xb/lib/python3.7/site-packages/scanpy/preprocessing/_simple.py:843: FutureWarning: X.dtype being converted to np.float32 from float64. In the next version of anndata (0.9) conversion will not be automatic. Pass dtype explicitly to avoid this warning. Pass `AnnData(X, dtype=X.dtype, ...)` to get the future behavour.\n",
      "  view_to_actual(adata)\n",
      "/home/chrism/miniconda3/envs/xb/lib/python3.7/site-packages/scanpy/preprocessing/_utils.py:12: RuntimeWarning: invalid value encountered in subtract\n",
      "  var = mean_sq - mean**2\n",
      "/home/chrism/miniconda3/envs/xb/lib/python3.7/site-packages/scanpy/preprocessing/_simple.py:792: RuntimeWarning: invalid value encountered in subtract\n",
      "  X -= mean\n"
     ]
    },
    {
     "name": "stdout",
     "output_type": "stream",
     "text": [
      "120\n",
      "TrueTrueTrue[10, 100, 1000, None]\n",
      "121\n",
      "(9634, 166)\n",
      "122\n",
      "(9634, 166)\n"
     ]
    },
    {
     "name": "stderr",
     "output_type": "stream",
     "text": [
      "/home/chrism/miniconda3/envs/xb/lib/python3.7/site-packages/scanpy/preprocessing/_simple.py:352: RuntimeWarning: divide by zero encountered in log1p\n",
      "  np.log1p(X, out=X)\n"
     ]
    },
    {
     "name": "stdout",
     "output_type": "stream",
     "text": [
      "123\n",
      "TrueFalseFalse[10, 100, 1000, None]\n",
      "124\n",
      "(9634, 63)\n"
     ]
    },
    {
     "name": "stderr",
     "output_type": "stream",
     "text": [
      "/home/chrism/git/Xenium_benchmarking/xb/simulating.py:314: ImplicitModificationWarning: Trying to modify attribute `.X` of view, initializing view as actual.\n",
      "  adata.X[adata.X==-np.inf]=0\n"
     ]
    },
    {
     "name": "stdout",
     "output_type": "stream",
     "text": [
      "125\n",
      "(9634, 59)\n"
     ]
    },
    {
     "name": "stderr",
     "output_type": "stream",
     "text": [
      "/home/chrism/miniconda3/envs/xb/lib/python3.7/site-packages/scanpy/preprocessing/_simple.py:352: RuntimeWarning: divide by zero encountered in log1p\n",
      "  np.log1p(X, out=X)\n",
      "/home/chrism/git/Xenium_benchmarking/xb/simulating.py:314: ImplicitModificationWarning: Trying to modify attribute `.X` of view, initializing view as actual.\n",
      "  adata.X[adata.X==-np.inf]=0\n",
      "/home/chrism/miniconda3/envs/xb/lib/python3.7/contextlib.py:119: FutureWarning: X.dtype being converted to np.float32 from float64. In the next version of anndata (0.9) conversion will not be automatic. Pass dtype explicitly to avoid this warning. Pass `AnnData(X, dtype=X.dtype, ...)` to get the future behavour.\n",
      "  next(self.gen)\n"
     ]
    },
    {
     "name": "stdout",
     "output_type": "stream",
     "text": [
      "126\n",
      "TrueFalseTrue[10, 100, 1000, None]\n",
      "127\n",
      "(9634, 166)\n",
      "128\n",
      "(9634, 166)\n"
     ]
    },
    {
     "name": "stderr",
     "output_type": "stream",
     "text": [
      "/home/chrism/miniconda3/envs/xb/lib/python3.7/site-packages/scanpy/preprocessing/_simple.py:352: RuntimeWarning: divide by zero encountered in log1p\n",
      "  np.log1p(X, out=X)\n",
      "/home/chrism/miniconda3/envs/xb/lib/python3.7/site-packages/scanpy/preprocessing/_utils.py:12: RuntimeWarning: invalid value encountered in subtract\n",
      "  var = mean_sq - mean**2\n",
      "/home/chrism/miniconda3/envs/xb/lib/python3.7/site-packages/scanpy/preprocessing/_simple.py:792: RuntimeWarning: invalid value encountered in subtract\n",
      "  X -= mean\n"
     ]
    },
    {
     "name": "stdout",
     "output_type": "stream",
     "text": [
      "129\n",
      "TrueTrueFalse[10, 100, 1000, None]\n",
      "130\n",
      "(9634, 63)\n"
     ]
    },
    {
     "name": "stderr",
     "output_type": "stream",
     "text": [
      "/home/chrism/miniconda3/envs/xb/lib/python3.7/site-packages/scanpy/preprocessing/_simple.py:843: UserWarning: Received a view of an AnnData. Making a copy.\n",
      "  view_to_actual(adata)\n"
     ]
    },
    {
     "name": "stdout",
     "output_type": "stream",
     "text": [
      "131\n",
      "(9634, 59)\n"
     ]
    },
    {
     "name": "stderr",
     "output_type": "stream",
     "text": [
      "/home/chrism/miniconda3/envs/xb/lib/python3.7/site-packages/scanpy/preprocessing/_simple.py:352: RuntimeWarning: divide by zero encountered in log1p\n",
      "  np.log1p(X, out=X)\n",
      "/home/chrism/miniconda3/envs/xb/lib/python3.7/site-packages/scanpy/preprocessing/_simple.py:843: UserWarning: Received a view of an AnnData. Making a copy.\n",
      "  view_to_actual(adata)\n",
      "/home/chrism/miniconda3/envs/xb/lib/python3.7/site-packages/scanpy/preprocessing/_simple.py:843: FutureWarning: X.dtype being converted to np.float32 from float64. In the next version of anndata (0.9) conversion will not be automatic. Pass dtype explicitly to avoid this warning. Pass `AnnData(X, dtype=X.dtype, ...)` to get the future behavour.\n",
      "  view_to_actual(adata)\n",
      "/home/chrism/miniconda3/envs/xb/lib/python3.7/site-packages/scanpy/preprocessing/_utils.py:12: RuntimeWarning: invalid value encountered in subtract\n",
      "  var = mean_sq - mean**2\n",
      "/home/chrism/miniconda3/envs/xb/lib/python3.7/site-packages/scanpy/preprocessing/_simple.py:792: RuntimeWarning: invalid value encountered in subtract\n",
      "  X -= mean\n"
     ]
    },
    {
     "name": "stdout",
     "output_type": "stream",
     "text": [
      "132\n",
      "TrueTrueTrue[10, 100, 1000, None]\n",
      "133\n",
      "(9634, 166)\n",
      "134\n",
      "(9634, 166)\n"
     ]
    },
    {
     "name": "stderr",
     "output_type": "stream",
     "text": [
      "/home/chrism/miniconda3/envs/xb/lib/python3.7/site-packages/scanpy/preprocessing/_simple.py:352: RuntimeWarning: divide by zero encountered in log1p\n",
      "  np.log1p(X, out=X)\n"
     ]
    },
    {
     "name": "stdout",
     "output_type": "stream",
     "text": [
      "135\n",
      "TrueFalseFalse[10, 100, 1000, None]\n",
      "136\n",
      "(9634, 63)\n"
     ]
    },
    {
     "name": "stderr",
     "output_type": "stream",
     "text": [
      "/home/chrism/git/Xenium_benchmarking/xb/simulating.py:314: ImplicitModificationWarning: Trying to modify attribute `.X` of view, initializing view as actual.\n",
      "  adata.X[adata.X==-np.inf]=0\n"
     ]
    },
    {
     "name": "stdout",
     "output_type": "stream",
     "text": [
      "137\n",
      "(9634, 59)\n"
     ]
    },
    {
     "name": "stderr",
     "output_type": "stream",
     "text": [
      "/home/chrism/miniconda3/envs/xb/lib/python3.7/site-packages/scanpy/preprocessing/_simple.py:352: RuntimeWarning: divide by zero encountered in log1p\n",
      "  np.log1p(X, out=X)\n",
      "/home/chrism/git/Xenium_benchmarking/xb/simulating.py:314: ImplicitModificationWarning: Trying to modify attribute `.X` of view, initializing view as actual.\n",
      "  adata.X[adata.X==-np.inf]=0\n",
      "/home/chrism/miniconda3/envs/xb/lib/python3.7/contextlib.py:119: FutureWarning: X.dtype being converted to np.float32 from float64. In the next version of anndata (0.9) conversion will not be automatic. Pass dtype explicitly to avoid this warning. Pass `AnnData(X, dtype=X.dtype, ...)` to get the future behavour.\n",
      "  next(self.gen)\n"
     ]
    },
    {
     "name": "stdout",
     "output_type": "stream",
     "text": [
      "138\n",
      "TrueFalseTrue[10, 100, 1000, None]\n",
      "139\n",
      "(9634, 166)\n",
      "140\n",
      "(9634, 166)\n"
     ]
    },
    {
     "name": "stderr",
     "output_type": "stream",
     "text": [
      "/home/chrism/miniconda3/envs/xb/lib/python3.7/site-packages/scanpy/preprocessing/_simple.py:352: RuntimeWarning: divide by zero encountered in log1p\n",
      "  np.log1p(X, out=X)\n",
      "/home/chrism/miniconda3/envs/xb/lib/python3.7/site-packages/scanpy/preprocessing/_utils.py:12: RuntimeWarning: invalid value encountered in subtract\n",
      "  var = mean_sq - mean**2\n",
      "/home/chrism/miniconda3/envs/xb/lib/python3.7/site-packages/scanpy/preprocessing/_simple.py:792: RuntimeWarning: invalid value encountered in subtract\n",
      "  X -= mean\n"
     ]
    },
    {
     "name": "stdout",
     "output_type": "stream",
     "text": [
      "141\n",
      "TrueTrueFalse[10, 100, 1000, None]\n",
      "142\n",
      "(9634, 63)\n"
     ]
    },
    {
     "name": "stderr",
     "output_type": "stream",
     "text": [
      "/home/chrism/miniconda3/envs/xb/lib/python3.7/site-packages/scanpy/preprocessing/_simple.py:843: UserWarning: Received a view of an AnnData. Making a copy.\n",
      "  view_to_actual(adata)\n"
     ]
    },
    {
     "name": "stdout",
     "output_type": "stream",
     "text": [
      "143\n",
      "(9634, 59)\n"
     ]
    },
    {
     "name": "stderr",
     "output_type": "stream",
     "text": [
      "/home/chrism/miniconda3/envs/xb/lib/python3.7/site-packages/scanpy/preprocessing/_simple.py:352: RuntimeWarning: divide by zero encountered in log1p\n",
      "  np.log1p(X, out=X)\n",
      "/home/chrism/miniconda3/envs/xb/lib/python3.7/site-packages/scanpy/preprocessing/_simple.py:843: UserWarning: Received a view of an AnnData. Making a copy.\n",
      "  view_to_actual(adata)\n",
      "/home/chrism/miniconda3/envs/xb/lib/python3.7/site-packages/scanpy/preprocessing/_simple.py:843: FutureWarning: X.dtype being converted to np.float32 from float64. In the next version of anndata (0.9) conversion will not be automatic. Pass dtype explicitly to avoid this warning. Pass `AnnData(X, dtype=X.dtype, ...)` to get the future behavour.\n",
      "  view_to_actual(adata)\n",
      "/home/chrism/miniconda3/envs/xb/lib/python3.7/site-packages/scanpy/preprocessing/_utils.py:12: RuntimeWarning: invalid value encountered in subtract\n",
      "  var = mean_sq - mean**2\n",
      "/home/chrism/miniconda3/envs/xb/lib/python3.7/site-packages/scanpy/preprocessing/_simple.py:792: RuntimeWarning: invalid value encountered in subtract\n",
      "  X -= mean\n"
     ]
    },
    {
     "name": "stdout",
     "output_type": "stream",
     "text": [
      "144\n",
      "TrueTrueTrue[10, 100, 1000, None]\n",
      "145\n",
      "(9634, 166)\n"
     ]
    },
    {
     "name": "stderr",
     "output_type": "stream",
     "text": [
      "/home/chrism/miniconda3/envs/xb/lib/python3.7/site-packages/scanpy/preprocessing/_simple.py:352: RuntimeWarning: divide by zero encountered in log1p\n",
      "  np.log1p(X, out=X)\n",
      "/home/chrism/miniconda3/envs/xb/lib/python3.7/site-packages/scanpy/preprocessing/_simple.py:352: RuntimeWarning: invalid value encountered in log1p\n",
      "  np.log1p(X, out=X)\n"
     ]
    },
    {
     "name": "stdout",
     "output_type": "stream",
     "text": [
      "146\n",
      "(9634, 166)\n"
     ]
    },
    {
     "name": "stderr",
     "output_type": "stream",
     "text": [
      "/home/chrism/miniconda3/envs/xb/lib/python3.7/site-packages/scanpy/preprocessing/_simple.py:352: RuntimeWarning: divide by zero encountered in log1p\n",
      "  np.log1p(X, out=X)\n"
     ]
    },
    {
     "name": "stdout",
     "output_type": "stream",
     "text": [
      "147\n",
      "TrueFalseFalse[10, 100, 1000, None]\n",
      "148\n",
      "normTrue_lgTrue_ng12_pc0_ts1000_hvg_True_scale_False_leid lgTrue_ng12_pc0_ts1000_hvg_True_scale_False\n",
      "149\n",
      "(9634, 59)\n"
     ]
    },
    {
     "name": "stderr",
     "output_type": "stream",
     "text": [
      "/home/chrism/miniconda3/envs/xb/lib/python3.7/site-packages/scanpy/preprocessing/_simple.py:352: RuntimeWarning: divide by zero encountered in log1p\n",
      "  np.log1p(X, out=X)\n",
      "/home/chrism/miniconda3/envs/xb/lib/python3.7/site-packages/scanpy/preprocessing/_simple.py:352: RuntimeWarning: invalid value encountered in log1p\n",
      "  np.log1p(X, out=X)\n",
      "/home/chrism/git/Xenium_benchmarking/xb/simulating.py:314: ImplicitModificationWarning: Trying to modify attribute `.X` of view, initializing view as actual.\n",
      "  adata.X[adata.X==-np.inf]=0\n",
      "/home/chrism/miniconda3/envs/xb/lib/python3.7/contextlib.py:119: FutureWarning: X.dtype being converted to np.float32 from float64. In the next version of anndata (0.9) conversion will not be automatic. Pass dtype explicitly to avoid this warning. Pass `AnnData(X, dtype=X.dtype, ...)` to get the future behavour.\n",
      "  next(self.gen)\n"
     ]
    },
    {
     "name": "stdout",
     "output_type": "stream",
     "text": [
      "150\n",
      "TrueFalseTrue[10, 100, 1000, None]\n",
      "151\n",
      "(9634, 166)\n"
     ]
    },
    {
     "name": "stderr",
     "output_type": "stream",
     "text": [
      "/home/chrism/miniconda3/envs/xb/lib/python3.7/site-packages/scanpy/preprocessing/_simple.py:352: RuntimeWarning: divide by zero encountered in log1p\n",
      "  np.log1p(X, out=X)\n",
      "/home/chrism/miniconda3/envs/xb/lib/python3.7/site-packages/scanpy/preprocessing/_simple.py:352: RuntimeWarning: invalid value encountered in log1p\n",
      "  np.log1p(X, out=X)\n"
     ]
    },
    {
     "name": "stdout",
     "output_type": "stream",
     "text": [
      "152\n",
      "(9634, 166)\n"
     ]
    },
    {
     "name": "stderr",
     "output_type": "stream",
     "text": [
      "/home/chrism/miniconda3/envs/xb/lib/python3.7/site-packages/scanpy/preprocessing/_simple.py:352: RuntimeWarning: divide by zero encountered in log1p\n",
      "  np.log1p(X, out=X)\n",
      "/home/chrism/miniconda3/envs/xb/lib/python3.7/site-packages/scanpy/preprocessing/_utils.py:12: RuntimeWarning: invalid value encountered in subtract\n",
      "  var = mean_sq - mean**2\n",
      "/home/chrism/miniconda3/envs/xb/lib/python3.7/site-packages/scanpy/preprocessing/_simple.py:792: RuntimeWarning: invalid value encountered in subtract\n",
      "  X -= mean\n"
     ]
    },
    {
     "name": "stdout",
     "output_type": "stream",
     "text": [
      "153\n",
      "TrueTrueFalse[10, 100, 1000, None]\n",
      "154\n",
      "normTrue_lgTrue_ng12_pc0_ts1000_hvg_True_scale_True_leid lgTrue_ng12_pc0_ts1000_hvg_True_scale_True\n",
      "155\n"
     ]
    },
    {
     "name": "stderr",
     "output_type": "stream",
     "text": [
      "/home/chrism/miniconda3/envs/xb/lib/python3.7/site-packages/scanpy/preprocessing/_simple.py:352: RuntimeWarning: divide by zero encountered in log1p\n",
      "  np.log1p(X, out=X)\n",
      "/home/chrism/miniconda3/envs/xb/lib/python3.7/site-packages/scanpy/preprocessing/_simple.py:352: RuntimeWarning: invalid value encountered in log1p\n",
      "  np.log1p(X, out=X)\n",
      "/home/chrism/miniconda3/envs/xb/lib/python3.7/site-packages/scanpy/preprocessing/_simple.py:843: UserWarning: Received a view of an AnnData. Making a copy.\n",
      "  view_to_actual(adata)\n",
      "/home/chrism/miniconda3/envs/xb/lib/python3.7/site-packages/scanpy/preprocessing/_simple.py:843: FutureWarning: X.dtype being converted to np.float32 from float64. In the next version of anndata (0.9) conversion will not be automatic. Pass dtype explicitly to avoid this warning. Pass `AnnData(X, dtype=X.dtype, ...)` to get the future behavour.\n",
      "  view_to_actual(adata)\n",
      "/home/chrism/miniconda3/envs/xb/lib/python3.7/site-packages/scanpy/preprocessing/_utils.py:12: RuntimeWarning: invalid value encountered in subtract\n",
      "  var = mean_sq - mean**2\n",
      "/home/chrism/miniconda3/envs/xb/lib/python3.7/site-packages/scanpy/preprocessing/_simple.py:792: RuntimeWarning: invalid value encountered in subtract\n",
      "  X -= mean\n"
     ]
    },
    {
     "name": "stdout",
     "output_type": "stream",
     "text": [
      "(9634, 59)\n",
      "156\n",
      "TrueTrueTrue[10, 100, 1000, None]\n",
      "157\n",
      "(9634, 166)\n"
     ]
    },
    {
     "name": "stderr",
     "output_type": "stream",
     "text": [
      "/home/chrism/miniconda3/envs/xb/lib/python3.7/site-packages/scanpy/preprocessing/_simple.py:352: RuntimeWarning: divide by zero encountered in log1p\n",
      "  np.log1p(X, out=X)\n",
      "/home/chrism/miniconda3/envs/xb/lib/python3.7/site-packages/scanpy/preprocessing/_simple.py:352: RuntimeWarning: invalid value encountered in log1p\n",
      "  np.log1p(X, out=X)\n"
     ]
    },
    {
     "name": "stdout",
     "output_type": "stream",
     "text": [
      "158\n",
      "(9634, 166)\n"
     ]
    },
    {
     "name": "stderr",
     "output_type": "stream",
     "text": [
      "/home/chrism/miniconda3/envs/xb/lib/python3.7/site-packages/scanpy/preprocessing/_simple.py:352: RuntimeWarning: divide by zero encountered in log1p\n",
      "  np.log1p(X, out=X)\n"
     ]
    },
    {
     "name": "stdout",
     "output_type": "stream",
     "text": [
      "159\n",
      "TrueFalseFalse[10, 100, 1000, None]\n",
      "160\n",
      "normTrue_lgTrue_ng12_pc20_ts1000_hvg_True_scale_False_leid lgTrue_ng12_pc20_ts1000_hvg_True_scale_False\n",
      "161\n",
      "(9634, 59)\n"
     ]
    },
    {
     "name": "stderr",
     "output_type": "stream",
     "text": [
      "/home/chrism/miniconda3/envs/xb/lib/python3.7/site-packages/scanpy/preprocessing/_simple.py:352: RuntimeWarning: divide by zero encountered in log1p\n",
      "  np.log1p(X, out=X)\n",
      "/home/chrism/miniconda3/envs/xb/lib/python3.7/site-packages/scanpy/preprocessing/_simple.py:352: RuntimeWarning: invalid value encountered in log1p\n",
      "  np.log1p(X, out=X)\n",
      "/home/chrism/git/Xenium_benchmarking/xb/simulating.py:314: ImplicitModificationWarning: Trying to modify attribute `.X` of view, initializing view as actual.\n",
      "  adata.X[adata.X==-np.inf]=0\n",
      "/home/chrism/miniconda3/envs/xb/lib/python3.7/contextlib.py:119: FutureWarning: X.dtype being converted to np.float32 from float64. In the next version of anndata (0.9) conversion will not be automatic. Pass dtype explicitly to avoid this warning. Pass `AnnData(X, dtype=X.dtype, ...)` to get the future behavour.\n",
      "  next(self.gen)\n"
     ]
    },
    {
     "name": "stdout",
     "output_type": "stream",
     "text": [
      "162\n",
      "TrueFalseTrue[10, 100, 1000, None]\n",
      "163\n",
      "(9634, 166)\n"
     ]
    },
    {
     "name": "stderr",
     "output_type": "stream",
     "text": [
      "/home/chrism/miniconda3/envs/xb/lib/python3.7/site-packages/scanpy/preprocessing/_simple.py:352: RuntimeWarning: divide by zero encountered in log1p\n",
      "  np.log1p(X, out=X)\n",
      "/home/chrism/miniconda3/envs/xb/lib/python3.7/site-packages/scanpy/preprocessing/_simple.py:352: RuntimeWarning: invalid value encountered in log1p\n",
      "  np.log1p(X, out=X)\n"
     ]
    },
    {
     "name": "stdout",
     "output_type": "stream",
     "text": [
      "164\n",
      "(9634, 166)\n"
     ]
    },
    {
     "name": "stderr",
     "output_type": "stream",
     "text": [
      "/home/chrism/miniconda3/envs/xb/lib/python3.7/site-packages/scanpy/preprocessing/_simple.py:352: RuntimeWarning: divide by zero encountered in log1p\n",
      "  np.log1p(X, out=X)\n",
      "/home/chrism/miniconda3/envs/xb/lib/python3.7/site-packages/scanpy/preprocessing/_utils.py:12: RuntimeWarning: invalid value encountered in subtract\n",
      "  var = mean_sq - mean**2\n",
      "/home/chrism/miniconda3/envs/xb/lib/python3.7/site-packages/scanpy/preprocessing/_simple.py:792: RuntimeWarning: invalid value encountered in subtract\n",
      "  X -= mean\n"
     ]
    },
    {
     "name": "stdout",
     "output_type": "stream",
     "text": [
      "165\n",
      "TrueTrueFalse[10, 100, 1000, None]\n",
      "166\n",
      "normTrue_lgTrue_ng12_pc20_ts1000_hvg_True_scale_True_leid lgTrue_ng12_pc20_ts1000_hvg_True_scale_True\n",
      "167\n",
      "(9634, 59)\n"
     ]
    },
    {
     "name": "stderr",
     "output_type": "stream",
     "text": [
      "/home/chrism/miniconda3/envs/xb/lib/python3.7/site-packages/scanpy/preprocessing/_simple.py:352: RuntimeWarning: divide by zero encountered in log1p\n",
      "  np.log1p(X, out=X)\n",
      "/home/chrism/miniconda3/envs/xb/lib/python3.7/site-packages/scanpy/preprocessing/_simple.py:352: RuntimeWarning: invalid value encountered in log1p\n",
      "  np.log1p(X, out=X)\n",
      "/home/chrism/miniconda3/envs/xb/lib/python3.7/site-packages/scanpy/preprocessing/_simple.py:843: UserWarning: Received a view of an AnnData. Making a copy.\n",
      "  view_to_actual(adata)\n",
      "/home/chrism/miniconda3/envs/xb/lib/python3.7/site-packages/scanpy/preprocessing/_simple.py:843: FutureWarning: X.dtype being converted to np.float32 from float64. In the next version of anndata (0.9) conversion will not be automatic. Pass dtype explicitly to avoid this warning. Pass `AnnData(X, dtype=X.dtype, ...)` to get the future behavour.\n",
      "  view_to_actual(adata)\n",
      "/home/chrism/miniconda3/envs/xb/lib/python3.7/site-packages/scanpy/preprocessing/_utils.py:12: RuntimeWarning: invalid value encountered in subtract\n",
      "  var = mean_sq - mean**2\n",
      "/home/chrism/miniconda3/envs/xb/lib/python3.7/site-packages/scanpy/preprocessing/_simple.py:792: RuntimeWarning: invalid value encountered in subtract\n",
      "  X -= mean\n"
     ]
    },
    {
     "name": "stdout",
     "output_type": "stream",
     "text": [
      "168\n",
      "TrueTrueTrue[10, 100, 1000, None]\n",
      "169\n",
      "(9634, 166)\n"
     ]
    },
    {
     "name": "stderr",
     "output_type": "stream",
     "text": [
      "/home/chrism/miniconda3/envs/xb/lib/python3.7/site-packages/scanpy/preprocessing/_simple.py:352: RuntimeWarning: divide by zero encountered in log1p\n",
      "  np.log1p(X, out=X)\n",
      "/home/chrism/miniconda3/envs/xb/lib/python3.7/site-packages/scanpy/preprocessing/_simple.py:352: RuntimeWarning: invalid value encountered in log1p\n",
      "  np.log1p(X, out=X)\n"
     ]
    },
    {
     "name": "stdout",
     "output_type": "stream",
     "text": [
      "170\n",
      "(9634, 166)\n"
     ]
    },
    {
     "name": "stderr",
     "output_type": "stream",
     "text": [
      "/home/chrism/miniconda3/envs/xb/lib/python3.7/site-packages/scanpy/preprocessing/_simple.py:352: RuntimeWarning: divide by zero encountered in log1p\n",
      "  np.log1p(X, out=X)\n"
     ]
    },
    {
     "name": "stdout",
     "output_type": "stream",
     "text": [
      "171\n",
      "TrueFalseFalse[10, 100, 1000, None]\n",
      "172\n",
      "normTrue_lgTrue_ng12_pc40_ts1000_hvg_True_scale_False_leid lgTrue_ng12_pc40_ts1000_hvg_True_scale_False\n",
      "173\n",
      "(9634, 59)\n"
     ]
    },
    {
     "name": "stderr",
     "output_type": "stream",
     "text": [
      "/home/chrism/miniconda3/envs/xb/lib/python3.7/site-packages/scanpy/preprocessing/_simple.py:352: RuntimeWarning: divide by zero encountered in log1p\n",
      "  np.log1p(X, out=X)\n",
      "/home/chrism/miniconda3/envs/xb/lib/python3.7/site-packages/scanpy/preprocessing/_simple.py:352: RuntimeWarning: invalid value encountered in log1p\n",
      "  np.log1p(X, out=X)\n",
      "/home/chrism/git/Xenium_benchmarking/xb/simulating.py:314: ImplicitModificationWarning: Trying to modify attribute `.X` of view, initializing view as actual.\n",
      "  adata.X[adata.X==-np.inf]=0\n",
      "/home/chrism/miniconda3/envs/xb/lib/python3.7/contextlib.py:119: FutureWarning: X.dtype being converted to np.float32 from float64. In the next version of anndata (0.9) conversion will not be automatic. Pass dtype explicitly to avoid this warning. Pass `AnnData(X, dtype=X.dtype, ...)` to get the future behavour.\n",
      "  next(self.gen)\n"
     ]
    },
    {
     "name": "stdout",
     "output_type": "stream",
     "text": [
      "174\n",
      "TrueFalseTrue[10, 100, 1000, None]\n",
      "175\n",
      "(9634, 166)\n"
     ]
    },
    {
     "name": "stderr",
     "output_type": "stream",
     "text": [
      "/home/chrism/miniconda3/envs/xb/lib/python3.7/site-packages/scanpy/preprocessing/_simple.py:352: RuntimeWarning: divide by zero encountered in log1p\n",
      "  np.log1p(X, out=X)\n",
      "/home/chrism/miniconda3/envs/xb/lib/python3.7/site-packages/scanpy/preprocessing/_simple.py:352: RuntimeWarning: invalid value encountered in log1p\n",
      "  np.log1p(X, out=X)\n"
     ]
    },
    {
     "name": "stdout",
     "output_type": "stream",
     "text": [
      "176\n",
      "(9634, 166)\n"
     ]
    },
    {
     "name": "stderr",
     "output_type": "stream",
     "text": [
      "/home/chrism/miniconda3/envs/xb/lib/python3.7/site-packages/scanpy/preprocessing/_simple.py:352: RuntimeWarning: divide by zero encountered in log1p\n",
      "  np.log1p(X, out=X)\n",
      "/home/chrism/miniconda3/envs/xb/lib/python3.7/site-packages/scanpy/preprocessing/_utils.py:12: RuntimeWarning: invalid value encountered in subtract\n",
      "  var = mean_sq - mean**2\n",
      "/home/chrism/miniconda3/envs/xb/lib/python3.7/site-packages/scanpy/preprocessing/_simple.py:792: RuntimeWarning: invalid value encountered in subtract\n",
      "  X -= mean\n"
     ]
    },
    {
     "name": "stdout",
     "output_type": "stream",
     "text": [
      "177\n",
      "TrueTrueFalse[10, 100, 1000, None]\n",
      "178\n",
      "normTrue_lgTrue_ng12_pc40_ts1000_hvg_True_scale_True_leid lgTrue_ng12_pc40_ts1000_hvg_True_scale_True\n",
      "179\n",
      "(9634, 59)\n"
     ]
    },
    {
     "name": "stderr",
     "output_type": "stream",
     "text": [
      "/home/chrism/miniconda3/envs/xb/lib/python3.7/site-packages/scanpy/preprocessing/_simple.py:352: RuntimeWarning: divide by zero encountered in log1p\n",
      "  np.log1p(X, out=X)\n",
      "/home/chrism/miniconda3/envs/xb/lib/python3.7/site-packages/scanpy/preprocessing/_simple.py:352: RuntimeWarning: invalid value encountered in log1p\n",
      "  np.log1p(X, out=X)\n",
      "/home/chrism/miniconda3/envs/xb/lib/python3.7/site-packages/scanpy/preprocessing/_simple.py:843: UserWarning: Received a view of an AnnData. Making a copy.\n",
      "  view_to_actual(adata)\n",
      "/home/chrism/miniconda3/envs/xb/lib/python3.7/site-packages/scanpy/preprocessing/_simple.py:843: FutureWarning: X.dtype being converted to np.float32 from float64. In the next version of anndata (0.9) conversion will not be automatic. Pass dtype explicitly to avoid this warning. Pass `AnnData(X, dtype=X.dtype, ...)` to get the future behavour.\n",
      "  view_to_actual(adata)\n",
      "/home/chrism/miniconda3/envs/xb/lib/python3.7/site-packages/scanpy/preprocessing/_utils.py:12: RuntimeWarning: invalid value encountered in subtract\n",
      "  var = mean_sq - mean**2\n",
      "/home/chrism/miniconda3/envs/xb/lib/python3.7/site-packages/scanpy/preprocessing/_simple.py:792: RuntimeWarning: invalid value encountered in subtract\n",
      "  X -= mean\n"
     ]
    },
    {
     "name": "stdout",
     "output_type": "stream",
     "text": [
      "180\n",
      "TrueTrueTrue[10, 100, 1000, None]\n",
      "181\n",
      "(9634, 166)\n"
     ]
    },
    {
     "name": "stderr",
     "output_type": "stream",
     "text": [
      "/home/chrism/miniconda3/envs/xb/lib/python3.7/site-packages/scanpy/preprocessing/_simple.py:352: RuntimeWarning: divide by zero encountered in log1p\n",
      "  np.log1p(X, out=X)\n",
      "/home/chrism/miniconda3/envs/xb/lib/python3.7/site-packages/scanpy/preprocessing/_simple.py:352: RuntimeWarning: invalid value encountered in log1p\n",
      "  np.log1p(X, out=X)\n"
     ]
    },
    {
     "name": "stdout",
     "output_type": "stream",
     "text": [
      "182\n",
      "(9634, 166)\n"
     ]
    },
    {
     "name": "stderr",
     "output_type": "stream",
     "text": [
      "/home/chrism/miniconda3/envs/xb/lib/python3.7/site-packages/scanpy/preprocessing/_simple.py:352: RuntimeWarning: divide by zero encountered in log1p\n",
      "  np.log1p(X, out=X)\n"
     ]
    },
    {
     "name": "stdout",
     "output_type": "stream",
     "text": [
      "183\n",
      "TrueFalseFalse[10, 100, 1000, None]\n",
      "184\n",
      "normTrue_lgTrue_ng16_pc0_ts1000_hvg_True_scale_False_leid lgTrue_ng16_pc0_ts1000_hvg_True_scale_False\n",
      "185\n",
      "(9634, 59)\n"
     ]
    },
    {
     "name": "stderr",
     "output_type": "stream",
     "text": [
      "/home/chrism/miniconda3/envs/xb/lib/python3.7/site-packages/scanpy/preprocessing/_simple.py:352: RuntimeWarning: divide by zero encountered in log1p\n",
      "  np.log1p(X, out=X)\n",
      "/home/chrism/miniconda3/envs/xb/lib/python3.7/site-packages/scanpy/preprocessing/_simple.py:352: RuntimeWarning: invalid value encountered in log1p\n",
      "  np.log1p(X, out=X)\n",
      "/home/chrism/git/Xenium_benchmarking/xb/simulating.py:314: ImplicitModificationWarning: Trying to modify attribute `.X` of view, initializing view as actual.\n",
      "  adata.X[adata.X==-np.inf]=0\n",
      "/home/chrism/miniconda3/envs/xb/lib/python3.7/contextlib.py:119: FutureWarning: X.dtype being converted to np.float32 from float64. In the next version of anndata (0.9) conversion will not be automatic. Pass dtype explicitly to avoid this warning. Pass `AnnData(X, dtype=X.dtype, ...)` to get the future behavour.\n",
      "  next(self.gen)\n"
     ]
    },
    {
     "name": "stdout",
     "output_type": "stream",
     "text": [
      "186\n",
      "TrueFalseTrue[10, 100, 1000, None]\n",
      "187\n",
      "(9634, 166)\n"
     ]
    },
    {
     "name": "stderr",
     "output_type": "stream",
     "text": [
      "/home/chrism/miniconda3/envs/xb/lib/python3.7/site-packages/scanpy/preprocessing/_simple.py:352: RuntimeWarning: divide by zero encountered in log1p\n",
      "  np.log1p(X, out=X)\n",
      "/home/chrism/miniconda3/envs/xb/lib/python3.7/site-packages/scanpy/preprocessing/_simple.py:352: RuntimeWarning: invalid value encountered in log1p\n",
      "  np.log1p(X, out=X)\n"
     ]
    },
    {
     "name": "stdout",
     "output_type": "stream",
     "text": [
      "188\n",
      "(9634, 166)\n"
     ]
    },
    {
     "name": "stderr",
     "output_type": "stream",
     "text": [
      "/home/chrism/miniconda3/envs/xb/lib/python3.7/site-packages/scanpy/preprocessing/_simple.py:352: RuntimeWarning: divide by zero encountered in log1p\n",
      "  np.log1p(X, out=X)\n",
      "/home/chrism/miniconda3/envs/xb/lib/python3.7/site-packages/scanpy/preprocessing/_utils.py:12: RuntimeWarning: invalid value encountered in subtract\n",
      "  var = mean_sq - mean**2\n",
      "/home/chrism/miniconda3/envs/xb/lib/python3.7/site-packages/scanpy/preprocessing/_simple.py:792: RuntimeWarning: invalid value encountered in subtract\n",
      "  X -= mean\n"
     ]
    },
    {
     "name": "stdout",
     "output_type": "stream",
     "text": [
      "189\n",
      "TrueTrueFalse[10, 100, 1000, None]\n",
      "190\n",
      "normTrue_lgTrue_ng16_pc0_ts1000_hvg_True_scale_True_leid lgTrue_ng16_pc0_ts1000_hvg_True_scale_True\n",
      "191\n",
      "(9634, 59)\n"
     ]
    },
    {
     "name": "stderr",
     "output_type": "stream",
     "text": [
      "/home/chrism/miniconda3/envs/xb/lib/python3.7/site-packages/scanpy/preprocessing/_simple.py:352: RuntimeWarning: divide by zero encountered in log1p\n",
      "  np.log1p(X, out=X)\n",
      "/home/chrism/miniconda3/envs/xb/lib/python3.7/site-packages/scanpy/preprocessing/_simple.py:352: RuntimeWarning: invalid value encountered in log1p\n",
      "  np.log1p(X, out=X)\n",
      "/home/chrism/miniconda3/envs/xb/lib/python3.7/site-packages/scanpy/preprocessing/_simple.py:843: UserWarning: Received a view of an AnnData. Making a copy.\n",
      "  view_to_actual(adata)\n",
      "/home/chrism/miniconda3/envs/xb/lib/python3.7/site-packages/scanpy/preprocessing/_simple.py:843: FutureWarning: X.dtype being converted to np.float32 from float64. In the next version of anndata (0.9) conversion will not be automatic. Pass dtype explicitly to avoid this warning. Pass `AnnData(X, dtype=X.dtype, ...)` to get the future behavour.\n",
      "  view_to_actual(adata)\n",
      "/home/chrism/miniconda3/envs/xb/lib/python3.7/site-packages/scanpy/preprocessing/_utils.py:12: RuntimeWarning: invalid value encountered in subtract\n",
      "  var = mean_sq - mean**2\n",
      "/home/chrism/miniconda3/envs/xb/lib/python3.7/site-packages/scanpy/preprocessing/_simple.py:792: RuntimeWarning: invalid value encountered in subtract\n",
      "  X -= mean\n"
     ]
    },
    {
     "name": "stdout",
     "output_type": "stream",
     "text": [
      "192\n",
      "TrueTrueTrue[10, 100, 1000, None]\n",
      "193\n",
      "(9634, 166)\n"
     ]
    },
    {
     "name": "stderr",
     "output_type": "stream",
     "text": [
      "/home/chrism/miniconda3/envs/xb/lib/python3.7/site-packages/scanpy/preprocessing/_simple.py:352: RuntimeWarning: divide by zero encountered in log1p\n",
      "  np.log1p(X, out=X)\n",
      "/home/chrism/miniconda3/envs/xb/lib/python3.7/site-packages/scanpy/preprocessing/_simple.py:352: RuntimeWarning: invalid value encountered in log1p\n",
      "  np.log1p(X, out=X)\n"
     ]
    },
    {
     "name": "stdout",
     "output_type": "stream",
     "text": [
      "194\n",
      "(9634, 166)\n"
     ]
    },
    {
     "name": "stderr",
     "output_type": "stream",
     "text": [
      "/home/chrism/miniconda3/envs/xb/lib/python3.7/site-packages/scanpy/preprocessing/_simple.py:352: RuntimeWarning: divide by zero encountered in log1p\n",
      "  np.log1p(X, out=X)\n"
     ]
    },
    {
     "name": "stdout",
     "output_type": "stream",
     "text": [
      "195\n",
      "TrueFalseFalse[10, 100, 1000, None]\n",
      "196\n",
      "normTrue_lgTrue_ng16_pc20_ts1000_hvg_True_scale_False_leid lgTrue_ng16_pc20_ts1000_hvg_True_scale_False\n",
      "197\n",
      "(9634, 59)\n"
     ]
    },
    {
     "name": "stderr",
     "output_type": "stream",
     "text": [
      "/home/chrism/miniconda3/envs/xb/lib/python3.7/site-packages/scanpy/preprocessing/_simple.py:352: RuntimeWarning: divide by zero encountered in log1p\n",
      "  np.log1p(X, out=X)\n",
      "/home/chrism/miniconda3/envs/xb/lib/python3.7/site-packages/scanpy/preprocessing/_simple.py:352: RuntimeWarning: invalid value encountered in log1p\n",
      "  np.log1p(X, out=X)\n",
      "/home/chrism/git/Xenium_benchmarking/xb/simulating.py:314: ImplicitModificationWarning: Trying to modify attribute `.X` of view, initializing view as actual.\n",
      "  adata.X[adata.X==-np.inf]=0\n",
      "/home/chrism/miniconda3/envs/xb/lib/python3.7/contextlib.py:119: FutureWarning: X.dtype being converted to np.float32 from float64. In the next version of anndata (0.9) conversion will not be automatic. Pass dtype explicitly to avoid this warning. Pass `AnnData(X, dtype=X.dtype, ...)` to get the future behavour.\n",
      "  next(self.gen)\n"
     ]
    },
    {
     "name": "stdout",
     "output_type": "stream",
     "text": [
      "198\n",
      "TrueFalseTrue[10, 100, 1000, None]\n",
      "199\n",
      "(9634, 166)\n"
     ]
    },
    {
     "name": "stderr",
     "output_type": "stream",
     "text": [
      "/home/chrism/miniconda3/envs/xb/lib/python3.7/site-packages/scanpy/preprocessing/_simple.py:352: RuntimeWarning: divide by zero encountered in log1p\n",
      "  np.log1p(X, out=X)\n",
      "/home/chrism/miniconda3/envs/xb/lib/python3.7/site-packages/scanpy/preprocessing/_simple.py:352: RuntimeWarning: invalid value encountered in log1p\n",
      "  np.log1p(X, out=X)\n"
     ]
    },
    {
     "name": "stdout",
     "output_type": "stream",
     "text": [
      "200\n",
      "(9634, 166)\n"
     ]
    },
    {
     "name": "stderr",
     "output_type": "stream",
     "text": [
      "/home/chrism/miniconda3/envs/xb/lib/python3.7/site-packages/scanpy/preprocessing/_simple.py:352: RuntimeWarning: divide by zero encountered in log1p\n",
      "  np.log1p(X, out=X)\n",
      "/home/chrism/miniconda3/envs/xb/lib/python3.7/site-packages/scanpy/preprocessing/_utils.py:12: RuntimeWarning: invalid value encountered in subtract\n",
      "  var = mean_sq - mean**2\n",
      "/home/chrism/miniconda3/envs/xb/lib/python3.7/site-packages/scanpy/preprocessing/_simple.py:792: RuntimeWarning: invalid value encountered in subtract\n",
      "  X -= mean\n"
     ]
    },
    {
     "name": "stdout",
     "output_type": "stream",
     "text": [
      "201\n",
      "TrueTrueFalse[10, 100, 1000, None]\n",
      "202\n",
      "normTrue_lgTrue_ng16_pc20_ts1000_hvg_True_scale_True_leid lgTrue_ng16_pc20_ts1000_hvg_True_scale_True\n",
      "203\n",
      "(9634, 59)\n"
     ]
    },
    {
     "name": "stderr",
     "output_type": "stream",
     "text": [
      "/home/chrism/miniconda3/envs/xb/lib/python3.7/site-packages/scanpy/preprocessing/_simple.py:352: RuntimeWarning: divide by zero encountered in log1p\n",
      "  np.log1p(X, out=X)\n",
      "/home/chrism/miniconda3/envs/xb/lib/python3.7/site-packages/scanpy/preprocessing/_simple.py:352: RuntimeWarning: invalid value encountered in log1p\n",
      "  np.log1p(X, out=X)\n",
      "/home/chrism/miniconda3/envs/xb/lib/python3.7/site-packages/scanpy/preprocessing/_simple.py:843: UserWarning: Received a view of an AnnData. Making a copy.\n",
      "  view_to_actual(adata)\n",
      "/home/chrism/miniconda3/envs/xb/lib/python3.7/site-packages/scanpy/preprocessing/_simple.py:843: FutureWarning: X.dtype being converted to np.float32 from float64. In the next version of anndata (0.9) conversion will not be automatic. Pass dtype explicitly to avoid this warning. Pass `AnnData(X, dtype=X.dtype, ...)` to get the future behavour.\n",
      "  view_to_actual(adata)\n",
      "/home/chrism/miniconda3/envs/xb/lib/python3.7/site-packages/scanpy/preprocessing/_utils.py:12: RuntimeWarning: invalid value encountered in subtract\n",
      "  var = mean_sq - mean**2\n",
      "/home/chrism/miniconda3/envs/xb/lib/python3.7/site-packages/scanpy/preprocessing/_simple.py:792: RuntimeWarning: invalid value encountered in subtract\n",
      "  X -= mean\n"
     ]
    },
    {
     "name": "stdout",
     "output_type": "stream",
     "text": [
      "204\n",
      "TrueTrueTrue[10, 100, 1000, None]\n",
      "205\n",
      "(9634, 166)\n"
     ]
    },
    {
     "name": "stderr",
     "output_type": "stream",
     "text": [
      "/home/chrism/miniconda3/envs/xb/lib/python3.7/site-packages/scanpy/preprocessing/_simple.py:352: RuntimeWarning: divide by zero encountered in log1p\n",
      "  np.log1p(X, out=X)\n",
      "/home/chrism/miniconda3/envs/xb/lib/python3.7/site-packages/scanpy/preprocessing/_simple.py:352: RuntimeWarning: invalid value encountered in log1p\n",
      "  np.log1p(X, out=X)\n"
     ]
    },
    {
     "name": "stdout",
     "output_type": "stream",
     "text": [
      "206\n",
      "(9634, 166)\n"
     ]
    },
    {
     "name": "stderr",
     "output_type": "stream",
     "text": [
      "/home/chrism/miniconda3/envs/xb/lib/python3.7/site-packages/scanpy/preprocessing/_simple.py:352: RuntimeWarning: divide by zero encountered in log1p\n",
      "  np.log1p(X, out=X)\n"
     ]
    },
    {
     "name": "stdout",
     "output_type": "stream",
     "text": [
      "207\n",
      "TrueFalseFalse[10, 100, 1000, None]\n",
      "208\n",
      "normTrue_lgTrue_ng16_pc40_ts1000_hvg_True_scale_False_leid lgTrue_ng16_pc40_ts1000_hvg_True_scale_False\n",
      "209\n",
      "(9634, 59)\n"
     ]
    },
    {
     "name": "stderr",
     "output_type": "stream",
     "text": [
      "/home/chrism/miniconda3/envs/xb/lib/python3.7/site-packages/scanpy/preprocessing/_simple.py:352: RuntimeWarning: divide by zero encountered in log1p\n",
      "  np.log1p(X, out=X)\n",
      "/home/chrism/miniconda3/envs/xb/lib/python3.7/site-packages/scanpy/preprocessing/_simple.py:352: RuntimeWarning: invalid value encountered in log1p\n",
      "  np.log1p(X, out=X)\n",
      "/home/chrism/git/Xenium_benchmarking/xb/simulating.py:314: ImplicitModificationWarning: Trying to modify attribute `.X` of view, initializing view as actual.\n",
      "  adata.X[adata.X==-np.inf]=0\n",
      "/home/chrism/miniconda3/envs/xb/lib/python3.7/contextlib.py:119: FutureWarning: X.dtype being converted to np.float32 from float64. In the next version of anndata (0.9) conversion will not be automatic. Pass dtype explicitly to avoid this warning. Pass `AnnData(X, dtype=X.dtype, ...)` to get the future behavour.\n",
      "  next(self.gen)\n"
     ]
    },
    {
     "name": "stdout",
     "output_type": "stream",
     "text": [
      "210\n",
      "TrueFalseTrue[10, 100, 1000, None]\n",
      "211\n",
      "(9634, 166)\n"
     ]
    },
    {
     "name": "stderr",
     "output_type": "stream",
     "text": [
      "/home/chrism/miniconda3/envs/xb/lib/python3.7/site-packages/scanpy/preprocessing/_simple.py:352: RuntimeWarning: divide by zero encountered in log1p\n",
      "  np.log1p(X, out=X)\n",
      "/home/chrism/miniconda3/envs/xb/lib/python3.7/site-packages/scanpy/preprocessing/_simple.py:352: RuntimeWarning: invalid value encountered in log1p\n",
      "  np.log1p(X, out=X)\n"
     ]
    },
    {
     "name": "stdout",
     "output_type": "stream",
     "text": [
      "212\n",
      "(9634, 166)\n"
     ]
    },
    {
     "name": "stderr",
     "output_type": "stream",
     "text": [
      "/home/chrism/miniconda3/envs/xb/lib/python3.7/site-packages/scanpy/preprocessing/_simple.py:352: RuntimeWarning: divide by zero encountered in log1p\n",
      "  np.log1p(X, out=X)\n",
      "/home/chrism/miniconda3/envs/xb/lib/python3.7/site-packages/scanpy/preprocessing/_utils.py:12: RuntimeWarning: invalid value encountered in subtract\n",
      "  var = mean_sq - mean**2\n",
      "/home/chrism/miniconda3/envs/xb/lib/python3.7/site-packages/scanpy/preprocessing/_simple.py:792: RuntimeWarning: invalid value encountered in subtract\n",
      "  X -= mean\n"
     ]
    },
    {
     "name": "stdout",
     "output_type": "stream",
     "text": [
      "213\n",
      "TrueTrueFalse[10, 100, 1000, None]\n",
      "214\n",
      "normTrue_lgTrue_ng16_pc40_ts1000_hvg_True_scale_True_leid lgTrue_ng16_pc40_ts1000_hvg_True_scale_True\n",
      "215\n",
      "(9634, 59)\n"
     ]
    },
    {
     "name": "stderr",
     "output_type": "stream",
     "text": [
      "/home/chrism/miniconda3/envs/xb/lib/python3.7/site-packages/scanpy/preprocessing/_simple.py:352: RuntimeWarning: divide by zero encountered in log1p\n",
      "  np.log1p(X, out=X)\n",
      "/home/chrism/miniconda3/envs/xb/lib/python3.7/site-packages/scanpy/preprocessing/_simple.py:352: RuntimeWarning: invalid value encountered in log1p\n",
      "  np.log1p(X, out=X)\n",
      "/home/chrism/miniconda3/envs/xb/lib/python3.7/site-packages/scanpy/preprocessing/_simple.py:843: UserWarning: Received a view of an AnnData. Making a copy.\n",
      "  view_to_actual(adata)\n",
      "/home/chrism/miniconda3/envs/xb/lib/python3.7/site-packages/scanpy/preprocessing/_simple.py:843: FutureWarning: X.dtype being converted to np.float32 from float64. In the next version of anndata (0.9) conversion will not be automatic. Pass dtype explicitly to avoid this warning. Pass `AnnData(X, dtype=X.dtype, ...)` to get the future behavour.\n",
      "  view_to_actual(adata)\n",
      "/home/chrism/miniconda3/envs/xb/lib/python3.7/site-packages/scanpy/preprocessing/_utils.py:12: RuntimeWarning: invalid value encountered in subtract\n",
      "  var = mean_sq - mean**2\n",
      "/home/chrism/miniconda3/envs/xb/lib/python3.7/site-packages/scanpy/preprocessing/_simple.py:792: RuntimeWarning: invalid value encountered in subtract\n",
      "  X -= mean\n"
     ]
    },
    {
     "name": "stdout",
     "output_type": "stream",
     "text": [
      "216\n",
      "TrueTrueTrue[10, 100, 1000, None]\n",
      "217\n",
      "(9634, 166)\n"
     ]
    },
    {
     "name": "stderr",
     "output_type": "stream",
     "text": [
      "/home/chrism/miniconda3/envs/xb/lib/python3.7/site-packages/scanpy/preprocessing/_simple.py:352: RuntimeWarning: divide by zero encountered in log1p\n",
      "  np.log1p(X, out=X)\n",
      "/home/chrism/miniconda3/envs/xb/lib/python3.7/site-packages/scanpy/preprocessing/_simple.py:352: RuntimeWarning: invalid value encountered in log1p\n",
      "  np.log1p(X, out=X)\n"
     ]
    },
    {
     "name": "stdout",
     "output_type": "stream",
     "text": [
      "218\n",
      "(9634, 166)\n"
     ]
    },
    {
     "name": "stderr",
     "output_type": "stream",
     "text": [
      "/home/chrism/miniconda3/envs/xb/lib/python3.7/site-packages/scanpy/preprocessing/_simple.py:352: RuntimeWarning: divide by zero encountered in log1p\n",
      "  np.log1p(X, out=X)\n"
     ]
    },
    {
     "name": "stdout",
     "output_type": "stream",
     "text": [
      "219\n",
      "TrueFalseFalse[10, 100, 1000, None]\n",
      "220\n",
      "normTrue_lgTrue_ng12_pc0_tsNone_hvg_True_scale_False_leid lgTrue_ng12_pc0_tsNone_hvg_True_scale_False\n",
      "221\n",
      "(9634, 59)\n"
     ]
    },
    {
     "name": "stderr",
     "output_type": "stream",
     "text": [
      "/home/chrism/miniconda3/envs/xb/lib/python3.7/site-packages/scanpy/preprocessing/_simple.py:352: RuntimeWarning: divide by zero encountered in log1p\n",
      "  np.log1p(X, out=X)\n",
      "/home/chrism/miniconda3/envs/xb/lib/python3.7/site-packages/scanpy/preprocessing/_simple.py:352: RuntimeWarning: invalid value encountered in log1p\n",
      "  np.log1p(X, out=X)\n",
      "/home/chrism/git/Xenium_benchmarking/xb/simulating.py:314: ImplicitModificationWarning: Trying to modify attribute `.X` of view, initializing view as actual.\n",
      "  adata.X[adata.X==-np.inf]=0\n",
      "/home/chrism/miniconda3/envs/xb/lib/python3.7/contextlib.py:119: FutureWarning: X.dtype being converted to np.float32 from float64. In the next version of anndata (0.9) conversion will not be automatic. Pass dtype explicitly to avoid this warning. Pass `AnnData(X, dtype=X.dtype, ...)` to get the future behavour.\n",
      "  next(self.gen)\n"
     ]
    },
    {
     "name": "stdout",
     "output_type": "stream",
     "text": [
      "222\n",
      "TrueFalseTrue[10, 100, 1000, None]\n",
      "223\n",
      "(9634, 166)\n"
     ]
    },
    {
     "name": "stderr",
     "output_type": "stream",
     "text": [
      "/home/chrism/miniconda3/envs/xb/lib/python3.7/site-packages/scanpy/preprocessing/_simple.py:352: RuntimeWarning: divide by zero encountered in log1p\n",
      "  np.log1p(X, out=X)\n",
      "/home/chrism/miniconda3/envs/xb/lib/python3.7/site-packages/scanpy/preprocessing/_simple.py:352: RuntimeWarning: invalid value encountered in log1p\n",
      "  np.log1p(X, out=X)\n"
     ]
    },
    {
     "name": "stdout",
     "output_type": "stream",
     "text": [
      "224\n"
     ]
    },
    {
     "name": "stderr",
     "output_type": "stream",
     "text": [
      "/home/chrism/miniconda3/envs/xb/lib/python3.7/site-packages/scanpy/preprocessing/_simple.py:352: RuntimeWarning: divide by zero encountered in log1p\n",
      "  np.log1p(X, out=X)\n",
      "/home/chrism/miniconda3/envs/xb/lib/python3.7/site-packages/scanpy/preprocessing/_utils.py:12: RuntimeWarning: invalid value encountered in subtract\n",
      "  var = mean_sq - mean**2\n",
      "/home/chrism/miniconda3/envs/xb/lib/python3.7/site-packages/scanpy/preprocessing/_simple.py:792: RuntimeWarning: invalid value encountered in subtract\n",
      "  X -= mean\n"
     ]
    },
    {
     "name": "stdout",
     "output_type": "stream",
     "text": [
      "(9634, 166)\n",
      "225\n",
      "TrueTrueFalse[10, 100, 1000, None]\n",
      "226\n",
      "normTrue_lgTrue_ng12_pc0_tsNone_hvg_True_scale_True_leid lgTrue_ng12_pc0_tsNone_hvg_True_scale_True\n",
      "227\n",
      "(9634, 59)\n"
     ]
    },
    {
     "name": "stderr",
     "output_type": "stream",
     "text": [
      "/home/chrism/miniconda3/envs/xb/lib/python3.7/site-packages/scanpy/preprocessing/_simple.py:352: RuntimeWarning: divide by zero encountered in log1p\n",
      "  np.log1p(X, out=X)\n",
      "/home/chrism/miniconda3/envs/xb/lib/python3.7/site-packages/scanpy/preprocessing/_simple.py:352: RuntimeWarning: invalid value encountered in log1p\n",
      "  np.log1p(X, out=X)\n",
      "/home/chrism/miniconda3/envs/xb/lib/python3.7/site-packages/scanpy/preprocessing/_simple.py:843: UserWarning: Received a view of an AnnData. Making a copy.\n",
      "  view_to_actual(adata)\n",
      "/home/chrism/miniconda3/envs/xb/lib/python3.7/site-packages/scanpy/preprocessing/_simple.py:843: FutureWarning: X.dtype being converted to np.float32 from float64. In the next version of anndata (0.9) conversion will not be automatic. Pass dtype explicitly to avoid this warning. Pass `AnnData(X, dtype=X.dtype, ...)` to get the future behavour.\n",
      "  view_to_actual(adata)\n",
      "/home/chrism/miniconda3/envs/xb/lib/python3.7/site-packages/scanpy/preprocessing/_utils.py:12: RuntimeWarning: invalid value encountered in subtract\n",
      "  var = mean_sq - mean**2\n",
      "/home/chrism/miniconda3/envs/xb/lib/python3.7/site-packages/scanpy/preprocessing/_simple.py:792: RuntimeWarning: invalid value encountered in subtract\n",
      "  X -= mean\n"
     ]
    },
    {
     "name": "stdout",
     "output_type": "stream",
     "text": [
      "228\n",
      "TrueTrueTrue[10, 100, 1000, None]\n",
      "(9634, 166)\n"
     ]
    },
    {
     "name": "stderr",
     "output_type": "stream",
     "text": [
      "/home/chrism/miniconda3/envs/xb/lib/python3.7/site-packages/scanpy/experimental/pp/_normalization.py:45: UserWarning: `normalize_pearson_residuals()` expects raw count data, but non-integers were found.\n",
      "  UserWarning,\n"
     ]
    },
    {
     "name": "stdout",
     "output_type": "stream",
     "text": [
      "229\n",
      "(9634, 166)\n"
     ]
    },
    {
     "name": "stderr",
     "output_type": "stream",
     "text": [
      "/home/chrism/miniconda3/envs/xb/lib/python3.7/site-packages/scanpy/preprocessing/_simple.py:352: RuntimeWarning: divide by zero encountered in log1p\n",
      "  np.log1p(X, out=X)\n",
      "/home/chrism/miniconda3/envs/xb/lib/python3.7/site-packages/scanpy/preprocessing/_simple.py:352: RuntimeWarning: invalid value encountered in log1p\n",
      "  np.log1p(X, out=X)\n"
     ]
    },
    {
     "name": "stdout",
     "output_type": "stream",
     "text": [
      "230\n",
      "(9634, 166)\n"
     ]
    },
    {
     "name": "stderr",
     "output_type": "stream",
     "text": [
      "/home/chrism/miniconda3/envs/xb/lib/python3.7/site-packages/scanpy/preprocessing/_simple.py:352: RuntimeWarning: divide by zero encountered in log1p\n",
      "  np.log1p(X, out=X)\n"
     ]
    },
    {
     "name": "stdout",
     "output_type": "stream",
     "text": [
      "231\n",
      "TrueFalseFalse[10, 100, 1000, None]\n",
      "232\n",
      "normTrue_lgTrue_ng12_pc20_tsNone_hvg_True_scale_False_leid lgTrue_ng12_pc20_tsNone_hvg_True_scale_False\n",
      "233\n",
      "(9634, 59)\n"
     ]
    },
    {
     "name": "stderr",
     "output_type": "stream",
     "text": [
      "/home/chrism/miniconda3/envs/xb/lib/python3.7/site-packages/scanpy/preprocessing/_simple.py:352: RuntimeWarning: divide by zero encountered in log1p\n",
      "  np.log1p(X, out=X)\n",
      "/home/chrism/miniconda3/envs/xb/lib/python3.7/site-packages/scanpy/preprocessing/_simple.py:352: RuntimeWarning: invalid value encountered in log1p\n",
      "  np.log1p(X, out=X)\n",
      "/home/chrism/git/Xenium_benchmarking/xb/simulating.py:314: ImplicitModificationWarning: Trying to modify attribute `.X` of view, initializing view as actual.\n",
      "  adata.X[adata.X==-np.inf]=0\n",
      "/home/chrism/miniconda3/envs/xb/lib/python3.7/contextlib.py:119: FutureWarning: X.dtype being converted to np.float32 from float64. In the next version of anndata (0.9) conversion will not be automatic. Pass dtype explicitly to avoid this warning. Pass `AnnData(X, dtype=X.dtype, ...)` to get the future behavour.\n",
      "  next(self.gen)\n"
     ]
    },
    {
     "name": "stdout",
     "output_type": "stream",
     "text": [
      "234\n",
      "TrueFalseTrue[10, 100, 1000, None]\n",
      "235\n",
      "(9634, 166)\n"
     ]
    },
    {
     "name": "stderr",
     "output_type": "stream",
     "text": [
      "/home/chrism/miniconda3/envs/xb/lib/python3.7/site-packages/scanpy/preprocessing/_simple.py:352: RuntimeWarning: divide by zero encountered in log1p\n",
      "  np.log1p(X, out=X)\n",
      "/home/chrism/miniconda3/envs/xb/lib/python3.7/site-packages/scanpy/preprocessing/_simple.py:352: RuntimeWarning: invalid value encountered in log1p\n",
      "  np.log1p(X, out=X)\n"
     ]
    },
    {
     "name": "stdout",
     "output_type": "stream",
     "text": [
      "236\n",
      "(9634, 166)\n"
     ]
    },
    {
     "name": "stderr",
     "output_type": "stream",
     "text": [
      "/home/chrism/miniconda3/envs/xb/lib/python3.7/site-packages/scanpy/preprocessing/_simple.py:352: RuntimeWarning: divide by zero encountered in log1p\n",
      "  np.log1p(X, out=X)\n",
      "/home/chrism/miniconda3/envs/xb/lib/python3.7/site-packages/scanpy/preprocessing/_utils.py:12: RuntimeWarning: invalid value encountered in subtract\n",
      "  var = mean_sq - mean**2\n",
      "/home/chrism/miniconda3/envs/xb/lib/python3.7/site-packages/scanpy/preprocessing/_simple.py:792: RuntimeWarning: invalid value encountered in subtract\n",
      "  X -= mean\n"
     ]
    },
    {
     "name": "stdout",
     "output_type": "stream",
     "text": [
      "237\n",
      "TrueTrueFalse[10, 100, 1000, None]\n",
      "238\n",
      "normTrue_lgTrue_ng12_pc20_tsNone_hvg_True_scale_True_leid lgTrue_ng12_pc20_tsNone_hvg_True_scale_True\n",
      "239\n",
      "(9634, 59)\n"
     ]
    },
    {
     "name": "stderr",
     "output_type": "stream",
     "text": [
      "/home/chrism/miniconda3/envs/xb/lib/python3.7/site-packages/scanpy/preprocessing/_simple.py:352: RuntimeWarning: divide by zero encountered in log1p\n",
      "  np.log1p(X, out=X)\n",
      "/home/chrism/miniconda3/envs/xb/lib/python3.7/site-packages/scanpy/preprocessing/_simple.py:352: RuntimeWarning: invalid value encountered in log1p\n",
      "  np.log1p(X, out=X)\n",
      "/home/chrism/miniconda3/envs/xb/lib/python3.7/site-packages/scanpy/preprocessing/_simple.py:843: UserWarning: Received a view of an AnnData. Making a copy.\n",
      "  view_to_actual(adata)\n",
      "/home/chrism/miniconda3/envs/xb/lib/python3.7/site-packages/scanpy/preprocessing/_simple.py:843: FutureWarning: X.dtype being converted to np.float32 from float64. In the next version of anndata (0.9) conversion will not be automatic. Pass dtype explicitly to avoid this warning. Pass `AnnData(X, dtype=X.dtype, ...)` to get the future behavour.\n",
      "  view_to_actual(adata)\n",
      "/home/chrism/miniconda3/envs/xb/lib/python3.7/site-packages/scanpy/preprocessing/_utils.py:12: RuntimeWarning: invalid value encountered in subtract\n",
      "  var = mean_sq - mean**2\n",
      "/home/chrism/miniconda3/envs/xb/lib/python3.7/site-packages/scanpy/preprocessing/_simple.py:792: RuntimeWarning: invalid value encountered in subtract\n",
      "  X -= mean\n"
     ]
    },
    {
     "name": "stdout",
     "output_type": "stream",
     "text": [
      "240\n",
      "TrueTrueTrue[10, 100, 1000, None]\n",
      "(9634, 166)\n"
     ]
    },
    {
     "name": "stderr",
     "output_type": "stream",
     "text": [
      "/home/chrism/miniconda3/envs/xb/lib/python3.7/site-packages/scanpy/experimental/pp/_normalization.py:45: UserWarning: `normalize_pearson_residuals()` expects raw count data, but non-integers were found.\n",
      "  UserWarning,\n"
     ]
    },
    {
     "name": "stdout",
     "output_type": "stream",
     "text": [
      "241\n",
      "(9634, 166)\n"
     ]
    },
    {
     "name": "stderr",
     "output_type": "stream",
     "text": [
      "/home/chrism/miniconda3/envs/xb/lib/python3.7/site-packages/scanpy/preprocessing/_simple.py:352: RuntimeWarning: divide by zero encountered in log1p\n",
      "  np.log1p(X, out=X)\n",
      "/home/chrism/miniconda3/envs/xb/lib/python3.7/site-packages/scanpy/preprocessing/_simple.py:352: RuntimeWarning: invalid value encountered in log1p\n",
      "  np.log1p(X, out=X)\n"
     ]
    },
    {
     "name": "stdout",
     "output_type": "stream",
     "text": [
      "242\n",
      "(9634, 166)\n"
     ]
    },
    {
     "name": "stderr",
     "output_type": "stream",
     "text": [
      "/home/chrism/miniconda3/envs/xb/lib/python3.7/site-packages/scanpy/preprocessing/_simple.py:352: RuntimeWarning: divide by zero encountered in log1p\n",
      "  np.log1p(X, out=X)\n"
     ]
    },
    {
     "name": "stdout",
     "output_type": "stream",
     "text": [
      "243\n",
      "TrueFalseFalse[10, 100, 1000, None]\n",
      "244\n",
      "normTrue_lgTrue_ng12_pc40_tsNone_hvg_True_scale_False_leid lgTrue_ng12_pc40_tsNone_hvg_True_scale_False\n",
      "245\n",
      "(9634, 59)\n"
     ]
    },
    {
     "name": "stderr",
     "output_type": "stream",
     "text": [
      "/home/chrism/miniconda3/envs/xb/lib/python3.7/site-packages/scanpy/preprocessing/_simple.py:352: RuntimeWarning: divide by zero encountered in log1p\n",
      "  np.log1p(X, out=X)\n",
      "/home/chrism/miniconda3/envs/xb/lib/python3.7/site-packages/scanpy/preprocessing/_simple.py:352: RuntimeWarning: invalid value encountered in log1p\n",
      "  np.log1p(X, out=X)\n",
      "/home/chrism/git/Xenium_benchmarking/xb/simulating.py:314: ImplicitModificationWarning: Trying to modify attribute `.X` of view, initializing view as actual.\n",
      "  adata.X[adata.X==-np.inf]=0\n",
      "/home/chrism/miniconda3/envs/xb/lib/python3.7/contextlib.py:119: FutureWarning: X.dtype being converted to np.float32 from float64. In the next version of anndata (0.9) conversion will not be automatic. Pass dtype explicitly to avoid this warning. Pass `AnnData(X, dtype=X.dtype, ...)` to get the future behavour.\n",
      "  next(self.gen)\n"
     ]
    },
    {
     "name": "stdout",
     "output_type": "stream",
     "text": [
      "246\n",
      "TrueFalseTrue[10, 100, 1000, None]\n",
      "247\n",
      "(9634, 166)\n"
     ]
    },
    {
     "name": "stderr",
     "output_type": "stream",
     "text": [
      "/home/chrism/miniconda3/envs/xb/lib/python3.7/site-packages/scanpy/preprocessing/_simple.py:352: RuntimeWarning: divide by zero encountered in log1p\n",
      "  np.log1p(X, out=X)\n",
      "/home/chrism/miniconda3/envs/xb/lib/python3.7/site-packages/scanpy/preprocessing/_simple.py:352: RuntimeWarning: invalid value encountered in log1p\n",
      "  np.log1p(X, out=X)\n"
     ]
    },
    {
     "name": "stdout",
     "output_type": "stream",
     "text": [
      "248\n",
      "(9634, 166)\n"
     ]
    },
    {
     "name": "stderr",
     "output_type": "stream",
     "text": [
      "/home/chrism/miniconda3/envs/xb/lib/python3.7/site-packages/scanpy/preprocessing/_simple.py:352: RuntimeWarning: divide by zero encountered in log1p\n",
      "  np.log1p(X, out=X)\n",
      "/home/chrism/miniconda3/envs/xb/lib/python3.7/site-packages/scanpy/preprocessing/_utils.py:12: RuntimeWarning: invalid value encountered in subtract\n",
      "  var = mean_sq - mean**2\n",
      "/home/chrism/miniconda3/envs/xb/lib/python3.7/site-packages/scanpy/preprocessing/_simple.py:792: RuntimeWarning: invalid value encountered in subtract\n",
      "  X -= mean\n"
     ]
    },
    {
     "name": "stdout",
     "output_type": "stream",
     "text": [
      "249\n",
      "TrueTrueFalse[10, 100, 1000, None]\n",
      "250\n",
      "normTrue_lgTrue_ng12_pc40_tsNone_hvg_True_scale_True_leid lgTrue_ng12_pc40_tsNone_hvg_True_scale_True\n",
      "251\n",
      "(9634, 59)\n"
     ]
    },
    {
     "name": "stderr",
     "output_type": "stream",
     "text": [
      "/home/chrism/miniconda3/envs/xb/lib/python3.7/site-packages/scanpy/preprocessing/_simple.py:352: RuntimeWarning: divide by zero encountered in log1p\n",
      "  np.log1p(X, out=X)\n",
      "/home/chrism/miniconda3/envs/xb/lib/python3.7/site-packages/scanpy/preprocessing/_simple.py:352: RuntimeWarning: invalid value encountered in log1p\n",
      "  np.log1p(X, out=X)\n",
      "/home/chrism/miniconda3/envs/xb/lib/python3.7/site-packages/scanpy/preprocessing/_simple.py:843: UserWarning: Received a view of an AnnData. Making a copy.\n",
      "  view_to_actual(adata)\n",
      "/home/chrism/miniconda3/envs/xb/lib/python3.7/site-packages/scanpy/preprocessing/_simple.py:843: FutureWarning: X.dtype being converted to np.float32 from float64. In the next version of anndata (0.9) conversion will not be automatic. Pass dtype explicitly to avoid this warning. Pass `AnnData(X, dtype=X.dtype, ...)` to get the future behavour.\n",
      "  view_to_actual(adata)\n",
      "/home/chrism/miniconda3/envs/xb/lib/python3.7/site-packages/scanpy/preprocessing/_utils.py:12: RuntimeWarning: invalid value encountered in subtract\n",
      "  var = mean_sq - mean**2\n",
      "/home/chrism/miniconda3/envs/xb/lib/python3.7/site-packages/scanpy/preprocessing/_simple.py:792: RuntimeWarning: invalid value encountered in subtract\n",
      "  X -= mean\n"
     ]
    },
    {
     "name": "stdout",
     "output_type": "stream",
     "text": [
      "252\n",
      "TrueTrueTrue[10, 100, 1000, None]\n",
      "(9634, 166)\n"
     ]
    },
    {
     "name": "stderr",
     "output_type": "stream",
     "text": [
      "/home/chrism/miniconda3/envs/xb/lib/python3.7/site-packages/scanpy/experimental/pp/_normalization.py:45: UserWarning: `normalize_pearson_residuals()` expects raw count data, but non-integers were found.\n",
      "  UserWarning,\n"
     ]
    },
    {
     "name": "stdout",
     "output_type": "stream",
     "text": [
      "253\n",
      "(9634, 166)\n"
     ]
    },
    {
     "name": "stderr",
     "output_type": "stream",
     "text": [
      "/home/chrism/miniconda3/envs/xb/lib/python3.7/site-packages/scanpy/preprocessing/_simple.py:352: RuntimeWarning: divide by zero encountered in log1p\n",
      "  np.log1p(X, out=X)\n",
      "/home/chrism/miniconda3/envs/xb/lib/python3.7/site-packages/scanpy/preprocessing/_simple.py:352: RuntimeWarning: invalid value encountered in log1p\n",
      "  np.log1p(X, out=X)\n"
     ]
    },
    {
     "name": "stdout",
     "output_type": "stream",
     "text": [
      "254\n",
      "(9634, 166)\n"
     ]
    },
    {
     "name": "stderr",
     "output_type": "stream",
     "text": [
      "/home/chrism/miniconda3/envs/xb/lib/python3.7/site-packages/scanpy/preprocessing/_simple.py:352: RuntimeWarning: divide by zero encountered in log1p\n",
      "  np.log1p(X, out=X)\n"
     ]
    },
    {
     "name": "stdout",
     "output_type": "stream",
     "text": [
      "255\n",
      "TrueFalseFalse[10, 100, 1000, None]\n",
      "256\n",
      "normTrue_lgTrue_ng16_pc0_tsNone_hvg_True_scale_False_leid lgTrue_ng16_pc0_tsNone_hvg_True_scale_False\n",
      "257\n",
      "(9634, 59)\n"
     ]
    },
    {
     "name": "stderr",
     "output_type": "stream",
     "text": [
      "/home/chrism/miniconda3/envs/xb/lib/python3.7/site-packages/scanpy/preprocessing/_simple.py:352: RuntimeWarning: divide by zero encountered in log1p\n",
      "  np.log1p(X, out=X)\n",
      "/home/chrism/miniconda3/envs/xb/lib/python3.7/site-packages/scanpy/preprocessing/_simple.py:352: RuntimeWarning: invalid value encountered in log1p\n",
      "  np.log1p(X, out=X)\n",
      "/home/chrism/git/Xenium_benchmarking/xb/simulating.py:314: ImplicitModificationWarning: Trying to modify attribute `.X` of view, initializing view as actual.\n",
      "  adata.X[adata.X==-np.inf]=0\n",
      "/home/chrism/miniconda3/envs/xb/lib/python3.7/contextlib.py:119: FutureWarning: X.dtype being converted to np.float32 from float64. In the next version of anndata (0.9) conversion will not be automatic. Pass dtype explicitly to avoid this warning. Pass `AnnData(X, dtype=X.dtype, ...)` to get the future behavour.\n",
      "  next(self.gen)\n"
     ]
    },
    {
     "name": "stdout",
     "output_type": "stream",
     "text": [
      "258\n",
      "TrueFalseTrue[10, 100, 1000, None]\n",
      "259\n",
      "(9634, 166)\n"
     ]
    },
    {
     "name": "stderr",
     "output_type": "stream",
     "text": [
      "/home/chrism/miniconda3/envs/xb/lib/python3.7/site-packages/scanpy/preprocessing/_simple.py:352: RuntimeWarning: divide by zero encountered in log1p\n",
      "  np.log1p(X, out=X)\n",
      "/home/chrism/miniconda3/envs/xb/lib/python3.7/site-packages/scanpy/preprocessing/_simple.py:352: RuntimeWarning: invalid value encountered in log1p\n",
      "  np.log1p(X, out=X)\n"
     ]
    },
    {
     "name": "stdout",
     "output_type": "stream",
     "text": [
      "260\n",
      "(9634, 166)\n"
     ]
    },
    {
     "name": "stderr",
     "output_type": "stream",
     "text": [
      "/home/chrism/miniconda3/envs/xb/lib/python3.7/site-packages/scanpy/preprocessing/_simple.py:352: RuntimeWarning: divide by zero encountered in log1p\n",
      "  np.log1p(X, out=X)\n",
      "/home/chrism/miniconda3/envs/xb/lib/python3.7/site-packages/scanpy/preprocessing/_utils.py:12: RuntimeWarning: invalid value encountered in subtract\n",
      "  var = mean_sq - mean**2\n",
      "/home/chrism/miniconda3/envs/xb/lib/python3.7/site-packages/scanpy/preprocessing/_simple.py:792: RuntimeWarning: invalid value encountered in subtract\n",
      "  X -= mean\n"
     ]
    },
    {
     "name": "stdout",
     "output_type": "stream",
     "text": [
      "261\n",
      "TrueTrueFalse[10, 100, 1000, None]\n",
      "262\n",
      "normTrue_lgTrue_ng16_pc0_tsNone_hvg_True_scale_True_leid lgTrue_ng16_pc0_tsNone_hvg_True_scale_True\n",
      "263\n",
      "(9634, 59)\n"
     ]
    },
    {
     "name": "stderr",
     "output_type": "stream",
     "text": [
      "/home/chrism/miniconda3/envs/xb/lib/python3.7/site-packages/scanpy/preprocessing/_simple.py:352: RuntimeWarning: divide by zero encountered in log1p\n",
      "  np.log1p(X, out=X)\n",
      "/home/chrism/miniconda3/envs/xb/lib/python3.7/site-packages/scanpy/preprocessing/_simple.py:352: RuntimeWarning: invalid value encountered in log1p\n",
      "  np.log1p(X, out=X)\n",
      "/home/chrism/miniconda3/envs/xb/lib/python3.7/site-packages/scanpy/preprocessing/_simple.py:843: UserWarning: Received a view of an AnnData. Making a copy.\n",
      "  view_to_actual(adata)\n",
      "/home/chrism/miniconda3/envs/xb/lib/python3.7/site-packages/scanpy/preprocessing/_simple.py:843: FutureWarning: X.dtype being converted to np.float32 from float64. In the next version of anndata (0.9) conversion will not be automatic. Pass dtype explicitly to avoid this warning. Pass `AnnData(X, dtype=X.dtype, ...)` to get the future behavour.\n",
      "  view_to_actual(adata)\n",
      "/home/chrism/miniconda3/envs/xb/lib/python3.7/site-packages/scanpy/preprocessing/_utils.py:12: RuntimeWarning: invalid value encountered in subtract\n",
      "  var = mean_sq - mean**2\n",
      "/home/chrism/miniconda3/envs/xb/lib/python3.7/site-packages/scanpy/preprocessing/_simple.py:792: RuntimeWarning: invalid value encountered in subtract\n",
      "  X -= mean\n"
     ]
    },
    {
     "name": "stdout",
     "output_type": "stream",
     "text": [
      "264\n",
      "TrueTrueTrue[10, 100, 1000, None]\n",
      "(9634, 166)\n"
     ]
    },
    {
     "name": "stderr",
     "output_type": "stream",
     "text": [
      "/home/chrism/miniconda3/envs/xb/lib/python3.7/site-packages/scanpy/experimental/pp/_normalization.py:45: UserWarning: `normalize_pearson_residuals()` expects raw count data, but non-integers were found.\n",
      "  UserWarning,\n"
     ]
    },
    {
     "name": "stdout",
     "output_type": "stream",
     "text": [
      "265\n",
      "(9634, 166)\n"
     ]
    },
    {
     "name": "stderr",
     "output_type": "stream",
     "text": [
      "/home/chrism/miniconda3/envs/xb/lib/python3.7/site-packages/scanpy/preprocessing/_simple.py:352: RuntimeWarning: divide by zero encountered in log1p\n",
      "  np.log1p(X, out=X)\n",
      "/home/chrism/miniconda3/envs/xb/lib/python3.7/site-packages/scanpy/preprocessing/_simple.py:352: RuntimeWarning: invalid value encountered in log1p\n",
      "  np.log1p(X, out=X)\n"
     ]
    },
    {
     "name": "stdout",
     "output_type": "stream",
     "text": [
      "266\n",
      "(9634, 166)\n"
     ]
    },
    {
     "name": "stderr",
     "output_type": "stream",
     "text": [
      "/home/chrism/miniconda3/envs/xb/lib/python3.7/site-packages/scanpy/preprocessing/_simple.py:352: RuntimeWarning: divide by zero encountered in log1p\n",
      "  np.log1p(X, out=X)\n"
     ]
    },
    {
     "name": "stdout",
     "output_type": "stream",
     "text": [
      "267\n",
      "TrueFalseFalse[10, 100, 1000, None]\n",
      "268\n",
      "normTrue_lgTrue_ng16_pc20_tsNone_hvg_True_scale_False_leid lgTrue_ng16_pc20_tsNone_hvg_True_scale_False\n",
      "269\n",
      "(9634, 59)\n"
     ]
    },
    {
     "name": "stderr",
     "output_type": "stream",
     "text": [
      "/home/chrism/miniconda3/envs/xb/lib/python3.7/site-packages/scanpy/preprocessing/_simple.py:352: RuntimeWarning: divide by zero encountered in log1p\n",
      "  np.log1p(X, out=X)\n",
      "/home/chrism/miniconda3/envs/xb/lib/python3.7/site-packages/scanpy/preprocessing/_simple.py:352: RuntimeWarning: invalid value encountered in log1p\n",
      "  np.log1p(X, out=X)\n",
      "/home/chrism/git/Xenium_benchmarking/xb/simulating.py:314: ImplicitModificationWarning: Trying to modify attribute `.X` of view, initializing view as actual.\n",
      "  adata.X[adata.X==-np.inf]=0\n",
      "/home/chrism/miniconda3/envs/xb/lib/python3.7/contextlib.py:119: FutureWarning: X.dtype being converted to np.float32 from float64. In the next version of anndata (0.9) conversion will not be automatic. Pass dtype explicitly to avoid this warning. Pass `AnnData(X, dtype=X.dtype, ...)` to get the future behavour.\n",
      "  next(self.gen)\n"
     ]
    },
    {
     "name": "stdout",
     "output_type": "stream",
     "text": [
      "270\n",
      "TrueFalseTrue[10, 100, 1000, None]\n",
      "271\n",
      "(9634, 166)\n"
     ]
    },
    {
     "name": "stderr",
     "output_type": "stream",
     "text": [
      "/home/chrism/miniconda3/envs/xb/lib/python3.7/site-packages/scanpy/preprocessing/_simple.py:352: RuntimeWarning: divide by zero encountered in log1p\n",
      "  np.log1p(X, out=X)\n",
      "/home/chrism/miniconda3/envs/xb/lib/python3.7/site-packages/scanpy/preprocessing/_simple.py:352: RuntimeWarning: invalid value encountered in log1p\n",
      "  np.log1p(X, out=X)\n"
     ]
    },
    {
     "name": "stdout",
     "output_type": "stream",
     "text": [
      "272\n",
      "(9634, 166)\n"
     ]
    },
    {
     "name": "stderr",
     "output_type": "stream",
     "text": [
      "/home/chrism/miniconda3/envs/xb/lib/python3.7/site-packages/scanpy/preprocessing/_simple.py:352: RuntimeWarning: divide by zero encountered in log1p\n",
      "  np.log1p(X, out=X)\n",
      "/home/chrism/miniconda3/envs/xb/lib/python3.7/site-packages/scanpy/preprocessing/_utils.py:12: RuntimeWarning: invalid value encountered in subtract\n",
      "  var = mean_sq - mean**2\n",
      "/home/chrism/miniconda3/envs/xb/lib/python3.7/site-packages/scanpy/preprocessing/_simple.py:792: RuntimeWarning: invalid value encountered in subtract\n",
      "  X -= mean\n"
     ]
    },
    {
     "name": "stdout",
     "output_type": "stream",
     "text": [
      "273\n",
      "TrueTrueFalse[10, 100, 1000, None]\n",
      "274\n",
      "normTrue_lgTrue_ng16_pc20_tsNone_hvg_True_scale_True_leid lgTrue_ng16_pc20_tsNone_hvg_True_scale_True\n",
      "275\n",
      "(9634, 59)\n"
     ]
    },
    {
     "name": "stderr",
     "output_type": "stream",
     "text": [
      "/home/chrism/miniconda3/envs/xb/lib/python3.7/site-packages/scanpy/preprocessing/_simple.py:352: RuntimeWarning: divide by zero encountered in log1p\n",
      "  np.log1p(X, out=X)\n",
      "/home/chrism/miniconda3/envs/xb/lib/python3.7/site-packages/scanpy/preprocessing/_simple.py:352: RuntimeWarning: invalid value encountered in log1p\n",
      "  np.log1p(X, out=X)\n",
      "/home/chrism/miniconda3/envs/xb/lib/python3.7/site-packages/scanpy/preprocessing/_simple.py:843: UserWarning: Received a view of an AnnData. Making a copy.\n",
      "  view_to_actual(adata)\n",
      "/home/chrism/miniconda3/envs/xb/lib/python3.7/site-packages/scanpy/preprocessing/_simple.py:843: FutureWarning: X.dtype being converted to np.float32 from float64. In the next version of anndata (0.9) conversion will not be automatic. Pass dtype explicitly to avoid this warning. Pass `AnnData(X, dtype=X.dtype, ...)` to get the future behavour.\n",
      "  view_to_actual(adata)\n",
      "/home/chrism/miniconda3/envs/xb/lib/python3.7/site-packages/scanpy/preprocessing/_utils.py:12: RuntimeWarning: invalid value encountered in subtract\n",
      "  var = mean_sq - mean**2\n",
      "/home/chrism/miniconda3/envs/xb/lib/python3.7/site-packages/scanpy/preprocessing/_simple.py:792: RuntimeWarning: invalid value encountered in subtract\n",
      "  X -= mean\n"
     ]
    },
    {
     "name": "stdout",
     "output_type": "stream",
     "text": [
      "276\n",
      "TrueTrueTrue[10, 100, 1000, None]\n",
      "(9634, 166)\n"
     ]
    },
    {
     "name": "stderr",
     "output_type": "stream",
     "text": [
      "/home/chrism/miniconda3/envs/xb/lib/python3.7/site-packages/scanpy/experimental/pp/_normalization.py:45: UserWarning: `normalize_pearson_residuals()` expects raw count data, but non-integers were found.\n",
      "  UserWarning,\n"
     ]
    },
    {
     "name": "stdout",
     "output_type": "stream",
     "text": [
      "277\n",
      "(9634, 166)\n"
     ]
    },
    {
     "name": "stderr",
     "output_type": "stream",
     "text": [
      "/home/chrism/miniconda3/envs/xb/lib/python3.7/site-packages/scanpy/preprocessing/_simple.py:352: RuntimeWarning: divide by zero encountered in log1p\n",
      "  np.log1p(X, out=X)\n",
      "/home/chrism/miniconda3/envs/xb/lib/python3.7/site-packages/scanpy/preprocessing/_simple.py:352: RuntimeWarning: invalid value encountered in log1p\n",
      "  np.log1p(X, out=X)\n"
     ]
    },
    {
     "name": "stdout",
     "output_type": "stream",
     "text": [
      "278\n",
      "(9634, 166)\n"
     ]
    },
    {
     "name": "stderr",
     "output_type": "stream",
     "text": [
      "/home/chrism/miniconda3/envs/xb/lib/python3.7/site-packages/scanpy/preprocessing/_simple.py:352: RuntimeWarning: divide by zero encountered in log1p\n",
      "  np.log1p(X, out=X)\n"
     ]
    },
    {
     "name": "stdout",
     "output_type": "stream",
     "text": [
      "279\n",
      "TrueFalseFalse[10, 100, 1000, None]\n",
      "280\n",
      "normTrue_lgTrue_ng16_pc40_tsNone_hvg_True_scale_False_leid lgTrue_ng16_pc40_tsNone_hvg_True_scale_False\n",
      "281\n",
      "(9634, 59)\n"
     ]
    },
    {
     "name": "stderr",
     "output_type": "stream",
     "text": [
      "/home/chrism/miniconda3/envs/xb/lib/python3.7/site-packages/scanpy/preprocessing/_simple.py:352: RuntimeWarning: divide by zero encountered in log1p\n",
      "  np.log1p(X, out=X)\n",
      "/home/chrism/miniconda3/envs/xb/lib/python3.7/site-packages/scanpy/preprocessing/_simple.py:352: RuntimeWarning: invalid value encountered in log1p\n",
      "  np.log1p(X, out=X)\n",
      "/home/chrism/git/Xenium_benchmarking/xb/simulating.py:314: ImplicitModificationWarning: Trying to modify attribute `.X` of view, initializing view as actual.\n",
      "  adata.X[adata.X==-np.inf]=0\n",
      "/home/chrism/miniconda3/envs/xb/lib/python3.7/contextlib.py:119: FutureWarning: X.dtype being converted to np.float32 from float64. In the next version of anndata (0.9) conversion will not be automatic. Pass dtype explicitly to avoid this warning. Pass `AnnData(X, dtype=X.dtype, ...)` to get the future behavour.\n",
      "  next(self.gen)\n"
     ]
    },
    {
     "name": "stdout",
     "output_type": "stream",
     "text": [
      "282\n",
      "TrueFalseTrue[10, 100, 1000, None]\n",
      "283\n",
      "(9634, 166)\n"
     ]
    },
    {
     "name": "stderr",
     "output_type": "stream",
     "text": [
      "/home/chrism/miniconda3/envs/xb/lib/python3.7/site-packages/scanpy/preprocessing/_simple.py:352: RuntimeWarning: divide by zero encountered in log1p\n",
      "  np.log1p(X, out=X)\n",
      "/home/chrism/miniconda3/envs/xb/lib/python3.7/site-packages/scanpy/preprocessing/_simple.py:352: RuntimeWarning: invalid value encountered in log1p\n",
      "  np.log1p(X, out=X)\n"
     ]
    },
    {
     "name": "stdout",
     "output_type": "stream",
     "text": [
      "284\n",
      "(9634, 166)\n"
     ]
    },
    {
     "name": "stderr",
     "output_type": "stream",
     "text": [
      "/home/chrism/miniconda3/envs/xb/lib/python3.7/site-packages/scanpy/preprocessing/_simple.py:352: RuntimeWarning: divide by zero encountered in log1p\n",
      "  np.log1p(X, out=X)\n",
      "/home/chrism/miniconda3/envs/xb/lib/python3.7/site-packages/scanpy/preprocessing/_utils.py:12: RuntimeWarning: invalid value encountered in subtract\n",
      "  var = mean_sq - mean**2\n",
      "/home/chrism/miniconda3/envs/xb/lib/python3.7/site-packages/scanpy/preprocessing/_simple.py:792: RuntimeWarning: invalid value encountered in subtract\n",
      "  X -= mean\n"
     ]
    },
    {
     "name": "stdout",
     "output_type": "stream",
     "text": [
      "285\n",
      "TrueTrueFalse[10, 100, 1000, None]\n",
      "286\n",
      "normTrue_lgTrue_ng16_pc40_tsNone_hvg_True_scale_True_leid lgTrue_ng16_pc40_tsNone_hvg_True_scale_True\n",
      "287\n",
      "(9634, 59)\n"
     ]
    },
    {
     "name": "stderr",
     "output_type": "stream",
     "text": [
      "/home/chrism/miniconda3/envs/xb/lib/python3.7/site-packages/scanpy/preprocessing/_simple.py:352: RuntimeWarning: divide by zero encountered in log1p\n",
      "  np.log1p(X, out=X)\n",
      "/home/chrism/miniconda3/envs/xb/lib/python3.7/site-packages/scanpy/preprocessing/_simple.py:352: RuntimeWarning: invalid value encountered in log1p\n",
      "  np.log1p(X, out=X)\n",
      "/home/chrism/miniconda3/envs/xb/lib/python3.7/site-packages/scanpy/preprocessing/_simple.py:843: UserWarning: Received a view of an AnnData. Making a copy.\n",
      "  view_to_actual(adata)\n",
      "/home/chrism/miniconda3/envs/xb/lib/python3.7/site-packages/scanpy/preprocessing/_simple.py:843: FutureWarning: X.dtype being converted to np.float32 from float64. In the next version of anndata (0.9) conversion will not be automatic. Pass dtype explicitly to avoid this warning. Pass `AnnData(X, dtype=X.dtype, ...)` to get the future behavour.\n",
      "  view_to_actual(adata)\n",
      "/home/chrism/miniconda3/envs/xb/lib/python3.7/site-packages/scanpy/preprocessing/_utils.py:12: RuntimeWarning: invalid value encountered in subtract\n",
      "  var = mean_sq - mean**2\n",
      "/home/chrism/miniconda3/envs/xb/lib/python3.7/site-packages/scanpy/preprocessing/_simple.py:792: RuntimeWarning: invalid value encountered in subtract\n",
      "  X -= mean\n"
     ]
    },
    {
     "name": "stdout",
     "output_type": "stream",
     "text": [
      "288\n",
      "TrueTrueTrue[10, 100, 1000, None]\n",
      "(9634, 166)\n"
     ]
    },
    {
     "name": "stderr",
     "output_type": "stream",
     "text": [
      "/home/chrism/miniconda3/envs/xb/lib/python3.7/site-packages/scanpy/experimental/pp/_normalization.py:45: UserWarning: `normalize_pearson_residuals()` expects raw count data, but non-integers were found.\n",
      "  UserWarning,\n"
     ]
    },
    {
     "name": "stdout",
     "output_type": "stream",
     "text": [
      "289\n",
      "(9634, 166)\n",
      "290\n",
      "(9634, 166)\n",
      "291\n",
      "FalseFalseFalse[10, 100, 1000, None]\n",
      "292\n",
      "(9634, 39)\n"
     ]
    },
    {
     "name": "stderr",
     "output_type": "stream",
     "text": [
      "/home/chrism/git/Xenium_benchmarking/xb/simulating.py:314: ImplicitModificationWarning: Trying to modify attribute `.X` of view, initializing view as actual.\n",
      "  adata.X[adata.X==-np.inf]=0\n"
     ]
    },
    {
     "name": "stdout",
     "output_type": "stream",
     "text": [
      "293\n",
      "normFalse_lgFalse_ng12_pc0_ts10_hvg_True_scale_False_leid lgFalse_ng12_pc0_ts10_hvg_True_scale_False\n",
      "294\n",
      "FalseFalseTrue[10, 100, 1000, None]\n",
      "295\n",
      "(9634, 166)\n"
     ]
    },
    {
     "name": "stderr",
     "output_type": "stream",
     "text": [
      "/home/chrism/miniconda3/envs/xb/lib/python3.7/site-packages/scanpy/preprocessing/_highly_variable_genes.py:200: RuntimeWarning: overflow encountered in expm1\n",
      "  X = np.expm1(X)\n",
      "/home/chrism/miniconda3/envs/xb/lib/python3.7/site-packages/scanpy/preprocessing/_utils.py:11: RuntimeWarning: overflow encountered in multiply\n",
      "  mean_sq = np.multiply(X, X).mean(axis=axis, dtype=np.float64)\n",
      "/home/chrism/miniconda3/envs/xb/lib/python3.7/site-packages/scanpy/preprocessing/_utils.py:12: RuntimeWarning: overflow encountered in square\n",
      "  var = mean_sq - mean**2\n",
      "/home/chrism/miniconda3/envs/xb/lib/python3.7/site-packages/scanpy/preprocessing/_utils.py:12: RuntimeWarning: invalid value encountered in subtract\n",
      "  var = mean_sq - mean**2\n"
     ]
    },
    {
     "name": "stdout",
     "output_type": "stream",
     "text": [
      "296\n",
      "(9634, 166)\n",
      "297\n",
      "FalseTrueFalse[10, 100, 1000, None]\n",
      "298\n",
      "(9634, 39)\n"
     ]
    },
    {
     "name": "stderr",
     "output_type": "stream",
     "text": [
      "/home/chrism/miniconda3/envs/xb/lib/python3.7/site-packages/scanpy/preprocessing/_simple.py:843: UserWarning: Received a view of an AnnData. Making a copy.\n",
      "  view_to_actual(adata)\n"
     ]
    },
    {
     "name": "stdout",
     "output_type": "stream",
     "text": [
      "299\n",
      "normFalse_lgFalse_ng12_pc0_ts10_hvg_True_scale_True_leid lgFalse_ng12_pc0_ts10_hvg_True_scale_True\n",
      "300\n",
      "FalseTrueTrue[10, 100, 1000, None]\n",
      "301\n",
      "(9634, 166)\n"
     ]
    },
    {
     "name": "stderr",
     "output_type": "stream",
     "text": [
      "/home/chrism/miniconda3/envs/xb/lib/python3.7/site-packages/scanpy/preprocessing/_highly_variable_genes.py:200: RuntimeWarning: overflow encountered in expm1\n",
      "  X = np.expm1(X)\n",
      "/home/chrism/miniconda3/envs/xb/lib/python3.7/site-packages/scanpy/preprocessing/_utils.py:11: RuntimeWarning: overflow encountered in multiply\n",
      "  mean_sq = np.multiply(X, X).mean(axis=axis, dtype=np.float64)\n",
      "/home/chrism/miniconda3/envs/xb/lib/python3.7/site-packages/scanpy/preprocessing/_utils.py:12: RuntimeWarning: overflow encountered in square\n",
      "  var = mean_sq - mean**2\n",
      "/home/chrism/miniconda3/envs/xb/lib/python3.7/site-packages/scanpy/preprocessing/_utils.py:12: RuntimeWarning: invalid value encountered in subtract\n",
      "  var = mean_sq - mean**2\n"
     ]
    },
    {
     "name": "stdout",
     "output_type": "stream",
     "text": [
      "302\n",
      "(9634, 166)\n",
      "303\n",
      "FalseFalseFalse[10, 100, 1000, None]\n",
      "304\n",
      "(9634, 39)\n"
     ]
    },
    {
     "name": "stderr",
     "output_type": "stream",
     "text": [
      "/home/chrism/git/Xenium_benchmarking/xb/simulating.py:314: ImplicitModificationWarning: Trying to modify attribute `.X` of view, initializing view as actual.\n",
      "  adata.X[adata.X==-np.inf]=0\n"
     ]
    },
    {
     "name": "stdout",
     "output_type": "stream",
     "text": [
      "305\n",
      "normFalse_lgFalse_ng12_pc20_ts10_hvg_True_scale_False_leid lgFalse_ng12_pc20_ts10_hvg_True_scale_False\n",
      "306\n",
      "FalseFalseTrue[10, 100, 1000, None]\n",
      "307\n",
      "(9634, 166)\n"
     ]
    },
    {
     "name": "stderr",
     "output_type": "stream",
     "text": [
      "/home/chrism/miniconda3/envs/xb/lib/python3.7/site-packages/scanpy/preprocessing/_highly_variable_genes.py:200: RuntimeWarning: overflow encountered in expm1\n",
      "  X = np.expm1(X)\n",
      "/home/chrism/miniconda3/envs/xb/lib/python3.7/site-packages/scanpy/preprocessing/_utils.py:11: RuntimeWarning: overflow encountered in multiply\n",
      "  mean_sq = np.multiply(X, X).mean(axis=axis, dtype=np.float64)\n",
      "/home/chrism/miniconda3/envs/xb/lib/python3.7/site-packages/scanpy/preprocessing/_utils.py:12: RuntimeWarning: overflow encountered in square\n",
      "  var = mean_sq - mean**2\n",
      "/home/chrism/miniconda3/envs/xb/lib/python3.7/site-packages/scanpy/preprocessing/_utils.py:12: RuntimeWarning: invalid value encountered in subtract\n",
      "  var = mean_sq - mean**2\n"
     ]
    },
    {
     "name": "stdout",
     "output_type": "stream",
     "text": [
      "308\n",
      "(9634, 166)\n",
      "309\n",
      "FalseTrueFalse[10, 100, 1000, None]\n",
      "310\n",
      "(9634, 39)\n"
     ]
    },
    {
     "name": "stderr",
     "output_type": "stream",
     "text": [
      "/home/chrism/miniconda3/envs/xb/lib/python3.7/site-packages/scanpy/preprocessing/_simple.py:843: UserWarning: Received a view of an AnnData. Making a copy.\n",
      "  view_to_actual(adata)\n"
     ]
    },
    {
     "name": "stdout",
     "output_type": "stream",
     "text": [
      "311\n",
      "normFalse_lgFalse_ng12_pc20_ts10_hvg_True_scale_True_leid lgFalse_ng12_pc20_ts10_hvg_True_scale_True\n",
      "312\n",
      "FalseTrueTrue[10, 100, 1000, None]\n",
      "313\n",
      "(9634, 166)\n"
     ]
    },
    {
     "name": "stderr",
     "output_type": "stream",
     "text": [
      "/home/chrism/miniconda3/envs/xb/lib/python3.7/site-packages/scanpy/preprocessing/_highly_variable_genes.py:200: RuntimeWarning: overflow encountered in expm1\n",
      "  X = np.expm1(X)\n",
      "/home/chrism/miniconda3/envs/xb/lib/python3.7/site-packages/scanpy/preprocessing/_utils.py:11: RuntimeWarning: overflow encountered in multiply\n",
      "  mean_sq = np.multiply(X, X).mean(axis=axis, dtype=np.float64)\n",
      "/home/chrism/miniconda3/envs/xb/lib/python3.7/site-packages/scanpy/preprocessing/_utils.py:12: RuntimeWarning: overflow encountered in square\n",
      "  var = mean_sq - mean**2\n",
      "/home/chrism/miniconda3/envs/xb/lib/python3.7/site-packages/scanpy/preprocessing/_utils.py:12: RuntimeWarning: invalid value encountered in subtract\n",
      "  var = mean_sq - mean**2\n"
     ]
    },
    {
     "name": "stdout",
     "output_type": "stream",
     "text": [
      "314\n",
      "(9634, 166)\n",
      "315\n",
      "FalseFalseFalse[10, 100, 1000, None]\n",
      "316\n",
      "(9634, 39)\n"
     ]
    },
    {
     "name": "stderr",
     "output_type": "stream",
     "text": [
      "/home/chrism/git/Xenium_benchmarking/xb/simulating.py:314: ImplicitModificationWarning: Trying to modify attribute `.X` of view, initializing view as actual.\n",
      "  adata.X[adata.X==-np.inf]=0\n"
     ]
    },
    {
     "name": "stdout",
     "output_type": "stream",
     "text": [
      "317\n",
      "normFalse_lgFalse_ng12_pc40_ts10_hvg_True_scale_False_leid lgFalse_ng12_pc40_ts10_hvg_True_scale_False\n",
      "318\n",
      "FalseFalseTrue[10, 100, 1000, None]\n",
      "319\n",
      "(9634, 166)\n"
     ]
    },
    {
     "name": "stderr",
     "output_type": "stream",
     "text": [
      "/home/chrism/miniconda3/envs/xb/lib/python3.7/site-packages/scanpy/preprocessing/_highly_variable_genes.py:200: RuntimeWarning: overflow encountered in expm1\n",
      "  X = np.expm1(X)\n",
      "/home/chrism/miniconda3/envs/xb/lib/python3.7/site-packages/scanpy/preprocessing/_utils.py:11: RuntimeWarning: overflow encountered in multiply\n",
      "  mean_sq = np.multiply(X, X).mean(axis=axis, dtype=np.float64)\n",
      "/home/chrism/miniconda3/envs/xb/lib/python3.7/site-packages/scanpy/preprocessing/_utils.py:12: RuntimeWarning: overflow encountered in square\n",
      "  var = mean_sq - mean**2\n",
      "/home/chrism/miniconda3/envs/xb/lib/python3.7/site-packages/scanpy/preprocessing/_utils.py:12: RuntimeWarning: invalid value encountered in subtract\n",
      "  var = mean_sq - mean**2\n"
     ]
    },
    {
     "name": "stdout",
     "output_type": "stream",
     "text": [
      "320\n",
      "(9634, 166)\n",
      "321\n",
      "FalseTrueFalse[10, 100, 1000, None]\n",
      "322\n",
      "(9634, 39)\n"
     ]
    },
    {
     "name": "stderr",
     "output_type": "stream",
     "text": [
      "/home/chrism/miniconda3/envs/xb/lib/python3.7/site-packages/scanpy/preprocessing/_simple.py:843: UserWarning: Received a view of an AnnData. Making a copy.\n",
      "  view_to_actual(adata)\n"
     ]
    },
    {
     "name": "stdout",
     "output_type": "stream",
     "text": [
      "323\n",
      "normFalse_lgFalse_ng12_pc40_ts10_hvg_True_scale_True_leid lgFalse_ng12_pc40_ts10_hvg_True_scale_True\n",
      "324\n",
      "FalseTrueTrue[10, 100, 1000, None]\n",
      "325\n",
      "(9634, 166)\n"
     ]
    },
    {
     "name": "stderr",
     "output_type": "stream",
     "text": [
      "/home/chrism/miniconda3/envs/xb/lib/python3.7/site-packages/scanpy/preprocessing/_highly_variable_genes.py:200: RuntimeWarning: overflow encountered in expm1\n",
      "  X = np.expm1(X)\n",
      "/home/chrism/miniconda3/envs/xb/lib/python3.7/site-packages/scanpy/preprocessing/_utils.py:11: RuntimeWarning: overflow encountered in multiply\n",
      "  mean_sq = np.multiply(X, X).mean(axis=axis, dtype=np.float64)\n",
      "/home/chrism/miniconda3/envs/xb/lib/python3.7/site-packages/scanpy/preprocessing/_utils.py:12: RuntimeWarning: overflow encountered in square\n",
      "  var = mean_sq - mean**2\n",
      "/home/chrism/miniconda3/envs/xb/lib/python3.7/site-packages/scanpy/preprocessing/_utils.py:12: RuntimeWarning: invalid value encountered in subtract\n",
      "  var = mean_sq - mean**2\n"
     ]
    },
    {
     "name": "stdout",
     "output_type": "stream",
     "text": [
      "326\n",
      "(9634, 166)\n",
      "327\n",
      "FalseFalseFalse[10, 100, 1000, None]\n",
      "328\n",
      "(9634, 39)\n"
     ]
    },
    {
     "name": "stderr",
     "output_type": "stream",
     "text": [
      "/home/chrism/git/Xenium_benchmarking/xb/simulating.py:314: ImplicitModificationWarning: Trying to modify attribute `.X` of view, initializing view as actual.\n",
      "  adata.X[adata.X==-np.inf]=0\n"
     ]
    },
    {
     "name": "stdout",
     "output_type": "stream",
     "text": [
      "329\n",
      "normFalse_lgFalse_ng16_pc0_ts10_hvg_True_scale_False_leid lgFalse_ng16_pc0_ts10_hvg_True_scale_False\n",
      "330\n",
      "FalseFalseTrue[10, 100, 1000, None]\n",
      "331\n",
      "(9634, 166)\n"
     ]
    },
    {
     "name": "stderr",
     "output_type": "stream",
     "text": [
      "/home/chrism/miniconda3/envs/xb/lib/python3.7/site-packages/scanpy/preprocessing/_highly_variable_genes.py:200: RuntimeWarning: overflow encountered in expm1\n",
      "  X = np.expm1(X)\n",
      "/home/chrism/miniconda3/envs/xb/lib/python3.7/site-packages/scanpy/preprocessing/_utils.py:11: RuntimeWarning: overflow encountered in multiply\n",
      "  mean_sq = np.multiply(X, X).mean(axis=axis, dtype=np.float64)\n",
      "/home/chrism/miniconda3/envs/xb/lib/python3.7/site-packages/scanpy/preprocessing/_utils.py:12: RuntimeWarning: overflow encountered in square\n",
      "  var = mean_sq - mean**2\n",
      "/home/chrism/miniconda3/envs/xb/lib/python3.7/site-packages/scanpy/preprocessing/_utils.py:12: RuntimeWarning: invalid value encountered in subtract\n",
      "  var = mean_sq - mean**2\n"
     ]
    },
    {
     "name": "stdout",
     "output_type": "stream",
     "text": [
      "332\n",
      "(9634, 166)\n",
      "333\n",
      "FalseTrueFalse[10, 100, 1000, None]\n",
      "334\n",
      "(9634, 39)\n"
     ]
    },
    {
     "name": "stderr",
     "output_type": "stream",
     "text": [
      "/home/chrism/miniconda3/envs/xb/lib/python3.7/site-packages/scanpy/preprocessing/_simple.py:843: UserWarning: Received a view of an AnnData. Making a copy.\n",
      "  view_to_actual(adata)\n"
     ]
    },
    {
     "name": "stdout",
     "output_type": "stream",
     "text": [
      "335\n",
      "normFalse_lgFalse_ng16_pc0_ts10_hvg_True_scale_True_leid lgFalse_ng16_pc0_ts10_hvg_True_scale_True\n",
      "336\n",
      "FalseTrueTrue[10, 100, 1000, None]\n",
      "337\n",
      "(9634, 166)\n"
     ]
    },
    {
     "name": "stderr",
     "output_type": "stream",
     "text": [
      "/home/chrism/miniconda3/envs/xb/lib/python3.7/site-packages/scanpy/preprocessing/_highly_variable_genes.py:200: RuntimeWarning: overflow encountered in expm1\n",
      "  X = np.expm1(X)\n",
      "/home/chrism/miniconda3/envs/xb/lib/python3.7/site-packages/scanpy/preprocessing/_utils.py:11: RuntimeWarning: overflow encountered in multiply\n",
      "  mean_sq = np.multiply(X, X).mean(axis=axis, dtype=np.float64)\n",
      "/home/chrism/miniconda3/envs/xb/lib/python3.7/site-packages/scanpy/preprocessing/_utils.py:12: RuntimeWarning: overflow encountered in square\n",
      "  var = mean_sq - mean**2\n",
      "/home/chrism/miniconda3/envs/xb/lib/python3.7/site-packages/scanpy/preprocessing/_utils.py:12: RuntimeWarning: invalid value encountered in subtract\n",
      "  var = mean_sq - mean**2\n"
     ]
    },
    {
     "name": "stdout",
     "output_type": "stream",
     "text": [
      "338\n",
      "(9634, 166)\n",
      "339\n",
      "FalseFalseFalse[10, 100, 1000, None]\n",
      "340\n",
      "(9634, 39)\n"
     ]
    },
    {
     "name": "stderr",
     "output_type": "stream",
     "text": [
      "/home/chrism/git/Xenium_benchmarking/xb/simulating.py:314: ImplicitModificationWarning: Trying to modify attribute `.X` of view, initializing view as actual.\n",
      "  adata.X[adata.X==-np.inf]=0\n"
     ]
    },
    {
     "name": "stdout",
     "output_type": "stream",
     "text": [
      "341\n",
      "normFalse_lgFalse_ng16_pc20_ts10_hvg_True_scale_False_leid lgFalse_ng16_pc20_ts10_hvg_True_scale_False\n",
      "342\n",
      "FalseFalseTrue[10, 100, 1000, None]\n",
      "343\n",
      "(9634, 166)\n"
     ]
    },
    {
     "name": "stderr",
     "output_type": "stream",
     "text": [
      "/home/chrism/miniconda3/envs/xb/lib/python3.7/site-packages/scanpy/preprocessing/_highly_variable_genes.py:200: RuntimeWarning: overflow encountered in expm1\n",
      "  X = np.expm1(X)\n",
      "/home/chrism/miniconda3/envs/xb/lib/python3.7/site-packages/scanpy/preprocessing/_utils.py:11: RuntimeWarning: overflow encountered in multiply\n",
      "  mean_sq = np.multiply(X, X).mean(axis=axis, dtype=np.float64)\n",
      "/home/chrism/miniconda3/envs/xb/lib/python3.7/site-packages/scanpy/preprocessing/_utils.py:12: RuntimeWarning: overflow encountered in square\n",
      "  var = mean_sq - mean**2\n",
      "/home/chrism/miniconda3/envs/xb/lib/python3.7/site-packages/scanpy/preprocessing/_utils.py:12: RuntimeWarning: invalid value encountered in subtract\n",
      "  var = mean_sq - mean**2\n"
     ]
    },
    {
     "name": "stdout",
     "output_type": "stream",
     "text": [
      "344\n",
      "(9634, 166)\n",
      "345\n",
      "FalseTrueFalse[10, 100, 1000, None]\n",
      "346\n",
      "(9634, 39)\n"
     ]
    },
    {
     "name": "stderr",
     "output_type": "stream",
     "text": [
      "/home/chrism/miniconda3/envs/xb/lib/python3.7/site-packages/scanpy/preprocessing/_simple.py:843: UserWarning: Received a view of an AnnData. Making a copy.\n",
      "  view_to_actual(adata)\n"
     ]
    },
    {
     "name": "stdout",
     "output_type": "stream",
     "text": [
      "347\n",
      "normFalse_lgFalse_ng16_pc20_ts10_hvg_True_scale_True_leid lgFalse_ng16_pc20_ts10_hvg_True_scale_True\n",
      "348\n",
      "FalseTrueTrue[10, 100, 1000, None]\n",
      "349\n",
      "(9634, 166)\n"
     ]
    },
    {
     "name": "stderr",
     "output_type": "stream",
     "text": [
      "/home/chrism/miniconda3/envs/xb/lib/python3.7/site-packages/scanpy/preprocessing/_highly_variable_genes.py:200: RuntimeWarning: overflow encountered in expm1\n",
      "  X = np.expm1(X)\n",
      "/home/chrism/miniconda3/envs/xb/lib/python3.7/site-packages/scanpy/preprocessing/_utils.py:11: RuntimeWarning: overflow encountered in multiply\n",
      "  mean_sq = np.multiply(X, X).mean(axis=axis, dtype=np.float64)\n",
      "/home/chrism/miniconda3/envs/xb/lib/python3.7/site-packages/scanpy/preprocessing/_utils.py:12: RuntimeWarning: overflow encountered in square\n",
      "  var = mean_sq - mean**2\n",
      "/home/chrism/miniconda3/envs/xb/lib/python3.7/site-packages/scanpy/preprocessing/_utils.py:12: RuntimeWarning: invalid value encountered in subtract\n",
      "  var = mean_sq - mean**2\n"
     ]
    },
    {
     "name": "stdout",
     "output_type": "stream",
     "text": [
      "350\n",
      "(9634, 166)\n",
      "351\n",
      "FalseFalseFalse[10, 100, 1000, None]\n",
      "352\n",
      "(9634, 39)\n"
     ]
    },
    {
     "name": "stderr",
     "output_type": "stream",
     "text": [
      "/home/chrism/git/Xenium_benchmarking/xb/simulating.py:314: ImplicitModificationWarning: Trying to modify attribute `.X` of view, initializing view as actual.\n",
      "  adata.X[adata.X==-np.inf]=0\n"
     ]
    },
    {
     "name": "stdout",
     "output_type": "stream",
     "text": [
      "353\n",
      "normFalse_lgFalse_ng16_pc40_ts10_hvg_True_scale_False_leid lgFalse_ng16_pc40_ts10_hvg_True_scale_False\n",
      "354\n",
      "FalseFalseTrue[10, 100, 1000, None]\n",
      "355\n",
      "(9634, 166)\n"
     ]
    },
    {
     "name": "stderr",
     "output_type": "stream",
     "text": [
      "/home/chrism/miniconda3/envs/xb/lib/python3.7/site-packages/scanpy/preprocessing/_highly_variable_genes.py:200: RuntimeWarning: overflow encountered in expm1\n",
      "  X = np.expm1(X)\n",
      "/home/chrism/miniconda3/envs/xb/lib/python3.7/site-packages/scanpy/preprocessing/_utils.py:11: RuntimeWarning: overflow encountered in multiply\n",
      "  mean_sq = np.multiply(X, X).mean(axis=axis, dtype=np.float64)\n",
      "/home/chrism/miniconda3/envs/xb/lib/python3.7/site-packages/scanpy/preprocessing/_utils.py:12: RuntimeWarning: overflow encountered in square\n",
      "  var = mean_sq - mean**2\n",
      "/home/chrism/miniconda3/envs/xb/lib/python3.7/site-packages/scanpy/preprocessing/_utils.py:12: RuntimeWarning: invalid value encountered in subtract\n",
      "  var = mean_sq - mean**2\n"
     ]
    },
    {
     "name": "stdout",
     "output_type": "stream",
     "text": [
      "356\n",
      "(9634, 166)\n",
      "357\n",
      "FalseTrueFalse[10, 100, 1000, None]\n",
      "358\n",
      "(9634, 39)\n"
     ]
    },
    {
     "name": "stderr",
     "output_type": "stream",
     "text": [
      "/home/chrism/miniconda3/envs/xb/lib/python3.7/site-packages/scanpy/preprocessing/_simple.py:843: UserWarning: Received a view of an AnnData. Making a copy.\n",
      "  view_to_actual(adata)\n"
     ]
    },
    {
     "name": "stdout",
     "output_type": "stream",
     "text": [
      "359\n",
      "normFalse_lgFalse_ng16_pc40_ts10_hvg_True_scale_True_leid lgFalse_ng16_pc40_ts10_hvg_True_scale_True\n",
      "360\n",
      "FalseTrueTrue[10, 100, 1000, None]\n",
      "361\n",
      "(9634, 166)\n"
     ]
    },
    {
     "name": "stderr",
     "output_type": "stream",
     "text": [
      "/home/chrism/miniconda3/envs/xb/lib/python3.7/site-packages/scanpy/preprocessing/_highly_variable_genes.py:200: RuntimeWarning: overflow encountered in expm1\n",
      "  X = np.expm1(X)\n",
      "/home/chrism/miniconda3/envs/xb/lib/python3.7/site-packages/scanpy/preprocessing/_utils.py:11: RuntimeWarning: overflow encountered in multiply\n",
      "  mean_sq = np.multiply(X, X).mean(axis=axis, dtype=np.float64)\n",
      "/home/chrism/miniconda3/envs/xb/lib/python3.7/site-packages/scanpy/preprocessing/_utils.py:12: RuntimeWarning: overflow encountered in square\n",
      "  var = mean_sq - mean**2\n",
      "/home/chrism/miniconda3/envs/xb/lib/python3.7/site-packages/scanpy/preprocessing/_utils.py:12: RuntimeWarning: invalid value encountered in subtract\n",
      "  var = mean_sq - mean**2\n"
     ]
    },
    {
     "name": "stdout",
     "output_type": "stream",
     "text": [
      "362\n",
      "(9634, 166)\n",
      "363\n",
      "FalseFalseFalse[10, 100, 1000, None]\n",
      "364\n",
      "(9634, 61)\n"
     ]
    },
    {
     "name": "stderr",
     "output_type": "stream",
     "text": [
      "/home/chrism/miniconda3/envs/xb/lib/python3.7/site-packages/scanpy/preprocessing/_utils.py:11: RuntimeWarning: overflow encountered in multiply\n",
      "  mean_sq = np.multiply(X, X).mean(axis=axis, dtype=np.float64)\n",
      "/home/chrism/miniconda3/envs/xb/lib/python3.7/site-packages/scanpy/preprocessing/_highly_variable_genes.py:240: RuntimeWarning: invalid value encountered in true_divide\n",
      "  ) / disp_std_bin[df['mean_bin'].values].values\n",
      "/home/chrism/git/Xenium_benchmarking/xb/simulating.py:314: ImplicitModificationWarning: Trying to modify attribute `.X` of view, initializing view as actual.\n",
      "  adata.X[adata.X==-np.inf]=0\n"
     ]
    },
    {
     "name": "stdout",
     "output_type": "stream",
     "text": [
      "365\n",
      "normFalse_lgFalse_ng12_pc0_ts100_hvg_True_scale_False_leid lgFalse_ng12_pc0_ts100_hvg_True_scale_False\n",
      "366\n",
      "FalseFalseTrue[10, 100, 1000, None]\n",
      "367\n",
      "(9634, 166)\n"
     ]
    },
    {
     "name": "stderr",
     "output_type": "stream",
     "text": [
      "/home/chrism/miniconda3/envs/xb/lib/python3.7/site-packages/scanpy/preprocessing/_highly_variable_genes.py:200: RuntimeWarning: overflow encountered in expm1\n",
      "  X = np.expm1(X)\n",
      "/home/chrism/miniconda3/envs/xb/lib/python3.7/site-packages/scanpy/preprocessing/_utils.py:11: RuntimeWarning: overflow encountered in multiply\n",
      "  mean_sq = np.multiply(X, X).mean(axis=axis, dtype=np.float64)\n",
      "/home/chrism/miniconda3/envs/xb/lib/python3.7/site-packages/scanpy/preprocessing/_utils.py:12: RuntimeWarning: overflow encountered in square\n",
      "  var = mean_sq - mean**2\n",
      "/home/chrism/miniconda3/envs/xb/lib/python3.7/site-packages/scanpy/preprocessing/_utils.py:12: RuntimeWarning: invalid value encountered in subtract\n",
      "  var = mean_sq - mean**2\n"
     ]
    },
    {
     "name": "stdout",
     "output_type": "stream",
     "text": [
      "368\n",
      "(9634, 166)\n",
      "369\n",
      "FalseTrueFalse[10, 100, 1000, None]\n",
      "370\n",
      "(9634, 61)\n"
     ]
    },
    {
     "name": "stderr",
     "output_type": "stream",
     "text": [
      "/home/chrism/miniconda3/envs/xb/lib/python3.7/site-packages/scanpy/preprocessing/_utils.py:11: RuntimeWarning: overflow encountered in multiply\n",
      "  mean_sq = np.multiply(X, X).mean(axis=axis, dtype=np.float64)\n",
      "/home/chrism/miniconda3/envs/xb/lib/python3.7/site-packages/scanpy/preprocessing/_highly_variable_genes.py:240: RuntimeWarning: invalid value encountered in true_divide\n",
      "  ) / disp_std_bin[df['mean_bin'].values].values\n",
      "/home/chrism/miniconda3/envs/xb/lib/python3.7/site-packages/scanpy/preprocessing/_simple.py:843: UserWarning: Received a view of an AnnData. Making a copy.\n",
      "  view_to_actual(adata)\n"
     ]
    },
    {
     "name": "stdout",
     "output_type": "stream",
     "text": [
      "371\n",
      "normFalse_lgFalse_ng12_pc0_ts100_hvg_True_scale_True_leid lgFalse_ng12_pc0_ts100_hvg_True_scale_True\n",
      "372\n",
      "FalseTrueTrue[10, 100, 1000, None]\n",
      "373\n",
      "(9634, 166)\n"
     ]
    },
    {
     "name": "stderr",
     "output_type": "stream",
     "text": [
      "/home/chrism/miniconda3/envs/xb/lib/python3.7/site-packages/scanpy/preprocessing/_highly_variable_genes.py:200: RuntimeWarning: overflow encountered in expm1\n",
      "  X = np.expm1(X)\n",
      "/home/chrism/miniconda3/envs/xb/lib/python3.7/site-packages/scanpy/preprocessing/_utils.py:11: RuntimeWarning: overflow encountered in multiply\n",
      "  mean_sq = np.multiply(X, X).mean(axis=axis, dtype=np.float64)\n",
      "/home/chrism/miniconda3/envs/xb/lib/python3.7/site-packages/scanpy/preprocessing/_utils.py:12: RuntimeWarning: overflow encountered in square\n",
      "  var = mean_sq - mean**2\n",
      "/home/chrism/miniconda3/envs/xb/lib/python3.7/site-packages/scanpy/preprocessing/_utils.py:12: RuntimeWarning: invalid value encountered in subtract\n",
      "  var = mean_sq - mean**2\n"
     ]
    },
    {
     "name": "stdout",
     "output_type": "stream",
     "text": [
      "374\n",
      "(9634, 166)\n",
      "375\n",
      "FalseFalseFalse[10, 100, 1000, None]\n",
      "376\n",
      "(9634, 61)\n"
     ]
    },
    {
     "name": "stderr",
     "output_type": "stream",
     "text": [
      "/home/chrism/miniconda3/envs/xb/lib/python3.7/site-packages/scanpy/preprocessing/_utils.py:11: RuntimeWarning: overflow encountered in multiply\n",
      "  mean_sq = np.multiply(X, X).mean(axis=axis, dtype=np.float64)\n",
      "/home/chrism/miniconda3/envs/xb/lib/python3.7/site-packages/scanpy/preprocessing/_highly_variable_genes.py:240: RuntimeWarning: invalid value encountered in true_divide\n",
      "  ) / disp_std_bin[df['mean_bin'].values].values\n",
      "/home/chrism/git/Xenium_benchmarking/xb/simulating.py:314: ImplicitModificationWarning: Trying to modify attribute `.X` of view, initializing view as actual.\n",
      "  adata.X[adata.X==-np.inf]=0\n"
     ]
    },
    {
     "name": "stdout",
     "output_type": "stream",
     "text": [
      "377\n",
      "normFalse_lgFalse_ng12_pc20_ts100_hvg_True_scale_False_leid lgFalse_ng12_pc20_ts100_hvg_True_scale_False\n",
      "378\n",
      "FalseFalseTrue[10, 100, 1000, None]\n",
      "379\n",
      "(9634, 166)\n"
     ]
    },
    {
     "name": "stderr",
     "output_type": "stream",
     "text": [
      "/home/chrism/miniconda3/envs/xb/lib/python3.7/site-packages/scanpy/preprocessing/_highly_variable_genes.py:200: RuntimeWarning: overflow encountered in expm1\n",
      "  X = np.expm1(X)\n",
      "/home/chrism/miniconda3/envs/xb/lib/python3.7/site-packages/scanpy/preprocessing/_utils.py:11: RuntimeWarning: overflow encountered in multiply\n",
      "  mean_sq = np.multiply(X, X).mean(axis=axis, dtype=np.float64)\n",
      "/home/chrism/miniconda3/envs/xb/lib/python3.7/site-packages/scanpy/preprocessing/_utils.py:12: RuntimeWarning: overflow encountered in square\n",
      "  var = mean_sq - mean**2\n",
      "/home/chrism/miniconda3/envs/xb/lib/python3.7/site-packages/scanpy/preprocessing/_utils.py:12: RuntimeWarning: invalid value encountered in subtract\n",
      "  var = mean_sq - mean**2\n"
     ]
    },
    {
     "name": "stdout",
     "output_type": "stream",
     "text": [
      "380\n",
      "(9634, 166)\n",
      "381\n",
      "FalseTrueFalse[10, 100, 1000, None]\n",
      "382\n",
      "(9634, 61)\n"
     ]
    },
    {
     "name": "stderr",
     "output_type": "stream",
     "text": [
      "/home/chrism/miniconda3/envs/xb/lib/python3.7/site-packages/scanpy/preprocessing/_utils.py:11: RuntimeWarning: overflow encountered in multiply\n",
      "  mean_sq = np.multiply(X, X).mean(axis=axis, dtype=np.float64)\n",
      "/home/chrism/miniconda3/envs/xb/lib/python3.7/site-packages/scanpy/preprocessing/_highly_variable_genes.py:240: RuntimeWarning: invalid value encountered in true_divide\n",
      "  ) / disp_std_bin[df['mean_bin'].values].values\n",
      "/home/chrism/miniconda3/envs/xb/lib/python3.7/site-packages/scanpy/preprocessing/_simple.py:843: UserWarning: Received a view of an AnnData. Making a copy.\n",
      "  view_to_actual(adata)\n"
     ]
    },
    {
     "name": "stdout",
     "output_type": "stream",
     "text": [
      "383\n",
      "normFalse_lgFalse_ng12_pc20_ts100_hvg_True_scale_True_leid lgFalse_ng12_pc20_ts100_hvg_True_scale_True\n",
      "384\n",
      "FalseTrueTrue[10, 100, 1000, None]\n",
      "385\n",
      "(9634, 166)\n"
     ]
    },
    {
     "name": "stderr",
     "output_type": "stream",
     "text": [
      "/home/chrism/miniconda3/envs/xb/lib/python3.7/site-packages/scanpy/preprocessing/_highly_variable_genes.py:200: RuntimeWarning: overflow encountered in expm1\n",
      "  X = np.expm1(X)\n",
      "/home/chrism/miniconda3/envs/xb/lib/python3.7/site-packages/scanpy/preprocessing/_utils.py:11: RuntimeWarning: overflow encountered in multiply\n",
      "  mean_sq = np.multiply(X, X).mean(axis=axis, dtype=np.float64)\n",
      "/home/chrism/miniconda3/envs/xb/lib/python3.7/site-packages/scanpy/preprocessing/_utils.py:12: RuntimeWarning: overflow encountered in square\n",
      "  var = mean_sq - mean**2\n",
      "/home/chrism/miniconda3/envs/xb/lib/python3.7/site-packages/scanpy/preprocessing/_utils.py:12: RuntimeWarning: invalid value encountered in subtract\n",
      "  var = mean_sq - mean**2\n"
     ]
    },
    {
     "name": "stdout",
     "output_type": "stream",
     "text": [
      "386\n",
      "(9634, 166)\n",
      "387\n",
      "FalseFalseFalse[10, 100, 1000, None]\n",
      "388\n",
      "(9634, 61)\n"
     ]
    },
    {
     "name": "stderr",
     "output_type": "stream",
     "text": [
      "/home/chrism/miniconda3/envs/xb/lib/python3.7/site-packages/scanpy/preprocessing/_utils.py:11: RuntimeWarning: overflow encountered in multiply\n",
      "  mean_sq = np.multiply(X, X).mean(axis=axis, dtype=np.float64)\n",
      "/home/chrism/miniconda3/envs/xb/lib/python3.7/site-packages/scanpy/preprocessing/_highly_variable_genes.py:240: RuntimeWarning: invalid value encountered in true_divide\n",
      "  ) / disp_std_bin[df['mean_bin'].values].values\n",
      "/home/chrism/git/Xenium_benchmarking/xb/simulating.py:314: ImplicitModificationWarning: Trying to modify attribute `.X` of view, initializing view as actual.\n",
      "  adata.X[adata.X==-np.inf]=0\n"
     ]
    },
    {
     "name": "stdout",
     "output_type": "stream",
     "text": [
      "389\n",
      "normFalse_lgFalse_ng12_pc40_ts100_hvg_True_scale_False_leid lgFalse_ng12_pc40_ts100_hvg_True_scale_False\n",
      "390\n",
      "FalseFalseTrue[10, 100, 1000, None]\n",
      "391\n",
      "(9634, 166)\n"
     ]
    },
    {
     "name": "stderr",
     "output_type": "stream",
     "text": [
      "/home/chrism/miniconda3/envs/xb/lib/python3.7/site-packages/scanpy/preprocessing/_highly_variable_genes.py:200: RuntimeWarning: overflow encountered in expm1\n",
      "  X = np.expm1(X)\n",
      "/home/chrism/miniconda3/envs/xb/lib/python3.7/site-packages/scanpy/preprocessing/_utils.py:11: RuntimeWarning: overflow encountered in multiply\n",
      "  mean_sq = np.multiply(X, X).mean(axis=axis, dtype=np.float64)\n",
      "/home/chrism/miniconda3/envs/xb/lib/python3.7/site-packages/scanpy/preprocessing/_utils.py:12: RuntimeWarning: overflow encountered in square\n",
      "  var = mean_sq - mean**2\n",
      "/home/chrism/miniconda3/envs/xb/lib/python3.7/site-packages/scanpy/preprocessing/_utils.py:12: RuntimeWarning: invalid value encountered in subtract\n",
      "  var = mean_sq - mean**2\n"
     ]
    },
    {
     "name": "stdout",
     "output_type": "stream",
     "text": [
      "392\n",
      "(9634, 166)\n",
      "393\n",
      "FalseTrueFalse[10, 100, 1000, None]\n",
      "394\n",
      "(9634, 61)\n"
     ]
    },
    {
     "name": "stderr",
     "output_type": "stream",
     "text": [
      "/home/chrism/miniconda3/envs/xb/lib/python3.7/site-packages/scanpy/preprocessing/_utils.py:11: RuntimeWarning: overflow encountered in multiply\n",
      "  mean_sq = np.multiply(X, X).mean(axis=axis, dtype=np.float64)\n",
      "/home/chrism/miniconda3/envs/xb/lib/python3.7/site-packages/scanpy/preprocessing/_highly_variable_genes.py:240: RuntimeWarning: invalid value encountered in true_divide\n",
      "  ) / disp_std_bin[df['mean_bin'].values].values\n",
      "/home/chrism/miniconda3/envs/xb/lib/python3.7/site-packages/scanpy/preprocessing/_simple.py:843: UserWarning: Received a view of an AnnData. Making a copy.\n",
      "  view_to_actual(adata)\n"
     ]
    },
    {
     "name": "stdout",
     "output_type": "stream",
     "text": [
      "395\n",
      "normFalse_lgFalse_ng12_pc40_ts100_hvg_True_scale_True_leid lgFalse_ng12_pc40_ts100_hvg_True_scale_True\n",
      "396\n",
      "FalseTrueTrue[10, 100, 1000, None]\n",
      "397\n",
      "(9634, 166)\n"
     ]
    },
    {
     "name": "stderr",
     "output_type": "stream",
     "text": [
      "/home/chrism/miniconda3/envs/xb/lib/python3.7/site-packages/scanpy/preprocessing/_highly_variable_genes.py:200: RuntimeWarning: overflow encountered in expm1\n",
      "  X = np.expm1(X)\n",
      "/home/chrism/miniconda3/envs/xb/lib/python3.7/site-packages/scanpy/preprocessing/_utils.py:11: RuntimeWarning: overflow encountered in multiply\n",
      "  mean_sq = np.multiply(X, X).mean(axis=axis, dtype=np.float64)\n",
      "/home/chrism/miniconda3/envs/xb/lib/python3.7/site-packages/scanpy/preprocessing/_utils.py:12: RuntimeWarning: overflow encountered in square\n",
      "  var = mean_sq - mean**2\n",
      "/home/chrism/miniconda3/envs/xb/lib/python3.7/site-packages/scanpy/preprocessing/_utils.py:12: RuntimeWarning: invalid value encountered in subtract\n",
      "  var = mean_sq - mean**2\n"
     ]
    },
    {
     "name": "stdout",
     "output_type": "stream",
     "text": [
      "398\n",
      "(9634, 166)\n",
      "399\n",
      "FalseFalseFalse[10, 100, 1000, None]\n",
      "400\n",
      "(9634, 61)\n"
     ]
    },
    {
     "name": "stderr",
     "output_type": "stream",
     "text": [
      "/home/chrism/miniconda3/envs/xb/lib/python3.7/site-packages/scanpy/preprocessing/_utils.py:11: RuntimeWarning: overflow encountered in multiply\n",
      "  mean_sq = np.multiply(X, X).mean(axis=axis, dtype=np.float64)\n",
      "/home/chrism/miniconda3/envs/xb/lib/python3.7/site-packages/scanpy/preprocessing/_highly_variable_genes.py:240: RuntimeWarning: invalid value encountered in true_divide\n",
      "  ) / disp_std_bin[df['mean_bin'].values].values\n",
      "/home/chrism/git/Xenium_benchmarking/xb/simulating.py:314: ImplicitModificationWarning: Trying to modify attribute `.X` of view, initializing view as actual.\n",
      "  adata.X[adata.X==-np.inf]=0\n"
     ]
    },
    {
     "name": "stdout",
     "output_type": "stream",
     "text": [
      "401\n",
      "normFalse_lgFalse_ng16_pc0_ts100_hvg_True_scale_False_leid lgFalse_ng16_pc0_ts100_hvg_True_scale_False\n",
      "402\n",
      "FalseFalseTrue[10, 100, 1000, None]\n",
      "403\n",
      "(9634, 166)\n"
     ]
    },
    {
     "name": "stderr",
     "output_type": "stream",
     "text": [
      "/home/chrism/miniconda3/envs/xb/lib/python3.7/site-packages/scanpy/preprocessing/_highly_variable_genes.py:200: RuntimeWarning: overflow encountered in expm1\n",
      "  X = np.expm1(X)\n",
      "/home/chrism/miniconda3/envs/xb/lib/python3.7/site-packages/scanpy/preprocessing/_utils.py:11: RuntimeWarning: overflow encountered in multiply\n",
      "  mean_sq = np.multiply(X, X).mean(axis=axis, dtype=np.float64)\n",
      "/home/chrism/miniconda3/envs/xb/lib/python3.7/site-packages/scanpy/preprocessing/_utils.py:12: RuntimeWarning: overflow encountered in square\n",
      "  var = mean_sq - mean**2\n",
      "/home/chrism/miniconda3/envs/xb/lib/python3.7/site-packages/scanpy/preprocessing/_utils.py:12: RuntimeWarning: invalid value encountered in subtract\n",
      "  var = mean_sq - mean**2\n"
     ]
    },
    {
     "name": "stdout",
     "output_type": "stream",
     "text": [
      "404\n",
      "(9634, 166)\n",
      "405\n",
      "FalseTrueFalse[10, 100, 1000, None]\n",
      "406\n",
      "(9634, 61)\n"
     ]
    },
    {
     "name": "stderr",
     "output_type": "stream",
     "text": [
      "/home/chrism/miniconda3/envs/xb/lib/python3.7/site-packages/scanpy/preprocessing/_utils.py:11: RuntimeWarning: overflow encountered in multiply\n",
      "  mean_sq = np.multiply(X, X).mean(axis=axis, dtype=np.float64)\n",
      "/home/chrism/miniconda3/envs/xb/lib/python3.7/site-packages/scanpy/preprocessing/_highly_variable_genes.py:240: RuntimeWarning: invalid value encountered in true_divide\n",
      "  ) / disp_std_bin[df['mean_bin'].values].values\n",
      "/home/chrism/miniconda3/envs/xb/lib/python3.7/site-packages/scanpy/preprocessing/_simple.py:843: UserWarning: Received a view of an AnnData. Making a copy.\n",
      "  view_to_actual(adata)\n"
     ]
    },
    {
     "name": "stdout",
     "output_type": "stream",
     "text": [
      "407\n",
      "normFalse_lgFalse_ng16_pc0_ts100_hvg_True_scale_True_leid lgFalse_ng16_pc0_ts100_hvg_True_scale_True\n",
      "408\n",
      "FalseTrueTrue[10, 100, 1000, None]\n",
      "409\n",
      "(9634, 166)\n"
     ]
    },
    {
     "name": "stderr",
     "output_type": "stream",
     "text": [
      "/home/chrism/miniconda3/envs/xb/lib/python3.7/site-packages/scanpy/preprocessing/_highly_variable_genes.py:200: RuntimeWarning: overflow encountered in expm1\n",
      "  X = np.expm1(X)\n",
      "/home/chrism/miniconda3/envs/xb/lib/python3.7/site-packages/scanpy/preprocessing/_utils.py:11: RuntimeWarning: overflow encountered in multiply\n",
      "  mean_sq = np.multiply(X, X).mean(axis=axis, dtype=np.float64)\n",
      "/home/chrism/miniconda3/envs/xb/lib/python3.7/site-packages/scanpy/preprocessing/_utils.py:12: RuntimeWarning: overflow encountered in square\n",
      "  var = mean_sq - mean**2\n",
      "/home/chrism/miniconda3/envs/xb/lib/python3.7/site-packages/scanpy/preprocessing/_utils.py:12: RuntimeWarning: invalid value encountered in subtract\n",
      "  var = mean_sq - mean**2\n"
     ]
    },
    {
     "name": "stdout",
     "output_type": "stream",
     "text": [
      "410\n",
      "(9634, 166)\n",
      "411\n",
      "FalseFalseFalse[10, 100, 1000, None]\n",
      "412\n",
      "(9634, 61)\n"
     ]
    },
    {
     "name": "stderr",
     "output_type": "stream",
     "text": [
      "/home/chrism/miniconda3/envs/xb/lib/python3.7/site-packages/scanpy/preprocessing/_utils.py:11: RuntimeWarning: overflow encountered in multiply\n",
      "  mean_sq = np.multiply(X, X).mean(axis=axis, dtype=np.float64)\n",
      "/home/chrism/miniconda3/envs/xb/lib/python3.7/site-packages/scanpy/preprocessing/_highly_variable_genes.py:240: RuntimeWarning: invalid value encountered in true_divide\n",
      "  ) / disp_std_bin[df['mean_bin'].values].values\n",
      "/home/chrism/git/Xenium_benchmarking/xb/simulating.py:314: ImplicitModificationWarning: Trying to modify attribute `.X` of view, initializing view as actual.\n",
      "  adata.X[adata.X==-np.inf]=0\n"
     ]
    },
    {
     "name": "stdout",
     "output_type": "stream",
     "text": [
      "413\n",
      "normFalse_lgFalse_ng16_pc20_ts100_hvg_True_scale_False_leid lgFalse_ng16_pc20_ts100_hvg_True_scale_False\n",
      "414\n",
      "FalseFalseTrue[10, 100, 1000, None]\n",
      "415\n",
      "(9634, 166)\n"
     ]
    },
    {
     "name": "stderr",
     "output_type": "stream",
     "text": [
      "/home/chrism/miniconda3/envs/xb/lib/python3.7/site-packages/scanpy/preprocessing/_highly_variable_genes.py:200: RuntimeWarning: overflow encountered in expm1\n",
      "  X = np.expm1(X)\n",
      "/home/chrism/miniconda3/envs/xb/lib/python3.7/site-packages/scanpy/preprocessing/_utils.py:11: RuntimeWarning: overflow encountered in multiply\n",
      "  mean_sq = np.multiply(X, X).mean(axis=axis, dtype=np.float64)\n",
      "/home/chrism/miniconda3/envs/xb/lib/python3.7/site-packages/scanpy/preprocessing/_utils.py:12: RuntimeWarning: overflow encountered in square\n",
      "  var = mean_sq - mean**2\n",
      "/home/chrism/miniconda3/envs/xb/lib/python3.7/site-packages/scanpy/preprocessing/_utils.py:12: RuntimeWarning: invalid value encountered in subtract\n",
      "  var = mean_sq - mean**2\n"
     ]
    },
    {
     "name": "stdout",
     "output_type": "stream",
     "text": [
      "416\n",
      "(9634, 166)\n",
      "417\n",
      "FalseTrueFalse[10, 100, 1000, None]\n",
      "418\n",
      "(9634, 61)\n"
     ]
    },
    {
     "name": "stderr",
     "output_type": "stream",
     "text": [
      "/home/chrism/miniconda3/envs/xb/lib/python3.7/site-packages/scanpy/preprocessing/_utils.py:11: RuntimeWarning: overflow encountered in multiply\n",
      "  mean_sq = np.multiply(X, X).mean(axis=axis, dtype=np.float64)\n",
      "/home/chrism/miniconda3/envs/xb/lib/python3.7/site-packages/scanpy/preprocessing/_highly_variable_genes.py:240: RuntimeWarning: invalid value encountered in true_divide\n",
      "  ) / disp_std_bin[df['mean_bin'].values].values\n",
      "/home/chrism/miniconda3/envs/xb/lib/python3.7/site-packages/scanpy/preprocessing/_simple.py:843: UserWarning: Received a view of an AnnData. Making a copy.\n",
      "  view_to_actual(adata)\n"
     ]
    },
    {
     "name": "stdout",
     "output_type": "stream",
     "text": [
      "419\n",
      "normFalse_lgFalse_ng16_pc20_ts100_hvg_True_scale_True_leid lgFalse_ng16_pc20_ts100_hvg_True_scale_True\n",
      "420\n",
      "FalseTrueTrue[10, 100, 1000, None]\n",
      "421\n",
      "(9634, 166)\n"
     ]
    },
    {
     "name": "stderr",
     "output_type": "stream",
     "text": [
      "/home/chrism/miniconda3/envs/xb/lib/python3.7/site-packages/scanpy/preprocessing/_highly_variable_genes.py:200: RuntimeWarning: overflow encountered in expm1\n",
      "  X = np.expm1(X)\n",
      "/home/chrism/miniconda3/envs/xb/lib/python3.7/site-packages/scanpy/preprocessing/_utils.py:11: RuntimeWarning: overflow encountered in multiply\n",
      "  mean_sq = np.multiply(X, X).mean(axis=axis, dtype=np.float64)\n",
      "/home/chrism/miniconda3/envs/xb/lib/python3.7/site-packages/scanpy/preprocessing/_utils.py:12: RuntimeWarning: overflow encountered in square\n",
      "  var = mean_sq - mean**2\n",
      "/home/chrism/miniconda3/envs/xb/lib/python3.7/site-packages/scanpy/preprocessing/_utils.py:12: RuntimeWarning: invalid value encountered in subtract\n",
      "  var = mean_sq - mean**2\n"
     ]
    },
    {
     "name": "stdout",
     "output_type": "stream",
     "text": [
      "422\n",
      "(9634, 166)\n",
      "423\n",
      "FalseFalseFalse[10, 100, 1000, None]\n",
      "424\n",
      "(9634, 61)\n"
     ]
    },
    {
     "name": "stderr",
     "output_type": "stream",
     "text": [
      "/home/chrism/miniconda3/envs/xb/lib/python3.7/site-packages/scanpy/preprocessing/_utils.py:11: RuntimeWarning: overflow encountered in multiply\n",
      "  mean_sq = np.multiply(X, X).mean(axis=axis, dtype=np.float64)\n",
      "/home/chrism/miniconda3/envs/xb/lib/python3.7/site-packages/scanpy/preprocessing/_highly_variable_genes.py:240: RuntimeWarning: invalid value encountered in true_divide\n",
      "  ) / disp_std_bin[df['mean_bin'].values].values\n",
      "/home/chrism/git/Xenium_benchmarking/xb/simulating.py:314: ImplicitModificationWarning: Trying to modify attribute `.X` of view, initializing view as actual.\n",
      "  adata.X[adata.X==-np.inf]=0\n"
     ]
    },
    {
     "name": "stdout",
     "output_type": "stream",
     "text": [
      "425\n",
      "normFalse_lgFalse_ng16_pc40_ts100_hvg_True_scale_False_leid lgFalse_ng16_pc40_ts100_hvg_True_scale_False\n",
      "426\n",
      "FalseFalseTrue[10, 100, 1000, None]\n",
      "427\n",
      "(9634, 166)\n"
     ]
    },
    {
     "name": "stderr",
     "output_type": "stream",
     "text": [
      "/home/chrism/miniconda3/envs/xb/lib/python3.7/site-packages/scanpy/preprocessing/_highly_variable_genes.py:200: RuntimeWarning: overflow encountered in expm1\n",
      "  X = np.expm1(X)\n",
      "/home/chrism/miniconda3/envs/xb/lib/python3.7/site-packages/scanpy/preprocessing/_utils.py:11: RuntimeWarning: overflow encountered in multiply\n",
      "  mean_sq = np.multiply(X, X).mean(axis=axis, dtype=np.float64)\n",
      "/home/chrism/miniconda3/envs/xb/lib/python3.7/site-packages/scanpy/preprocessing/_utils.py:12: RuntimeWarning: overflow encountered in square\n",
      "  var = mean_sq - mean**2\n",
      "/home/chrism/miniconda3/envs/xb/lib/python3.7/site-packages/scanpy/preprocessing/_utils.py:12: RuntimeWarning: invalid value encountered in subtract\n",
      "  var = mean_sq - mean**2\n"
     ]
    },
    {
     "name": "stdout",
     "output_type": "stream",
     "text": [
      "428\n",
      "(9634, 166)\n",
      "429\n",
      "FalseTrueFalse[10, 100, 1000, None]\n",
      "430\n",
      "(9634, 61)\n"
     ]
    },
    {
     "name": "stderr",
     "output_type": "stream",
     "text": [
      "/home/chrism/miniconda3/envs/xb/lib/python3.7/site-packages/scanpy/preprocessing/_utils.py:11: RuntimeWarning: overflow encountered in multiply\n",
      "  mean_sq = np.multiply(X, X).mean(axis=axis, dtype=np.float64)\n",
      "/home/chrism/miniconda3/envs/xb/lib/python3.7/site-packages/scanpy/preprocessing/_highly_variable_genes.py:240: RuntimeWarning: invalid value encountered in true_divide\n",
      "  ) / disp_std_bin[df['mean_bin'].values].values\n",
      "/home/chrism/miniconda3/envs/xb/lib/python3.7/site-packages/scanpy/preprocessing/_simple.py:843: UserWarning: Received a view of an AnnData. Making a copy.\n",
      "  view_to_actual(adata)\n"
     ]
    },
    {
     "name": "stdout",
     "output_type": "stream",
     "text": [
      "431\n",
      "normFalse_lgFalse_ng16_pc40_ts100_hvg_True_scale_True_leid lgFalse_ng16_pc40_ts100_hvg_True_scale_True\n",
      "432\n",
      "FalseTrueTrue[10, 100, 1000, None]\n",
      "433\n",
      "(9634, 166)\n"
     ]
    },
    {
     "name": "stderr",
     "output_type": "stream",
     "text": [
      "/home/chrism/miniconda3/envs/xb/lib/python3.7/site-packages/scanpy/preprocessing/_highly_variable_genes.py:200: RuntimeWarning: overflow encountered in expm1\n",
      "  X = np.expm1(X)\n",
      "/home/chrism/miniconda3/envs/xb/lib/python3.7/site-packages/scanpy/preprocessing/_utils.py:11: RuntimeWarning: overflow encountered in multiply\n",
      "  mean_sq = np.multiply(X, X).mean(axis=axis, dtype=np.float64)\n",
      "/home/chrism/miniconda3/envs/xb/lib/python3.7/site-packages/scanpy/preprocessing/_utils.py:12: RuntimeWarning: overflow encountered in square\n",
      "  var = mean_sq - mean**2\n",
      "/home/chrism/miniconda3/envs/xb/lib/python3.7/site-packages/scanpy/preprocessing/_utils.py:12: RuntimeWarning: invalid value encountered in subtract\n",
      "  var = mean_sq - mean**2\n"
     ]
    },
    {
     "name": "stdout",
     "output_type": "stream",
     "text": [
      "434\n",
      "(9634, 166)\n",
      "435\n",
      "FalseFalseFalse[10, 100, 1000, None]\n",
      "436\n",
      "normTrue_lgFalse_ng12_pc0_ts1000_hvg_True_scale_False_leid lgFalse_ng12_pc0_ts1000_hvg_True_scale_False\n",
      "437\n",
      "normFalse_lgFalse_ng12_pc0_ts1000_hvg_True_scale_False_leid lgFalse_ng12_pc0_ts1000_hvg_True_scale_False\n",
      "438\n",
      "FalseFalseTrue[10, 100, 1000, None]\n",
      "439\n",
      "(9634, 166)\n"
     ]
    },
    {
     "name": "stderr",
     "output_type": "stream",
     "text": [
      "/home/chrism/miniconda3/envs/xb/lib/python3.7/site-packages/scanpy/preprocessing/_highly_variable_genes.py:200: RuntimeWarning: overflow encountered in expm1\n",
      "  X = np.expm1(X)\n",
      "/home/chrism/miniconda3/envs/xb/lib/python3.7/site-packages/scanpy/preprocessing/_utils.py:11: RuntimeWarning: overflow encountered in multiply\n",
      "  mean_sq = np.multiply(X, X).mean(axis=axis, dtype=np.float64)\n",
      "/home/chrism/miniconda3/envs/xb/lib/python3.7/site-packages/scanpy/preprocessing/_utils.py:12: RuntimeWarning: invalid value encountered in subtract\n",
      "  var = mean_sq - mean**2\n",
      "/home/chrism/miniconda3/envs/xb/lib/python3.7/site-packages/scanpy/preprocessing/_utils.py:12: RuntimeWarning: overflow encountered in square\n",
      "  var = mean_sq - mean**2\n"
     ]
    },
    {
     "name": "stdout",
     "output_type": "stream",
     "text": [
      "440\n",
      "(9634, 166)\n",
      "441\n",
      "FalseTrueFalse[10, 100, 1000, None]\n",
      "442\n",
      "normTrue_lgFalse_ng12_pc0_ts1000_hvg_True_scale_True_leid lgFalse_ng12_pc0_ts1000_hvg_True_scale_True\n",
      "443\n",
      "normFalse_lgFalse_ng12_pc0_ts1000_hvg_True_scale_True_leid lgFalse_ng12_pc0_ts1000_hvg_True_scale_True\n",
      "444\n",
      "FalseTrueTrue[10, 100, 1000, None]\n",
      "445\n",
      "(9634, 166)\n"
     ]
    },
    {
     "name": "stderr",
     "output_type": "stream",
     "text": [
      "/home/chrism/miniconda3/envs/xb/lib/python3.7/site-packages/scanpy/preprocessing/_highly_variable_genes.py:200: RuntimeWarning: overflow encountered in expm1\n",
      "  X = np.expm1(X)\n",
      "/home/chrism/miniconda3/envs/xb/lib/python3.7/site-packages/scanpy/preprocessing/_utils.py:11: RuntimeWarning: overflow encountered in multiply\n",
      "  mean_sq = np.multiply(X, X).mean(axis=axis, dtype=np.float64)\n",
      "/home/chrism/miniconda3/envs/xb/lib/python3.7/site-packages/scanpy/preprocessing/_utils.py:12: RuntimeWarning: invalid value encountered in subtract\n",
      "  var = mean_sq - mean**2\n",
      "/home/chrism/miniconda3/envs/xb/lib/python3.7/site-packages/scanpy/preprocessing/_utils.py:12: RuntimeWarning: overflow encountered in square\n",
      "  var = mean_sq - mean**2\n"
     ]
    },
    {
     "name": "stdout",
     "output_type": "stream",
     "text": [
      "446\n",
      "(9634, 166)\n",
      "447\n",
      "FalseFalseFalse[10, 100, 1000, None]\n",
      "448\n",
      "normTrue_lgFalse_ng12_pc20_ts1000_hvg_True_scale_False_leid lgFalse_ng12_pc20_ts1000_hvg_True_scale_False\n",
      "449\n",
      "normFalse_lgFalse_ng12_pc20_ts1000_hvg_True_scale_False_leid lgFalse_ng12_pc20_ts1000_hvg_True_scale_False\n",
      "450\n",
      "FalseFalseTrue[10, 100, 1000, None]\n",
      "451\n",
      "(9634, 166)\n"
     ]
    },
    {
     "name": "stderr",
     "output_type": "stream",
     "text": [
      "/home/chrism/miniconda3/envs/xb/lib/python3.7/site-packages/scanpy/preprocessing/_highly_variable_genes.py:200: RuntimeWarning: overflow encountered in expm1\n",
      "  X = np.expm1(X)\n",
      "/home/chrism/miniconda3/envs/xb/lib/python3.7/site-packages/scanpy/preprocessing/_utils.py:11: RuntimeWarning: overflow encountered in multiply\n",
      "  mean_sq = np.multiply(X, X).mean(axis=axis, dtype=np.float64)\n",
      "/home/chrism/miniconda3/envs/xb/lib/python3.7/site-packages/scanpy/preprocessing/_utils.py:12: RuntimeWarning: invalid value encountered in subtract\n",
      "  var = mean_sq - mean**2\n",
      "/home/chrism/miniconda3/envs/xb/lib/python3.7/site-packages/scanpy/preprocessing/_utils.py:12: RuntimeWarning: overflow encountered in square\n",
      "  var = mean_sq - mean**2\n"
     ]
    },
    {
     "name": "stdout",
     "output_type": "stream",
     "text": [
      "452\n",
      "(9634, 166)\n",
      "453\n",
      "FalseTrueFalse[10, 100, 1000, None]\n",
      "454\n",
      "normTrue_lgFalse_ng12_pc20_ts1000_hvg_True_scale_True_leid lgFalse_ng12_pc20_ts1000_hvg_True_scale_True\n",
      "455\n",
      "normFalse_lgFalse_ng12_pc20_ts1000_hvg_True_scale_True_leid lgFalse_ng12_pc20_ts1000_hvg_True_scale_True\n",
      "456\n",
      "FalseTrueTrue[10, 100, 1000, None]\n",
      "457\n",
      "(9634, 166)\n"
     ]
    },
    {
     "name": "stderr",
     "output_type": "stream",
     "text": [
      "/home/chrism/miniconda3/envs/xb/lib/python3.7/site-packages/scanpy/preprocessing/_highly_variable_genes.py:200: RuntimeWarning: overflow encountered in expm1\n",
      "  X = np.expm1(X)\n",
      "/home/chrism/miniconda3/envs/xb/lib/python3.7/site-packages/scanpy/preprocessing/_utils.py:11: RuntimeWarning: overflow encountered in multiply\n",
      "  mean_sq = np.multiply(X, X).mean(axis=axis, dtype=np.float64)\n",
      "/home/chrism/miniconda3/envs/xb/lib/python3.7/site-packages/scanpy/preprocessing/_utils.py:12: RuntimeWarning: invalid value encountered in subtract\n",
      "  var = mean_sq - mean**2\n",
      "/home/chrism/miniconda3/envs/xb/lib/python3.7/site-packages/scanpy/preprocessing/_utils.py:12: RuntimeWarning: overflow encountered in square\n",
      "  var = mean_sq - mean**2\n"
     ]
    },
    {
     "name": "stdout",
     "output_type": "stream",
     "text": [
      "458\n",
      "(9634, 166)\n",
      "459\n",
      "FalseFalseFalse[10, 100, 1000, None]\n",
      "460\n",
      "normTrue_lgFalse_ng12_pc40_ts1000_hvg_True_scale_False_leid lgFalse_ng12_pc40_ts1000_hvg_True_scale_False\n",
      "461\n",
      "normFalse_lgFalse_ng12_pc40_ts1000_hvg_True_scale_False_leid lgFalse_ng12_pc40_ts1000_hvg_True_scale_False\n",
      "462\n",
      "FalseFalseTrue[10, 100, 1000, None]\n",
      "463\n",
      "(9634, 166)\n"
     ]
    },
    {
     "name": "stderr",
     "output_type": "stream",
     "text": [
      "/home/chrism/miniconda3/envs/xb/lib/python3.7/site-packages/scanpy/preprocessing/_highly_variable_genes.py:200: RuntimeWarning: overflow encountered in expm1\n",
      "  X = np.expm1(X)\n",
      "/home/chrism/miniconda3/envs/xb/lib/python3.7/site-packages/scanpy/preprocessing/_utils.py:11: RuntimeWarning: overflow encountered in multiply\n",
      "  mean_sq = np.multiply(X, X).mean(axis=axis, dtype=np.float64)\n",
      "/home/chrism/miniconda3/envs/xb/lib/python3.7/site-packages/scanpy/preprocessing/_utils.py:12: RuntimeWarning: invalid value encountered in subtract\n",
      "  var = mean_sq - mean**2\n",
      "/home/chrism/miniconda3/envs/xb/lib/python3.7/site-packages/scanpy/preprocessing/_utils.py:12: RuntimeWarning: overflow encountered in square\n",
      "  var = mean_sq - mean**2\n"
     ]
    },
    {
     "name": "stdout",
     "output_type": "stream",
     "text": [
      "464\n",
      "(9634, 166)\n",
      "465\n",
      "FalseTrueFalse[10, 100, 1000, None]\n",
      "466\n",
      "normTrue_lgFalse_ng12_pc40_ts1000_hvg_True_scale_True_leid lgFalse_ng12_pc40_ts1000_hvg_True_scale_True\n",
      "467\n",
      "normFalse_lgFalse_ng12_pc40_ts1000_hvg_True_scale_True_leid lgFalse_ng12_pc40_ts1000_hvg_True_scale_True\n",
      "468\n",
      "FalseTrueTrue[10, 100, 1000, None]\n",
      "469\n",
      "(9634, 166)\n"
     ]
    },
    {
     "name": "stderr",
     "output_type": "stream",
     "text": [
      "/home/chrism/miniconda3/envs/xb/lib/python3.7/site-packages/scanpy/preprocessing/_highly_variable_genes.py:200: RuntimeWarning: overflow encountered in expm1\n",
      "  X = np.expm1(X)\n",
      "/home/chrism/miniconda3/envs/xb/lib/python3.7/site-packages/scanpy/preprocessing/_utils.py:11: RuntimeWarning: overflow encountered in multiply\n",
      "  mean_sq = np.multiply(X, X).mean(axis=axis, dtype=np.float64)\n",
      "/home/chrism/miniconda3/envs/xb/lib/python3.7/site-packages/scanpy/preprocessing/_utils.py:12: RuntimeWarning: invalid value encountered in subtract\n",
      "  var = mean_sq - mean**2\n",
      "/home/chrism/miniconda3/envs/xb/lib/python3.7/site-packages/scanpy/preprocessing/_utils.py:12: RuntimeWarning: overflow encountered in square\n",
      "  var = mean_sq - mean**2\n"
     ]
    },
    {
     "name": "stdout",
     "output_type": "stream",
     "text": [
      "470\n",
      "(9634, 166)\n",
      "471\n",
      "FalseFalseFalse[10, 100, 1000, None]\n",
      "472\n",
      "normTrue_lgFalse_ng16_pc0_ts1000_hvg_True_scale_False_leid lgFalse_ng16_pc0_ts1000_hvg_True_scale_False\n",
      "473\n",
      "normFalse_lgFalse_ng16_pc0_ts1000_hvg_True_scale_False_leid lgFalse_ng16_pc0_ts1000_hvg_True_scale_False\n",
      "474\n",
      "FalseFalseTrue[10, 100, 1000, None]\n",
      "475\n",
      "(9634, 166)\n"
     ]
    },
    {
     "name": "stderr",
     "output_type": "stream",
     "text": [
      "/home/chrism/miniconda3/envs/xb/lib/python3.7/site-packages/scanpy/preprocessing/_highly_variable_genes.py:200: RuntimeWarning: overflow encountered in expm1\n",
      "  X = np.expm1(X)\n",
      "/home/chrism/miniconda3/envs/xb/lib/python3.7/site-packages/scanpy/preprocessing/_utils.py:11: RuntimeWarning: overflow encountered in multiply\n",
      "  mean_sq = np.multiply(X, X).mean(axis=axis, dtype=np.float64)\n",
      "/home/chrism/miniconda3/envs/xb/lib/python3.7/site-packages/scanpy/preprocessing/_utils.py:12: RuntimeWarning: invalid value encountered in subtract\n",
      "  var = mean_sq - mean**2\n",
      "/home/chrism/miniconda3/envs/xb/lib/python3.7/site-packages/scanpy/preprocessing/_utils.py:12: RuntimeWarning: overflow encountered in square\n",
      "  var = mean_sq - mean**2\n"
     ]
    },
    {
     "name": "stdout",
     "output_type": "stream",
     "text": [
      "476\n",
      "(9634, 166)\n",
      "477\n",
      "FalseTrueFalse[10, 100, 1000, None]\n",
      "478\n",
      "normTrue_lgFalse_ng16_pc0_ts1000_hvg_True_scale_True_leid lgFalse_ng16_pc0_ts1000_hvg_True_scale_True\n",
      "479\n",
      "normFalse_lgFalse_ng16_pc0_ts1000_hvg_True_scale_True_leid lgFalse_ng16_pc0_ts1000_hvg_True_scale_True\n",
      "480\n",
      "FalseTrueTrue[10, 100, 1000, None]\n",
      "481\n",
      "(9634, 166)\n"
     ]
    },
    {
     "name": "stderr",
     "output_type": "stream",
     "text": [
      "/home/chrism/miniconda3/envs/xb/lib/python3.7/site-packages/scanpy/preprocessing/_highly_variable_genes.py:200: RuntimeWarning: overflow encountered in expm1\n",
      "  X = np.expm1(X)\n",
      "/home/chrism/miniconda3/envs/xb/lib/python3.7/site-packages/scanpy/preprocessing/_utils.py:11: RuntimeWarning: overflow encountered in multiply\n",
      "  mean_sq = np.multiply(X, X).mean(axis=axis, dtype=np.float64)\n",
      "/home/chrism/miniconda3/envs/xb/lib/python3.7/site-packages/scanpy/preprocessing/_utils.py:12: RuntimeWarning: invalid value encountered in subtract\n",
      "  var = mean_sq - mean**2\n",
      "/home/chrism/miniconda3/envs/xb/lib/python3.7/site-packages/scanpy/preprocessing/_utils.py:12: RuntimeWarning: overflow encountered in square\n",
      "  var = mean_sq - mean**2\n"
     ]
    },
    {
     "name": "stdout",
     "output_type": "stream",
     "text": [
      "482\n",
      "(9634, 166)\n",
      "483\n",
      "FalseFalseFalse[10, 100, 1000, None]\n",
      "484\n",
      "normTrue_lgFalse_ng16_pc20_ts1000_hvg_True_scale_False_leid lgFalse_ng16_pc20_ts1000_hvg_True_scale_False\n",
      "485\n",
      "normFalse_lgFalse_ng16_pc20_ts1000_hvg_True_scale_False_leid lgFalse_ng16_pc20_ts1000_hvg_True_scale_False\n",
      "486\n",
      "FalseFalseTrue[10, 100, 1000, None]\n",
      "487\n",
      "(9634, 166)\n"
     ]
    },
    {
     "name": "stderr",
     "output_type": "stream",
     "text": [
      "/home/chrism/miniconda3/envs/xb/lib/python3.7/site-packages/scanpy/preprocessing/_highly_variable_genes.py:200: RuntimeWarning: overflow encountered in expm1\n",
      "  X = np.expm1(X)\n",
      "/home/chrism/miniconda3/envs/xb/lib/python3.7/site-packages/scanpy/preprocessing/_utils.py:11: RuntimeWarning: overflow encountered in multiply\n",
      "  mean_sq = np.multiply(X, X).mean(axis=axis, dtype=np.float64)\n",
      "/home/chrism/miniconda3/envs/xb/lib/python3.7/site-packages/scanpy/preprocessing/_utils.py:12: RuntimeWarning: invalid value encountered in subtract\n",
      "  var = mean_sq - mean**2\n",
      "/home/chrism/miniconda3/envs/xb/lib/python3.7/site-packages/scanpy/preprocessing/_utils.py:12: RuntimeWarning: overflow encountered in square\n",
      "  var = mean_sq - mean**2\n"
     ]
    },
    {
     "name": "stdout",
     "output_type": "stream",
     "text": [
      "488\n",
      "(9634, 166)\n",
      "489\n",
      "FalseTrueFalse[10, 100, 1000, None]\n",
      "490\n",
      "normTrue_lgFalse_ng16_pc20_ts1000_hvg_True_scale_True_leid lgFalse_ng16_pc20_ts1000_hvg_True_scale_True\n",
      "491\n",
      "normFalse_lgFalse_ng16_pc20_ts1000_hvg_True_scale_True_leid lgFalse_ng16_pc20_ts1000_hvg_True_scale_True\n",
      "492\n",
      "FalseTrueTrue[10, 100, 1000, None]\n",
      "493\n",
      "(9634, 166)\n"
     ]
    },
    {
     "name": "stderr",
     "output_type": "stream",
     "text": [
      "/home/chrism/miniconda3/envs/xb/lib/python3.7/site-packages/scanpy/preprocessing/_highly_variable_genes.py:200: RuntimeWarning: overflow encountered in expm1\n",
      "  X = np.expm1(X)\n",
      "/home/chrism/miniconda3/envs/xb/lib/python3.7/site-packages/scanpy/preprocessing/_utils.py:11: RuntimeWarning: overflow encountered in multiply\n",
      "  mean_sq = np.multiply(X, X).mean(axis=axis, dtype=np.float64)\n",
      "/home/chrism/miniconda3/envs/xb/lib/python3.7/site-packages/scanpy/preprocessing/_utils.py:12: RuntimeWarning: invalid value encountered in subtract\n",
      "  var = mean_sq - mean**2\n",
      "/home/chrism/miniconda3/envs/xb/lib/python3.7/site-packages/scanpy/preprocessing/_utils.py:12: RuntimeWarning: overflow encountered in square\n",
      "  var = mean_sq - mean**2\n"
     ]
    },
    {
     "name": "stdout",
     "output_type": "stream",
     "text": [
      "494\n",
      "(9634, 166)\n",
      "495\n",
      "FalseFalseFalse[10, 100, 1000, None]\n",
      "496\n",
      "normTrue_lgFalse_ng16_pc40_ts1000_hvg_True_scale_False_leid lgFalse_ng16_pc40_ts1000_hvg_True_scale_False\n",
      "497\n",
      "normFalse_lgFalse_ng16_pc40_ts1000_hvg_True_scale_False_leid lgFalse_ng16_pc40_ts1000_hvg_True_scale_False\n",
      "498\n",
      "FalseFalseTrue[10, 100, 1000, None]\n",
      "499\n",
      "(9634, 166)\n"
     ]
    },
    {
     "name": "stderr",
     "output_type": "stream",
     "text": [
      "/home/chrism/miniconda3/envs/xb/lib/python3.7/site-packages/scanpy/preprocessing/_highly_variable_genes.py:200: RuntimeWarning: overflow encountered in expm1\n",
      "  X = np.expm1(X)\n",
      "/home/chrism/miniconda3/envs/xb/lib/python3.7/site-packages/scanpy/preprocessing/_utils.py:11: RuntimeWarning: overflow encountered in multiply\n",
      "  mean_sq = np.multiply(X, X).mean(axis=axis, dtype=np.float64)\n",
      "/home/chrism/miniconda3/envs/xb/lib/python3.7/site-packages/scanpy/preprocessing/_utils.py:12: RuntimeWarning: invalid value encountered in subtract\n",
      "  var = mean_sq - mean**2\n",
      "/home/chrism/miniconda3/envs/xb/lib/python3.7/site-packages/scanpy/preprocessing/_utils.py:12: RuntimeWarning: overflow encountered in square\n",
      "  var = mean_sq - mean**2\n"
     ]
    },
    {
     "name": "stdout",
     "output_type": "stream",
     "text": [
      "500\n",
      "(9634, 166)\n",
      "501\n",
      "FalseTrueFalse[10, 100, 1000, None]\n",
      "502\n",
      "normTrue_lgFalse_ng16_pc40_ts1000_hvg_True_scale_True_leid lgFalse_ng16_pc40_ts1000_hvg_True_scale_True\n",
      "503\n",
      "normFalse_lgFalse_ng16_pc40_ts1000_hvg_True_scale_True_leid lgFalse_ng16_pc40_ts1000_hvg_True_scale_True\n",
      "504\n",
      "FalseTrueTrue[10, 100, 1000, None]\n",
      "505\n",
      "(9634, 166)\n"
     ]
    },
    {
     "name": "stderr",
     "output_type": "stream",
     "text": [
      "/home/chrism/miniconda3/envs/xb/lib/python3.7/site-packages/scanpy/preprocessing/_highly_variable_genes.py:200: RuntimeWarning: overflow encountered in expm1\n",
      "  X = np.expm1(X)\n",
      "/home/chrism/miniconda3/envs/xb/lib/python3.7/site-packages/scanpy/preprocessing/_utils.py:11: RuntimeWarning: overflow encountered in multiply\n",
      "  mean_sq = np.multiply(X, X).mean(axis=axis, dtype=np.float64)\n",
      "/home/chrism/miniconda3/envs/xb/lib/python3.7/site-packages/scanpy/preprocessing/_utils.py:12: RuntimeWarning: invalid value encountered in subtract\n",
      "  var = mean_sq - mean**2\n",
      "/home/chrism/miniconda3/envs/xb/lib/python3.7/site-packages/scanpy/preprocessing/_utils.py:12: RuntimeWarning: overflow encountered in square\n",
      "  var = mean_sq - mean**2\n"
     ]
    },
    {
     "name": "stdout",
     "output_type": "stream",
     "text": [
      "506\n",
      "(9634, 166)\n",
      "507\n",
      "FalseFalseFalse[10, 100, 1000, None]\n",
      "508\n",
      "normTrue_lgFalse_ng12_pc0_tsNone_hvg_True_scale_False_leid lgFalse_ng12_pc0_tsNone_hvg_True_scale_False\n",
      "509\n",
      "normFalse_lgFalse_ng12_pc0_tsNone_hvg_True_scale_False_leid lgFalse_ng12_pc0_tsNone_hvg_True_scale_False\n",
      "510\n",
      "FalseFalseTrue[10, 100, 1000, None]\n",
      "511\n",
      "(9634, 166)\n"
     ]
    },
    {
     "name": "stderr",
     "output_type": "stream",
     "text": [
      "/home/chrism/miniconda3/envs/xb/lib/python3.7/site-packages/scanpy/preprocessing/_highly_variable_genes.py:200: RuntimeWarning: overflow encountered in expm1\n",
      "  X = np.expm1(X)\n",
      "/home/chrism/miniconda3/envs/xb/lib/python3.7/site-packages/scanpy/preprocessing/_utils.py:11: RuntimeWarning: overflow encountered in multiply\n",
      "  mean_sq = np.multiply(X, X).mean(axis=axis, dtype=np.float64)\n",
      "/home/chrism/miniconda3/envs/xb/lib/python3.7/site-packages/scanpy/preprocessing/_utils.py:12: RuntimeWarning: invalid value encountered in subtract\n",
      "  var = mean_sq - mean**2\n",
      "/home/chrism/miniconda3/envs/xb/lib/python3.7/site-packages/scanpy/preprocessing/_utils.py:12: RuntimeWarning: overflow encountered in square\n",
      "  var = mean_sq - mean**2\n"
     ]
    },
    {
     "name": "stdout",
     "output_type": "stream",
     "text": [
      "512\n",
      "(9634, 166)\n",
      "513\n",
      "FalseTrueFalse[10, 100, 1000, None]\n",
      "514\n",
      "normTrue_lgFalse_ng12_pc0_tsNone_hvg_True_scale_True_leid lgFalse_ng12_pc0_tsNone_hvg_True_scale_True\n",
      "515\n",
      "normFalse_lgFalse_ng12_pc0_tsNone_hvg_True_scale_True_leid lgFalse_ng12_pc0_tsNone_hvg_True_scale_True\n",
      "516\n",
      "FalseTrueTrue[10, 100, 1000, None]\n",
      "517\n",
      "(9634, 166)\n"
     ]
    },
    {
     "name": "stderr",
     "output_type": "stream",
     "text": [
      "/home/chrism/miniconda3/envs/xb/lib/python3.7/site-packages/scanpy/preprocessing/_highly_variable_genes.py:200: RuntimeWarning: overflow encountered in expm1\n",
      "  X = np.expm1(X)\n",
      "/home/chrism/miniconda3/envs/xb/lib/python3.7/site-packages/scanpy/preprocessing/_utils.py:11: RuntimeWarning: overflow encountered in multiply\n",
      "  mean_sq = np.multiply(X, X).mean(axis=axis, dtype=np.float64)\n",
      "/home/chrism/miniconda3/envs/xb/lib/python3.7/site-packages/scanpy/preprocessing/_utils.py:12: RuntimeWarning: invalid value encountered in subtract\n",
      "  var = mean_sq - mean**2\n",
      "/home/chrism/miniconda3/envs/xb/lib/python3.7/site-packages/scanpy/preprocessing/_utils.py:12: RuntimeWarning: overflow encountered in square\n",
      "  var = mean_sq - mean**2\n"
     ]
    },
    {
     "name": "stdout",
     "output_type": "stream",
     "text": [
      "518\n",
      "(9634, 166)\n",
      "519\n",
      "FalseFalseFalse[10, 100, 1000, None]\n",
      "520\n",
      "normTrue_lgFalse_ng12_pc20_tsNone_hvg_True_scale_False_leid lgFalse_ng12_pc20_tsNone_hvg_True_scale_False\n",
      "521\n",
      "normFalse_lgFalse_ng12_pc20_tsNone_hvg_True_scale_False_leid lgFalse_ng12_pc20_tsNone_hvg_True_scale_False\n",
      "522\n",
      "FalseFalseTrue[10, 100, 1000, None]\n",
      "523\n",
      "(9634, 166)\n"
     ]
    },
    {
     "name": "stderr",
     "output_type": "stream",
     "text": [
      "/home/chrism/miniconda3/envs/xb/lib/python3.7/site-packages/scanpy/preprocessing/_highly_variable_genes.py:200: RuntimeWarning: overflow encountered in expm1\n",
      "  X = np.expm1(X)\n",
      "/home/chrism/miniconda3/envs/xb/lib/python3.7/site-packages/scanpy/preprocessing/_utils.py:11: RuntimeWarning: overflow encountered in multiply\n",
      "  mean_sq = np.multiply(X, X).mean(axis=axis, dtype=np.float64)\n",
      "/home/chrism/miniconda3/envs/xb/lib/python3.7/site-packages/scanpy/preprocessing/_utils.py:12: RuntimeWarning: invalid value encountered in subtract\n",
      "  var = mean_sq - mean**2\n",
      "/home/chrism/miniconda3/envs/xb/lib/python3.7/site-packages/scanpy/preprocessing/_utils.py:12: RuntimeWarning: overflow encountered in square\n",
      "  var = mean_sq - mean**2\n"
     ]
    },
    {
     "name": "stdout",
     "output_type": "stream",
     "text": [
      "524\n",
      "(9634, 166)\n",
      "525\n",
      "FalseTrueFalse[10, 100, 1000, None]\n",
      "526\n",
      "normTrue_lgFalse_ng12_pc20_tsNone_hvg_True_scale_True_leid lgFalse_ng12_pc20_tsNone_hvg_True_scale_True\n",
      "527\n",
      "normFalse_lgFalse_ng12_pc20_tsNone_hvg_True_scale_True_leid lgFalse_ng12_pc20_tsNone_hvg_True_scale_True\n",
      "528\n",
      "FalseTrueTrue[10, 100, 1000, None]\n",
      "529\n",
      "(9634, 166)\n"
     ]
    },
    {
     "name": "stderr",
     "output_type": "stream",
     "text": [
      "/home/chrism/miniconda3/envs/xb/lib/python3.7/site-packages/scanpy/preprocessing/_highly_variable_genes.py:200: RuntimeWarning: overflow encountered in expm1\n",
      "  X = np.expm1(X)\n",
      "/home/chrism/miniconda3/envs/xb/lib/python3.7/site-packages/scanpy/preprocessing/_utils.py:11: RuntimeWarning: overflow encountered in multiply\n",
      "  mean_sq = np.multiply(X, X).mean(axis=axis, dtype=np.float64)\n",
      "/home/chrism/miniconda3/envs/xb/lib/python3.7/site-packages/scanpy/preprocessing/_utils.py:12: RuntimeWarning: invalid value encountered in subtract\n",
      "  var = mean_sq - mean**2\n",
      "/home/chrism/miniconda3/envs/xb/lib/python3.7/site-packages/scanpy/preprocessing/_utils.py:12: RuntimeWarning: overflow encountered in square\n",
      "  var = mean_sq - mean**2\n"
     ]
    },
    {
     "name": "stdout",
     "output_type": "stream",
     "text": [
      "530\n",
      "(9634, 166)\n",
      "531\n",
      "FalseFalseFalse[10, 100, 1000, None]\n",
      "532\n",
      "normTrue_lgFalse_ng12_pc40_tsNone_hvg_True_scale_False_leid lgFalse_ng12_pc40_tsNone_hvg_True_scale_False\n",
      "533\n",
      "normFalse_lgFalse_ng12_pc40_tsNone_hvg_True_scale_False_leid lgFalse_ng12_pc40_tsNone_hvg_True_scale_False\n",
      "534\n",
      "FalseFalseTrue[10, 100, 1000, None]\n",
      "535\n",
      "(9634, 166)\n"
     ]
    },
    {
     "name": "stderr",
     "output_type": "stream",
     "text": [
      "/home/chrism/miniconda3/envs/xb/lib/python3.7/site-packages/scanpy/preprocessing/_highly_variable_genes.py:200: RuntimeWarning: overflow encountered in expm1\n",
      "  X = np.expm1(X)\n",
      "/home/chrism/miniconda3/envs/xb/lib/python3.7/site-packages/scanpy/preprocessing/_utils.py:11: RuntimeWarning: overflow encountered in multiply\n",
      "  mean_sq = np.multiply(X, X).mean(axis=axis, dtype=np.float64)\n",
      "/home/chrism/miniconda3/envs/xb/lib/python3.7/site-packages/scanpy/preprocessing/_utils.py:12: RuntimeWarning: invalid value encountered in subtract\n",
      "  var = mean_sq - mean**2\n",
      "/home/chrism/miniconda3/envs/xb/lib/python3.7/site-packages/scanpy/preprocessing/_utils.py:12: RuntimeWarning: overflow encountered in square\n",
      "  var = mean_sq - mean**2\n"
     ]
    },
    {
     "name": "stdout",
     "output_type": "stream",
     "text": [
      "536\n",
      "(9634, 166)\n",
      "537\n",
      "FalseTrueFalse[10, 100, 1000, None]\n",
      "538\n",
      "normTrue_lgFalse_ng12_pc40_tsNone_hvg_True_scale_True_leid lgFalse_ng12_pc40_tsNone_hvg_True_scale_True\n",
      "539\n",
      "normFalse_lgFalse_ng12_pc40_tsNone_hvg_True_scale_True_leid lgFalse_ng12_pc40_tsNone_hvg_True_scale_True\n",
      "540\n",
      "FalseTrueTrue[10, 100, 1000, None]\n",
      "541\n",
      "(9634, 166)\n"
     ]
    },
    {
     "name": "stderr",
     "output_type": "stream",
     "text": [
      "/home/chrism/miniconda3/envs/xb/lib/python3.7/site-packages/scanpy/preprocessing/_highly_variable_genes.py:200: RuntimeWarning: overflow encountered in expm1\n",
      "  X = np.expm1(X)\n",
      "/home/chrism/miniconda3/envs/xb/lib/python3.7/site-packages/scanpy/preprocessing/_utils.py:11: RuntimeWarning: overflow encountered in multiply\n",
      "  mean_sq = np.multiply(X, X).mean(axis=axis, dtype=np.float64)\n",
      "/home/chrism/miniconda3/envs/xb/lib/python3.7/site-packages/scanpy/preprocessing/_utils.py:12: RuntimeWarning: invalid value encountered in subtract\n",
      "  var = mean_sq - mean**2\n",
      "/home/chrism/miniconda3/envs/xb/lib/python3.7/site-packages/scanpy/preprocessing/_utils.py:12: RuntimeWarning: overflow encountered in square\n",
      "  var = mean_sq - mean**2\n"
     ]
    },
    {
     "name": "stdout",
     "output_type": "stream",
     "text": [
      "542\n",
      "(9634, 166)\n",
      "543\n",
      "FalseFalseFalse[10, 100, 1000, None]\n",
      "544\n",
      "normTrue_lgFalse_ng16_pc0_tsNone_hvg_True_scale_False_leid lgFalse_ng16_pc0_tsNone_hvg_True_scale_False\n",
      "545\n",
      "normFalse_lgFalse_ng16_pc0_tsNone_hvg_True_scale_False_leid lgFalse_ng16_pc0_tsNone_hvg_True_scale_False\n",
      "546\n",
      "FalseFalseTrue[10, 100, 1000, None]\n",
      "547\n",
      "(9634, 166)\n"
     ]
    },
    {
     "name": "stderr",
     "output_type": "stream",
     "text": [
      "/home/chrism/miniconda3/envs/xb/lib/python3.7/site-packages/scanpy/preprocessing/_highly_variable_genes.py:200: RuntimeWarning: overflow encountered in expm1\n",
      "  X = np.expm1(X)\n",
      "/home/chrism/miniconda3/envs/xb/lib/python3.7/site-packages/scanpy/preprocessing/_utils.py:11: RuntimeWarning: overflow encountered in multiply\n",
      "  mean_sq = np.multiply(X, X).mean(axis=axis, dtype=np.float64)\n",
      "/home/chrism/miniconda3/envs/xb/lib/python3.7/site-packages/scanpy/preprocessing/_utils.py:12: RuntimeWarning: invalid value encountered in subtract\n",
      "  var = mean_sq - mean**2\n",
      "/home/chrism/miniconda3/envs/xb/lib/python3.7/site-packages/scanpy/preprocessing/_utils.py:12: RuntimeWarning: overflow encountered in square\n",
      "  var = mean_sq - mean**2\n"
     ]
    },
    {
     "name": "stdout",
     "output_type": "stream",
     "text": [
      "548\n",
      "(9634, 166)\n",
      "549\n",
      "FalseTrueFalse[10, 100, 1000, None]\n",
      "550\n",
      "normTrue_lgFalse_ng16_pc0_tsNone_hvg_True_scale_True_leid lgFalse_ng16_pc0_tsNone_hvg_True_scale_True\n",
      "551\n",
      "normFalse_lgFalse_ng16_pc0_tsNone_hvg_True_scale_True_leid lgFalse_ng16_pc0_tsNone_hvg_True_scale_True\n",
      "552\n",
      "FalseTrueTrue[10, 100, 1000, None]\n",
      "553\n",
      "(9634, 166)\n"
     ]
    },
    {
     "name": "stderr",
     "output_type": "stream",
     "text": [
      "/home/chrism/miniconda3/envs/xb/lib/python3.7/site-packages/scanpy/preprocessing/_highly_variable_genes.py:200: RuntimeWarning: overflow encountered in expm1\n",
      "  X = np.expm1(X)\n",
      "/home/chrism/miniconda3/envs/xb/lib/python3.7/site-packages/scanpy/preprocessing/_utils.py:11: RuntimeWarning: overflow encountered in multiply\n",
      "  mean_sq = np.multiply(X, X).mean(axis=axis, dtype=np.float64)\n",
      "/home/chrism/miniconda3/envs/xb/lib/python3.7/site-packages/scanpy/preprocessing/_utils.py:12: RuntimeWarning: invalid value encountered in subtract\n",
      "  var = mean_sq - mean**2\n",
      "/home/chrism/miniconda3/envs/xb/lib/python3.7/site-packages/scanpy/preprocessing/_utils.py:12: RuntimeWarning: overflow encountered in square\n",
      "  var = mean_sq - mean**2\n"
     ]
    },
    {
     "name": "stdout",
     "output_type": "stream",
     "text": [
      "554\n",
      "(9634, 166)\n",
      "555\n",
      "FalseFalseFalse[10, 100, 1000, None]\n",
      "556\n",
      "normTrue_lgFalse_ng16_pc20_tsNone_hvg_True_scale_False_leid lgFalse_ng16_pc20_tsNone_hvg_True_scale_False\n",
      "557\n",
      "normFalse_lgFalse_ng16_pc20_tsNone_hvg_True_scale_False_leid lgFalse_ng16_pc20_tsNone_hvg_True_scale_False\n",
      "558\n",
      "FalseFalseTrue[10, 100, 1000, None]\n",
      "559\n",
      "(9634, 166)\n"
     ]
    },
    {
     "name": "stderr",
     "output_type": "stream",
     "text": [
      "/home/chrism/miniconda3/envs/xb/lib/python3.7/site-packages/scanpy/preprocessing/_highly_variable_genes.py:200: RuntimeWarning: overflow encountered in expm1\n",
      "  X = np.expm1(X)\n",
      "/home/chrism/miniconda3/envs/xb/lib/python3.7/site-packages/scanpy/preprocessing/_utils.py:11: RuntimeWarning: overflow encountered in multiply\n",
      "  mean_sq = np.multiply(X, X).mean(axis=axis, dtype=np.float64)\n",
      "/home/chrism/miniconda3/envs/xb/lib/python3.7/site-packages/scanpy/preprocessing/_utils.py:12: RuntimeWarning: invalid value encountered in subtract\n",
      "  var = mean_sq - mean**2\n",
      "/home/chrism/miniconda3/envs/xb/lib/python3.7/site-packages/scanpy/preprocessing/_utils.py:12: RuntimeWarning: overflow encountered in square\n",
      "  var = mean_sq - mean**2\n"
     ]
    },
    {
     "name": "stdout",
     "output_type": "stream",
     "text": [
      "560\n",
      "(9634, 166)\n",
      "561\n",
      "FalseTrueFalse[10, 100, 1000, None]\n",
      "562\n",
      "normTrue_lgFalse_ng16_pc20_tsNone_hvg_True_scale_True_leid lgFalse_ng16_pc20_tsNone_hvg_True_scale_True\n",
      "563\n",
      "normFalse_lgFalse_ng16_pc20_tsNone_hvg_True_scale_True_leid lgFalse_ng16_pc20_tsNone_hvg_True_scale_True\n",
      "564\n",
      "FalseTrueTrue[10, 100, 1000, None]\n",
      "565\n",
      "(9634, 166)\n"
     ]
    },
    {
     "name": "stderr",
     "output_type": "stream",
     "text": [
      "/home/chrism/miniconda3/envs/xb/lib/python3.7/site-packages/scanpy/preprocessing/_highly_variable_genes.py:200: RuntimeWarning: overflow encountered in expm1\n",
      "  X = np.expm1(X)\n",
      "/home/chrism/miniconda3/envs/xb/lib/python3.7/site-packages/scanpy/preprocessing/_utils.py:11: RuntimeWarning: overflow encountered in multiply\n",
      "  mean_sq = np.multiply(X, X).mean(axis=axis, dtype=np.float64)\n",
      "/home/chrism/miniconda3/envs/xb/lib/python3.7/site-packages/scanpy/preprocessing/_utils.py:12: RuntimeWarning: invalid value encountered in subtract\n",
      "  var = mean_sq - mean**2\n",
      "/home/chrism/miniconda3/envs/xb/lib/python3.7/site-packages/scanpy/preprocessing/_utils.py:12: RuntimeWarning: overflow encountered in square\n",
      "  var = mean_sq - mean**2\n"
     ]
    },
    {
     "name": "stdout",
     "output_type": "stream",
     "text": [
      "566\n",
      "(9634, 166)\n",
      "567\n",
      "FalseFalseFalse[10, 100, 1000, None]\n",
      "568\n",
      "normTrue_lgFalse_ng16_pc40_tsNone_hvg_True_scale_False_leid lgFalse_ng16_pc40_tsNone_hvg_True_scale_False\n",
      "569\n",
      "normFalse_lgFalse_ng16_pc40_tsNone_hvg_True_scale_False_leid lgFalse_ng16_pc40_tsNone_hvg_True_scale_False\n",
      "570\n",
      "FalseFalseTrue[10, 100, 1000, None]\n",
      "571\n",
      "(9634, 166)\n"
     ]
    },
    {
     "name": "stderr",
     "output_type": "stream",
     "text": [
      "/home/chrism/miniconda3/envs/xb/lib/python3.7/site-packages/scanpy/preprocessing/_highly_variable_genes.py:200: RuntimeWarning: overflow encountered in expm1\n",
      "  X = np.expm1(X)\n",
      "/home/chrism/miniconda3/envs/xb/lib/python3.7/site-packages/scanpy/preprocessing/_utils.py:11: RuntimeWarning: overflow encountered in multiply\n",
      "  mean_sq = np.multiply(X, X).mean(axis=axis, dtype=np.float64)\n",
      "/home/chrism/miniconda3/envs/xb/lib/python3.7/site-packages/scanpy/preprocessing/_utils.py:12: RuntimeWarning: invalid value encountered in subtract\n",
      "  var = mean_sq - mean**2\n",
      "/home/chrism/miniconda3/envs/xb/lib/python3.7/site-packages/scanpy/preprocessing/_utils.py:12: RuntimeWarning: overflow encountered in square\n",
      "  var = mean_sq - mean**2\n"
     ]
    },
    {
     "name": "stdout",
     "output_type": "stream",
     "text": [
      "572\n",
      "(9634, 166)\n",
      "573\n",
      "FalseTrueFalse[10, 100, 1000, None]\n",
      "574\n",
      "normTrue_lgFalse_ng16_pc40_tsNone_hvg_True_scale_True_leid lgFalse_ng16_pc40_tsNone_hvg_True_scale_True\n",
      "575\n",
      "normFalse_lgFalse_ng16_pc40_tsNone_hvg_True_scale_True_leid lgFalse_ng16_pc40_tsNone_hvg_True_scale_True\n",
      "576\n",
      "FalseTrueTrue[10, 100, 1000, None]\n"
     ]
    },
    {
     "name": "stderr",
     "output_type": "stream",
     "text": [
      "/home/chrism/miniconda3/envs/xb/lib/python3.7/site-packages/scanpy/preprocessing/_highly_variable_genes.py:200: RuntimeWarning: overflow encountered in expm1\n",
      "  X = np.expm1(X)\n",
      "/home/chrism/miniconda3/envs/xb/lib/python3.7/site-packages/scanpy/preprocessing/_utils.py:11: RuntimeWarning: overflow encountered in multiply\n",
      "  mean_sq = np.multiply(X, X).mean(axis=axis, dtype=np.float64)\n",
      "/home/chrism/miniconda3/envs/xb/lib/python3.7/site-packages/scanpy/preprocessing/_utils.py:12: RuntimeWarning: invalid value encountered in subtract\n",
      "  var = mean_sq - mean**2\n",
      "/home/chrism/miniconda3/envs/xb/lib/python3.7/site-packages/scanpy/preprocessing/_utils.py:12: RuntimeWarning: overflow encountered in square\n",
      "  var = mean_sq - mean**2\n",
      "/home/chrism/git/Xenium_benchmarking/xb/simulating.py:430: PerformanceWarning: DataFrame is highly fragmented.  This is usually the result of calling `frame.insert` many times, which has poor performance.  Consider joining all columns at once using pd.concat(axis=1) instead.  To get a de-fragmented frame, use `newframe = frame.copy()`\n",
      "  allres['RESULTS']=adata.obs[default_key]\n"
     ]
    }
   ],
   "source": [
    "mainpath='../../data/scRNAseq_for_simulations/'\n",
    "datasets=os.listdir(mainpath)\n",
    "datasets=[d for d in datasets if d!='.ipynb_checkpoints']\n",
    "for d in range(0,2):\n",
    "# for d in range(0,len(datasets)):    \n",
    "    # try:\n",
    "        print('##################################### Dataset '+str(d))\n",
    "        dataset_path=mainpath+datasets[d]\n",
    "        print(dataset_path)\n",
    "        #reread single cell data since we need the updated version LUNG DEV\n",
    "        adata_sc_sub=sc.read(dataset_path+'/original_adata.h5ad')\n",
    "        adata_sc_sub.X=adata_sc_sub.X.todense()\n",
    "        markers=pd.read_csv(dataset_path+'/markers.csv',index_col=0)\n",
    "        total_genes=250\n",
    "        random_markers_perc=0\n",
    "        reads_x_cell=None\n",
    "        n_reads_x_gene=20\n",
    "        percentage_of_noise=0.05\n",
    "        misseg_percentage=0.05\n",
    "        adata_sc=subset_of_single_cell(adata_sc_sub,markers,random_markers_percentage=random_markers_perc,\n",
    "                                       reads_x_cell=reads_x_cell,number_of_markers=total_genes,\n",
    "                                      n_reads_x_gene=n_reads_x_gene,percentage_of_noise=percentage_of_noise,\n",
    "                                      ms_percentage=misseg_percentage)\n",
    "        # calculate all simulations\n",
    "        allres=allcombs_simulated(adata_sc,default_key='cell_type')\n",
    "        allres.to_csv(dataset_path+'/final_allresults.csv')\n",
    "    # except:\n",
    "    #     print('Dataset not possible '+ str(d))"
   ]
  },
  {
   "cell_type": "code",
   "execution_count": null,
   "id": "2fcfe3b4-867e-46f3-8ebb-669692272bda",
   "metadata": {},
   "outputs": [],
   "source": []
  }
 ],
 "metadata": {
  "kernelspec": {
   "display_name": "Python 3 (ipykernel)",
   "language": "python",
   "name": "python3"
  },
  "language_info": {
   "codemirror_mode": {
    "name": "ipython",
    "version": 3
   },
   "file_extension": ".py",
   "mimetype": "text/x-python",
   "name": "python",
   "nbconvert_exporter": "python",
   "pygments_lexer": "ipython3",
   "version": "3.7.13"
  }
 },
 "nbformat": 4,
 "nbformat_minor": 5
}
