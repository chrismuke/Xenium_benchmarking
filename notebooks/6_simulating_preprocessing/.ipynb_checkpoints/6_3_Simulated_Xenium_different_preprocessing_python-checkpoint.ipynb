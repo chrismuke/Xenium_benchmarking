{
 "cells": [
  {
   "cell_type": "markdown",
   "id": "f025411e",
   "metadata": {},
   "source": [
    "# Purpose of the notebook"
   ]
  },
  {
   "cell_type": "markdown",
   "id": "d7f5fc02",
   "metadata": {},
   "source": [
    "Based on the extracted single cell data, we transform it to look like xenium data and we preprocess it on many different ways. This notebook includes only the scanpy-based pipelines. There is a second workflow for the Seurat preprocessing"
   ]
  },
  {
   "cell_type": "code",
   "execution_count": 1,
   "id": "1ea4c166",
   "metadata": {
    "tags": []
   },
   "outputs": [],
   "source": [
    "# import txsim as tx\n",
    "import scanpy as sc\n",
    "import os\n",
    "import pandas as pd\n",
    "from anndata import AnnData\n",
    "import numpy as np\n",
    "#from scipy.spatial import ConvexHull, convex_hull_plot_2d\n",
    "import xb.formatting as xf\n",
    "import seaborn as sns\n",
    "import random \n",
    "import matplotlib.pyplot as plt\n",
    "import sklearn.metrics as sk\n",
    "from tqdm import tqdm\n",
    "import scanpy as sc\n",
    "import random\n",
    "from xb.calculating import entropy,compute_vi,compute_fmi\n",
    "from xb.formatting import keep_nuclei_and_quality\n",
    "from xb.simulating import missegmentation_simulation,noise_adder,subset_of_single_cell,main_preprocessing, allcombs_simulated"
   ]
  },
  {
   "cell_type": "markdown",
   "id": "7c0d2576",
   "metadata": {},
   "source": [
    "# We  simulate all preprocessing possibilities"
   ]
  },
  {
   "cell_type": "code",
   "execution_count": null,
   "id": "eea3fe94",
   "metadata": {
    "tags": []
   },
   "outputs": [
    {
     "name": "stdout",
     "output_type": "stream",
     "text": [
      "##################################### Dataset 0\n",
      "../../data/scRNAseq_for_simulations/9968be68-ab65-4a38-9e1a-c9b6abece194\n"
     ]
    },
    {
     "name": "stderr",
     "output_type": "stream",
     "text": [
      "100%|████████████████████████████████████████████████████████████████████████████████████████████████████████████████████| 4/4 [00:00<00:00, 1198.03it/s]\n"
     ]
    },
    {
     "name": "stdout",
     "output_type": "stream",
     "text": [
      "(9313, 212)\n",
      "first run\n",
      "1\n",
      "(9313, 212)\n",
      "2\n",
      "(9313, 212)\n"
     ]
    },
    {
     "name": "stderr",
     "output_type": "stream",
     "text": [
      "/home/chrism/miniconda3/envs/xb/lib/python3.7/site-packages/scanpy/preprocessing/_simple.py:352: RuntimeWarning: divide by zero encountered in log1p\n",
      "  np.log1p(X, out=X)\n"
     ]
    },
    {
     "name": "stdout",
     "output_type": "stream",
     "text": [
      "3\n",
      "TrueFalseFalse[10, 100, 1000, None]\n",
      "4\n",
      "(9313, 51)\n"
     ]
    },
    {
     "name": "stderr",
     "output_type": "stream",
     "text": [
      "/home/chrism/git/Xenium_benchmarking/xb/simulating.py:314: ImplicitModificationWarning: Trying to modify attribute `.X` of view, initializing view as actual.\n",
      "  adata.X[adata.X==-np.inf]=0\n"
     ]
    },
    {
     "name": "stdout",
     "output_type": "stream",
     "text": [
      "5\n",
      "(9313, 83)\n"
     ]
    },
    {
     "name": "stderr",
     "output_type": "stream",
     "text": [
      "/home/chrism/miniconda3/envs/xb/lib/python3.7/site-packages/scanpy/preprocessing/_simple.py:352: RuntimeWarning: divide by zero encountered in log1p\n",
      "  np.log1p(X, out=X)\n",
      "/home/chrism/git/Xenium_benchmarking/xb/simulating.py:314: ImplicitModificationWarning: Trying to modify attribute `.X` of view, initializing view as actual.\n",
      "  adata.X[adata.X==-np.inf]=0\n",
      "/home/chrism/miniconda3/envs/xb/lib/python3.7/contextlib.py:119: FutureWarning: X.dtype being converted to np.float32 from float64. In the next version of anndata (0.9) conversion will not be automatic. Pass dtype explicitly to avoid this warning. Pass `AnnData(X, dtype=X.dtype, ...)` to get the future behavour.\n",
      "  next(self.gen)\n"
     ]
    },
    {
     "name": "stdout",
     "output_type": "stream",
     "text": [
      "6\n",
      "TrueFalseTrue[10, 100, 1000, None]\n",
      "7\n",
      "(9313, 212)\n",
      "8\n",
      "(9313, 212)\n"
     ]
    },
    {
     "name": "stderr",
     "output_type": "stream",
     "text": [
      "/home/chrism/miniconda3/envs/xb/lib/python3.7/site-packages/scanpy/preprocessing/_simple.py:352: RuntimeWarning: divide by zero encountered in log1p\n",
      "  np.log1p(X, out=X)\n",
      "/home/chrism/miniconda3/envs/xb/lib/python3.7/site-packages/scanpy/preprocessing/_utils.py:12: RuntimeWarning: invalid value encountered in subtract\n",
      "  var = mean_sq - mean**2\n",
      "/home/chrism/miniconda3/envs/xb/lib/python3.7/site-packages/scanpy/preprocessing/_simple.py:792: RuntimeWarning: invalid value encountered in subtract\n",
      "  X -= mean\n"
     ]
    },
    {
     "name": "stdout",
     "output_type": "stream",
     "text": [
      "9\n",
      "TrueTrueFalse[10, 100, 1000, None]\n",
      "10\n",
      "(9313, 51)\n"
     ]
    },
    {
     "name": "stderr",
     "output_type": "stream",
     "text": [
      "/home/chrism/miniconda3/envs/xb/lib/python3.7/site-packages/scanpy/preprocessing/_simple.py:843: UserWarning: Received a view of an AnnData. Making a copy.\n",
      "  view_to_actual(adata)\n"
     ]
    },
    {
     "name": "stdout",
     "output_type": "stream",
     "text": [
      "11\n",
      "(9313, 83)\n"
     ]
    },
    {
     "name": "stderr",
     "output_type": "stream",
     "text": [
      "/home/chrism/miniconda3/envs/xb/lib/python3.7/site-packages/scanpy/preprocessing/_simple.py:352: RuntimeWarning: divide by zero encountered in log1p\n",
      "  np.log1p(X, out=X)\n",
      "/home/chrism/miniconda3/envs/xb/lib/python3.7/site-packages/scanpy/preprocessing/_simple.py:843: UserWarning: Received a view of an AnnData. Making a copy.\n",
      "  view_to_actual(adata)\n",
      "/home/chrism/miniconda3/envs/xb/lib/python3.7/site-packages/scanpy/preprocessing/_simple.py:843: FutureWarning: X.dtype being converted to np.float32 from float64. In the next version of anndata (0.9) conversion will not be automatic. Pass dtype explicitly to avoid this warning. Pass `AnnData(X, dtype=X.dtype, ...)` to get the future behavour.\n",
      "  view_to_actual(adata)\n",
      "/home/chrism/miniconda3/envs/xb/lib/python3.7/site-packages/scanpy/preprocessing/_utils.py:12: RuntimeWarning: invalid value encountered in subtract\n",
      "  var = mean_sq - mean**2\n",
      "/home/chrism/miniconda3/envs/xb/lib/python3.7/site-packages/scanpy/preprocessing/_simple.py:792: RuntimeWarning: invalid value encountered in subtract\n",
      "  X -= mean\n"
     ]
    },
    {
     "name": "stdout",
     "output_type": "stream",
     "text": [
      "12\n",
      "TrueTrueTrue[10, 100, 1000, None]\n",
      "13\n",
      "(9313, 212)\n",
      "14\n",
      "(9313, 212)\n"
     ]
    },
    {
     "name": "stderr",
     "output_type": "stream",
     "text": [
      "/home/chrism/miniconda3/envs/xb/lib/python3.7/site-packages/scanpy/preprocessing/_simple.py:352: RuntimeWarning: divide by zero encountered in log1p\n",
      "  np.log1p(X, out=X)\n"
     ]
    },
    {
     "name": "stdout",
     "output_type": "stream",
     "text": [
      "15\n",
      "TrueFalseFalse[10, 100, 1000, None]\n",
      "16\n",
      "(9313, 51)\n"
     ]
    },
    {
     "name": "stderr",
     "output_type": "stream",
     "text": [
      "/home/chrism/git/Xenium_benchmarking/xb/simulating.py:314: ImplicitModificationWarning: Trying to modify attribute `.X` of view, initializing view as actual.\n",
      "  adata.X[adata.X==-np.inf]=0\n"
     ]
    },
    {
     "name": "stdout",
     "output_type": "stream",
     "text": [
      "17\n",
      "(9313, 83)\n"
     ]
    },
    {
     "name": "stderr",
     "output_type": "stream",
     "text": [
      "/home/chrism/miniconda3/envs/xb/lib/python3.7/site-packages/scanpy/preprocessing/_simple.py:352: RuntimeWarning: divide by zero encountered in log1p\n",
      "  np.log1p(X, out=X)\n",
      "/home/chrism/git/Xenium_benchmarking/xb/simulating.py:314: ImplicitModificationWarning: Trying to modify attribute `.X` of view, initializing view as actual.\n",
      "  adata.X[adata.X==-np.inf]=0\n",
      "/home/chrism/miniconda3/envs/xb/lib/python3.7/contextlib.py:119: FutureWarning: X.dtype being converted to np.float32 from float64. In the next version of anndata (0.9) conversion will not be automatic. Pass dtype explicitly to avoid this warning. Pass `AnnData(X, dtype=X.dtype, ...)` to get the future behavour.\n",
      "  next(self.gen)\n"
     ]
    },
    {
     "name": "stdout",
     "output_type": "stream",
     "text": [
      "18\n",
      "TrueFalseTrue[10, 100, 1000, None]\n",
      "19\n",
      "(9313, 212)\n",
      "20\n",
      "(9313, 212)\n"
     ]
    },
    {
     "name": "stderr",
     "output_type": "stream",
     "text": [
      "/home/chrism/miniconda3/envs/xb/lib/python3.7/site-packages/scanpy/preprocessing/_simple.py:352: RuntimeWarning: divide by zero encountered in log1p\n",
      "  np.log1p(X, out=X)\n",
      "/home/chrism/miniconda3/envs/xb/lib/python3.7/site-packages/scanpy/preprocessing/_utils.py:12: RuntimeWarning: invalid value encountered in subtract\n",
      "  var = mean_sq - mean**2\n",
      "/home/chrism/miniconda3/envs/xb/lib/python3.7/site-packages/scanpy/preprocessing/_simple.py:792: RuntimeWarning: invalid value encountered in subtract\n",
      "  X -= mean\n"
     ]
    },
    {
     "name": "stdout",
     "output_type": "stream",
     "text": [
      "21\n",
      "TrueTrueFalse[10, 100, 1000, None]\n",
      "22\n",
      "(9313, 51)\n"
     ]
    },
    {
     "name": "stderr",
     "output_type": "stream",
     "text": [
      "/home/chrism/miniconda3/envs/xb/lib/python3.7/site-packages/scanpy/preprocessing/_simple.py:843: UserWarning: Received a view of an AnnData. Making a copy.\n",
      "  view_to_actual(adata)\n"
     ]
    },
    {
     "name": "stdout",
     "output_type": "stream",
     "text": [
      "23\n",
      "(9313, 83)\n"
     ]
    },
    {
     "name": "stderr",
     "output_type": "stream",
     "text": [
      "/home/chrism/miniconda3/envs/xb/lib/python3.7/site-packages/scanpy/preprocessing/_simple.py:352: RuntimeWarning: divide by zero encountered in log1p\n",
      "  np.log1p(X, out=X)\n",
      "/home/chrism/miniconda3/envs/xb/lib/python3.7/site-packages/scanpy/preprocessing/_simple.py:843: UserWarning: Received a view of an AnnData. Making a copy.\n",
      "  view_to_actual(adata)\n",
      "/home/chrism/miniconda3/envs/xb/lib/python3.7/site-packages/scanpy/preprocessing/_simple.py:843: FutureWarning: X.dtype being converted to np.float32 from float64. In the next version of anndata (0.9) conversion will not be automatic. Pass dtype explicitly to avoid this warning. Pass `AnnData(X, dtype=X.dtype, ...)` to get the future behavour.\n",
      "  view_to_actual(adata)\n",
      "/home/chrism/miniconda3/envs/xb/lib/python3.7/site-packages/scanpy/preprocessing/_utils.py:12: RuntimeWarning: invalid value encountered in subtract\n",
      "  var = mean_sq - mean**2\n",
      "/home/chrism/miniconda3/envs/xb/lib/python3.7/site-packages/scanpy/preprocessing/_simple.py:792: RuntimeWarning: invalid value encountered in subtract\n",
      "  X -= mean\n"
     ]
    },
    {
     "name": "stdout",
     "output_type": "stream",
     "text": [
      "24\n",
      "TrueTrueTrue[10, 100, 1000, None]\n",
      "25\n",
      "(9313, 212)\n",
      "26\n",
      "(9313, 212)\n"
     ]
    },
    {
     "name": "stderr",
     "output_type": "stream",
     "text": [
      "/home/chrism/miniconda3/envs/xb/lib/python3.7/site-packages/scanpy/preprocessing/_simple.py:352: RuntimeWarning: divide by zero encountered in log1p\n",
      "  np.log1p(X, out=X)\n"
     ]
    },
    {
     "name": "stdout",
     "output_type": "stream",
     "text": [
      "27\n",
      "TrueFalseFalse[10, 100, 1000, None]\n",
      "28\n",
      "(9313, 51)\n"
     ]
    },
    {
     "name": "stderr",
     "output_type": "stream",
     "text": [
      "/home/chrism/git/Xenium_benchmarking/xb/simulating.py:314: ImplicitModificationWarning: Trying to modify attribute `.X` of view, initializing view as actual.\n",
      "  adata.X[adata.X==-np.inf]=0\n"
     ]
    },
    {
     "name": "stdout",
     "output_type": "stream",
     "text": [
      "29\n",
      "(9313, 83)\n"
     ]
    },
    {
     "name": "stderr",
     "output_type": "stream",
     "text": [
      "/home/chrism/miniconda3/envs/xb/lib/python3.7/site-packages/scanpy/preprocessing/_simple.py:352: RuntimeWarning: divide by zero encountered in log1p\n",
      "  np.log1p(X, out=X)\n",
      "/home/chrism/git/Xenium_benchmarking/xb/simulating.py:314: ImplicitModificationWarning: Trying to modify attribute `.X` of view, initializing view as actual.\n",
      "  adata.X[adata.X==-np.inf]=0\n",
      "/home/chrism/miniconda3/envs/xb/lib/python3.7/contextlib.py:119: FutureWarning: X.dtype being converted to np.float32 from float64. In the next version of anndata (0.9) conversion will not be automatic. Pass dtype explicitly to avoid this warning. Pass `AnnData(X, dtype=X.dtype, ...)` to get the future behavour.\n",
      "  next(self.gen)\n"
     ]
    },
    {
     "name": "stdout",
     "output_type": "stream",
     "text": [
      "30\n",
      "TrueFalseTrue[10, 100, 1000, None]\n",
      "31\n",
      "(9313, 212)\n",
      "32\n",
      "(9313, 212)\n"
     ]
    },
    {
     "name": "stderr",
     "output_type": "stream",
     "text": [
      "/home/chrism/miniconda3/envs/xb/lib/python3.7/site-packages/scanpy/preprocessing/_simple.py:352: RuntimeWarning: divide by zero encountered in log1p\n",
      "  np.log1p(X, out=X)\n",
      "/home/chrism/miniconda3/envs/xb/lib/python3.7/site-packages/scanpy/preprocessing/_utils.py:12: RuntimeWarning: invalid value encountered in subtract\n",
      "  var = mean_sq - mean**2\n",
      "/home/chrism/miniconda3/envs/xb/lib/python3.7/site-packages/scanpy/preprocessing/_simple.py:792: RuntimeWarning: invalid value encountered in subtract\n",
      "  X -= mean\n"
     ]
    },
    {
     "name": "stdout",
     "output_type": "stream",
     "text": [
      "33\n",
      "TrueTrueFalse[10, 100, 1000, None]\n",
      "34\n",
      "(9313, 51)\n"
     ]
    },
    {
     "name": "stderr",
     "output_type": "stream",
     "text": [
      "/home/chrism/miniconda3/envs/xb/lib/python3.7/site-packages/scanpy/preprocessing/_simple.py:843: UserWarning: Received a view of an AnnData. Making a copy.\n",
      "  view_to_actual(adata)\n"
     ]
    },
    {
     "name": "stdout",
     "output_type": "stream",
     "text": [
      "35\n",
      "(9313, 83)\n"
     ]
    },
    {
     "name": "stderr",
     "output_type": "stream",
     "text": [
      "/home/chrism/miniconda3/envs/xb/lib/python3.7/site-packages/scanpy/preprocessing/_simple.py:352: RuntimeWarning: divide by zero encountered in log1p\n",
      "  np.log1p(X, out=X)\n",
      "/home/chrism/miniconda3/envs/xb/lib/python3.7/site-packages/scanpy/preprocessing/_simple.py:843: UserWarning: Received a view of an AnnData. Making a copy.\n",
      "  view_to_actual(adata)\n",
      "/home/chrism/miniconda3/envs/xb/lib/python3.7/site-packages/scanpy/preprocessing/_simple.py:843: FutureWarning: X.dtype being converted to np.float32 from float64. In the next version of anndata (0.9) conversion will not be automatic. Pass dtype explicitly to avoid this warning. Pass `AnnData(X, dtype=X.dtype, ...)` to get the future behavour.\n",
      "  view_to_actual(adata)\n",
      "/home/chrism/miniconda3/envs/xb/lib/python3.7/site-packages/scanpy/preprocessing/_utils.py:12: RuntimeWarning: invalid value encountered in subtract\n",
      "  var = mean_sq - mean**2\n",
      "/home/chrism/miniconda3/envs/xb/lib/python3.7/site-packages/scanpy/preprocessing/_simple.py:792: RuntimeWarning: invalid value encountered in subtract\n",
      "  X -= mean\n"
     ]
    },
    {
     "name": "stdout",
     "output_type": "stream",
     "text": [
      "36\n",
      "TrueTrueTrue[10, 100, 1000, None]\n",
      "37\n",
      "(9313, 212)\n",
      "38\n",
      "(9313, 212)\n"
     ]
    },
    {
     "name": "stderr",
     "output_type": "stream",
     "text": [
      "/home/chrism/miniconda3/envs/xb/lib/python3.7/site-packages/scanpy/preprocessing/_simple.py:352: RuntimeWarning: divide by zero encountered in log1p\n",
      "  np.log1p(X, out=X)\n"
     ]
    },
    {
     "name": "stdout",
     "output_type": "stream",
     "text": [
      "39\n",
      "TrueFalseFalse[10, 100, 1000, None]\n",
      "40\n",
      "(9313, 51)\n"
     ]
    },
    {
     "name": "stderr",
     "output_type": "stream",
     "text": [
      "/home/chrism/git/Xenium_benchmarking/xb/simulating.py:314: ImplicitModificationWarning: Trying to modify attribute `.X` of view, initializing view as actual.\n",
      "  adata.X[adata.X==-np.inf]=0\n"
     ]
    },
    {
     "name": "stdout",
     "output_type": "stream",
     "text": [
      "41\n",
      "(9313, 83)\n"
     ]
    },
    {
     "name": "stderr",
     "output_type": "stream",
     "text": [
      "/home/chrism/miniconda3/envs/xb/lib/python3.7/site-packages/scanpy/preprocessing/_simple.py:352: RuntimeWarning: divide by zero encountered in log1p\n",
      "  np.log1p(X, out=X)\n",
      "/home/chrism/git/Xenium_benchmarking/xb/simulating.py:314: ImplicitModificationWarning: Trying to modify attribute `.X` of view, initializing view as actual.\n",
      "  adata.X[adata.X==-np.inf]=0\n",
      "/home/chrism/miniconda3/envs/xb/lib/python3.7/contextlib.py:119: FutureWarning: X.dtype being converted to np.float32 from float64. In the next version of anndata (0.9) conversion will not be automatic. Pass dtype explicitly to avoid this warning. Pass `AnnData(X, dtype=X.dtype, ...)` to get the future behavour.\n",
      "  next(self.gen)\n"
     ]
    },
    {
     "name": "stdout",
     "output_type": "stream",
     "text": [
      "42\n",
      "TrueFalseTrue[10, 100, 1000, None]\n",
      "43\n",
      "(9313, 212)\n",
      "44\n",
      "(9313, 212)\n"
     ]
    },
    {
     "name": "stderr",
     "output_type": "stream",
     "text": [
      "/home/chrism/miniconda3/envs/xb/lib/python3.7/site-packages/scanpy/preprocessing/_simple.py:352: RuntimeWarning: divide by zero encountered in log1p\n",
      "  np.log1p(X, out=X)\n",
      "/home/chrism/miniconda3/envs/xb/lib/python3.7/site-packages/scanpy/preprocessing/_utils.py:12: RuntimeWarning: invalid value encountered in subtract\n",
      "  var = mean_sq - mean**2\n",
      "/home/chrism/miniconda3/envs/xb/lib/python3.7/site-packages/scanpy/preprocessing/_simple.py:792: RuntimeWarning: invalid value encountered in subtract\n",
      "  X -= mean\n"
     ]
    },
    {
     "name": "stdout",
     "output_type": "stream",
     "text": [
      "45\n",
      "TrueTrueFalse[10, 100, 1000, None]\n",
      "46\n",
      "(9313, 51)\n"
     ]
    },
    {
     "name": "stderr",
     "output_type": "stream",
     "text": [
      "/home/chrism/miniconda3/envs/xb/lib/python3.7/site-packages/scanpy/preprocessing/_simple.py:843: UserWarning: Received a view of an AnnData. Making a copy.\n",
      "  view_to_actual(adata)\n"
     ]
    },
    {
     "name": "stdout",
     "output_type": "stream",
     "text": [
      "47\n",
      "(9313, 83)\n"
     ]
    },
    {
     "name": "stderr",
     "output_type": "stream",
     "text": [
      "/home/chrism/miniconda3/envs/xb/lib/python3.7/site-packages/scanpy/preprocessing/_simple.py:352: RuntimeWarning: divide by zero encountered in log1p\n",
      "  np.log1p(X, out=X)\n",
      "/home/chrism/miniconda3/envs/xb/lib/python3.7/site-packages/scanpy/preprocessing/_simple.py:843: UserWarning: Received a view of an AnnData. Making a copy.\n",
      "  view_to_actual(adata)\n",
      "/home/chrism/miniconda3/envs/xb/lib/python3.7/site-packages/scanpy/preprocessing/_simple.py:843: FutureWarning: X.dtype being converted to np.float32 from float64. In the next version of anndata (0.9) conversion will not be automatic. Pass dtype explicitly to avoid this warning. Pass `AnnData(X, dtype=X.dtype, ...)` to get the future behavour.\n",
      "  view_to_actual(adata)\n",
      "/home/chrism/miniconda3/envs/xb/lib/python3.7/site-packages/scanpy/preprocessing/_utils.py:12: RuntimeWarning: invalid value encountered in subtract\n",
      "  var = mean_sq - mean**2\n",
      "/home/chrism/miniconda3/envs/xb/lib/python3.7/site-packages/scanpy/preprocessing/_simple.py:792: RuntimeWarning: invalid value encountered in subtract\n",
      "  X -= mean\n"
     ]
    }
   ],
   "source": [
    "mainpath='../../data/scRNAseq_for_simulations/'\n",
    "datasets=os.listdir(mainpath)\n",
    "datasets=[d for d in datasets if d!='.ipynb_checkpoints']\n",
    "for d in range(0,2):\n",
    "# for d in range(0,len(datasets)):    \n",
    "    # try:\n",
    "        print('##################################### Dataset '+str(d))\n",
    "        dataset_path=mainpath+datasets[d]\n",
    "        print(dataset_path)\n",
    "        #reread single cell data since we need the updated version LUNG DEV\n",
    "        adata_sc_sub=sc.read(dataset_path+'/original_adata.h5ad')\n",
    "        adata_sc_sub.X=adata_sc_sub.X.todense()\n",
    "        markers=pd.read_csv(dataset_path+'/markers.csv',index_col=0)\n",
    "        total_genes=250\n",
    "        random_markers_perc=0\n",
    "        reads_x_cell=None\n",
    "        n_reads_x_gene=20\n",
    "        percentage_of_noise=0.05\n",
    "        misseg_percentage=0.05\n",
    "        adata_sc=subset_of_single_cell(adata_sc_sub,markers,random_markers_percentage=random_markers_perc,\n",
    "                                       reads_x_cell=reads_x_cell,number_of_markers=total_genes,\n",
    "                                      n_reads_x_gene=n_reads_x_gene,percentage_of_noise=percentage_of_noise,\n",
    "                                      ms_percentage=misseg_percentage)\n",
    "        # calculate all simulations\n",
    "        allres=allcombs_simulated(adata_sc,default_key='cell_type')\n",
    "        allres.to_csv(dataset_path+'/final_allresults.csv')\n",
    "    # except:\n",
    "    #     print('Dataset not possible '+ str(d))"
   ]
  },
  {
   "cell_type": "code",
   "execution_count": null,
   "id": "2fcfe3b4-867e-46f3-8ebb-669692272bda",
   "metadata": {},
   "outputs": [],
   "source": []
  }
 ],
 "metadata": {
  "kernelspec": {
   "display_name": "Python 3 (ipykernel)",
   "language": "python",
   "name": "python3"
  },
  "language_info": {
   "codemirror_mode": {
    "name": "ipython",
    "version": 3
   },
   "file_extension": ".py",
   "mimetype": "text/x-python",
   "name": "python",
   "nbconvert_exporter": "python",
   "pygments_lexer": "ipython3",
   "version": "3.7.13"
  }
 },
 "nbformat": 4,
 "nbformat_minor": 5
}
